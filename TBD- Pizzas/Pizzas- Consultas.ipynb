{
    "metadata": {
        "kernelspec": {
            "name": "SQL",
            "display_name": "SQL",
            "language": "sql"
        },
        "language_info": {
            "name": "sql",
            "version": ""
        }
    },
    "nbformat_minor": 2,
    "nbformat": 4,
    "cells": [
        {
            "cell_type": "markdown",
            "source": [
                "# Ejercicios: Pizzeria.#\r\n",
                ""
            ],
            "metadata": {
                "azdata_cell_guid": "e49de37f-16fd-409a-bfb8-458110b9d746"
            }
        },
        {
            "cell_type": "code",
            "source": [
                "USE Pizzas\n",
                "\n",
                "SELECT * FROM Person\n",
                "SELECT * FROM Eats\n",
                "SELECT * fROM frequents\n",
                "SELECT * FROM serves"
            ],
            "metadata": {
                "azdata_cell_guid": "69121a9d-ea44-41ae-94b5-554637830cb3"
            },
            "outputs": [
{
    "output_type": "display_data",
    "data": {
        "text/html": "(9 rows affected)"
    },
    "metadata": {}
}, {
    "output_type": "display_data",
    "data": {
        "text/html": "(20 rows affected)"
    },
    "metadata": {}
}, {
    "output_type": "display_data",
    "data": {
        "text/html": "(19 rows affected)"
    },
    "metadata": {}
}, {
    "output_type": "display_data",
    "data": {
        "text/html": "(18 rows affected)"
    },
    "metadata": {}
}, {
    "output_type": "display_data",
    "data": {
        "text/html": "Total execution time: 00:00:00.118"
    },
    "metadata": {}
}, {
    "output_type": "execute_result",
    "metadata": {},
    "execution_count": 4,
    "data": {
        "application/vnd.dataresource+json": {
            "schema": {
                "fields": [
                    {
                        "name": "name"
                    },
                    {
                        "name": "age"
                    },
                    {
                        "name": "gender"
                    }
                ]
            },
            "data": [
                {
                    "0": "Amy",
                    "1": "16",
                    "2": "female"
                },
                {
                    "0": "Ben",
                    "1": "21",
                    "2": "male"
                },
                {
                    "0": "Cal",
                    "1": "33",
                    "2": "male"
                },
                {
                    "0": "Dan",
                    "1": "13",
                    "2": "male"
                },
                {
                    "0": "Eli",
                    "1": "45",
                    "2": "male"
                },
                {
                    "0": "Fay",
                    "1": "21",
                    "2": "female"
                },
                {
                    "0": "Gus",
                    "1": "24",
                    "2": "male"
                },
                {
                    "0": "Hil",
                    "1": "30",
                    "2": "female"
                },
                {
                    "0": "Ian",
                    "1": "18",
                    "2": "male"
                }
            ]
        },
        "text/html": "<table><tr><th>name</th><th>age</th><th>gender</th></tr><tr><td>Amy</td><td>16</td><td>female</td></tr><tr><td>Ben</td><td>21</td><td>male</td></tr><tr><td>Cal</td><td>33</td><td>male</td></tr><tr><td>Dan</td><td>13</td><td>male</td></tr><tr><td>Eli</td><td>45</td><td>male</td></tr><tr><td>Fay</td><td>21</td><td>female</td></tr><tr><td>Gus</td><td>24</td><td>male</td></tr><tr><td>Hil</td><td>30</td><td>female</td></tr><tr><td>Ian</td><td>18</td><td>male</td></tr></table>"
    }
}, {
    "output_type": "execute_result",
    "metadata": {},
    "execution_count": 4,
    "data": {
        "application/vnd.dataresource+json": {
            "schema": {
                "fields": [
                    {
                        "name": "name"
                    },
                    {
                        "name": "pizza"
                    }
                ]
            },
            "data": [
                {
                    "0": "Amy",
                    "1": "pepperoni"
                },
                {
                    "0": "Amy",
                    "1": "mushroom"
                },
                {
                    "0": "Ben",
                    "1": "pepperoni"
                },
                {
                    "0": "Ben",
                    "1": "cheese"
                },
                {
                    "0": "Cal",
                    "1": "supreme"
                },
                {
                    "0": "Dan",
                    "1": "pepperoni"
                },
                {
                    "0": "Dan",
                    "1": "cheese"
                },
                {
                    "0": "Dan",
                    "1": "sausage"
                },
                {
                    "0": "Dan",
                    "1": "supreme"
                },
                {
                    "0": "Dan",
                    "1": "mushroom"
                },
                {
                    "0": "Eli",
                    "1": "supreme"
                },
                {
                    "0": "Eli",
                    "1": "cheese"
                },
                {
                    "0": "Fay",
                    "1": "mushroom"
                },
                {
                    "0": "Gus",
                    "1": "mushroom"
                },
                {
                    "0": "Gus",
                    "1": "supreme"
                },
                {
                    "0": "Gus",
                    "1": "cheese"
                },
                {
                    "0": "Hil",
                    "1": "supreme"
                },
                {
                    "0": "Hil",
                    "1": "cheese"
                },
                {
                    "0": "Ian",
                    "1": "supreme"
                },
                {
                    "0": "Ian",
                    "1": "pepperoni"
                }
            ]
        },
        "text/html": "<table><tr><th>name</th><th>pizza</th></tr><tr><td>Amy</td><td>pepperoni</td></tr><tr><td>Amy</td><td>mushroom</td></tr><tr><td>Ben</td><td>pepperoni</td></tr><tr><td>Ben</td><td>cheese</td></tr><tr><td>Cal</td><td>supreme</td></tr><tr><td>Dan</td><td>pepperoni</td></tr><tr><td>Dan</td><td>cheese</td></tr><tr><td>Dan</td><td>sausage</td></tr><tr><td>Dan</td><td>supreme</td></tr><tr><td>Dan</td><td>mushroom</td></tr><tr><td>Eli</td><td>supreme</td></tr><tr><td>Eli</td><td>cheese</td></tr><tr><td>Fay</td><td>mushroom</td></tr><tr><td>Gus</td><td>mushroom</td></tr><tr><td>Gus</td><td>supreme</td></tr><tr><td>Gus</td><td>cheese</td></tr><tr><td>Hil</td><td>supreme</td></tr><tr><td>Hil</td><td>cheese</td></tr><tr><td>Ian</td><td>supreme</td></tr><tr><td>Ian</td><td>pepperoni</td></tr></table>"
    }
}, {
    "output_type": "execute_result",
    "metadata": {},
    "execution_count": 4,
    "data": {
        "application/vnd.dataresource+json": {
            "schema": {
                "fields": [
                    {
                        "name": "name"
                    },
                    {
                        "name": "pizzeria"
                    }
                ]
            },
            "data": [
                {
                    "0": "Amy",
                    "1": "Pizza Hut"
                },
                {
                    "0": "Ben",
                    "1": "Pizza Hut"
                },
                {
                    "0": "Ben",
                    "1": "Chicago Pizza"
                },
                {
                    "0": "Cal",
                    "1": "Straw Hat"
                },
                {
                    "0": "Cal",
                    "1": "New York Pizza"
                },
                {
                    "0": "Dan",
                    "1": "Straw Hat"
                },
                {
                    "0": "Dan",
                    "1": "New York Pizza"
                },
                {
                    "0": "Eli",
                    "1": "Straw Hat"
                },
                {
                    "0": "Eli",
                    "1": "Chicago Pizza"
                },
                {
                    "0": "Fay",
                    "1": "Dominos"
                },
                {
                    "0": "Fay",
                    "1": "Little Caesars"
                },
                {
                    "0": "Gus",
                    "1": "Chicago Pizza"
                },
                {
                    "0": "Gus",
                    "1": "Pizza Hut"
                },
                {
                    "0": "Hil",
                    "1": "Dominos"
                },
                {
                    "0": "Hil",
                    "1": "Straw Hat"
                },
                {
                    "0": "Hil",
                    "1": "Pizza Hut"
                },
                {
                    "0": "Ian",
                    "1": "New York Pizza"
                },
                {
                    "0": "Ian",
                    "1": "Straw Hat"
                },
                {
                    "0": "Ian",
                    "1": "Dominos"
                }
            ]
        },
        "text/html": "<table><tr><th>name</th><th>pizzeria</th></tr><tr><td>Amy</td><td>Pizza Hut</td></tr><tr><td>Ben</td><td>Pizza Hut</td></tr><tr><td>Ben</td><td>Chicago Pizza</td></tr><tr><td>Cal</td><td>Straw Hat</td></tr><tr><td>Cal</td><td>New York Pizza</td></tr><tr><td>Dan</td><td>Straw Hat</td></tr><tr><td>Dan</td><td>New York Pizza</td></tr><tr><td>Eli</td><td>Straw Hat</td></tr><tr><td>Eli</td><td>Chicago Pizza</td></tr><tr><td>Fay</td><td>Dominos</td></tr><tr><td>Fay</td><td>Little Caesars</td></tr><tr><td>Gus</td><td>Chicago Pizza</td></tr><tr><td>Gus</td><td>Pizza Hut</td></tr><tr><td>Hil</td><td>Dominos</td></tr><tr><td>Hil</td><td>Straw Hat</td></tr><tr><td>Hil</td><td>Pizza Hut</td></tr><tr><td>Ian</td><td>New York Pizza</td></tr><tr><td>Ian</td><td>Straw Hat</td></tr><tr><td>Ian</td><td>Dominos</td></tr></table>"
    }
}, {
    "output_type": "execute_result",
    "metadata": {},
    "execution_count": 4,
    "data": {
        "application/vnd.dataresource+json": {
            "schema": {
                "fields": [
                    {
                        "name": "pizzeria"
                    },
                    {
                        "name": "pizza"
                    },
                    {
                        "name": "price"
                    }
                ]
            },
            "data": [
                {
                    "0": "Pizza Hut",
                    "1": "pepperoni",
                    "2": "12"
                },
                {
                    "0": "Pizza Hut",
                    "1": "sausage",
                    "2": "12"
                },
                {
                    "0": "Pizza Hut",
                    "1": "cheese",
                    "2": "9"
                },
                {
                    "0": "Pizza Hut",
                    "1": "supreme",
                    "2": "12"
                },
                {
                    "0": "Little Caesars",
                    "1": "pepperoni",
                    "2": "10"
                },
                {
                    "0": "Little Caesars",
                    "1": "sausage",
                    "2": "10"
                },
                {
                    "0": "Little Caesars",
                    "1": "cheese",
                    "2": "7"
                },
                {
                    "0": "Little Caesars",
                    "1": "mushroom",
                    "2": "9"
                },
                {
                    "0": "Dominos",
                    "1": "cheese",
                    "2": "10"
                },
                {
                    "0": "Dominos",
                    "1": "mushroom",
                    "2": "11"
                },
                {
                    "0": "Straw Hat",
                    "1": "pepperoni",
                    "2": "8"
                },
                {
                    "0": "Straw Hat",
                    "1": "cheese",
                    "2": "9"
                },
                {
                    "0": "Straw Hat",
                    "1": "sausage",
                    "2": "10"
                },
                {
                    "0": "New York Pizza",
                    "1": "pepperoni",
                    "2": "8"
                },
                {
                    "0": "New York Pizza",
                    "1": "cheese",
                    "2": "7"
                },
                {
                    "0": "New York Pizza",
                    "1": "supreme",
                    "2": "9"
                },
                {
                    "0": "Chicago Pizza",
                    "1": "cheese",
                    "2": "8"
                },
                {
                    "0": "Chicago Pizza",
                    "1": "supreme",
                    "2": "9"
                }
            ]
        },
        "text/html": "<table><tr><th>pizzeria</th><th>pizza</th><th>price</th></tr><tr><td>Pizza Hut</td><td>pepperoni</td><td>12</td></tr><tr><td>Pizza Hut</td><td>sausage</td><td>12</td></tr><tr><td>Pizza Hut</td><td>cheese</td><td>9</td></tr><tr><td>Pizza Hut</td><td>supreme</td><td>12</td></tr><tr><td>Little Caesars</td><td>pepperoni</td><td>10</td></tr><tr><td>Little Caesars</td><td>sausage</td><td>10</td></tr><tr><td>Little Caesars</td><td>cheese</td><td>7</td></tr><tr><td>Little Caesars</td><td>mushroom</td><td>9</td></tr><tr><td>Dominos</td><td>cheese</td><td>10</td></tr><tr><td>Dominos</td><td>mushroom</td><td>11</td></tr><tr><td>Straw Hat</td><td>pepperoni</td><td>8</td></tr><tr><td>Straw Hat</td><td>cheese</td><td>9</td></tr><tr><td>Straw Hat</td><td>sausage</td><td>10</td></tr><tr><td>New York Pizza</td><td>pepperoni</td><td>8</td></tr><tr><td>New York Pizza</td><td>cheese</td><td>7</td></tr><tr><td>New York Pizza</td><td>supreme</td><td>9</td></tr><tr><td>Chicago Pizza</td><td>cheese</td><td>8</td></tr><tr><td>Chicago Pizza</td><td>supreme</td><td>9</td></tr></table>"
    }
}
],
            "execution_count": 4
        },
        {
            "cell_type": "markdown",
            "source": [
                "1. Nombre de las personas con edad menor que 40 años que solamente comen pizzas ´suppreme´. "
            ],
            "metadata": {
                "azdata_cell_guid": "c597a113-ec77-4aba-b709-cd1020a00100"
            }
        },
        {
            "cell_type": "code",
            "source": [
                ""
            ],
            "metadata": {
                "azdata_cell_guid": "55b88e65-0d0a-4021-8c62-29a8d06c0491"
            },
            "outputs": [],
            "execution_count": null
        },
        {
            "cell_type": "markdown",
            "source": [
                "2. Nombre de las pizzerías que solamente sirven pizzas con precio mayor que 10. "
            ],
            "metadata": {
                "azdata_cell_guid": "26eaca65-ed31-480c-99b4-bf796a91fa0e"
            }
        },
        {
            "cell_type": "code",
            "source": [
                ""
            ],
            "metadata": {
                "azdata_cell_guid": "f06320ec-325f-44a3-bd9d-fe73923ddacc"
            },
            "outputs": [],
            "execution_count": null
        },
        {
            "cell_type": "markdown",
            "source": [
                "3. Nombre de las pizzerías que son frecuentadas solamente por personas mayores de 18 años. "
            ],
            "metadata": {
                "azdata_cell_guid": "c1b4c473-d329-4f8d-a977-65b6314358e1"
            }
        },
        {
            "cell_type": "code",
            "source": [
                ""
            ],
            "metadata": {
                "azdata_cell_guid": "c018e674-075f-4e79-8518-0ce74bc77542"
            },
            "outputs": [],
            "execution_count": null
        },
        {
            "cell_type": "markdown",
            "source": [
                "4. Mostrar el nombre de las personas con la edad mayor que comen pizza de peperoni."
            ],
            "metadata": {
                "azdata_cell_guid": "d2ffb489-c41c-4c59-abf3-18963d3c9762"
            }
        },
        {
            "cell_type": "code",
            "source": [
                ""
            ],
            "metadata": {
                "azdata_cell_guid": "e170a540-222e-4ac5-b84f-9ad607f3ce71"
            },
            "outputs": [],
            "execution_count": null
        },
        {
            "cell_type": "markdown",
            "source": [
                "5. Mostrar el nombre de las personas con la edad menor que come en la pizzería chicago pizza."
            ],
            "metadata": {
                "azdata_cell_guid": "923e7fc6-ad9b-4faa-ac2a-d351a003b545"
            }
        },
        {
            "cell_type": "code",
            "source": [
                ""
            ],
            "metadata": {
                "azdata_cell_guid": "ccc78501-75a0-4ad8-9526-2dbb09023900"
            },
            "outputs": [],
            "execution_count": null
        },
        {
            "cell_type": "markdown",
            "source": [
                "6. Mostrar las pizzas cuyo costo es mayor que 10 o que comen en común Eli y Gus. "
            ],
            "metadata": {
                "azdata_cell_guid": "04e002bd-7d63-48da-b0a9-bd196e8391e9"
            }
        },
        {
            "cell_type": "code",
            "source": [
                ""
            ],
            "metadata": {
                "azdata_cell_guid": "22491dd0-d0ee-4d82-844c-f6effd15d530"
            },
            "outputs": [],
            "execution_count": null
        },
        {
            "cell_type": "markdown",
            "source": [
                "7. Mostrar el nombres de las personas que no comen pizzas de ´cheese´ ."
            ],
            "metadata": {
                "azdata_cell_guid": "895946b0-1776-4615-b967-6b23a373ecd6"
            }
        },
        {
            "cell_type": "code",
            "source": [
                ""
            ],
            "metadata": {
                "azdata_cell_guid": "ecdac362-707f-447d-ac89-26d4656fe36f"
            },
            "outputs": [],
            "execution_count": null
        },
        {
            "cell_type": "markdown",
            "source": [
                "8. Mostrar las pizzas cuyo costo es mayor que 10 y que comen en Eli y Gus. "
            ],
            "metadata": {
                "azdata_cell_guid": "d9023732-86b9-4c63-a636-bbd8224a9caa"
            }
        },
        {
            "cell_type": "code",
            "source": [
                ""
            ],
            "metadata": {
                "azdata_cell_guid": "a108f744-77eb-49ab-b560-0e013a245614"
            },
            "outputs": [],
            "execution_count": null
        },
        {
            "cell_type": "markdown",
            "source": [
                "9. Mostrar las pizzerías que solamente sirven a personas mayores de 30 años."
            ],
            "metadata": {
                "azdata_cell_guid": "f09be7ed-a9a4-4cfc-ab3e-2bc8a2f5c029"
            }
        },
        {
            "cell_type": "code",
            "source": [
                ""
            ],
            "metadata": {
                "azdata_cell_guid": "cd328dea-df2f-47ec-9f0e-ab506e640c85"
            },
            "outputs": [],
            "execution_count": null
        },
        {
            "cell_type": "markdown",
            "source": [
                "10. Mostrar el nombre de la pizza mas barata."
            ],
            "metadata": {
                "azdata_cell_guid": "b9804c82-f1be-4d94-bcd9-1b4c092dd764"
            }
        },
        {
            "cell_type": "code",
            "source": [
                ""
            ],
            "metadata": {
                "azdata_cell_guid": "9d6820ac-4324-4b38-a137-9f361bcc79c8"
            },
            "outputs": [],
            "execution_count": null
        }
    ]
}