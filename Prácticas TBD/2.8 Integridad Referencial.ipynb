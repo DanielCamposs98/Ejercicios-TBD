{
    "metadata": {
        "kernelspec": {
            "name": "SQL",
            "display_name": "SQL",
            "language": "sql"
        },
        "language_info": {
            "name": "sql",
            "version": ""
        }
    },
    "nbformat_minor": 2,
    "nbformat": 4,
    "cells": [
        {
            "cell_type": "markdown",
            "source": [
                "# Integridad Referencial\n",
                "\n",
                "\n",
                ""
            ],
            "metadata": {
                "azdata_cell_guid": "72523a2a-092d-4b19-bb4b-d55b49042f41"
            }
        },
        {
            "cell_type": "code",
            "source": [
                "-- Para dejar en blanco la base de datos PRUEBA ejecute este bloque \n",
                "-- Ejecute este bloque(colapsado) para usarla  \n",
                "use master\n",
                "\n",
                "IF EXISTS  \n",
                "    ( \n",
                "        SELECT name FROM master.dbo.sysdatabases  \n",
                "        WHERE name = 'Pruebas' \n",
                "    ) \n",
                "    ALTER DATABASE pruebas SET SINGLE_USER WITH ROLLBACK IMMEDIATE;\n",
                "    DROP DATABASE Pruebas \n",
                "GO \n",
                "    \n",
                "CREATE DATABASE Pruebas \n",
                "GO \n",
                "use Pruebas\n",
                ""
            ],
            "metadata": {
                "azdata_cell_guid": "458649b7-271e-4cf6-a98f-0c80229446d7",
                "tags": []
            },
            "outputs": [
                {
                    "output_type": "display_data",
                    "data": {
                        "text/html": "Commands completed successfully."
                    },
                    "metadata": {}
                },
                {
                    "output_type": "display_data",
                    "data": {
                        "text/html": "Commands completed successfully."
                    },
                    "metadata": {}
                },
                {
                    "output_type": "display_data",
                    "data": {
                        "text/html": "Commands completed successfully."
                    },
                    "metadata": {}
                },
                {
                    "output_type": "display_data",
                    "data": {
                        "text/html": "Total execution time: 00:00:01.789"
                    },
                    "metadata": {}
                }
            ],
            "execution_count": 23
        },
        {
            "cell_type": "markdown",
            "source": [
                "## Paso 1 ##\n",
                "Sea una entidad *Empleado* que *trabaja* en un *Departamento*\n",
                ""
            ],
            "metadata": {
                "azdata_cell_guid": "6d1f652e-316d-4bfc-9ab8-41bd45d9f689"
            }
        },
        {
            "cell_type": "code",
            "source": [
                "CREATE TABLE Empleados\n",
                "(\n",
                "    Nombre nvarchar(30), \n",
                "    Apellido nvarchar(30),\n",
                "    RFC CHAR(13), \n",
                "    CURP CHAR(18) not null primary key,\n",
                "    NSS CHAR(20),\n",
                "    Nacimiento DATE,\n",
                "    Trabaja CHAR(3) --Lo agregamos para la relación trabaja\n",
                ")\n",
                "\n",
                "CREATE TABLE Departamentos\n",
                "(\n",
                "    idDepartamento CHAR(3),\n",
                "    nombre NVARCHAR(30),\n",
                "    descripcion NVARCHAR(200),\n",
                "    mision NVARCHAR(200)\n",
                ")\n",
                "\n",
                "INSERT into Departamentos (idDepartamento, nombre) \n",
                "    values  ('VEN', 'Ventas' ), \n",
                "            ('MKT', 'Mercadotecnia'),\n",
                "            ('PRO', 'Producción')\n",
                "\n",
                "INSERT into empleados (CURP, Apellido, Nombre, Trabaja)\n",
                "    VALUES ( 'LOEJ880305RESHS000', 'Lopez Espericueta', 'Jose', 'MKT')\n",
                "INSERT into empleados (CURP, Apellido, Nombre, Trabaja)\n",
                "    VALUES ( 'LAEJ880305RESHS000', 'Larrea Espericueta', 'Jose', 'MKT')\n",
                "INSERT into empleados (CURP, Apellido, Nombre, Trabaja)\n",
                "    VALUES ( 'LOTJ880305RESHS000', 'Lopez Tarriba', 'Jose', 'PRO')\n",
                "INSERT into empleados (CURP, Apellido, Nombre, Trabaja)\n",
                "    VALUES ( 'LOEO880305RESHS000', 'Lopez Omar', 'Jose', 'VEN')            "
            ],
            "metadata": {
                "azdata_cell_guid": "2c1fccbc-8db4-4463-8ea5-54f7365dfb37"
            },
            "outputs": [
                {
                    "output_type": "display_data",
                    "data": {
                        "text/html": "(3 rows affected)"
                    },
                    "metadata": {}
                },
                {
                    "output_type": "display_data",
                    "data": {
                        "text/html": "(1 row affected)"
                    },
                    "metadata": {}
                },
                {
                    "output_type": "display_data",
                    "data": {
                        "text/html": "(1 row affected)"
                    },
                    "metadata": {}
                },
                {
                    "output_type": "display_data",
                    "data": {
                        "text/html": "(1 row affected)"
                    },
                    "metadata": {}
                },
                {
                    "output_type": "display_data",
                    "data": {
                        "text/html": "(1 row affected)"
                    },
                    "metadata": {}
                },
                {
                    "output_type": "display_data",
                    "data": {
                        "text/html": "Total execution time: 00:00:00.149"
                    },
                    "metadata": {}
                }
            ],
            "execution_count": 24
        },
        {
            "cell_type": "markdown",
            "source": [
                "Al momento de asignar un empleado a un departamento ¿ puede hacerse aunque que este no exista ?\r\n",
                "\r\n",
                "Respuesta: \r\n",
                "Si, ya que no hay una verificacion de si el departamento existe dentro de la tabla Departamentos. Necesitaría la conexión entre tablas por medio de una Foreign Key desde el atributo \"trabaja\" de empleados hacia el atributo \"idDepartamento\" de la tabla Departamentos."
            ],
            "metadata": {
                "azdata_cell_guid": "2f58b688-9858-4948-8ee5-3feba1b6e259"
            }
        },
        {
            "cell_type": "code",
            "source": [
                "INSERT into empleados (CURP, Apellido, Nombre, Trabaja)\n",
                "    VALUES ( 'VICJ880305RESHS000', 'Vizcarra Camacho', 'Jaime', 'TIC')\n",
                "SELECT * from Empleados\n",
                ""
            ],
            "metadata": {
                "azdata_cell_guid": "af05b58b-ed47-4a09-a8c3-9467d5fa1b79"
            },
            "outputs": [
                {
                    "output_type": "display_data",
                    "data": {
                        "text/html": "(1 row affected)"
                    },
                    "metadata": {}
                },
                {
                    "output_type": "display_data",
                    "data": {
                        "text/html": "(5 rows affected)"
                    },
                    "metadata": {}
                },
                {
                    "output_type": "display_data",
                    "data": {
                        "text/html": "Total execution time: 00:00:00.119"
                    },
                    "metadata": {}
                },
                {
                    "output_type": "execute_result",
                    "metadata": {},
                    "execution_count": 25,
                    "data": {
                        "application/vnd.dataresource+json": {
                            "schema": {
                                "fields": [
                                    {
                                        "name": "Nombre"
                                    },
                                    {
                                        "name": "Apellido"
                                    },
                                    {
                                        "name": "RFC"
                                    },
                                    {
                                        "name": "CURP"
                                    },
                                    {
                                        "name": "NSS"
                                    },
                                    {
                                        "name": "Nacimiento"
                                    },
                                    {
                                        "name": "Trabaja"
                                    }
                                ]
                            },
                            "data": [
                                {
                                    "0": "Jose",
                                    "1": "Larrea Espericueta",
                                    "2": "NULL",
                                    "3": "LAEJ880305RESHS000",
                                    "4": "NULL",
                                    "5": "NULL",
                                    "6": "MKT"
                                },
                                {
                                    "0": "Jose",
                                    "1": "Lopez Espericueta",
                                    "2": "NULL",
                                    "3": "LOEJ880305RESHS000",
                                    "4": "NULL",
                                    "5": "NULL",
                                    "6": "MKT"
                                },
                                {
                                    "0": "Jose",
                                    "1": "Lopez Omar",
                                    "2": "NULL",
                                    "3": "LOEO880305RESHS000",
                                    "4": "NULL",
                                    "5": "NULL",
                                    "6": "VEN"
                                },
                                {
                                    "0": "Jose",
                                    "1": "Lopez Tarriba",
                                    "2": "NULL",
                                    "3": "LOTJ880305RESHS000",
                                    "4": "NULL",
                                    "5": "NULL",
                                    "6": "PRO"
                                },
                                {
                                    "0": "Jaime",
                                    "1": "Vizcarra Camacho",
                                    "2": "NULL",
                                    "3": "VICJ880305RESHS000",
                                    "4": "NULL",
                                    "5": "NULL",
                                    "6": "TIC"
                                }
                            ]
                        },
                        "text/html": "<table><tr><th>Nombre</th><th>Apellido</th><th>RFC</th><th>CURP</th><th>NSS</th><th>Nacimiento</th><th>Trabaja</th></tr><tr><td>Jose</td><td>Larrea Espericueta</td><td>NULL</td><td>LAEJ880305RESHS000</td><td>NULL</td><td>NULL</td><td>MKT</td></tr><tr><td>Jose</td><td>Lopez Espericueta</td><td>NULL</td><td>LOEJ880305RESHS000</td><td>NULL</td><td>NULL</td><td>MKT</td></tr><tr><td>Jose</td><td>Lopez Omar</td><td>NULL</td><td>LOEO880305RESHS000</td><td>NULL</td><td>NULL</td><td>VEN</td></tr><tr><td>Jose</td><td>Lopez Tarriba</td><td>NULL</td><td>LOTJ880305RESHS000</td><td>NULL</td><td>NULL</td><td>PRO</td></tr><tr><td>Jaime</td><td>Vizcarra Camacho</td><td>NULL</td><td>VICJ880305RESHS000</td><td>NULL</td><td>NULL</td><td>TIC</td></tr></table>"
                    }
                }
            ],
            "execution_count": 25
        },
        {
            "cell_type": "markdown",
            "source": [
                "## Paso 2##\n",
                "\n",
                "La integridad referencial evita esto. Agreguemos una restriccion de llave foránea a la columna `Trabaja` de la tabla `Empleados`, para definirlo usamos la clausula `CONSTRAINT constraint_name FOREIGN KEY` que puede pertenecer a la sentencia `CREATE TABLE` o a `ALTER TABLE`\n",
                "```\n",
                "[ FOREIGN KEY ]\n",
                "        REFERENCES [ schema_name . ] referenced_table_name [ ( ref_column ) ]\n",
                "        [ ON DELETE { NO ACTION | CASCADE | SET NULL | SET DEFAULT } ]\n",
                "        [ ON UPDATE { NO ACTION | CASCADE | SET NULL | SET DEFAULT } ]\n",
                "        [ NOT FOR REPLICATION ]\n",
                "```"
            ],
            "metadata": {
                "azdata_cell_guid": "e1d810a4-4232-4d75-9aa0-4e44925882b4"
            }
        },
        {
            "cell_type": "code",
            "source": [
                "-- Primero eliminamos la referencia al departamento inexistente\n",
                "Update Empleados    \n",
                "    set Trabaja = null\n",
                "    where Trabaja = 'TIC'"
            ],
            "metadata": {
                "azdata_cell_guid": "27ea6724-5c8e-4e00-a8d0-50cc447f1916"
            },
            "outputs": [
                {
                    "output_type": "display_data",
                    "data": {
                        "text/html": "(1 row affected)"
                    },
                    "metadata": {}
                },
                {
                    "output_type": "display_data",
                    "data": {
                        "text/html": "Total execution time: 00:00:00.028"
                    },
                    "metadata": {}
                }
            ],
            "execution_count": 26
        },
        {
            "cell_type": "code",
            "source": [
                "GO\n",
                "ALTER TABLE Departamentos alter COLUMN idDepartamento char(3) NOT NULL\n",
                "\n",
                "GO\n",
                "ALTER TABLE Departamentos ADD CONSTRAINT pk_depto PRIMARY KEY(idDepartamento)\n",
                "\n",
                "GO\n",
                "ALTER TABLE empleados ADD CONSTRAINT fk_depto FOREIGN KEY(trabaja) REFERENCES Departamentos(idDepartamento)"
            ],
            "metadata": {
                "azdata_cell_guid": "44403ddc-aab6-4a07-893a-4e597570da29"
            },
            "outputs": [
                {
                    "output_type": "display_data",
                    "data": {
                        "text/html": "Commands completed successfully."
                    },
                    "metadata": {}
                },
                {
                    "output_type": "display_data",
                    "data": {
                        "text/html": "Commands completed successfully."
                    },
                    "metadata": {}
                },
                {
                    "output_type": "display_data",
                    "data": {
                        "text/html": "Commands completed successfully."
                    },
                    "metadata": {}
                },
                {
                    "output_type": "display_data",
                    "data": {
                        "text/html": "Total execution time: 00:00:00.096"
                    },
                    "metadata": {}
                }
            ],
            "execution_count": 27
        },
        {
            "cell_type": "markdown",
            "source": [
                "Intente agregar nuevamente un empleado con un departamento inexistente"
            ],
            "metadata": {
                "azdata_cell_guid": "a6ba9ee8-7b6a-47cc-be7e-7b43b1a372d3"
            }
        },
        {
            "cell_type": "code",
            "source": [
                "INSERT into empleados (CURP, Apellido, Nombre, Trabaja)\n",
                "    VALUES ( 'VICJ880305RESHS000', 'Vizcarra Camacho', 'Jaime', 'TIC')\n",
                "--Valores\n",
                "SELECT * from Empleados\n",
                ""
            ],
            "metadata": {
                "azdata_cell_guid": "edb323e8-d63e-4306-b098-69c24ef08caa"
            },
            "outputs": [
                {
                    "output_type": "error",
                    "evalue": "Msg 2627, Level 14, State 1, Line 1\r\nViolation of PRIMARY KEY constraint 'PK__Empleado__F46C4CBE38187562'. Cannot insert duplicate key in object 'dbo.Empleados'. The duplicate key value is (VICJ880305RESHS000).",
                    "ename": "",
                    "traceback": []
                },
                {
                    "output_type": "display_data",
                    "data": {
                        "text/html": "The statement has been terminated."
                    },
                    "metadata": {}
                },
                {
                    "output_type": "display_data",
                    "data": {
                        "text/html": "(5 rows affected)"
                    },
                    "metadata": {}
                },
                {
                    "output_type": "display_data",
                    "data": {
                        "text/html": "Total execution time: 00:00:00.186"
                    },
                    "metadata": {}
                },
                {
                    "output_type": "execute_result",
                    "metadata": {},
                    "execution_count": 28,
                    "data": {
                        "application/vnd.dataresource+json": {
                            "schema": {
                                "fields": [
                                    {
                                        "name": "Nombre"
                                    },
                                    {
                                        "name": "Apellido"
                                    },
                                    {
                                        "name": "RFC"
                                    },
                                    {
                                        "name": "CURP"
                                    },
                                    {
                                        "name": "NSS"
                                    },
                                    {
                                        "name": "Nacimiento"
                                    },
                                    {
                                        "name": "Trabaja"
                                    }
                                ]
                            },
                            "data": [
                                {
                                    "0": "Jose",
                                    "1": "Larrea Espericueta",
                                    "2": "NULL",
                                    "3": "LAEJ880305RESHS000",
                                    "4": "NULL",
                                    "5": "NULL",
                                    "6": "MKT"
                                },
                                {
                                    "0": "Jose",
                                    "1": "Lopez Espericueta",
                                    "2": "NULL",
                                    "3": "LOEJ880305RESHS000",
                                    "4": "NULL",
                                    "5": "NULL",
                                    "6": "MKT"
                                },
                                {
                                    "0": "Jose",
                                    "1": "Lopez Omar",
                                    "2": "NULL",
                                    "3": "LOEO880305RESHS000",
                                    "4": "NULL",
                                    "5": "NULL",
                                    "6": "VEN"
                                },
                                {
                                    "0": "Jose",
                                    "1": "Lopez Tarriba",
                                    "2": "NULL",
                                    "3": "LOTJ880305RESHS000",
                                    "4": "NULL",
                                    "5": "NULL",
                                    "6": "PRO"
                                },
                                {
                                    "0": "Jaime",
                                    "1": "Vizcarra Camacho",
                                    "2": "NULL",
                                    "3": "VICJ880305RESHS000",
                                    "4": "NULL",
                                    "5": "NULL",
                                    "6": "NULL"
                                }
                            ]
                        },
                        "text/html": "<table><tr><th>Nombre</th><th>Apellido</th><th>RFC</th><th>CURP</th><th>NSS</th><th>Nacimiento</th><th>Trabaja</th></tr><tr><td>Jose</td><td>Larrea Espericueta</td><td>NULL</td><td>LAEJ880305RESHS000</td><td>NULL</td><td>NULL</td><td>MKT</td></tr><tr><td>Jose</td><td>Lopez Espericueta</td><td>NULL</td><td>LOEJ880305RESHS000</td><td>NULL</td><td>NULL</td><td>MKT</td></tr><tr><td>Jose</td><td>Lopez Omar</td><td>NULL</td><td>LOEO880305RESHS000</td><td>NULL</td><td>NULL</td><td>VEN</td></tr><tr><td>Jose</td><td>Lopez Tarriba</td><td>NULL</td><td>LOTJ880305RESHS000</td><td>NULL</td><td>NULL</td><td>PRO</td></tr><tr><td>Jaime</td><td>Vizcarra Camacho</td><td>NULL</td><td>VICJ880305RESHS000</td><td>NULL</td><td>NULL</td><td>NULL</td></tr></table>"
                    }
                }
            ],
            "execution_count": 28
        },
        {
            "cell_type": "markdown",
            "source": [
                "## Paso 3: Eliminando referidos##\n",
                "\n",
                "Asigne los empleados sin departamento al de *Ventas*"
            ],
            "metadata": {
                "azdata_cell_guid": "0dcbc3d7-10dc-412c-a5b9-588bb5ef8188"
            }
        },
        {
            "cell_type": "code",
            "source": [
                "\r\n",
                "-- UPDATE\r\n",
                "\r\n",
                "UPDATE empleados SET Trabaja='VEN' WHERE Trabaja IS NULL\r\n",
                "\r\n",
                "SELECT * FROM Empleados"
            ],
            "metadata": {
                "azdata_cell_guid": "dd9ba68f-5b32-457d-a384-58f39b6a4872"
            },
            "outputs": [
                {
                    "output_type": "display_data",
                    "data": {
                        "text/html": "(1 row affected)"
                    },
                    "metadata": {}
                },
                {
                    "output_type": "display_data",
                    "data": {
                        "text/html": "(5 rows affected)"
                    },
                    "metadata": {}
                },
                {
                    "output_type": "display_data",
                    "data": {
                        "text/html": "Total execution time: 00:00:00.070"
                    },
                    "metadata": {}
                },
                {
                    "output_type": "execute_result",
                    "metadata": {},
                    "execution_count": 32,
                    "data": {
                        "application/vnd.dataresource+json": {
                            "schema": {
                                "fields": [
                                    {
                                        "name": "Nombre"
                                    },
                                    {
                                        "name": "Apellido"
                                    },
                                    {
                                        "name": "RFC"
                                    },
                                    {
                                        "name": "CURP"
                                    },
                                    {
                                        "name": "NSS"
                                    },
                                    {
                                        "name": "Nacimiento"
                                    },
                                    {
                                        "name": "Trabaja"
                                    }
                                ]
                            },
                            "data": [
                                {
                                    "0": "Jose",
                                    "1": "Larrea Espericueta",
                                    "2": "NULL",
                                    "3": "LAEJ880305RESHS000",
                                    "4": "NULL",
                                    "5": "NULL",
                                    "6": "MKT"
                                },
                                {
                                    "0": "Jose",
                                    "1": "Lopez Espericueta",
                                    "2": "NULL",
                                    "3": "LOEJ880305RESHS000",
                                    "4": "NULL",
                                    "5": "NULL",
                                    "6": "MKT"
                                },
                                {
                                    "0": "Jose",
                                    "1": "Lopez Omar",
                                    "2": "NULL",
                                    "3": "LOEO880305RESHS000",
                                    "4": "NULL",
                                    "5": "NULL",
                                    "6": "VEN"
                                },
                                {
                                    "0": "Jose",
                                    "1": "Lopez Tarriba",
                                    "2": "NULL",
                                    "3": "LOTJ880305RESHS000",
                                    "4": "NULL",
                                    "5": "NULL",
                                    "6": "PRO"
                                },
                                {
                                    "0": "Jaime",
                                    "1": "Vizcarra Camacho",
                                    "2": "NULL",
                                    "3": "VICJ880305RESHS000",
                                    "4": "NULL",
                                    "5": "NULL",
                                    "6": "VEN"
                                }
                            ]
                        },
                        "text/html": "<table><tr><th>Nombre</th><th>Apellido</th><th>RFC</th><th>CURP</th><th>NSS</th><th>Nacimiento</th><th>Trabaja</th></tr><tr><td>Jose</td><td>Larrea Espericueta</td><td>NULL</td><td>LAEJ880305RESHS000</td><td>NULL</td><td>NULL</td><td>MKT</td></tr><tr><td>Jose</td><td>Lopez Espericueta</td><td>NULL</td><td>LOEJ880305RESHS000</td><td>NULL</td><td>NULL</td><td>MKT</td></tr><tr><td>Jose</td><td>Lopez Omar</td><td>NULL</td><td>LOEO880305RESHS000</td><td>NULL</td><td>NULL</td><td>VEN</td></tr><tr><td>Jose</td><td>Lopez Tarriba</td><td>NULL</td><td>LOTJ880305RESHS000</td><td>NULL</td><td>NULL</td><td>PRO</td></tr><tr><td>Jaime</td><td>Vizcarra Camacho</td><td>NULL</td><td>VICJ880305RESHS000</td><td>NULL</td><td>NULL</td><td>VEN</td></tr></table>"
                    }
                }
            ],
            "execution_count": 32
        },
        {
            "cell_type": "markdown",
            "source": [
                "¿Que sucede si quiero eliminar el departamento *Ventas*?\n",
                "\n",
                "**Respuesta**\n",
                "\n",
                "Muestra un error ya que se está tratando de eliminar un registro que contiene una Primary Key que hace referencia a la restriccion fk_depto, lo que significa que hay registros de empleados que trabajan en dicho departamentos. Por lo tanto, no se puede borrar hasta que se eliminen o actualizen dichos empleados."
            ],
            "metadata": {
                "azdata_cell_guid": "76f3374b-6b8b-4b81-b5fa-2194723cdb56"
            }
        },
        {
            "cell_type": "code",
            "source": [
                "DELETE FROM Departamentos WHERE idDepartamento='VEN'"
            ],
            "metadata": {
                "azdata_cell_guid": "d7f204f0-9adf-4c69-b0dd-834d08132747"
            },
            "outputs": [
                {
                    "output_type": "error",
                    "evalue": "Msg 547, Level 16, State 0, Line 1\r\nThe DELETE statement conflicted with the REFERENCE constraint \"fk_depto\". The conflict occurred in database \"Pruebas\", table \"dbo.Empleados\", column 'Trabaja'.",
                    "ename": "",
                    "traceback": []
                },
                {
                    "output_type": "display_data",
                    "data": {
                        "text/html": "The statement has been terminated."
                    },
                    "metadata": {}
                },
                {
                    "output_type": "display_data",
                    "data": {
                        "text/html": "Total execution time: 00:00:00.032"
                    },
                    "metadata": {}
                }
            ],
            "execution_count": 34
        },
        {
            "cell_type": "markdown",
            "source": [
                "Modifiquemos la restricción para que ahora al eliminar un *Departamento* elimine también a los empleados asignados a el"
            ],
            "metadata": {
                "azdata_cell_guid": "3109a87f-faca-4c42-bd50-8a148e4717ca"
            }
        },
        {
            "cell_type": "code",
            "source": [
                "--Eliminar la restricción de llave foránea\n",
                "ALTER TABLE empleados DROP CONSTRAINT fk_depto\n",
                "\n",
                "--No se olvide del GO\n",
                "GO\n",
                "-- Agregamos la clausula ON DELETE y ON UPDATE\n",
                "ALTER TABLE Empleados ADD CONSTRAINT  fk_depto FOREIGN KEY (Trabaja) REFERENCES Departamentos(idDepartamento)\n",
                "ON DELETE CASCADE ON UPDATE CASCADE\n",
                ""
            ],
            "metadata": {
                "azdata_cell_guid": "5c7a4b0c-c7e6-43a7-ad6c-5e9005a54fa3"
            },
            "outputs": [
                {
                    "output_type": "display_data",
                    "data": {
                        "text/html": "Commands completed successfully."
                    },
                    "metadata": {}
                },
                {
                    "output_type": "display_data",
                    "data": {
                        "text/html": "Commands completed successfully."
                    },
                    "metadata": {}
                },
                {
                    "output_type": "display_data",
                    "data": {
                        "text/html": "Total execution time: 00:00:00.069"
                    },
                    "metadata": {}
                }
            ],
            "execution_count": 35
        },
        {
            "cell_type": "code",
            "source": [
                "DELETE FROM DEPARTAMENTOS WHERE idDEPARTAMENTO ='VEN'\r\n",
                "SELECT  * FROM DEPARTAMENTOS"
            ],
            "metadata": {
                "azdata_cell_guid": "b436fe93-21b1-4fbb-a009-a6934b6d70d5"
            },
            "outputs": [
                {
                    "output_type": "display_data",
                    "data": {
                        "text/html": "(0 rows affected)"
                    },
                    "metadata": {}
                },
                {
                    "output_type": "display_data",
                    "data": {
                        "text/html": "(2 rows affected)"
                    },
                    "metadata": {}
                },
                {
                    "output_type": "display_data",
                    "data": {
                        "text/html": "Total execution time: 00:00:00.098"
                    },
                    "metadata": {}
                },
                {
                    "output_type": "execute_result",
                    "metadata": {},
                    "execution_count": 37,
                    "data": {
                        "application/vnd.dataresource+json": {
                            "schema": {
                                "fields": [
                                    {
                                        "name": "idDepartamento"
                                    },
                                    {
                                        "name": "nombre"
                                    },
                                    {
                                        "name": "descripcion"
                                    },
                                    {
                                        "name": "mision"
                                    }
                                ]
                            },
                            "data": [
                                {
                                    "0": "MKT",
                                    "1": "Mercadotecnia",
                                    "2": "NULL",
                                    "3": "NULL"
                                },
                                {
                                    "0": "PRO",
                                    "1": "Producción",
                                    "2": "NULL",
                                    "3": "NULL"
                                }
                            ]
                        },
                        "text/html": "<table><tr><th>idDepartamento</th><th>nombre</th><th>descripcion</th><th>mision</th></tr><tr><td>MKT</td><td>Mercadotecnia</td><td>NULL</td><td>NULL</td></tr><tr><td>PRO</td><td>Producción</td><td>NULL</td><td>NULL</td></tr></table>"
                    }
                }
            ],
            "execution_count": 37
        },
        {
            "cell_type": "markdown",
            "source": [
                "¿Que sucede ahora si intenta eliminar el departamento *Ventas* ? \n",
                "\n",
                "**Respuesta**\n",
                "\n",
                "Se eliminará tanto el registro del departamento \"Ventas\", así como todos los registros de Empleados que Trabajaban y hacian referencia al mismo.\n",
                "\n",
                "\n",
                ""
            ],
            "metadata": {
                "azdata_cell_guid": "1ba86b81-ff86-4351-9231-a5338e8c3afb"
            }
        },
        {
            "cell_type": "markdown",
            "source": [
                "## Paso 4 ##\n",
                "\n",
                "Modifiquemos el comportamiento de la restricción para que al eliminar un departamento los empleados queden sin uno asignado ( `SET NULL`)\n",
                "¿Es necesario eliminar la restricción y volverla a crear con el nuevo comportamiento ?\n",
                "\n",
                "**Respuesta**\n",
                ""
            ],
            "metadata": {
                "azdata_cell_guid": "b5afab68-5253-432a-a4b4-9628a115824e"
            }
        },
        {
            "cell_type": "code",
            "source": [
                "\n",
                "ALTER TABLE Empleados DROP CONSTRAINT fk_depto\n",
                "\n",
                "ALTER TABLE Empleados ADD CONSTRAINT fk_depto FOREIGN KEY (Trabaja) REFERENCES Departamentos(idDepartamento)\n",
                "ON DELETE SET NULL ON UPDATE SET NULL\n",
                ""
            ],
            "metadata": {
                "azdata_cell_guid": "66c6ced4-3643-4d9f-b273-1b7a8dfc99aa"
            },
            "outputs": [
                {
                    "output_type": "display_data",
                    "data": {
                        "text/html": "Commands completed successfully."
                    },
                    "metadata": {}
                },
                {
                    "output_type": "display_data",
                    "data": {
                        "text/html": "Total execution time: 00:00:00.029"
                    },
                    "metadata": {}
                }
            ],
            "execution_count": 39
        },
        {
            "cell_type": "markdown",
            "source": [
                "Pruebe el comportamiento eliminando un departamento y muestre como queda el empleado"
            ],
            "metadata": {
                "azdata_cell_guid": "ff23f4f6-293d-4b51-91f5-2b7d479d2632"
            }
        },
        {
            "cell_type": "code",
            "source": [
                "DELETE FROM DEPARTAMENTOS WHERE idDepartamento='MKT'\r\n",
                "SELECT * FROM Empleados"
            ],
            "metadata": {
                "azdata_cell_guid": "37dea109-6516-440e-9cd8-d8b95d6c9e4c"
            },
            "outputs": [
                {
                    "output_type": "display_data",
                    "data": {
                        "text/html": "(0 rows affected)"
                    },
                    "metadata": {}
                },
                {
                    "output_type": "display_data",
                    "data": {
                        "text/html": "(3 rows affected)"
                    },
                    "metadata": {}
                },
                {
                    "output_type": "display_data",
                    "data": {
                        "text/html": "Total execution time: 00:00:00.057"
                    },
                    "metadata": {}
                },
                {
                    "output_type": "execute_result",
                    "metadata": {},
                    "execution_count": 41,
                    "data": {
                        "application/vnd.dataresource+json": {
                            "schema": {
                                "fields": [
                                    {
                                        "name": "Nombre"
                                    },
                                    {
                                        "name": "Apellido"
                                    },
                                    {
                                        "name": "RFC"
                                    },
                                    {
                                        "name": "CURP"
                                    },
                                    {
                                        "name": "NSS"
                                    },
                                    {
                                        "name": "Nacimiento"
                                    },
                                    {
                                        "name": "Trabaja"
                                    }
                                ]
                            },
                            "data": [
                                {
                                    "0": "Jose",
                                    "1": "Larrea Espericueta",
                                    "2": "NULL",
                                    "3": "LAEJ880305RESHS000",
                                    "4": "NULL",
                                    "5": "NULL",
                                    "6": "NULL"
                                },
                                {
                                    "0": "Jose",
                                    "1": "Lopez Espericueta",
                                    "2": "NULL",
                                    "3": "LOEJ880305RESHS000",
                                    "4": "NULL",
                                    "5": "NULL",
                                    "6": "NULL"
                                },
                                {
                                    "0": "Jose",
                                    "1": "Lopez Tarriba",
                                    "2": "NULL",
                                    "3": "LOTJ880305RESHS000",
                                    "4": "NULL",
                                    "5": "NULL",
                                    "6": "PRO"
                                }
                            ]
                        },
                        "text/html": "<table><tr><th>Nombre</th><th>Apellido</th><th>RFC</th><th>CURP</th><th>NSS</th><th>Nacimiento</th><th>Trabaja</th></tr><tr><td>Jose</td><td>Larrea Espericueta</td><td>NULL</td><td>LAEJ880305RESHS000</td><td>NULL</td><td>NULL</td><td>NULL</td></tr><tr><td>Jose</td><td>Lopez Espericueta</td><td>NULL</td><td>LOEJ880305RESHS000</td><td>NULL</td><td>NULL</td><td>NULL</td></tr><tr><td>Jose</td><td>Lopez Tarriba</td><td>NULL</td><td>LOTJ880305RESHS000</td><td>NULL</td><td>NULL</td><td>PRO</td></tr></table>"
                    }
                }
            ],
            "execution_count": 41
        },
        {
            "cell_type": "markdown",
            "source": [
                "## Comentarios a la práctica##\n",
                "<Su comentario aquí>"
            ],
            "metadata": {
                "azdata_cell_guid": "43645c11-ec83-4026-9bc8-4a6d7c242146"
            }
        }
    ]
}