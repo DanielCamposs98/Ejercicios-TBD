{
    "metadata": {
        "kernelspec": {
            "name": "SQL",
            "display_name": "SQL",
            "language": "sql"
        },
        "language_info": {
            "name": "sql",
            "version": ""
        }
    },
    "nbformat_minor": 2,
    "nbformat": 4,
    "cells": [
        {
            "cell_type": "markdown",
            "source": [
                "Para esta páctica usaremos la base de datos `Pruebas`"
            ],
            "metadata": {
                "azdata_cell_guid": "0bbb6f4c-a0de-451f-99bb-a6dba825280a"
            }
        },
        {
            "cell_type": "code",
            "source": [
                "--Ejecute este bloque(colapsado) para usarla \n",
                "\n",
                "IF NOT EXISTS \n",
                "   (\n",
                "     SELECT name FROM master.dbo.sysdatabases \n",
                "     WHERE name = 'Pruebas'\n",
                "    )\n",
                "CREATE DATABASE Pruebas\n",
                "\n",
                "GO\n",
                "use Pruebas\n",
                ""
            ],
            "metadata": {
                "azdata_cell_guid": "ea1744c2-0a6a-4bac-8079-a76e6f68c063",
                "tags": []
            },
            "outputs": [
{
    "output_type": "display_data",
    "data": {
        "text/html": "Commands completed successfully."
    },
    "metadata": {}
}, {
    "output_type": "display_data",
    "data": {
        "text/html": "Commands completed successfully."
    },
    "metadata": {}
}, {
    "output_type": "display_data",
    "data": {
        "text/html": "Total execution time: 00:00:00.084"
    },
    "metadata": {}
}
],
            "execution_count": 1
        },
        {
            "cell_type": "markdown",
            "source": [
                "# Restricciones ( Constraints )\n",
                "\n",
                "Una restriccion puede ser a nivel Columna\n",
                ""
            ],
            "metadata": {
                "azdata_cell_guid": "49c68d50-6c8e-46d4-ad08-8c4969fa5382"
            }
        },
        {
            "cell_type": "code",
            "source": [
                "\n",
                "CREATE TABLE RCT1\n",
                "(\n",
                "    NombreCompleto VARCHAR(30) not NULL PRIMARY KEY, \n",
                "    Departamento varchar(30),\n",
                "    Salario NUMERIC (10,4)\n",
                ")\n",
                ""
            ],
            "metadata": {
                "azdata_cell_guid": "d1bce3a8-3feb-4b2a-9ad5-fcb717e13308",
                "tags": []
            },
            "outputs": [
{
    "output_type": "error",
    "evalue": "Msg 2714, Level 16, State 6, Line 2\r\nThere is already an object named 'RCT1' in the database.",
    "ename": "",
    "traceback": []
}, {
    "output_type": "display_data",
    "data": {
        "text/html": "Total execution time: 00:00:00.010"
    },
    "metadata": {}
}
],
            "execution_count": 2
        },
        {
            "cell_type": "markdown",
            "source": [
                "O a nivel Tabla"
            ],
            "metadata": {
                "azdata_cell_guid": "b0788bcd-6912-4ffd-9936-2001126d4714"
            }
        },
        {
            "cell_type": "code",
            "source": [
                "CREATE TABLE TT1\n",
                "(\n",
                "    Nombre VARCHAR(30) not NULL, \n",
                "    Apellido VARCHAR(30),\n",
                "    Departamento varchar(30),\n",
                "    Salario NUMERIC (10,4)\n",
                "    PRIMARY KEY (Nombre,Apellido)\n",
                ")\n",
                "\n",
                "\n",
                ""
            ],
            "metadata": {
                "azdata_cell_guid": "d3504b17-e192-4d28-a552-52af9efba9ef"
            },
            "outputs": [
                {
                    "output_type": "display_data",
                    "data": {
                        "text/html": "Commands completed successfully."
                    },
                    "metadata": {}
                },
                {
                    "output_type": "display_data",
                    "data": {
                        "text/html": "Total execution time: 00:00:00.071"
                    },
                    "metadata": {}
                }
            ],
            "execution_count": 3
        },
        {
            "cell_type": "markdown",
            "source": [
                "# Constraint Default \n",
                "A una columna se le puede asignar un valor, en caso de que el usuario no provea uno. Por ejemplo, en una empresa de origen mexicano, en el atributo `País` el valor por defecto bien podría ser `México`.\n",
                "\n",
                "\n",
                ""
            ],
            "metadata": {
                "azdata_cell_guid": "36e9cce1-4939-4ce9-9f30-140e7803a6a2"
            }
        },
        {
            "cell_type": "code",
            "source": [
                "CREATE TABLE Empleados\n",
                "(\n",
                "    IdEmpleado int PRIMARY KEY,\n",
                "    Nombre NVARCHAR(30) not NULL, \n",
                "    Apellido NVARCHAR(30),\n",
                "    Pais NVARCHAR(50) DEFAULT 'México'\n",
                ")"
            ],
            "metadata": {
                "azdata_cell_guid": "c09bfa06-1b4f-492d-ae83-686ce157724e"
            },
            "outputs": [
                {
                    "output_type": "display_data",
                    "data": {
                        "text/html": "Commands completed successfully."
                    },
                    "metadata": {}
                },
                {
                    "output_type": "display_data",
                    "data": {
                        "text/html": "Total execution time: 00:00:00.202"
                    },
                    "metadata": {}
                }
            ],
            "execution_count": 4
        },
        {
            "cell_type": "code",
            "source": [
                "INSERT INTO Empleados (idEmpleado, Nombre, Apellido) \n",
                "    VALUES (1, 'Juan', 'Pérez')\n",
                "INSERT INTO Empleados (idEmpleado, Nombre, Apellido, Pais) \n",
                "    VALUES (2, 'Francisco', 'Hernández', 'Estados Unidos')\n",
                ""
            ],
            "metadata": {
                "azdata_cell_guid": "6d3ef0ea-a7c9-42ae-a372-c21121872ffe"
            },
            "outputs": [
                {
                    "output_type": "display_data",
                    "data": {
                        "text/html": "(1 row affected)"
                    },
                    "metadata": {}
                },
                {
                    "output_type": "display_data",
                    "data": {
                        "text/html": "(1 row affected)"
                    },
                    "metadata": {}
                },
                {
                    "output_type": "display_data",
                    "data": {
                        "text/html": "Total execution time: 00:00:00.076"
                    },
                    "metadata": {}
                }
            ],
            "execution_count": 5
        },
        {
            "cell_type": "code",
            "source": [
                "SELECT * from Empleados\n",
                ""
            ],
            "metadata": {
                "azdata_cell_guid": "2f85667c-3e47-4237-91a5-10c6749c7f44"
            },
            "outputs": [
                {
                    "output_type": "display_data",
                    "data": {
                        "text/html": "(2 rows affected)"
                    },
                    "metadata": {}
                },
                {
                    "output_type": "display_data",
                    "data": {
                        "text/html": "Total execution time: 00:00:01.519"
                    },
                    "metadata": {}
                },
                {
                    "output_type": "execute_result",
                    "execution_count": 6,
                    "data": {
                        "application/vnd.dataresource+json": {
                            "schema": {
                                "fields": [
                                    {
                                        "name": "IdEmpleado"
                                    },
                                    {
                                        "name": "Nombre"
                                    },
                                    {
                                        "name": "Apellido"
                                    },
                                    {
                                        "name": "Pais"
                                    }
                                ]
                            },
                            "data": [
                                {
                                    "0": "1",
                                    "1": "Juan",
                                    "2": "Pérez",
                                    "3": "México"
                                },
                                {
                                    "0": "2",
                                    "1": "Francisco",
                                    "2": "Hernández",
                                    "3": "Estados Unidos"
                                }
                            ]
                        },
                        "text/html": "<table><tr><th>IdEmpleado</th><th>Nombre</th><th>Apellido</th><th>Pais</th></tr><tr><td>1</td><td>Juan</td><td>Pérez</td><td>México</td></tr><tr><td>2</td><td>Francisco</td><td>Hernández</td><td>Estados Unidos</td></tr></table>"
                    },
                    "metadata": {}
                }
            ],
            "execution_count": 6
        },
        {
            "cell_type": "markdown",
            "source": [
                "# Default cuando la tabla ya tiene datos"
            ],
            "metadata": {
                "azdata_cell_guid": "a50c0cbe-0bf8-4dae-9eb2-97dfcbe31474"
            }
        },
        {
            "cell_type": "code",
            "source": [
                "ALTER TABLE Empleados\n",
                "    Add Departamento nvarchar(30) DEFAULT 'Ventas'\n",
                "\n",
                "SELECT * from Empleados\n",
                ""
            ],
            "metadata": {
                "azdata_cell_guid": "b2cffd1b-bf40-42b2-b1c5-a4bdfb294d61"
            },
            "outputs": [
                {
                    "output_type": "display_data",
                    "data": {
                        "text/html": "(2 rows affected)"
                    },
                    "metadata": {}
                },
                {
                    "output_type": "display_data",
                    "data": {
                        "text/html": "Total execution time: 00:00:01.663"
                    },
                    "metadata": {}
                },
                {
                    "output_type": "execute_result",
                    "execution_count": 7,
                    "data": {
                        "application/vnd.dataresource+json": {
                            "schema": {
                                "fields": [
                                    {
                                        "name": "IdEmpleado"
                                    },
                                    {
                                        "name": "Nombre"
                                    },
                                    {
                                        "name": "Apellido"
                                    },
                                    {
                                        "name": "Pais"
                                    },
                                    {
                                        "name": "Departamento"
                                    }
                                ]
                            },
                            "data": [
                                {
                                    "0": "1",
                                    "1": "Juan",
                                    "2": "Pérez",
                                    "3": "México",
                                    "4": "NULL"
                                },
                                {
                                    "0": "2",
                                    "1": "Francisco",
                                    "2": "Hernández",
                                    "3": "Estados Unidos",
                                    "4": "NULL"
                                }
                            ]
                        },
                        "text/html": "<table><tr><th>IdEmpleado</th><th>Nombre</th><th>Apellido</th><th>Pais</th><th>Departamento</th></tr><tr><td>1</td><td>Juan</td><td>Pérez</td><td>México</td><td>NULL</td></tr><tr><td>2</td><td>Francisco</td><td>Hernández</td><td>Estados Unidos</td><td>NULL</td></tr></table>"
                    },
                    "metadata": {}
                }
            ],
            "execution_count": 7
        },
        {
            "cell_type": "markdown",
            "source": [
                "# WITH VALUES\n",
                "\n",
                ""
            ],
            "metadata": {
                "azdata_cell_guid": "c1391513-a0bb-40bf-8e0c-4b23054e6a25"
            }
        },
        {
            "cell_type": "code",
            "source": [
                "ALTER TABLE Empleados\n",
                "    add Salario NUMERIC(10,4) DEFAULT 900.200 WITH VALUES\n",
                "\n",
                "SELECT * from Empleados    "
            ],
            "metadata": {
                "azdata_cell_guid": "6c47ebde-c501-450e-8eaf-ae69b2dea95b"
            },
            "outputs": [
{
    "output_type": "error",
    "evalue": "Msg 2705, Level 16, State 4, Line 1\r\nColumn names in each table must be unique. Column name 'Salario' in table 'Empleados' is specified more than once.",
    "ename": "",
    "traceback": []
}, {
    "output_type": "display_data",
    "data": {
        "text/html": "Total execution time: 00:00:00.072"
    },
    "metadata": {}
}
],
            "execution_count": 3
        }
    ]
}