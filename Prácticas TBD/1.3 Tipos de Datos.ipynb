{
    "metadata": {
        "kernelspec": {
            "name": "SQL",
            "display_name": "SQL",
            "language": "sql"
        },
        "language_info": {
            "name": "sql",
            "version": ""
        }
    },
    "nbformat_minor": 2,
    "nbformat": 4,
    "cells": [
        {
            "cell_type": "markdown",
            "source": [
                "# Enteros (INT) \n",
                "Cree una base de datos ` prueba` y dentro de ella una tabla ` T1` con una columna ` numero` de tipo entero"
            ],
            "metadata": {
                "azdata_cell_guid": "37dfc46f-32f3-404d-9f53-5ac016af0f60"
            }
        },
        {
            "cell_type": "code",
            "source": [
                "CREATE DATABASE PRUEBA\n",
                "\n",
                "GO\n",
                "\n",
                "--??? seleccionar la base de datos recién creada\n",
                "USE PRUEBA\n",
                "--Crear la tabla especificada\n",
                "CREATE TABLE T1 (\n",
                "    numero int\n",
                ")\n",
                ""
            ],
            "metadata": {
                "azdata_cell_guid": "ef77dbd0-17e9-4577-8c03-77adf2484589"
            },
            "outputs": [
                {
                    "output_type": "display_data",
                    "data": {
                        "text/html": "Commands completed successfully."
                    },
                    "metadata": {}
                },
                {
                    "output_type": "display_data",
                    "data": {
                        "text/html": "Commands completed successfully."
                    },
                    "metadata": {}
                },
                {
                    "output_type": "display_data",
                    "data": {
                        "text/html": "Total execution time: 00:00:01.941"
                    },
                    "metadata": {}
                }
            ],
            "execution_count": 8
        },
        {
            "cell_type": "code",
            "source": [
                "select * from T1"
            ],
            "metadata": {
                "azdata_cell_guid": "77fbc685-032a-42ac-9d2e-7a0b44d30bf4"
            },
            "outputs": [
                {
                    "output_type": "display_data",
                    "data": {
                        "text/html": "(0 rows affected)"
                    },
                    "metadata": {}
                },
                {
                    "output_type": "display_data",
                    "data": {
                        "text/html": "Total execution time: 00:00:00.021"
                    },
                    "metadata": {}
                },
                {
                    "output_type": "execute_result",
                    "metadata": {},
                    "execution_count": 9,
                    "data": {
                        "application/vnd.dataresource+json": {
                            "schema": {
                                "fields": [
                                    {
                                        "name": "numero"
                                    }
                                ]
                            },
                            "data": []
                        },
                        "text/html": "<table><tr><th>numero</th></tr></table>"
                    }
                }
            ],
            "execution_count": 9
        },
        {
            "cell_type": "markdown",
            "source": [
                "Inserte filas en la tabla ` T1` con los valores enteros 100, 200, 150"
            ],
            "metadata": {
                "azdata_cell_guid": "cbf0eca6-7da8-4cf6-9d3f-995b96295b2c"
            }
        },
        {
            "cell_type": "code",
            "source": [
                "--insert into ????\n",
                "INSERT INTO  T1 VALUES (100),(200),(150) \n",
                "select * from T1\n",
                ""
            ],
            "metadata": {
                "azdata_cell_guid": "ea736744-5505-44d4-b2ef-f7cc308b937a"
            },
            "outputs": [
                {
                    "output_type": "display_data",
                    "data": {
                        "text/html": "(3 rows affected)"
                    },
                    "metadata": {}
                },
                {
                    "output_type": "display_data",
                    "data": {
                        "text/html": "(3 rows affected)"
                    },
                    "metadata": {}
                },
                {
                    "output_type": "display_data",
                    "data": {
                        "text/html": "Total execution time: 00:00:00.773"
                    },
                    "metadata": {}
                },
                {
                    "output_type": "execute_result",
                    "metadata": {},
                    "execution_count": 10,
                    "data": {
                        "application/vnd.dataresource+json": {
                            "schema": {
                                "fields": [
                                    {
                                        "name": "numero"
                                    }
                                ]
                            },
                            "data": [
                                {
                                    "0": "100"
                                },
                                {
                                    "0": "200"
                                },
                                {
                                    "0": "150"
                                }
                            ]
                        },
                        "text/html": "<table><tr><th>numero</th></tr><tr><td>100</td></tr><tr><td>200</td></tr><tr><td>150</td></tr></table>"
                    }
                }
            ],
            "execution_count": 10
        },
        {
            "cell_type": "markdown",
            "source": [
                "Ahora inserte una fila con los valores reales 99.99, 99.05"
            ],
            "metadata": {
                "azdata_cell_guid": "854a196b-4567-4130-bf7c-8329d077a98a"
            }
        },
        {
            "cell_type": "code",
            "source": [
                "insert into T1  VALUES(99.99),(99.05)\n",
                "\n",
                "select * from T1"
            ],
            "metadata": {
                "azdata_cell_guid": "0cc04efd-aab2-416b-bb1f-cc9e662ed78c"
            },
            "outputs": [
                {
                    "output_type": "display_data",
                    "data": {
                        "text/html": "(2 rows affected)"
                    },
                    "metadata": {}
                },
                {
                    "output_type": "display_data",
                    "data": {
                        "text/html": "(5 rows affected)"
                    },
                    "metadata": {}
                },
                {
                    "output_type": "display_data",
                    "data": {
                        "text/html": "Total execution time: 00:00:00.083"
                    },
                    "metadata": {}
                },
                {
                    "output_type": "execute_result",
                    "metadata": {},
                    "execution_count": 11,
                    "data": {
                        "application/vnd.dataresource+json": {
                            "schema": {
                                "fields": [
                                    {
                                        "name": "numero"
                                    }
                                ]
                            },
                            "data": [
                                {
                                    "0": "100"
                                },
                                {
                                    "0": "200"
                                },
                                {
                                    "0": "150"
                                },
                                {
                                    "0": "99"
                                },
                                {
                                    "0": "99"
                                }
                            ]
                        },
                        "text/html": "<table><tr><th>numero</th></tr><tr><td>100</td></tr><tr><td>200</td></tr><tr><td>150</td></tr><tr><td>99</td></tr><tr><td>99</td></tr></table>"
                    }
                }
            ],
            "execution_count": 11
        },
        {
            "cell_type": "markdown",
            "source": [
                "**¿Que sucedió?: Se tomó solamente el valor entero de el valor en cuestión, ignorando los valores decimales (fueron trunqueados)."
            ],
            "metadata": {
                "azdata_cell_guid": "14936f44-376e-477c-90d6-7af0ece79e55"
            }
        },
        {
            "cell_type": "markdown",
            "source": [
                "# Cadenas (VARCHAR)\n",
                "\n",
                "Cree ahora una tabla `T2` con una columna `cadena` de tipo `CHAR(10)` y otra `cadenavar` de tipo `VARCHAR(10)`. Luego inserte los valores 'Corto', 'Cadena larga' para ambas columnas."
            ],
            "metadata": {
                "azdata_cell_guid": "91332819-0bc2-44fb-823f-93fbdb5b6276"
            }
        },
        {
            "cell_type": "code",
            "source": [
                "--CREATE ?? ??\n",
                "CREATE TABLE T2 (\n",
                "   cadena char(10),\n",
                "   cadenavar varchar(10)\n",
                ")\n",
                "\n",
                "INSERT into T2 values ('Corto', 'Corto'), ('Cadenota', 'Cadenota' )\n",
                ""
            ],
            "metadata": {
                "azdata_cell_guid": "fe65190e-4990-4f2e-8c10-f59bdee7fb36",
                "tags": []
            },
            "outputs": [
                {
                    "output_type": "display_data",
                    "data": {
                        "text/html": "(2 rows affected)"
                    },
                    "metadata": {}
                },
                {
                    "output_type": "display_data",
                    "data": {
                        "text/html": "Total execution time: 00:00:00.149"
                    },
                    "metadata": {}
                }
            ],
            "execution_count": 5
        },
        {
            "cell_type": "markdown",
            "source": [
                "**¿Que sucedió?**\n",
                "\n",
                "\n",
                "Corrija e intente de nuevo"
            ],
            "metadata": {
                "azdata_cell_guid": "79120ef1-d5d3-492d-a012-63fbd02233d5"
            }
        },
        {
            "cell_type": "markdown",
            "source": [
                "Nota: La longitud de 'Cadena Larga' es mayor al límite establecido al cadenavar. Se cambió la cadena por una adecuada."
            ],
            "metadata": {
                "azdata_cell_guid": "a820c026-0516-4aaf-8d39-18fd322ee5e8"
            }
        },
        {
            "cell_type": "markdown",
            "source": [
                "¿Cuanto espacio de almacenamiento usa cada dato?\r\n",
                "\r\n",
                ""
            ],
            "metadata": {
                "azdata_cell_guid": "1c4421ea-9394-485d-96dd-6a566b3d53e8"
            }
        },
        {
            "cell_type": "code",
            "source": [
                "SELECT len(cadena) as 'Longitud de cadena', DATALENGTH(cadena) as 'Espacio usado por cadena', \n",
                "       len(cadenavar) as 'Longitud de cadenavar', DATALENGTH(cadenavar) as 'Espacio usado por cadenavar'\n",
                "    from T2"
            ],
            "metadata": {
                "azdata_cell_guid": "9b54cbd0-4faf-4cdd-82a6-608892c4c3e0"
            },
            "outputs": [
                {
                    "output_type": "display_data",
                    "data": {
                        "text/html": "(2 rows affected)"
                    },
                    "metadata": {}
                },
                {
                    "output_type": "display_data",
                    "data": {
                        "text/html": "Total execution time: 00:00:00.123"
                    },
                    "metadata": {}
                },
                {
                    "output_type": "execute_result",
                    "metadata": {},
                    "execution_count": 6,
                    "data": {
                        "application/vnd.dataresource+json": {
                            "schema": {
                                "fields": [
                                    {
                                        "name": "Longitud de cadena"
                                    },
                                    {
                                        "name": "Espacio usado por cadena"
                                    },
                                    {
                                        "name": "Longitud de cadenavar"
                                    },
                                    {
                                        "name": "Espacio usado por cadenavar"
                                    }
                                ]
                            },
                            "data": [
                                {
                                    "0": "5",
                                    "1": "10",
                                    "2": "5",
                                    "3": "5"
                                },
                                {
                                    "0": "8",
                                    "1": "10",
                                    "2": "8",
                                    "3": "8"
                                }
                            ]
                        },
                        "text/html": "<table><tr><th>Longitud de cadena</th><th>Espacio usado por cadena</th><th>Longitud de cadenavar</th><th>Espacio usado por cadenavar</th></tr><tr><td>5</td><td>10</td><td>5</td><td>5</td></tr><tr><td>8</td><td>10</td><td>8</td><td>8</td></tr></table>"
                    }
                }
            ],
            "execution_count": 6
        },
        {
            "cell_type": "markdown",
            "source": [
                "# REAL\n",
                "\n",
                "Usemos ahora el tipo de dato `REAL`. Cree una tabla `T3` con una columna `precio` de tipo `REAL`. Agregue 10 filas con el valor 0.1"
            ],
            "metadata": {
                "azdata_cell_guid": "37a186cc-4885-42ba-a635-73d2bd1d1709"
            }
        },
        {
            "cell_type": "code",
            "source": [
                "-- Crear la tabla\n",
                "CREATE TABLE T3 (\n",
                "    precio REAL\n",
                ")\n",
                "INSERT INTO T3 VALUES (0.1),(0.1),(0.1),(0.1),(0.1),(0.1),(0.1),(0.1),(0.1),(0.1)\n",
                "select sum(precio) from T3\n",
                ""
            ],
            "metadata": {
                "azdata_cell_guid": "9e8e624d-7126-4349-9220-0d75aed2c93b"
            },
            "outputs": [
                {
                    "output_type": "display_data",
                    "data": {
                        "text/html": "(10 rows affected)"
                    },
                    "metadata": {}
                },
                {
                    "output_type": "display_data",
                    "data": {
                        "text/html": "(1 row affected)"
                    },
                    "metadata": {}
                },
                {
                    "output_type": "display_data",
                    "data": {
                        "text/html": "Total execution time: 00:00:00.070"
                    },
                    "metadata": {}
                },
                {
                    "output_type": "execute_result",
                    "execution_count": 13,
                    "data": {
                        "application/vnd.dataresource+json": {
                            "schema": {
                                "fields": [
                                    {
                                        "name": "(No column name)"
                                    }
                                ]
                            },
                            "data": [
                                {
                                    "0": "1.00000001490116"
                                }
                            ]
                        },
                        "text/html": "<table><tr><th>(No column name)</th></tr><tr><td>1.00000001490116</td></tr></table>"
                    },
                    "metadata": {}
                }
            ],
            "execution_count": 13
        },
        {
            "cell_type": "markdown",
            "source": [
                "**¿Que resultado se obtiene si sumamos los valores de la columna precio?:**\n",
                "1.00000001490116\n",
                "\n",
                "***\n",
                "**Por que?:** \n",
                "El tipo de dato REAL maneja una base binaria, por lo cual no hay exactitud en cuanto a resultados enteros.\n",
                "***"
            ],
            "metadata": {
                "azdata_cell_guid": "69158445-3b4a-4f70-92d2-ca88406907b9"
            }
        },
        {
            "cell_type": "markdown",
            "source": [
                "# Moneda (Numeric) #\n",
                "\n",
                "Cree una tabla `T4` con una columna `precio` de tipo `numeric(10,4)`. Agregue 10 filas con el valor 0.1"
            ],
            "metadata": {
                "azdata_cell_guid": "a418172d-4213-4ee3-8565-4d04f7e3f3a1"
            }
        },
        {
            "cell_type": "code",
            "source": [
                "-- Crear la tabla\n",
                "CREATE TABLE T4(\n",
                "    precio NUMERIC(10,4)\n",
                ")\n",
                "INSERT INTO T4 VALUES(0.1),(0.1),(0.1),(0.1),(0.1),(0.1),(0.1),(0.1),(0.1),(0.1)\n",
                "\n",
                "select sum(precio) from T4\n",
                ""
            ],
            "metadata": {
                "azdata_cell_guid": "0c4c14cf-6cc6-442c-8e72-758430ade5b6"
            },
            "outputs": [
                {
                    "output_type": "display_data",
                    "data": {
                        "text/html": "(10 rows affected)"
                    },
                    "metadata": {}
                },
                {
                    "output_type": "display_data",
                    "data": {
                        "text/html": "(1 row affected)"
                    },
                    "metadata": {}
                },
                {
                    "output_type": "display_data",
                    "data": {
                        "text/html": "Total execution time: 00:00:00.240"
                    },
                    "metadata": {}
                },
                {
                    "output_type": "execute_result",
                    "metadata": {},
                    "execution_count": 2,
                    "data": {
                        "application/vnd.dataresource+json": {
                            "schema": {
                                "fields": [
                                    {
                                        "name": "(No column name)"
                                    }
                                ]
                            },
                            "data": [
                                {
                                    "0": "1.0000"
                                }
                            ]
                        },
                        "text/html": "<table><tr><th>(No column name)</th></tr><tr><td>1.0000</td></tr></table>"
                    }
                }
            ],
            "execution_count": 2
        },
        {
            "cell_type": "markdown",
            "source": [
                "**¿Que resultado se obtiene ahora si sumamos los valores de la columna precio?:**\n",
                "1.0000\n",
                "\n",
                "***\n",
                "**Por que?:** \n",
                "Por el contrario del valor REAL, este no maneja una base binaria para ser utilizado, pero si es importante manejarlo especialmente, ya que se definen ciertos formatos. En este caso solo se aceptarán valores numericos que tengan máximo 10 carácteres que representen enteros y 4 carácteres que representen los decimales.\n",
                "***"
            ],
            "metadata": {
                "azdata_cell_guid": "c9021a17-e9d9-4a06-9c51-ffee5130b556"
            }
        }
    ]
}