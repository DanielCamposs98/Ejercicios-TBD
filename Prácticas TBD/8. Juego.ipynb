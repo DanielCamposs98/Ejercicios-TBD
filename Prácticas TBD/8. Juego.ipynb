{
    "metadata": {
        "kernelspec": {
            "name": "SQL",
            "display_name": "SQL",
            "language": "sql"
        },
        "language_info": {
            "name": "sql",
            "version": ""
        }
    },
    "nbformat_minor": 2,
    "nbformat": 4,
    "cells": [
        {
            "cell_type": "markdown",
            "source": [
                "# Jugando #\n",
                "\n",
                "Determine en donde pasará San Valentín los empleados de Northwind"
            ],
            "metadata": {
                "azdata_cell_guid": "fc61e9e7-8135-44f9-adcf-41b047f69d03"
            }
        },
        {
            "cell_type": "code",
            "source": [
                "use northwind\n",
                "DECLARE @mesactividad \n",
                "    as TABLE ( \n",
                "        mes int, \n",
                "        actividad varchar(40) \n",
                "        )\n",
                "\n",
                "DECLARE @inicialpersona \n",
                "    as TABLE ( \n",
                "        inicial CHAR(1), \n",
                "        persona varchar(40) \n",
                "        )\n",
                "\n",
                "INSERT INTO  @mesactividad\n",
                "    VALUES\n",
                "        (1, 'Jugando maincra con'),\n",
                "        (2, 'Explorando el Amazonas con'),\n",
                "        (3, 'Bañando los perros de'),\n",
                "        (4, 'Perseguido por'),\n",
                "        (5, 'En la cárcel por matar a'),\n",
                "        (6, 'Pintando la casa de'),\n",
                "        (7, 'Contando chistes con'),\n",
                "        (8, 'Enseñando Java a'),\n",
                "        (9, 'En un yate con'),\n",
                "        (10, 'En el hospital cuidando a'), \n",
                "        (11, 'Comiendo con'),\n",
                "        (12, 'Platicando con')\n",
                "\n",
                "insert into @inicialpersona\n",
                "    VALUES\n",
                "        ('a', 'CR7'),\n",
                "        ('b', 'Shakira'),\n",
                "        ('c', 'AuronPlay'),\n",
                "        ('d', 'Scarlett Johanson'),\n",
                "        ('e', 'Jessica Jones'),\n",
                "        ('f', 'Lagertha'),\n",
                "        ('g', 'Yuya'), \n",
                "        ('h', 'Sheldon Cooper'),\n",
                "        ('i', 'Michael Jordan'),\n",
                "        ('j', 'Carlos Slim'),\n",
                "        ('k', 'Donald Trump'),\n",
                "        ('l', 'Neil deGrasse Tyson'),\n",
                "        ('m', 'Indiana Jones'),\n",
                "        ('n', 'Javier Santaolalla'), \n",
                "        ('o', 'Henry Cavill'), \n",
                "        ('p', 'Beyoncé'),\n",
                "        ('q', 'Vinton Cerf'),\n",
                "        ('r', 'Robert Downey Jr.'),\n",
                "        ('s', 'Hulk'),\n",
                "        ('t', 'la india Yuriria'),\n",
                "        ('u', 'Bárbara de Regil'),\n",
                "        ('v', 'Tokio'),\n",
                "        ('w', 'Barney Stinson'),\n",
                "        ('x', 'Chumel Torres'),\n",
                "        ('y', 'Tulio Treviño'),\n",
                "        ('z', 'Goku')\n",
                "\n",
                "SELECT CONCAT(lastname,' ',(SELECT actividad FROM @mesactividad WHERE MONTH(em.BirthDate)=mes),' ',(SELECT persona FROM @inicialpersona WHERE LEFT(em.lastname,1)=inicial)) as [Actividad de San Valentín] FROM Employees as em\n",
                ""
            ],
            "metadata": {
                "azdata_cell_guid": "d6325ad3-1fe2-4dbf-8787-638b438d52c1"
            },
            "outputs": [
                {
                    "output_type": "display_data",
                    "data": {
                        "text/html": "(12 rows affected)"
                    },
                    "metadata": {}
                },
                {
                    "output_type": "display_data",
                    "data": {
                        "text/html": "(26 rows affected)"
                    },
                    "metadata": {}
                },
                {
                    "output_type": "display_data",
                    "data": {
                        "text/html": "(9 rows affected)"
                    },
                    "metadata": {}
                },
                {
                    "output_type": "display_data",
                    "data": {
                        "text/html": "Total execution time: 00:00:01.497"
                    },
                    "metadata": {}
                },
                {
                    "output_type": "execute_result",
                    "metadata": {},
                    "execution_count": 1,
                    "data": {
                        "application/vnd.dataresource+json": {
                            "schema": {
                                "fields": [
                                    {
                                        "name": "Actividad de San Valentín"
                                    }
                                ]
                            },
                            "data": [
                                {
                                    "0": "Davolio Platicando con Scarlett Johanson"
                                },
                                {
                                    "0": "Fuller Explorando el Amazonas con Lagertha"
                                },
                                {
                                    "0": "Leverling Enseñando Java a Neil deGrasse Tyson"
                                },
                                {
                                    "0": "Peacock En un yate con Beyoncé"
                                },
                                {
                                    "0": "Buchanan Bañando los perros de Shakira"
                                },
                                {
                                    "0": "Suyama Contando chistes con Hulk"
                                },
                                {
                                    "0": "King En la cárcel por matar a Donald Trump"
                                },
                                {
                                    "0": "Callahan Jugando maincra con AuronPlay"
                                },
                                {
                                    "0": "Dodsworth Jugando maincra con Scarlett Johanson"
                                }
                            ]
                        },
                        "text/html": "<table><tr><th>Actividad de San Valentín</th></tr><tr><td>Davolio Platicando con Scarlett Johanson</td></tr><tr><td>Fuller Explorando el Amazonas con Lagertha</td></tr><tr><td>Leverling Enseñando Java a Neil deGrasse Tyson</td></tr><tr><td>Peacock En un yate con Beyoncé</td></tr><tr><td>Buchanan Bañando los perros de Shakira</td></tr><tr><td>Suyama Contando chistes con Hulk</td></tr><tr><td>King En la cárcel por matar a Donald Trump</td></tr><tr><td>Callahan Jugando maincra con AuronPlay</td></tr><tr><td>Dodsworth Jugando maincra con Scarlett Johanson</td></tr></table>"
                    }
                }
            ],
            "execution_count": 1
        },
        {
            "cell_type": "code",
            "source": [
                "SELECT lastname, BirthDate, left(LastName,1) as Inicial,MONTH(BirthDate) as Mes FROM Employees"
            ],
            "metadata": {
                "azdata_cell_guid": "324d9804-b5d3-4933-9f51-75c2821a3146"
            },
            "outputs": [
                {
                    "output_type": "display_data",
                    "data": {
                        "text/html": "(9 rows affected)"
                    },
                    "metadata": {}
                },
                {
                    "output_type": "display_data",
                    "data": {
                        "text/html": "Total execution time: 00:00:00.049"
                    },
                    "metadata": {}
                },
                {
                    "output_type": "execute_result",
                    "execution_count": 15,
                    "data": {
                        "application/vnd.dataresource+json": {
                            "schema": {
                                "fields": [
                                    {
                                        "name": "lastname"
                                    },
                                    {
                                        "name": "BirthDate"
                                    },
                                    {
                                        "name": "Inicial"
                                    },
                                    {
                                        "name": "Mes"
                                    }
                                ]
                            },
                            "data": [
                                {
                                    "0": "Davolio",
                                    "1": "1948-12-08 00:00:00.000",
                                    "2": "D",
                                    "3": "12"
                                },
                                {
                                    "0": "Fuller",
                                    "1": "1952-02-19 00:00:00.000",
                                    "2": "F",
                                    "3": "2"
                                },
                                {
                                    "0": "Leverling",
                                    "1": "1963-08-30 00:00:00.000",
                                    "2": "L",
                                    "3": "8"
                                },
                                {
                                    "0": "Peacock",
                                    "1": "1937-09-19 00:00:00.000",
                                    "2": "P",
                                    "3": "9"
                                },
                                {
                                    "0": "Buchanan",
                                    "1": "1955-03-04 00:00:00.000",
                                    "2": "B",
                                    "3": "3"
                                },
                                {
                                    "0": "Suyama",
                                    "1": "1963-07-02 00:00:00.000",
                                    "2": "S",
                                    "3": "7"
                                },
                                {
                                    "0": "King",
                                    "1": "1960-05-29 00:00:00.000",
                                    "2": "K",
                                    "3": "5"
                                },
                                {
                                    "0": "Callahan",
                                    "1": "1958-01-09 00:00:00.000",
                                    "2": "C",
                                    "3": "1"
                                },
                                {
                                    "0": "Dodsworth",
                                    "1": "1966-01-27 00:00:00.000",
                                    "2": "D",
                                    "3": "1"
                                }
                            ]
                        },
                        "text/html": "<table><tr><th>lastname</th><th>BirthDate</th><th>Inicial</th><th>Mes</th></tr><tr><td>Davolio</td><td>1948-12-08 00:00:00.000</td><td>D</td><td>12</td></tr><tr><td>Fuller</td><td>1952-02-19 00:00:00.000</td><td>F</td><td>2</td></tr><tr><td>Leverling</td><td>1963-08-30 00:00:00.000</td><td>L</td><td>8</td></tr><tr><td>Peacock</td><td>1937-09-19 00:00:00.000</td><td>P</td><td>9</td></tr><tr><td>Buchanan</td><td>1955-03-04 00:00:00.000</td><td>B</td><td>3</td></tr><tr><td>Suyama</td><td>1963-07-02 00:00:00.000</td><td>S</td><td>7</td></tr><tr><td>King</td><td>1960-05-29 00:00:00.000</td><td>K</td><td>5</td></tr><tr><td>Callahan</td><td>1958-01-09 00:00:00.000</td><td>C</td><td>1</td></tr><tr><td>Dodsworth</td><td>1966-01-27 00:00:00.000</td><td>D</td><td>1</td></tr></table>"
                    },
                    "metadata": {}
                }
            ],
            "execution_count": 15
        },
        {
            "cell_type": "code",
            "source": [
                "\r\n",
                ""
            ],
            "metadata": {
                "azdata_cell_guid": "0e8e6fa0-553d-4d94-87b2-97318e85d282",
                "tags": []
            },
            "outputs": [
                {
                    "output_type": "error",
                    "ename": "",
                    "evalue": "Msg 102, Level 15, State 1, Line 2\r\nIncorrect syntax near '@inicialPersona'.",
                    "traceback": []
                },
                {
                    "output_type": "display_data",
                    "data": {
                        "text/html": "Total execution time: 00:00:00.034"
                    },
                    "metadata": {}
                }
            ],
            "execution_count": 13
        }
    ]
}