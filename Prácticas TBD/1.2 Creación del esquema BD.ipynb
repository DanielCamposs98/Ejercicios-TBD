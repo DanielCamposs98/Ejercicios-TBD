{
    "metadata": {
        "kernelspec": {
            "name": "SQL",
            "display_name": "SQL",
            "language": "sql"
        },
        "language_info": {
            "name": "sql",
            "version": ""
        }
    },
    "nbformat_minor": 2,
    "nbformat": 4,
    "cells": [
        {
            "cell_type": "markdown",
            "source": [
                "Para crear la base de datos usaremos la sentencia CREATE DATABASE con la sintaxis básica. \n",
                "\n",
                "CREATE DATABASE database_name\n",
                ""
            ],
            "metadata": {
                "azdata_cell_guid": "0d8dadee-1624-473c-a8e7-6989bdce5579"
            }
        },
        {
            "cell_type": "code",
            "source": [
                "IF NOT EXISTS \n",
                "   (\n",
                "     SELECT name FROM master.dbo.sysdatabases \n",
                "     WHERE name = 'Jafvon'\n",
                "    )\n",
                "CREATE DATABASE Jafvon\n",
                ""
            ],
            "metadata": {
                "azdata_cell_guid": "04a8af20-4031-4cc9-aae3-6e1d7374d358"
            },
            "outputs": [
                {
                    "output_type": "display_data",
                    "data": {
                        "text/html": "Commands completed successfully."
                    },
                    "metadata": {}
                },
                {
                    "output_type": "display_data",
                    "data": {
                        "text/html": "Total execution time: 00:00:02.105"
                    },
                    "metadata": {}
                }
            ],
            "execution_count": 1
        },
        {
            "cell_type": "markdown",
            "source": [
                "Antes de poder crear las tablas necesitamos seleccionar la base de datos que acabamos de crear. Para esto usamos la sentencia USE"
            ],
            "metadata": {
                "azdata_cell_guid": "e891ac95-a43b-4c65-a266-b87000292556"
            }
        },
        {
            "cell_type": "code",
            "source": [
                "USE  Jafvon"
            ],
            "metadata": {
                "azdata_cell_guid": "3a5db9b8-d236-4097-8ac1-c02754da8cdb"
            },
            "outputs": [
                {
                    "output_type": "display_data",
                    "data": {
                        "text/html": "Commands completed successfully."
                    },
                    "metadata": {}
                },
                {
                    "output_type": "display_data",
                    "data": {
                        "text/html": "Total execution time: 00:00:00.368"
                    },
                    "metadata": {}
                }
            ],
            "execution_count": 2
        },
        {
            "cell_type": "markdown",
            "source": [
                "Para crear las tablas usaremos la sentencia CREATE TABLE. Vamos a crear la tabla de productos"
            ],
            "metadata": {
                "azdata_cell_guid": "c9778bf3-fb0d-4db0-9b93-f57afac3d2f9"
            }
        },
        {
            "cell_type": "code",
            "source": [
                "CREATE TABLE productos\n",
                "(\n",
                "    clave int, \n",
                "    nombre NVARCHAR(50),\n",
                "    descripcion NVARCHAR (255),\n",
                "    precioPublico numeric(10,3),\n",
                "    precioDistribuidor numeric(10,3),\n",
                "    costo numeric(10,3),\n",
                ")"
            ],
            "metadata": {
                "azdata_cell_guid": "46640b86-010d-46f1-97e4-b269c0f04ad7"
            },
            "outputs": [
                {
                    "output_type": "display_data",
                    "data": {
                        "text/html": "Commands completed successfully."
                    },
                    "metadata": {}
                },
                {
                    "output_type": "display_data",
                    "data": {
                        "text/html": "Total execution time: 00:00:00.137"
                    },
                    "metadata": {}
                }
            ],
            "execution_count": 3
        },
        {
            "cell_type": "markdown",
            "source": [
                "Complete el código para crear la tabla categorías con una columna para la clave entera, "
            ],
            "metadata": {
                "azdata_cell_guid": "32430e53-1b22-4b04-b52f-200cb5bc1392"
            }
        },
        {
            "cell_type": "code",
            "source": [
                "CREATE TABLE categorias\n",
                "(\n",
                "    clave int, \n",
                "    nombre varchar(255)  \n",
                ")"
            ],
            "metadata": {
                "azdata_cell_guid": "090e09d2-44f8-4e14-a37a-8237f564c9d3"
            },
            "outputs": [
                {
                    "output_type": "display_data",
                    "data": {
                        "text/html": "Commands completed successfully."
                    },
                    "metadata": {}
                },
                {
                    "output_type": "display_data",
                    "data": {
                        "text/html": "Total execution time: 00:00:00.044"
                    },
                    "metadata": {}
                }
            ],
            "execution_count": 4
        },
        {
            "cell_type": "markdown",
            "source": [
                "Para agregar filas a la tabla usemos la sentencia INSERT, especificando el nombre de las columnas y los valores para ellas"
            ],
            "metadata": {
                "azdata_cell_guid": "55993bf2-c4fe-4920-9908-a33d8416f51f"
            }
        },
        {
            "cell_type": "code",
            "source": [
                "INSERT productos (clave, nombre, descripcion, precioPublico, precioDistribuidor, costo)\n",
                "    VALUES ( 1, 'New Skin', 'Jabón Exfoliante',  99.95, 67.45, 45.15)\n",
                ""
            ],
            "metadata": {
                "azdata_cell_guid": "1c590ca4-4ca2-4d03-a1b7-470b21bd2dce"
            },
            "outputs": [
                {
                    "output_type": "display_data",
                    "data": {
                        "text/html": "(1 row affected)"
                    },
                    "metadata": {}
                },
                {
                    "output_type": "display_data",
                    "data": {
                        "text/html": "Total execution time: 00:00:00.042"
                    },
                    "metadata": {}
                }
            ],
            "execution_count": 5
        },
        {
            "cell_type": "markdown",
            "source": [
                "Podemos verificar que la fila ha sido insertada con la sentencia SELECT"
            ],
            "metadata": {
                "azdata_cell_guid": "075fc2cd-01b1-4773-82c2-d3581b9350ac"
            }
        },
        {
            "cell_type": "code",
            "source": [
                "SELECT * from productos"
            ],
            "metadata": {
                "azdata_cell_guid": "15eb57b3-3fc3-4b60-a300-bf33b051d732"
            },
            "outputs": [
                {
                    "output_type": "display_data",
                    "data": {
                        "text/html": "(1 row affected)"
                    },
                    "metadata": {}
                },
                {
                    "output_type": "display_data",
                    "data": {
                        "text/html": "Total execution time: 00:00:00.137"
                    },
                    "metadata": {}
                },
                {
                    "output_type": "execute_result",
                    "metadata": {},
                    "execution_count": 6,
                    "data": {
                        "application/vnd.dataresource+json": {
                            "schema": {
                                "fields": [
                                    {
                                        "name": "clave"
                                    },
                                    {
                                        "name": "nombre"
                                    },
                                    {
                                        "name": "descripcion"
                                    },
                                    {
                                        "name": "precioPublico"
                                    },
                                    {
                                        "name": "precioDistribuidor"
                                    },
                                    {
                                        "name": "costo"
                                    }
                                ]
                            },
                            "data": [
                                {
                                    "0": "1",
                                    "1": "New Skin",
                                    "2": "Jabón Exfoliante",
                                    "3": "99.950",
                                    "4": "67.450",
                                    "5": "45.150"
                                }
                            ]
                        },
                        "text/html": "<table><tr><th>clave</th><th>nombre</th><th>descripcion</th><th>precioPublico</th><th>precioDistribuidor</th><th>costo</th></tr><tr><td>1</td><td>New Skin</td><td>Jabón Exfoliante</td><td>99.950</td><td>67.450</td><td>45.150</td></tr></table>"
                    }
                }
            ],
            "execution_count": 6
        },
        {
            "cell_type": "markdown",
            "source": [
                "Podemos agregar varias filas a la vez al proveer varios conjuntos de valores a la cláusula VALUES separándolos por comas"
            ],
            "metadata": {
                "azdata_cell_guid": "a3589e49-eb1a-4b42-bfad-cf24d663bf7e"
            }
        },
        {
            "cell_type": "code",
            "source": [
                "INSERT productos (clave, nombre, descripcion, precioPublico, precioDistribuidor, costo)\n",
                "    VALUES ( 2, 'White & Shining', 'Pasta dental que limpia, blanquea y protege tus dientes',  89.75, 47.87, 35.75),\n",
                "           ( 3, 'Camisa Winnie Pooh', 'CamisaWinnie Pooh', 155.99, 130.20, 100.00)\n",
                "\n",
                ""
            ],
            "metadata": {
                "azdata_cell_guid": "e4eda69b-075f-4dcc-9ff4-66dcc3e2aca4"
            },
            "outputs": [
                {
                    "output_type": "display_data",
                    "data": {
                        "text/html": "(2 rows affected)"
                    },
                    "metadata": {}
                },
                {
                    "output_type": "display_data",
                    "data": {
                        "text/html": "Total execution time: 00:00:00.041"
                    },
                    "metadata": {}
                }
            ],
            "execution_count": 7
        },
        {
            "cell_type": "markdown",
            "source": [
                "Verificamos que se agregaron 2 nuevas filas"
            ],
            "metadata": {
                "azdata_cell_guid": "85a4b4f6-4434-4fbc-936f-c997a1799119"
            }
        },
        {
            "cell_type": "code",
            "source": [
                "SELECT * from productos"
            ],
            "metadata": {
                "azdata_cell_guid": "6017f9c8-50f8-4870-bd64-ea1cfaf89c77"
            },
            "outputs": [
                {
                    "output_type": "display_data",
                    "data": {
                        "text/html": "(3 rows affected)"
                    },
                    "metadata": {}
                },
                {
                    "output_type": "display_data",
                    "data": {
                        "text/html": "Total execution time: 00:00:00.073"
                    },
                    "metadata": {}
                },
                {
                    "output_type": "execute_result",
                    "metadata": {},
                    "execution_count": 8,
                    "data": {
                        "application/vnd.dataresource+json": {
                            "schema": {
                                "fields": [
                                    {
                                        "name": "clave"
                                    },
                                    {
                                        "name": "nombre"
                                    },
                                    {
                                        "name": "descripcion"
                                    },
                                    {
                                        "name": "precioPublico"
                                    },
                                    {
                                        "name": "precioDistribuidor"
                                    },
                                    {
                                        "name": "costo"
                                    }
                                ]
                            },
                            "data": [
                                {
                                    "0": "1",
                                    "1": "New Skin",
                                    "2": "Jabón Exfoliante",
                                    "3": "99.950",
                                    "4": "67.450",
                                    "5": "45.150"
                                },
                                {
                                    "0": "2",
                                    "1": "White & Shining",
                                    "2": "Pasta dental que limpia, blanquea y protege tus dientes",
                                    "3": "89.750",
                                    "4": "47.870",
                                    "5": "35.750"
                                },
                                {
                                    "0": "3",
                                    "1": "Camisa Winnie Pooh",
                                    "2": "CamisaWinnie Pooh",
                                    "3": "155.990",
                                    "4": "130.200",
                                    "5": "100.000"
                                }
                            ]
                        },
                        "text/html": "<table><tr><th>clave</th><th>nombre</th><th>descripcion</th><th>precioPublico</th><th>precioDistribuidor</th><th>costo</th></tr><tr><td>1</td><td>New Skin</td><td>Jabón Exfoliante</td><td>99.950</td><td>67.450</td><td>45.150</td></tr><tr><td>2</td><td>White &amp; Shining</td><td>Pasta dental que limpia, blanquea y protege tus dientes</td><td>89.750</td><td>47.870</td><td>35.750</td></tr><tr><td>3</td><td>Camisa Winnie Pooh</td><td>CamisaWinnie Pooh</td><td>155.990</td><td>130.200</td><td>100.000</td></tr></table>"
                    }
                }
            ],
            "execution_count": 8
        },
        {
            "cell_type": "markdown",
            "source": [
                "Podemos eliminar filas con la sentencia DELETE, en la cláusula WHERE especificamos cuales eliminar"
            ],
            "metadata": {
                "azdata_cell_guid": "4f657965-0fe7-4f8b-b081-0f805fd56bc4"
            }
        },
        {
            "cell_type": "code",
            "source": [
                "DELETE productos\n",
                "    WHERE clave = 2"
            ],
            "metadata": {
                "azdata_cell_guid": "bd90a4c1-c74b-43b1-a5c3-a2088128f188"
            },
            "outputs": [
                {
                    "output_type": "display_data",
                    "data": {
                        "text/html": "(1 row affected)"
                    },
                    "metadata": {}
                },
                {
                    "output_type": "display_data",
                    "data": {
                        "text/html": "Total execution time: 00:00:00.103"
                    },
                    "metadata": {}
                }
            ],
            "execution_count": 9
        },
        {
            "cell_type": "markdown",
            "source": [
                "¿Que sucede si no incluyo la cláusula WHERE?"
            ],
            "metadata": {
                "azdata_cell_guid": "a20e229a-6f12-4a67-997a-e7f0786b9570"
            }
        },
        {
            "cell_type": "code",
            "source": [
                "DELETE productos"
            ],
            "metadata": {
                "azdata_cell_guid": "1ea90596-b364-4064-9e6a-38966d54fa14"
            },
            "outputs": [
                {
                    "output_type": "display_data",
                    "data": {
                        "text/html": "(2 rows affected)"
                    },
                    "metadata": {}
                },
                {
                    "output_type": "display_data",
                    "data": {
                        "text/html": "Total execution time: 00:00:00.038"
                    },
                    "metadata": {}
                }
            ],
            "execution_count": 10
        },
        {
            "cell_type": "code",
            "source": [
                "SELECT * FROM productos"
            ],
            "metadata": {
                "azdata_cell_guid": "3ec47fbe-c2cb-4f70-b0a0-f29f2483efa2"
            },
            "outputs": [
                {
                    "output_type": "display_data",
                    "data": {
                        "text/html": "(0 rows affected)"
                    },
                    "metadata": {}
                },
                {
                    "output_type": "display_data",
                    "data": {
                        "text/html": "Total execution time: 00:00:00.075"
                    },
                    "metadata": {}
                },
                {
                    "output_type": "execute_result",
                    "metadata": {},
                    "execution_count": 11,
                    "data": {
                        "application/vnd.dataresource+json": {
                            "schema": {
                                "fields": [
                                    {
                                        "name": "clave"
                                    },
                                    {
                                        "name": "nombre"
                                    },
                                    {
                                        "name": "descripcion"
                                    },
                                    {
                                        "name": "precioPublico"
                                    },
                                    {
                                        "name": "precioDistribuidor"
                                    },
                                    {
                                        "name": "costo"
                                    }
                                ]
                            },
                            "data": []
                        },
                        "text/html": "<table><tr><th>clave</th><th>nombre</th><th>descripcion</th><th>precioPublico</th><th>precioDistribuidor</th><th>costo</th></tr></table>"
                    }
                }
            ],
            "execution_count": 11
        },
        {
            "cell_type": "markdown",
            "source": [
                "Respuesta: Se eliminarán todos los registros que había en la table productos."
            ],
            "metadata": {
                "azdata_cell_guid": "dc352a3b-488d-427f-9756-36000cf1766f"
            }
        }
    ]
}