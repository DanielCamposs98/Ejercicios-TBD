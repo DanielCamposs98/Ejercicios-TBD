{
    "metadata": {
        "kernelspec": {
            "name": "SQL",
            "display_name": "SQL",
            "language": "sql"
        },
        "language_info": {
            "name": "sql",
            "version": ""
        }
    },
    "nbformat_minor": 2,
    "nbformat": 4,
    "cells": [
        {
            "cell_type": "markdown",
            "source": [
                "# Vistas #\n",
                "\n",
                "## ¿Qué es una vista? ##\n",
                "\n",
                "Es una tabla virtual basada en el resultado de una sentencia SQL. Contiene filas y columnas como una tabla real, las columnas de una vista son columnas de una o mas tablas reales en la base de datos. Puedes agregar funciones, expresiones, cláusulas WHERE y JOIN a una vista y presentar los datos como si vinieran de una sola tabla.\n",
                "Visto de otra forma, es una instrucción SELECT con nombre que produce dinámicamente un conjunto de resultados sobre los que se puede seguir operando. Realmente no guarda datos, a menos que sea una vista indexada (materializada).\n",
                ""
            ],
            "metadata": {
                "azdata_cell_guid": "639a1b21-60f5-4b61-ba50-4d41ac20b6b4"
            }
        },
        {
            "cell_type": "code",
            "source": [
                "use Northwind;\n",
                "go \n",
                "\n",
                " \n",
                "CREATE VIEW EmpleadosCiudades\n",
                "    AS\n",
                "    Select \n",
                "     Concat(Lastname, ', ', Firstname) AS Empleado,  \n",
                "     City as Ciudad\n",
                "     FROM employees\n",
                "\n",
                "GO\n",
                "\n",
                "SELECT * from EmpleadosCiudades\n",
                ""
            ],
            "metadata": {
                "azdata_cell_guid": "a89c2773-318d-4e0b-aacd-c63d7e592a08",
                "tags": []
            },
            "outputs": [
                {
                    "output_type": "display_data",
                    "data": {
                        "text/html": "Commands completed successfully."
                    },
                    "metadata": {}
                },
                {
                    "output_type": "display_data",
                    "data": {
                        "text/html": "Commands completed successfully."
                    },
                    "metadata": {}
                },
                {
                    "output_type": "display_data",
                    "data": {
                        "text/html": "(9 rows affected)"
                    },
                    "metadata": {}
                },
                {
                    "output_type": "display_data",
                    "data": {
                        "text/html": "Total execution time: 00:00:02.977"
                    },
                    "metadata": {}
                },
                {
                    "output_type": "execute_result",
                    "metadata": {},
                    "execution_count": 1,
                    "data": {
                        "application/vnd.dataresource+json": {
                            "schema": {
                                "fields": [
                                    {
                                        "name": "Empleado"
                                    },
                                    {
                                        "name": "Ciudad"
                                    }
                                ]
                            },
                            "data": [
                                {
                                    "0": "Davolio, Nancy",
                                    "1": "Seattle"
                                },
                                {
                                    "0": "Fuller, Andrew",
                                    "1": "Tacoma"
                                },
                                {
                                    "0": "Leverling, Janet",
                                    "1": "Kirkland"
                                },
                                {
                                    "0": "Peacock, Margaret",
                                    "1": "Redmond"
                                },
                                {
                                    "0": "Buchanan, Steven",
                                    "1": "London"
                                },
                                {
                                    "0": "Suyama, Michael",
                                    "1": "London"
                                },
                                {
                                    "0": "King, Robert",
                                    "1": "London"
                                },
                                {
                                    "0": "Callahan, Laura",
                                    "1": "Seattle"
                                },
                                {
                                    "0": "Dodsworth, Anne",
                                    "1": "London"
                                }
                            ]
                        },
                        "text/html": "<table><tr><th>Empleado</th><th>Ciudad</th></tr><tr><td>Davolio, Nancy</td><td>Seattle</td></tr><tr><td>Fuller, Andrew</td><td>Tacoma</td></tr><tr><td>Leverling, Janet</td><td>Kirkland</td></tr><tr><td>Peacock, Margaret</td><td>Redmond</td></tr><tr><td>Buchanan, Steven</td><td>London</td></tr><tr><td>Suyama, Michael</td><td>London</td></tr><tr><td>King, Robert</td><td>London</td></tr><tr><td>Callahan, Laura</td><td>Seattle</td></tr><tr><td>Dodsworth, Anne</td><td>London</td></tr></table>"
                    }
                }
            ],
            "execution_count": 1
        },
        {
            "cell_type": "markdown",
            "source": [
                "\n",
                "## Ejemplos típicos de vistas ##\n",
                "### a) Un subconjunto de renglones o columnas de una tabla base ###\n",
                ""
            ],
            "metadata": {
                "azdata_cell_guid": "fc3c4ab6-b941-4211-a213-a1c2135146c2"
            }
        },
        {
            "cell_type": "code",
            "source": [
                "\n",
                "\n",
                "CREATE VIEW EmpleadosLondon\n",
                "    AS\n",
                "    Select \n",
                "     Concat(Lastname, ', ', Firstname) AS Empleado,  \n",
                "     City as Ciudad\n",
                "     FROM employees\n",
                "     WHERE City = 'London'\n",
                "\n",
                "GO\n",
                "\n",
                "\n",
                "Select * from EmpleadosLondon "
            ],
            "metadata": {
                "azdata_cell_guid": "0aab4413-a26b-4232-89ea-b193cbd48e23"
            },
            "outputs": [
                {
                    "output_type": "display_data",
                    "data": {
                        "text/html": "Commands completed successfully."
                    },
                    "metadata": {}
                },
                {
                    "output_type": "display_data",
                    "data": {
                        "text/html": "(4 rows affected)"
                    },
                    "metadata": {}
                },
                {
                    "output_type": "display_data",
                    "data": {
                        "text/html": "Total execution time: 00:00:00.121"
                    },
                    "metadata": {}
                },
                {
                    "output_type": "execute_result",
                    "metadata": {},
                    "execution_count": 2,
                    "data": {
                        "application/vnd.dataresource+json": {
                            "schema": {
                                "fields": [
                                    {
                                        "name": "Empleado"
                                    },
                                    {
                                        "name": "Ciudad"
                                    }
                                ]
                            },
                            "data": [
                                {
                                    "0": "Buchanan, Steven",
                                    "1": "London"
                                },
                                {
                                    "0": "Suyama, Michael",
                                    "1": "London"
                                },
                                {
                                    "0": "King, Robert",
                                    "1": "London"
                                },
                                {
                                    "0": "Dodsworth, Anne",
                                    "1": "London"
                                }
                            ]
                        },
                        "text/html": "<table><tr><th>Empleado</th><th>Ciudad</th></tr><tr><td>Buchanan, Steven</td><td>London</td></tr><tr><td>Suyama, Michael</td><td>London</td></tr><tr><td>King, Robert</td><td>London</td></tr><tr><td>Dodsworth, Anne</td><td>London</td></tr></table>"
                    }
                }
            ],
            "execution_count": 2
        },
        {
            "cell_type": "markdown",
            "source": [
                "### b) La Unión de dos o mas tablas base ###\n",
                ""
            ],
            "metadata": {
                "azdata_cell_guid": "d6c3ad7a-2abf-48be-83a6-3b87271d72eb"
            }
        },
        {
            "cell_type": "code",
            "source": [
                "CREATE VIEW Contactos\n",
                "AS\n",
                "    SELECT Concat(Lastname, ', ', Firstname) as Nombre, \n",
                "    HomePhone AS Teléfono, 'E' as Tipo\n",
                "    FROM Employees \n",
                "    UNION\n",
                "        SELECT ContactName, Phone, 'S' from Suppliers\n",
                "    UNION\n",
                "        SELECT ContactName, Phone, 'C' from Customers\n",
                "\n",
                "GO\n",
                "\n",
                "SELECT * FROM Contactos\n",
                ""
            ],
            "metadata": {
                "azdata_cell_guid": "91bb621f-a93e-4681-80b1-3b104f2b635a"
            },
            "outputs": [],
            "execution_count": null
        },
        {
            "cell_type": "markdown",
            "source": [
                "### c) Un join de dos o mas tablas base"
            ],
            "metadata": {
                "azdata_cell_guid": "ff3b6f70-4aa5-4818-84a4-9515dbffc0ff"
            }
        },
        {
            "cell_type": "code",
            "source": [
                "CREATE VIEW ProductCategory\n",
                "AS\n",
                "SELECT \n",
                "    ProductName as Product, \n",
                "    UnitPrice, CategoryName as Category \n",
                "    FROM Products p\n",
                "    JOIN Categories c ON c.CategoryID = p.CategoryID\n",
                "\n",
                "GO\n",
                "\n",
                "SELECT * FROM ProductCategory"
            ],
            "metadata": {
                "azdata_cell_guid": "4377020c-e670-4173-83fd-beab34841ed9"
            },
            "outputs": [],
            "execution_count": null
        },
        {
            "cell_type": "markdown",
            "source": [
                "### d) La sumatoria de los datos de una tabla base"
            ],
            "metadata": {
                "azdata_cell_guid": "2cb6acfa-4b18-4644-89b8-e18ef73beaf4"
            }
        },
        {
            "cell_type": "code",
            "source": [
                "CREATE VIEW VentasMensuales\n",
                "AS \n",
                "\n",
                "SELECT \n",
                "    Year(OrderDate) as Año, \n",
                "    Month(OrderDate) as Mes, \n",
                "    Sum( Quantity * UnitPrice * (1-Discount)) AS Ventas \n",
                "    FROM [Order Details] od\n",
                "    JOIN Orders o ON o.OrderID = od.OrderID\n",
                "    GROUP BY Year(OrderDate), Month(OrderDate) \n",
                "\n",
                "GO"
            ],
            "metadata": {
                "azdata_cell_guid": "a2b516c3-8387-499b-9e81-7a98012d2530"
            },
            "outputs": [],
            "execution_count": null
        },
        {
            "cell_type": "markdown",
            "source": [
                "## Información sobre una Vista\n",
                "\n",
                "Para obtener la definición de una vista, lo hacemos igual que para cualquier otro objeto de la base de datos, con sp_helptext"
            ],
            "metadata": {
                "azdata_cell_guid": "548caf85-6381-43ce-a081-96e61a9897da"
            }
        },
        {
            "cell_type": "code",
            "source": [
                "exec sp_helptext 'VentasMensuales'"
            ],
            "metadata": {
                "azdata_cell_guid": "bb4f674e-c518-4ff2-a8f2-b355a69049eb"
            },
            "outputs": [
                {
                    "output_type": "error",
                    "evalue": "Msg 15009, Level 16, State 1, Procedure sp_helptext, Line 54\r\nThe object 'VentasMensuales' does not exist in database 'Northwind' or is invalid for this operation.",
                    "ename": "",
                    "traceback": []
                },
                {
                    "output_type": "display_data",
                    "data": {
                        "text/html": "Total execution time: 00:00:01.489"
                    },
                    "metadata": {}
                }
            ],
            "execution_count": 3
        },
        {
            "cell_type": "code",
            "source": [
                "\n",
                "create view Cumpleaños AS\n",
                "    SELECT  \n",
                "        Format(Birthdate, 'm') as Cumpleaños, \n",
                "        Concat(Lastname, ', ', Firstname) as Empleado \n",
                "        from employees  \n",
                "go \n",
                "\n",
                "select * from Cumpleaños "
            ],
            "metadata": {
                "azdata_cell_guid": "3917280e-035d-43ee-958d-42b4002c2726"
            },
            "outputs": [],
            "execution_count": null
        },
        {
            "cell_type": "markdown",
            "source": [
                "Si no deseamos que se pueda ver el código con el cual fue creada la vista agregamos la opción WITH ENCRYPTION"
            ],
            "metadata": {
                "azdata_cell_guid": "acefde89-6210-48cd-9edf-f0f2100fd130"
            }
        },
        {
            "cell_type": "code",
            "source": [
                "DROP VIEW VentasMensuales\n",
                "go\n",
                "\n",
                "CREATE VIEW VentasMensuales\n",
                "    WITH encryption\n",
                "AS \n",
                "\n",
                "SELECT \n",
                "    Year(OrderDate) as Año, \n",
                "    Month(OrderDate) as Mes, \n",
                "    Sum( Quantity * UnitPrice * (1-Discount)) AS Ventas \n",
                "    FROM [Order Details] od\n",
                "    JOIN Orders o ON o.OrderID = od.OrderID\n",
                "    GROUP BY Year(OrderDate), Month(OrderDate) \n",
                "\n",
                "GO\n",
                "\n",
                "exec sp_helptext 'VentasMensuales'\n",
                ""
            ],
            "metadata": {
                "azdata_cell_guid": "84582320-a47f-42fe-a679-b6088e8f27a0"
            },
            "outputs": [],
            "execution_count": null
        }
    ]
}