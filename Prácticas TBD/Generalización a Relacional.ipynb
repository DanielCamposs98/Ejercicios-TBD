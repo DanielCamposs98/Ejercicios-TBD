{
    "metadata": {
        "kernelspec": {
            "name": "SQL",
            "display_name": "SQL",
            "language": "sql"
        },
        "language_info": {
            "name": "sql",
            "version": ""
        }
    },
    "nbformat_minor": 2,
    "nbformat": 4,
    "cells": [
        {
            "cell_type": "markdown",
            "source": [
                "# ER to Relational\n",
                "## Generalización/Especialización\n",
                "Sea un sistema de Control escolar donde tenemos las entidades Alumnos (Nombre, Apellidos, Telefono, Control, Preparatoria de Origen ), Docentes (Nombre, Apellidos, Titulo, Departamento Academico, Telefono), Administrativos (Nombre, Apellidos, Telefono, Puesto).\n",
                "\n",
                "Se ha decidido hacer una generalización Persona ( PersonaID, Nombre, Apellidos, Telefono), quedando las entidades anteriores como Alumnos (Control, Preparatoria de Origen ), Docentes (Titulo, Departamento Academico), Administrativos (Puesto).\n",
                "\n",
                "<img src=generalizacion.png/>\n",
                "Para crear las tablas en nuestro modelo aplicamos el paso 8 de nuestro procedimiento.\n",
                "Veamos como queda con las diferentes opciones\n",
                "\n",
                "[Prueba](generalizacion.png)"
            ],
            "metadata": {
                "azdata_cell_guid": "cb4095c5-1232-4194-9070-894b3d93d55e"
            }
        },
        {
            "cell_type": "code",
            "source": [
                "USE master\r\n",
                "IF EXISTS \r\n",
                "   (\r\n",
                "     SELECT name FROM master.dbo.sysdatabases \r\n",
                "     WHERE name = 'PruebasGeneralizacion'\r\n",
                "    )\r\n",
                "    DROP DATABASE PruebasGeneralizacion\r\n",
                "GO\r\n",
                "\r\n",
                "CREATE DATABASE PruebasGeneralizacion\r\n",
                "GO\r\n",
                "\r\n",
                "use PruebasGeneralizacion"
            ],
            "metadata": {
                "azdata_cell_guid": "a08e24a0-727f-407e-b731-46b1851a54d5"
            },
            "outputs": [
                {
                    "output_type": "display_data",
                    "data": {
                        "text/html": "Commands completed successfully."
                    },
                    "metadata": {}
                },
                {
                    "output_type": "display_data",
                    "data": {
                        "text/html": "Commands completed successfully."
                    },
                    "metadata": {}
                },
                {
                    "output_type": "display_data",
                    "data": {
                        "text/html": "Commands completed successfully."
                    },
                    "metadata": {}
                },
                {
                    "output_type": "display_data",
                    "data": {
                        "text/html": "Total execution time: 00:00:09.542"
                    },
                    "metadata": {}
                }
            ],
            "execution_count": 4
        },
        {
            "cell_type": "markdown",
            "source": [
                "# 8a: Relaciones para la clase padre y para las subclases\n",
                "\n",
                "Creamos la tabla para la clase padre `Persona8a`:"
            ],
            "metadata": {
                "azdata_cell_guid": "f42708ed-7255-45e8-a586-595342879859"
            }
        },
        {
            "cell_type": "code",
            "source": [
                "CREATE TABLE Persona8a\n",
                "(\n",
                "    PersonaID INT PRIMARY KEY, \n",
                "    Nombre NVARCHAR(60), \n",
                "    Apellidos NVARCHAR(60),\n",
                "    Telefono CHAR(15)\n",
                ")"
            ],
            "metadata": {
                "azdata_cell_guid": "da57ab31-a666-420d-b3a2-ef7e9d1545c0"
            },
            "outputs": [
                {
                    "output_type": "display_data",
                    "data": {
                        "text/html": "Commands completed successfully."
                    },
                    "metadata": {}
                },
                {
                    "output_type": "display_data",
                    "data": {
                        "text/html": "Total execution time: 00:00:00.788"
                    },
                    "metadata": {}
                }
            ],
            "execution_count": 5
        },
        {
            "cell_type": "markdown",
            "source": [
                "Se crea una tabla para cada subclase, donde la llave primaria de la clase padre será llave foránea y primaria"
            ],
            "metadata": {
                "azdata_cell_guid": "a60e4428-4d16-4c0c-a717-5054fca473e8"
            }
        },
        {
            "cell_type": "code",
            "source": [
                "CREATE TABLE Alumnos8a\n",
                "(\n",
                "    PersonaID INT FOREIGN KEY REFERENCES Persona8a(PersonaID) PRIMARY KEY,\n",
                "    Control CHAR(8),\n",
                "    PreparatoriaOrigen VARCHAR(30)\n",
                ")"
            ],
            "metadata": {
                "azdata_cell_guid": "5682f399-255e-448d-9421-52b27629e648"
            },
            "outputs": [
                {
                    "output_type": "display_data",
                    "data": {
                        "text/html": "Commands completed successfully."
                    },
                    "metadata": {}
                },
                {
                    "output_type": "display_data",
                    "data": {
                        "text/html": "Total execution time: 00:00:00.098"
                    },
                    "metadata": {}
                }
            ],
            "execution_count": 6
        },
        {
            "cell_type": "markdown",
            "source": [
                "Cuando se quiera añadir una instancia de Alumno, primero se tiene que añadir sus datos a la tabla `Persona8a` y luego a la tabla `Alumnos8a` usando el mismo `PersonaID`. Por ejemplo para *Juan Álvarez Tzul*, con numero de control *20171203* y teléfono *(667)363-2455* :"
            ],
            "metadata": {
                "azdata_cell_guid": "82ac078b-10fb-4e36-a9fe-676ac18802ff"
            }
        },
        {
            "cell_type": "code",
            "source": [
                "INSERT INTO Persona8a (PersonaID, Nombre, Apellidos, Telefono) \n",
                "    values ( 45, 'Juan', 'Álvarez Tzul', '(667)363-2455')\n",
                "INSERT INTO Alumnos8a (PersonaID, Control, PreparatoriaOrigen)\n",
                "    values ( 45, '20171203', 'Cobaes 23')"
            ],
            "metadata": {
                "azdata_cell_guid": "eb8e37fa-27c8-4e2d-87db-70bbf01defae"
            },
            "outputs": [
                {
                    "output_type": "display_data",
                    "data": {
                        "text/html": "(1 row affected)"
                    },
                    "metadata": {}
                },
                {
                    "output_type": "display_data",
                    "data": {
                        "text/html": "(1 row affected)"
                    },
                    "metadata": {}
                },
                {
                    "output_type": "display_data",
                    "data": {
                        "text/html": "Total execution time: 00:00:00.188"
                    },
                    "metadata": {}
                }
            ],
            "execution_count": 7
        },
        {
            "cell_type": "markdown",
            "source": [
                "Agregue las tablas para las subclases restantes"
            ],
            "metadata": {
                "azdata_cell_guid": "6575d432-8779-4b89-87e6-404592859e3a"
            }
        },
        {
            "cell_type": "code",
            "source": [
                "CREATE TABLE Docentes8a\n",
                "(\n",
                "   PersonaID INT FOREIGN KEY REFERENCES Persona8a(PersonaID) PRIMARY KEY,\n",
                "   Titulo VARCHAR(8),\n",
                "   Departamento Varchar(30)\n",
                ")\n",
                "\n",
                ""
            ],
            "metadata": {
                "azdata_cell_guid": "df8f2fcf-ab2e-4e2c-8fc8-5dc3fb19b30f"
            },
            "outputs": [
                {
                    "output_type": "display_data",
                    "data": {
                        "text/html": "Commands completed successfully."
                    },
                    "metadata": {}
                },
                {
                    "output_type": "display_data",
                    "data": {
                        "text/html": "Total execution time: 00:00:00.013"
                    },
                    "metadata": {}
                }
            ],
            "execution_count": 8
        },
        {
            "cell_type": "code",
            "source": [
                "CREATE TABLE Administrativos8a\n",
                "(\n",
                "    PersonaID INT FOREIGN KEY REFERENCES Persona8a(PersonaID) PRIMARY KEY,\n",
                "    Puesto VARCHAR(30)\n",
                ")"
            ],
            "metadata": {
                "azdata_cell_guid": "0398b62e-c9f7-441b-8a1f-e717ae9396b9",
                "tags": []
            },
            "outputs": [
                {
                    "output_type": "display_data",
                    "data": {
                        "text/html": "Commands completed successfully."
                    },
                    "metadata": {}
                },
                {
                    "output_type": "display_data",
                    "data": {
                        "text/html": "Total execution time: 00:00:00.014"
                    },
                    "metadata": {}
                }
            ],
            "execution_count": 9
        },
        {
            "cell_type": "markdown",
            "source": [
                "Agregue datos a las tablas: \n",
                "El I.B.Q. Fernando Pérez Jiménez, con teléfono 6671123456, adscrito a Bioquímica \n",
                "El señor Juan Izábal Mejía, con teléfono 6672345123, encargado del laboratorio de Operaciones Unitarias"
            ],
            "metadata": {
                "azdata_cell_guid": "9b3f37d4-8347-489e-a6af-133ab72ebe57"
            }
        },
        {
            "cell_type": "code",
            "source": [
                "INSERT INTO Persona8a(PersonaID, Nombre, Apellidos, Telefono) VALUES\n",
                " (1,'Fernando','Pérez Jiménez','(667)1123456'),\n",
                " (2,'Juan','Izábal Mejía','(667)2345123')"
            ],
            "metadata": {
                "azdata_cell_guid": "b018ab00-4ee5-4961-b7b5-7041c0b588cd"
            },
            "outputs": [
                {
                    "output_type": "display_data",
                    "data": {
                        "text/html": "(2 rows affected)"
                    },
                    "metadata": {}
                },
                {
                    "output_type": "display_data",
                    "data": {
                        "text/html": "Total execution time: 00:00:00.034"
                    },
                    "metadata": {}
                }
            ],
            "execution_count": 10
        },
        {
            "cell_type": "code",
            "source": [
                "INSERT INTO Docentes8a (PersonaID,Titulo,Departamento) VALUES (1,'I.B.Q','Bioquímica')\r\n",
                ""
            ],
            "metadata": {
                "azdata_cell_guid": "c906c03d-32a1-405a-915e-5d491779aee8"
            },
            "outputs": [
                {
                    "output_type": "display_data",
                    "data": {
                        "text/html": "(1 row affected)"
                    },
                    "metadata": {}
                },
                {
                    "output_type": "display_data",
                    "data": {
                        "text/html": "Total execution time: 00:00:00.011"
                    },
                    "metadata": {}
                }
            ],
            "execution_count": 11
        },
        {
            "cell_type": "code",
            "source": [
                "INSERT INTO Administrativos8a (PersonaID,Puesto) VALUES (2,'Lab.Operaciones Unitarias')"
            ],
            "metadata": {
                "azdata_cell_guid": "bec10cf9-d42b-44bd-8b72-71b46a2ebd40"
            },
            "outputs": [
                {
                    "output_type": "display_data",
                    "data": {
                        "text/html": "(1 row affected)"
                    },
                    "metadata": {}
                },
                {
                    "output_type": "display_data",
                    "data": {
                        "text/html": "Total execution time: 00:00:00.010"
                    },
                    "metadata": {}
                }
            ],
            "execution_count": 12
        },
        {
            "cell_type": "code",
            "source": [
                "SELECT * from Persona8a P INNER JOIN Alumnos8a A on P.personaID=A.personaID\r\n",
                "\r\n",
                "SELECT * from Persona8a  P INNER JOIN Docentes8a D on P.personaID=D.personaID\r\n",
                "\r\n",
                "SELECT * from Persona8a  P INNER JOIN Administrativos8a Ad on P.personaID=Ad.personaID"
            ],
            "metadata": {
                "azdata_cell_guid": "f11e8795-b8bd-4297-ba08-35ca333f12f5"
            },
            "outputs": [
                {
                    "output_type": "display_data",
                    "data": {
                        "text/html": "(1 row affected)"
                    },
                    "metadata": {}
                },
                {
                    "output_type": "display_data",
                    "data": {
                        "text/html": "(1 row affected)"
                    },
                    "metadata": {}
                },
                {
                    "output_type": "display_data",
                    "data": {
                        "text/html": "(1 row affected)"
                    },
                    "metadata": {}
                },
                {
                    "output_type": "display_data",
                    "data": {
                        "text/html": "Total execution time: 00:00:00.140"
                    },
                    "metadata": {}
                },
                {
                    "output_type": "execute_result",
                    "execution_count": 13,
                    "data": {
                        "application/vnd.dataresource+json": {
                            "schema": {
                                "fields": [
                                    {
                                        "name": "PersonaID"
                                    },
                                    {
                                        "name": "Nombre"
                                    },
                                    {
                                        "name": "Apellidos"
                                    },
                                    {
                                        "name": "Telefono"
                                    },
                                    {
                                        "name": "PersonaID"
                                    },
                                    {
                                        "name": "Control"
                                    },
                                    {
                                        "name": "PreparatoriaOrigen"
                                    }
                                ]
                            },
                            "data": [
                                {
                                    "0": "45",
                                    "1": "Juan",
                                    "2": "Álvarez Tzul",
                                    "3": "(667)363-2455  ",
                                    "4": "45",
                                    "5": "20171203",
                                    "6": "Cobaes 23"
                                }
                            ]
                        },
                        "text/html": "<table><tr><th>PersonaID</th><th>Nombre</th><th>Apellidos</th><th>Telefono</th><th>PersonaID</th><th>Control</th><th>PreparatoriaOrigen</th></tr><tr><td>45</td><td>Juan</td><td>Álvarez Tzul</td><td>(667)363-2455  </td><td>45</td><td>20171203</td><td>Cobaes 23</td></tr></table>"
                    },
                    "metadata": {}
                },
                {
                    "output_type": "execute_result",
                    "execution_count": 13,
                    "data": {
                        "application/vnd.dataresource+json": {
                            "schema": {
                                "fields": [
                                    {
                                        "name": "PersonaID"
                                    },
                                    {
                                        "name": "Nombre"
                                    },
                                    {
                                        "name": "Apellidos"
                                    },
                                    {
                                        "name": "Telefono"
                                    },
                                    {
                                        "name": "PersonaID"
                                    },
                                    {
                                        "name": "Titulo"
                                    },
                                    {
                                        "name": "Departamento"
                                    }
                                ]
                            },
                            "data": [
                                {
                                    "0": "1",
                                    "1": "Fernando",
                                    "2": "Pérez Jiménez",
                                    "3": "(667)1123456   ",
                                    "4": "1",
                                    "5": "I.B.Q",
                                    "6": "Bioquímica"
                                }
                            ]
                        },
                        "text/html": "<table><tr><th>PersonaID</th><th>Nombre</th><th>Apellidos</th><th>Telefono</th><th>PersonaID</th><th>Titulo</th><th>Departamento</th></tr><tr><td>1</td><td>Fernando</td><td>Pérez Jiménez</td><td>(667)1123456   </td><td>1</td><td>I.B.Q</td><td>Bioquímica</td></tr></table>"
                    },
                    "metadata": {}
                },
                {
                    "output_type": "execute_result",
                    "execution_count": 13,
                    "data": {
                        "application/vnd.dataresource+json": {
                            "schema": {
                                "fields": [
                                    {
                                        "name": "PersonaID"
                                    },
                                    {
                                        "name": "Nombre"
                                    },
                                    {
                                        "name": "Apellidos"
                                    },
                                    {
                                        "name": "Telefono"
                                    },
                                    {
                                        "name": "PersonaID"
                                    },
                                    {
                                        "name": "Puesto"
                                    }
                                ]
                            },
                            "data": [
                                {
                                    "0": "2",
                                    "1": "Juan",
                                    "2": "Izábal Mejía",
                                    "3": "(667)2345123   ",
                                    "4": "2",
                                    "5": "Lab.Operaciones Unitarias"
                                }
                            ]
                        },
                        "text/html": "<table><tr><th>PersonaID</th><th>Nombre</th><th>Apellidos</th><th>Telefono</th><th>PersonaID</th><th>Puesto</th></tr><tr><td>2</td><td>Juan</td><td>Izábal Mejía</td><td>(667)2345123   </td><td>2</td><td>Lab.Operaciones Unitarias</td></tr></table>"
                    },
                    "metadata": {}
                }
            ],
            "execution_count": 13
        },
        {
            "cell_type": "markdown",
            "source": [
                "¿Que sucede si nos cambian las restricciones y un Docente puede también ser alumno (de posgrado)?  "
            ],
            "metadata": {
                "azdata_cell_guid": "818a4b76-5920-44cc-9ed0-5f5f671f38f1"
            }
        },
        {
            "cell_type": "code",
            "source": [
                "INSERT INTO Alumnos8a (PersonaID,Control,PreparatoriaOrigen) VALUES(1,15152452,'Cobaes')\n",
                ""
            ],
            "metadata": {
                "azdata_cell_guid": "46bd5a7d-c992-417a-852b-9d61b9ea5ddb",
                "tags": [
                    "hide_input"
                ]
            },
            "outputs": [
                {
                    "output_type": "display_data",
                    "data": {
                        "text/html": "(1 row affected)"
                    },
                    "metadata": {}
                },
                {
                    "output_type": "display_data",
                    "data": {
                        "text/html": "Total execution time: 00:00:00.053"
                    },
                    "metadata": {}
                }
            ],
            "execution_count": 14
        },
        {
            "cell_type": "code",
            "source": [
                "SELECT * FROM Alumnos8a"
            ],
            "metadata": {
                "azdata_cell_guid": "9ba3c030-c8de-47d4-bddf-fe84b3905faf"
            },
            "outputs": [
                {
                    "output_type": "display_data",
                    "data": {
                        "text/html": "(2 rows affected)"
                    },
                    "metadata": {}
                },
                {
                    "output_type": "display_data",
                    "data": {
                        "text/html": "Total execution time: 00:00:00.021"
                    },
                    "metadata": {}
                },
                {
                    "output_type": "execute_result",
                    "execution_count": 15,
                    "data": {
                        "application/vnd.dataresource+json": {
                            "schema": {
                                "fields": [
                                    {
                                        "name": "PersonaID"
                                    },
                                    {
                                        "name": "Control"
                                    },
                                    {
                                        "name": "PreparatoriaOrigen"
                                    }
                                ]
                            },
                            "data": [
                                {
                                    "0": "1",
                                    "1": "15152452",
                                    "2": "Cobaes"
                                },
                                {
                                    "0": "45",
                                    "1": "20171203",
                                    "2": "Cobaes 23"
                                }
                            ]
                        },
                        "text/html": "<table><tr><th>PersonaID</th><th>Control</th><th>PreparatoriaOrigen</th></tr><tr><td>1</td><td>15152452</td><td>Cobaes</td></tr><tr><td>45</td><td>20171203</td><td>Cobaes 23</td></tr></table>"
                    },
                    "metadata": {}
                }
            ],
            "execution_count": 15
        },
        {
            "cell_type": "markdown",
            "source": [
                "Respuesta: Es posible que un docente sea un alumno al mismo tiempo, ya que no hay restricciones existentes que lo niegen, ya que para ser un Alumno necesitas estar registrado como Persona, igual que Docente."
            ],
            "metadata": {
                "azdata_cell_guid": "e9e275c3-d4f9-45c8-9efe-6ab105846a20"
            }
        },
        {
            "cell_type": "markdown",
            "source": [
                "Y ¿si quiero agregar personas ajenas a la institución sin modificar mi esquema? "
            ],
            "metadata": {
                "azdata_cell_guid": "d4f58d8c-1a90-4cb2-a0ec-12dd9a50c3e8"
            }
        },
        {
            "cell_type": "code",
            "source": [
                "INSERT INTO Persona8a (PersonaID,Nombre,Apellidos,Telefono) VALUES(23,'Daniel','Campos','6674234330')"
            ],
            "metadata": {
                "azdata_cell_guid": "aa6b9087-5b1a-4faf-bc5e-fe14e5f6bb02"
            },
            "outputs": [
                {
                    "output_type": "display_data",
                    "data": {
                        "text/html": "(1 row affected)"
                    },
                    "metadata": {}
                },
                {
                    "output_type": "display_data",
                    "data": {
                        "text/html": "Total execution time: 00:00:00.049"
                    },
                    "metadata": {}
                }
            ],
            "execution_count": 16
        },
        {
            "cell_type": "markdown",
            "source": [
                "Respuesta:\r\n",
                "Es posible añadirlas solamente a la table de Alumnos8a, ya que no tiene los datos necesarios para hacer una especificación."
            ],
            "metadata": {
                "azdata_cell_guid": "eaff92af-e042-407a-b450-9b8c39b63f66"
            }
        },
        {
            "cell_type": "markdown",
            "source": [
                "# 8b. Multiples relaciones, solo las subclases\n",
                "\n",
                "Las subclases son totales y disjuntas\n",
                ""
            ],
            "metadata": {
                "azdata_cell_guid": "39ad8cbb-2e73-4159-b923-c379fd2b1713"
            }
        },
        {
            "cell_type": "code",
            "source": [
                "CREATE TABLE Alumnos8b\n",
                "(\n",
                "    PersonaID INT PRIMARY KEY,\n",
                "    Nombre NVARCHAR(60), \n",
                "    Apellidos NVARCHAR(60),\n",
                "    Telefono CHAR(15),\n",
                "    Control CHAR(8),\n",
                "    PreparatoriaOrigen VARCHAR(30)\n",
                ")\n",
                "\n",
                "--Agregue las tablas para Docentes y Administrativos y datos en las 3 tablas"
            ],
            "metadata": {
                "azdata_cell_guid": "ab9a0c24-1098-4dd0-8abc-f1f5f5328113",
                "tags": []
            },
            "outputs": [
                {
                    "output_type": "display_data",
                    "data": {
                        "text/html": "Commands completed successfully."
                    },
                    "metadata": {}
                },
                {
                    "output_type": "display_data",
                    "data": {
                        "text/html": "Total execution time: 00:00:00.011"
                    },
                    "metadata": {}
                }
            ],
            "execution_count": 17
        },
        {
            "cell_type": "code",
            "source": [
                "--Creación Tabla Docentes\r\n",
                "CREATE TABLE Docentes8b\r\n",
                "(\r\n",
                "PersonaID INT PRIMARY KEY,\r\n",
                "Nombre NVARCHAR(60),\r\n",
                "Apellidos NVARCHAR(60),\r\n",
                "Telefono Char(15),\r\n",
                "Titulo VARCHAR(8),\r\n",
                "Departamento Varchar(30)\r\n",
                ")"
            ],
            "metadata": {
                "azdata_cell_guid": "a8936956-e02d-4562-acec-7f10e5f289d9"
            },
            "outputs": [
                {
                    "output_type": "display_data",
                    "data": {
                        "text/html": "Commands completed successfully."
                    },
                    "metadata": {}
                },
                {
                    "output_type": "display_data",
                    "data": {
                        "text/html": "Total execution time: 00:00:00.010"
                    },
                    "metadata": {}
                }
            ],
            "execution_count": 18
        },
        {
            "cell_type": "code",
            "source": [
                "--Creación Tabla Administrativos\r\n",
                "CREATE TABLE Administrativos8b\r\n",
                "(\r\n",
                "    PersonaID INT PRIMARY KEY,\r\n",
                "    Nombre NVARCHAR(60),\r\n",
                "    Apellidos NVARCHAR(60),\r\n",
                "    Telefono Char(15),\r\n",
                "    Puesto VARCHAR(30)\r\n",
                ")\r\n",
                ""
            ],
            "metadata": {
                "azdata_cell_guid": "65c54898-1677-4af7-a39e-9af69fa06563",
                "tags": []
            },
            "outputs": [
                {
                    "output_type": "display_data",
                    "data": {
                        "text/html": "Commands completed successfully."
                    },
                    "metadata": {}
                },
                {
                    "output_type": "display_data",
                    "data": {
                        "text/html": "Total execution time: 00:00:00.008"
                    },
                    "metadata": {}
                }
            ],
            "execution_count": 19
        },
        {
            "cell_type": "markdown",
            "source": [
                "¿Que sucede si nos cambian las restricciones y un Docente puede también ser alumno (de posgrado)? "
            ],
            "metadata": {
                "azdata_cell_guid": "eb25c6b5-f119-44bd-914f-0ee3b39a3a6a"
            }
        },
        {
            "cell_type": "code",
            "source": [
                "DELETE Docentes8b\r\n",
                "DELETE Alumnos8b\r\n",
                "INSERT INTO Docentes8b(PersonaID,Nombre,Apellidos,Telefono,Titulo,Departamento) VALUES(12,'Juan','Perez','6658956321','Geologia','Economia')\r\n",
                "INSERT INTO Alumnos8b(PersonaId,Nombre,Apellidos,Telefono,Control,PreparatoriaOrigen) VALUES (12,'Juan','Perez','6658956321',12563212,'Cetis 107')"
            ],
            "metadata": {
                "azdata_cell_guid": "e0d76c05-2dba-4cc7-9b56-012d760c5234"
            },
            "outputs": [
                {
                    "output_type": "display_data",
                    "data": {
                        "text/html": "(0 rows affected)"
                    },
                    "metadata": {}
                },
                {
                    "output_type": "display_data",
                    "data": {
                        "text/html": "(1 row affected)"
                    },
                    "metadata": {}
                },
                {
                    "output_type": "display_data",
                    "data": {
                        "text/html": "(1 row affected)"
                    },
                    "metadata": {}
                },
                {
                    "output_type": "display_data",
                    "data": {
                        "text/html": "(1 row affected)"
                    },
                    "metadata": {}
                },
                {
                    "output_type": "display_data",
                    "data": {
                        "text/html": "Total execution time: 00:00:00.038"
                    },
                    "metadata": {}
                }
            ],
            "execution_count": 23
        },
        {
            "cell_type": "markdown",
            "source": [
                "Respuesta:\r\n",
                "Es posible la inserción de una misma persona en diferentes tablas, ya que no dependen de otra tabla para que haya una violacion de Primary Key."
            ],
            "metadata": {
                "azdata_cell_guid": "23abd13a-67c3-4b63-9bfe-f8d1cb6dfcd2"
            }
        },
        {
            "cell_type": "markdown",
            "source": [
                "# 8c. Una sola relación con un atributo `TIPO`\n",
                "\n",
                "Para cuando las subclases son disjuntas\n",
                ""
            ],
            "metadata": {
                "azdata_cell_guid": "a50cced0-35c5-4d04-bfa0-721204044021"
            }
        },
        {
            "cell_type": "code",
            "source": [
                "-- Crear las tablas\r\n",
                "CREATE TABLE PersonasTp ( \r\n",
                "    PersonaID INT PRIMARY KEY,\r\n",
                "    Nombre NVARCHAR(60) NOT NULL,\r\n",
                "    Apellidos NVARCHAR(60) NOT NULL,\r\n",
                "    Telefono CHAR(15) NOT NULL,\r\n",
                "    Tipo CHAR(2) NOT NULL,\r\n",
                "    Control CHAR(8) ,\r\n",
                "    PrepaOrigen NVARCHAR(20),\r\n",
                "    Titulo NVARCHAR(8),\r\n",
                "    DeptoAcad NVARCHAR(30) ,\r\n",
                "    Puesto NVARCHAR(30) \r\n",
                ")"
            ],
            "metadata": {
                "azdata_cell_guid": "eaedbea6-1357-4212-940e-6fe41a0c4ccb"
            },
            "outputs": [
                {
                    "output_type": "display_data",
                    "data": {
                        "text/html": "Commands completed successfully."
                    },
                    "metadata": {}
                },
                {
                    "output_type": "display_data",
                    "data": {
                        "text/html": "Total execution time: 00:00:00.044"
                    },
                    "metadata": {}
                }
            ],
            "execution_count": 16
        },
        {
            "cell_type": "code",
            "source": [
                "ALTER TABLE PersonasTp ALTER COLUMN Titulo NVARCHAR(20)"
            ],
            "metadata": {
                "azdata_cell_guid": "4a52d0bf-cb50-40a6-932e-740ae9bbd2e1"
            },
            "outputs": [
                {
                    "output_type": "display_data",
                    "data": {
                        "text/html": "Commands completed successfully."
                    },
                    "metadata": {}
                },
                {
                    "output_type": "display_data",
                    "data": {
                        "text/html": "Total execution time: 00:00:00.235"
                    },
                    "metadata": {}
                }
            ],
            "execution_count": 24
        },
        {
            "cell_type": "code",
            "source": [
                "\r\n",
                "INSERT INTO PersonasTp(PersonaID,Nombre,Apellidos,Telefono,Tipo,Control,PrepaOrigen)\r\n",
                "VALUES(56,'Alberto','Camacho','6674589652','AL',212,'CETIS 107')\r\n",
                "INSERT INTO PersonasTp(PersonaID,Nombre,Apellidos,Telefono,Tipo,Titulo,DeptoAcad)\r\n",
                "VALUES(25,'Eduardo','Chavez','6674845963','DO','Ing. TICS','Sistemas- TICs')\r\n",
                "INSERT INTO PersonasTp(PersonaID,Nombre,Apellidos,Telefono,Tipo,Puesto)\r\n",
                "VALUES(59,'Paola','Sandoval','662458569','AD','Jefa de Docencia')"
            ],
            "metadata": {
                "azdata_cell_guid": "be150769-6d41-45a7-9553-ecd779048c56",
                "tags": []
            },
            "outputs": [
                {
                    "output_type": "display_data",
                    "data": {
                        "text/html": "(1 row affected)"
                    },
                    "metadata": {}
                },
                {
                    "output_type": "display_data",
                    "data": {
                        "text/html": "(1 row affected)"
                    },
                    "metadata": {}
                },
                {
                    "output_type": "display_data",
                    "data": {
                        "text/html": "(1 row affected)"
                    },
                    "metadata": {}
                },
                {
                    "output_type": "display_data",
                    "data": {
                        "text/html": "Total execution time: 00:00:00.043"
                    },
                    "metadata": {}
                }
            ],
            "execution_count": 28
        },
        {
            "cell_type": "code",
            "source": [
                "SELECT * FROM PersonasTp\r\n",
                ""
            ],
            "metadata": {
                "azdata_cell_guid": "e806e488-8396-4636-bf4c-9c36c5c73d3e"
            },
            "outputs": [
                {
                    "output_type": "display_data",
                    "data": {
                        "text/html": "(3 rows affected)"
                    },
                    "metadata": {}
                },
                {
                    "output_type": "display_data",
                    "data": {
                        "text/html": "Total execution time: 00:00:00.039"
                    },
                    "metadata": {}
                },
                {
                    "output_type": "execute_result",
                    "execution_count": 29,
                    "data": {
                        "application/vnd.dataresource+json": {
                            "schema": {
                                "fields": [
                                    {
                                        "name": "PersonaID"
                                    },
                                    {
                                        "name": "Nombre"
                                    },
                                    {
                                        "name": "Apellidos"
                                    },
                                    {
                                        "name": "Telefono"
                                    },
                                    {
                                        "name": "Tipo"
                                    },
                                    {
                                        "name": "Control"
                                    },
                                    {
                                        "name": "PrepaOrigen"
                                    },
                                    {
                                        "name": "Titulo"
                                    },
                                    {
                                        "name": "DeptoAcad"
                                    },
                                    {
                                        "name": "Puesto"
                                    }
                                ]
                            },
                            "data": [
                                {
                                    "0": "25",
                                    "1": "Eduardo",
                                    "2": "Chavez",
                                    "3": "6674845963     ",
                                    "4": "DO",
                                    "5": "NULL",
                                    "6": "NULL",
                                    "7": "Ing. TICS",
                                    "8": "Sistemas- TICs",
                                    "9": "NULL"
                                },
                                {
                                    "0": "56",
                                    "1": "Alberto",
                                    "2": "Camacho",
                                    "3": "6674589652     ",
                                    "4": "AL",
                                    "5": "212     ",
                                    "6": "CETIS 107",
                                    "7": "NULL",
                                    "8": "NULL",
                                    "9": "NULL"
                                },
                                {
                                    "0": "59",
                                    "1": "Paola",
                                    "2": "Sandoval",
                                    "3": "662458569      ",
                                    "4": "AD",
                                    "5": "NULL",
                                    "6": "NULL",
                                    "7": "NULL",
                                    "8": "NULL",
                                    "9": "Jefa de Docencia"
                                }
                            ]
                        },
                        "text/html": "<table><tr><th>PersonaID</th><th>Nombre</th><th>Apellidos</th><th>Telefono</th><th>Tipo</th><th>Control</th><th>PrepaOrigen</th><th>Titulo</th><th>DeptoAcad</th><th>Puesto</th></tr><tr><td>25</td><td>Eduardo</td><td>Chavez</td><td>6674845963     </td><td>DO</td><td>NULL</td><td>NULL</td><td>Ing. TICS</td><td>Sistemas- TICs</td><td>NULL</td></tr><tr><td>56</td><td>Alberto</td><td>Camacho</td><td>6674589652     </td><td>AL</td><td>212     </td><td>CETIS 107</td><td>NULL</td><td>NULL</td><td>NULL</td></tr><tr><td>59</td><td>Paola</td><td>Sandoval</td><td>662458569      </td><td>AD</td><td>NULL</td><td>NULL</td><td>NULL</td><td>NULL</td><td>Jefa de Docencia</td></tr></table>"
                    },
                    "metadata": {}
                }
            ],
            "execution_count": 29
        },
        {
            "cell_type": "markdown",
            "source": [
                "# 8d. Una sola relación con varios atributos `TIPO`\n",
                "\n",
                "Para cuando las subclases se traslapan. Puede funcionar también si son disjuntas."
            ],
            "metadata": {
                "azdata_cell_guid": "979c2d57-0ca2-453c-84da-cb943e8ab846"
            }
        },
        {
            "cell_type": "code",
            "source": [
                "--Haz magia\r\n",
                "\r\n",
                "CREATE TABLE PersonasTp2 ( \r\n",
                "    PersonaID INT PRIMARY KEY,\r\n",
                "    Nombre NVARCHAR(60) NOT NULL,\r\n",
                "    Apellidos NVARCHAR(60) NOT NULL,\r\n",
                "    Telefono CHAR(15) NOT NULL,\r\n",
                "    EsAlumno CHAR(2),\r\n",
                "    Control CHAR(8) ,\r\n",
                "    PrepaOrigen NVARCHAR(20),\r\n",
                "    EsDocente CHAR(2),\r\n",
                "    Titulo NVARCHAR(25),\r\n",
                "    DeptoAcad NVARCHAR(30) ,\r\n",
                "    EsAdmin CHAR(2),\r\n",
                "    Puesto NVARCHAR(30) \r\n",
                ")"
            ],
            "metadata": {
                "azdata_cell_guid": "0db3f699-bad5-4e6e-92d9-8ffb017a753e"
            },
            "outputs": [
                {
                    "output_type": "display_data",
                    "data": {
                        "text/html": "Commands completed successfully."
                    },
                    "metadata": {}
                },
                {
                    "output_type": "display_data",
                    "data": {
                        "text/html": "Total execution time: 00:00:00.019"
                    },
                    "metadata": {}
                }
            ],
            "execution_count": 34
        },
        {
            "cell_type": "code",
            "source": [
                "INSERT INTO PersonasTp2(PersonaID,Nombre,Apellidos,Telefono,EsAlumno,Control,PrepaOrigen)\r\n",
                "VALUES(56,'Alberto','Camacho','6674589652','SI',212,'CETIS 107')\r\n",
                "INSERT INTO PersonasTp2(PersonaID,Nombre,Apellidos,Telefono,EsDocente,Titulo,DeptoAcad)\r\n",
                "VALUES(25,'Eduardo','Chavez','6674845963','SI','Ing. TICS','Sistemas- TICs')\r\n",
                "INSERT INTO PersonasTp2(PersonaID,Nombre,Apellidos,Telefono,EsAdmin,Puesto)\r\n",
                "VALUES(59,'Paola','Sandoval','662458569','SI','Jefa de Docencia')"
            ],
            "metadata": {
                "azdata_cell_guid": "e88d92b5-dd0f-40ad-bc89-169ee97d7c75"
            },
            "outputs": [
                {
                    "output_type": "display_data",
                    "data": {
                        "text/html": "(1 row affected)"
                    },
                    "metadata": {}
                },
                {
                    "output_type": "display_data",
                    "data": {
                        "text/html": "(1 row affected)"
                    },
                    "metadata": {}
                },
                {
                    "output_type": "display_data",
                    "data": {
                        "text/html": "(1 row affected)"
                    },
                    "metadata": {}
                },
                {
                    "output_type": "display_data",
                    "data": {
                        "text/html": "Total execution time: 00:00:00.042"
                    },
                    "metadata": {}
                }
            ],
            "execution_count": 36
        },
        {
            "cell_type": "code",
            "source": [
                "SELECT * FROM PersonasTp2"
            ],
            "metadata": {
                "azdata_cell_guid": "0eb05fa7-8f87-4a5f-83f9-03b073fa98dc"
            },
            "outputs": [
                {
                    "output_type": "display_data",
                    "data": {
                        "text/html": "(3 rows affected)"
                    },
                    "metadata": {}
                },
                {
                    "output_type": "display_data",
                    "data": {
                        "text/html": "Total execution time: 00:00:00.038"
                    },
                    "metadata": {}
                },
                {
                    "output_type": "execute_result",
                    "execution_count": 38,
                    "data": {
                        "application/vnd.dataresource+json": {
                            "schema": {
                                "fields": [
                                    {
                                        "name": "PersonaID"
                                    },
                                    {
                                        "name": "Nombre"
                                    },
                                    {
                                        "name": "Apellidos"
                                    },
                                    {
                                        "name": "Telefono"
                                    },
                                    {
                                        "name": "EsAlumno"
                                    },
                                    {
                                        "name": "Control"
                                    },
                                    {
                                        "name": "PrepaOrigen"
                                    },
                                    {
                                        "name": "EsDocente"
                                    },
                                    {
                                        "name": "Titulo"
                                    },
                                    {
                                        "name": "DeptoAcad"
                                    },
                                    {
                                        "name": "EsAdmin"
                                    },
                                    {
                                        "name": "Puesto"
                                    }
                                ]
                            },
                            "data": [
                                {
                                    "0": "25",
                                    "1": "Eduardo",
                                    "2": "Chavez",
                                    "3": "6674845963     ",
                                    "4": "NULL",
                                    "5": "NULL",
                                    "6": "NULL",
                                    "7": "SI",
                                    "8": "Ing. TICS",
                                    "9": "Sistemas- TICs",
                                    "10": "NULL",
                                    "11": "NULL"
                                },
                                {
                                    "0": "56",
                                    "1": "Alberto",
                                    "2": "Camacho",
                                    "3": "6674589652     ",
                                    "4": "SI",
                                    "5": "212     ",
                                    "6": "CETIS 107",
                                    "7": "NULL",
                                    "8": "NULL",
                                    "9": "NULL",
                                    "10": "NULL",
                                    "11": "NULL"
                                },
                                {
                                    "0": "59",
                                    "1": "Paola",
                                    "2": "Sandoval",
                                    "3": "662458569      ",
                                    "4": "NULL",
                                    "5": "NULL",
                                    "6": "NULL",
                                    "7": "NULL",
                                    "8": "NULL",
                                    "9": "NULL",
                                    "10": "SI",
                                    "11": "Jefa de Docencia"
                                }
                            ]
                        },
                        "text/html": "<table><tr><th>PersonaID</th><th>Nombre</th><th>Apellidos</th><th>Telefono</th><th>EsAlumno</th><th>Control</th><th>PrepaOrigen</th><th>EsDocente</th><th>Titulo</th><th>DeptoAcad</th><th>EsAdmin</th><th>Puesto</th></tr><tr><td>25</td><td>Eduardo</td><td>Chavez</td><td>6674845963     </td><td>NULL</td><td>NULL</td><td>NULL</td><td>SI</td><td>Ing. TICS</td><td>Sistemas- TICs</td><td>NULL</td><td>NULL</td></tr><tr><td>56</td><td>Alberto</td><td>Camacho</td><td>6674589652     </td><td>SI</td><td>212     </td><td>CETIS 107</td><td>NULL</td><td>NULL</td><td>NULL</td><td>NULL</td><td>NULL</td></tr><tr><td>59</td><td>Paola</td><td>Sandoval</td><td>662458569      </td><td>NULL</td><td>NULL</td><td>NULL</td><td>NULL</td><td>NULL</td><td>NULL</td><td>SI</td><td>Jefa de Docencia</td></tr></table>"
                    },
                    "metadata": {}
                }
            ],
            "execution_count": 38
        }
    ]
}