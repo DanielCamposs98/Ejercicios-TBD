{
    "metadata": {
        "kernelspec": {
            "name": "SQL",
            "display_name": "SQL",
            "language": "sql"
        },
        "language_info": {
            "name": "sql",
            "version": ""
        }
    },
    "nbformat_minor": 2,
    "nbformat": 4,
    "cells": [
        {
            "cell_type": "markdown",
            "source": [
                "# Check Constraints\n",
                "\n",
                "Una restricción `CHECK` permite especificar una condición sobre el valor de una fila.\n",
                "La sintaxis es:\n",
                "\n",
                "``` \n",
                "CREATE TABLE table_name (\n",
                "  column1 datatype [ NULL | NOT NULL ],\n",
                "  column2 datatype [ NULL | NOT NULL ],\n",
                "\n",
                "  ...\n",
                "\n",
                "  CONSTRAINT constraint_name\n",
                "    CHECK [ NOT FOR REPLICATION ] (column_name condition)\n",
                "\n",
                ");\n",
                "```\n",
                "*table_name*       El nombre de la tabla a la cual le agregaremos la restricción `CHECK`.<br>\n",
                "*constraint_name* El nombre que le asignaremos a la restricción. <br>\n",
                "*column_name* La columna a la cual se le aplica la restricción.<br>\n",
                "*condition* La condicion que se debe cumplir.\n",
                "\n",
                ""
            ],
            "metadata": {
                "azdata_cell_guid": "576ed78b-47c4-4343-8eac-5a23a3c90dbb"
            }
        },
        {
            "cell_type": "code",
            "source": [
                "--Para dejar en blanco la base de datos prueba ejecute este bloque\n",
                "--Ejecute este bloque(colapsado) para usarla \n",
                "USE master\n",
                "IF EXISTS \n",
                "   (\n",
                "     SELECT name FROM master.dbo.sysdatabases \n",
                "     WHERE name = 'Pruebas'\n",
                "    )\n",
                "    DROP DATABASE Pruebas\n",
                "\n",
                "CREATE DATABASE Pruebas\n",
                "GO\n",
                "USE Pruebas\n",
                ""
            ],
            "metadata": {
                "azdata_cell_guid": "ec24e757-fd8b-49f4-a763-003ce9cf4d3e",
                "tags": []
            },
            "outputs": [
                {
                    "output_type": "display_data",
                    "data": {
                        "text/html": "Commands completed successfully."
                    },
                    "metadata": {}
                },
                {
                    "output_type": "display_data",
                    "data": {
                        "text/html": "Commands completed successfully."
                    },
                    "metadata": {}
                },
                {
                    "output_type": "display_data",
                    "data": {
                        "text/html": "Total execution time: 00:00:02.215"
                    },
                    "metadata": {}
                }
            ],
            "execution_count": 15
        },
        {
            "cell_type": "markdown",
            "source": [
                "Por ejemplo el salario de un empleado debe ser mayor a 0, por lo tanto a esa columna le ponemos esta restricción"
            ],
            "metadata": {
                "azdata_cell_guid": "385081a9-17ff-43c2-97f6-ac911defb950"
            }
        },
        {
            "cell_type": "code",
            "source": [
                "CREATE TABLE Empleados\n",
                "( \n",
                "    idEmpleado INT NOT NULL,\n",
                "    apellido VARCHAR(50) NOT NULL,\n",
                "    nombre VARCHAR(50),\n",
                "    salario numeric(10,3),\n",
                "    CONSTRAINT check_salario CHECK (salario > 0)\n",
                ");\n",
                ""
            ],
            "metadata": {
                "azdata_cell_guid": "af9c84ee-cd23-47c2-b6f6-03a8490f49b3",
                "tags": []
            },
            "outputs": [
                {
                    "output_type": "display_data",
                    "data": {
                        "text/html": "Commands completed successfully."
                    },
                    "metadata": {}
                },
                {
                    "output_type": "display_data",
                    "data": {
                        "text/html": "Total execution time: 00:00:00.119"
                    },
                    "metadata": {}
                }
            ],
            "execution_count": 16
        },
        {
            "cell_type": "markdown",
            "source": [
                "¿Que pasa si agregamos a un empleado con un salario menor o igual a cero?\n",
                ""
            ],
            "metadata": {
                "azdata_cell_guid": "aca9fea8-4d80-4179-855e-4f4794e14e74"
            }
        },
        {
            "cell_type": "markdown",
            "source": [
                "Respuesta: Lanza un conflicto al intentar agregar un nuevo empleado ya que se ha establecido que el valor que se le dará al atributo salario debe ser mayor de 0."
            ],
            "metadata": {
                "azdata_cell_guid": "c59fc34b-308e-489a-9d1f-7325e34eb5e6"
            }
        },
        {
            "cell_type": "code",
            "source": [
                "INSERT  empleados\n",
                "    (idEmpleado,  nombre, apellido,salario)\n",
                "    VALUES (1, 'Rosario', 'Uzárraga', 0 )"
            ],
            "metadata": {
                "azdata_cell_guid": "835d688d-f52a-48be-97d4-950ea4fe960e"
            },
            "outputs": [
                {
                    "output_type": "error",
                    "evalue": "Msg 547, Level 16, State 0, Line 1\r\nThe INSERT statement conflicted with the CHECK constraint \"check_salario\". The conflict occurred in database \"Pruebas\", table \"dbo.Empleados\", column 'salario'.",
                    "ename": "",
                    "traceback": []
                },
                {
                    "output_type": "display_data",
                    "data": {
                        "text/html": "The statement has been terminated."
                    },
                    "metadata": {}
                },
                {
                    "output_type": "display_data",
                    "data": {
                        "text/html": "Total execution time: 00:00:00.215"
                    },
                    "metadata": {}
                }
            ],
            "execution_count": 17
        },
        {
            "cell_type": "markdown",
            "source": [
                "Agregue una restricción para que la columna sexo solo permita los valores 'M' o 'F'"
            ],
            "metadata": {
                "azdata_cell_guid": "239238a4-526b-4427-ba0a-fa9156a26b05"
            }
        },
        {
            "cell_type": "code",
            "source": [
                "ALTER TABLE empleados ADD sexo char(1) CONSTRAINT Check_sexo CHECK (sexo='M' or sexo='F')"
            ],
            "metadata": {
                "azdata_cell_guid": "1d9e3af0-bcb9-422e-bd16-f9930e37f704"
            },
            "outputs": [
                {
                    "output_type": "display_data",
                    "data": {
                        "text/html": "Commands completed successfully."
                    },
                    "metadata": {}
                },
                {
                    "output_type": "display_data",
                    "data": {
                        "text/html": "Total execution time: 00:00:00.097"
                    },
                    "metadata": {}
                }
            ],
            "execution_count": 18
        },
        {
            "cell_type": "code",
            "source": [
                "-- Agregue una fila que cumpla la condición\r\n",
                "INSERT  empleados\r\n",
                "    (idEmpleado,  nombre, apellido,salario,sexo)\r\n",
                "    VALUES (2, 'Martha', 'Medina', 100,'F')"
            ],
            "metadata": {
                "azdata_cell_guid": "fdebcab8-b49c-461f-8a82-e1e9c7684cb1"
            },
            "outputs": [
                {
                    "output_type": "display_data",
                    "data": {
                        "text/html": "(1 row affected)"
                    },
                    "metadata": {}
                },
                {
                    "output_type": "display_data",
                    "data": {
                        "text/html": "Total execution time: 00:00:00.023"
                    },
                    "metadata": {}
                }
            ],
            "execution_count": 19
        },
        {
            "cell_type": "code",
            "source": [
                "-- Agregue una fila que NO cumpla la condición\r\n",
                "INSERT  empleados\r\n",
                "    (idEmpleado,  nombre, apellido,salario,sexo)\r\n",
                "    VALUES (2, 'Martha', 'Medina', 100,'T')"
            ],
            "metadata": {
                "azdata_cell_guid": "1bb14999-982a-4464-8233-6bdb672baa2b"
            },
            "outputs": [
                {
                    "output_type": "error",
                    "evalue": "Msg 547, Level 16, State 0, Line 2\r\nThe INSERT statement conflicted with the CHECK constraint \"Check_sexo\". The conflict occurred in database \"Pruebas\", table \"dbo.Empleados\", column 'sexo'.",
                    "ename": "",
                    "traceback": []
                },
                {
                    "output_type": "display_data",
                    "data": {
                        "text/html": "The statement has been terminated."
                    },
                    "metadata": {}
                },
                {
                    "output_type": "display_data",
                    "data": {
                        "text/html": "Total execution time: 00:00:00.006"
                    },
                    "metadata": {}
                }
            ],
            "execution_count": 20
        },
        {
            "cell_type": "code",
            "source": [
                "SELECT * FROM empleados"
            ],
            "metadata": {
                "azdata_cell_guid": "ec5f6b8b-b486-4a34-9e67-ae1392eb2b4a"
            },
            "outputs": [
                {
                    "output_type": "display_data",
                    "data": {
                        "text/html": "(1 row affected)"
                    },
                    "metadata": {}
                },
                {
                    "output_type": "display_data",
                    "data": {
                        "text/html": "Total execution time: 00:00:01.602"
                    },
                    "metadata": {}
                },
                {
                    "output_type": "execute_result",
                    "metadata": {},
                    "execution_count": 21,
                    "data": {
                        "application/vnd.dataresource+json": {
                            "schema": {
                                "fields": [
                                    {
                                        "name": "idEmpleado"
                                    },
                                    {
                                        "name": "apellido"
                                    },
                                    {
                                        "name": "nombre"
                                    },
                                    {
                                        "name": "salario"
                                    },
                                    {
                                        "name": "sexo"
                                    }
                                ]
                            },
                            "data": [
                                {
                                    "0": "2",
                                    "1": "Medina",
                                    "2": "Martha",
                                    "3": "100.000",
                                    "4": "F"
                                }
                            ]
                        },
                        "text/html": "<table><tr><th>idEmpleado</th><th>apellido</th><th>nombre</th><th>salario</th><th>sexo</th></tr><tr><td>2</td><td>Medina</td><td>Martha</td><td>100.000</td><td>F</td></tr></table>"
                    }
                }
            ],
            "execution_count": 21
        },
        {
            "cell_type": "markdown",
            "source": [
                "Agregue dos columnas: `nacimiento` y `contratación` donde la fecha de contratación no debe ser anterior al nacimiento"
            ],
            "metadata": {
                "azdata_cell_guid": "4aeb5c0e-49c3-4fd3-aa63-dfa069c265cf"
            }
        },
        {
            "cell_type": "code",
            "source": [
                "ALTER TABLE empleados ADD nacimiento DATE \r\n",
                "ALTER TABLE empleados ADD contratacion DATE \r\n",
                " \r\n",
                "GO\r\n",
                "\r\n",
                "ALTER TABLE empleados ADD CONSTRAINT Check_ValidaFechas CHECK (contratacion>nacimiento)"
            ],
            "metadata": {
                "azdata_cell_guid": "29e291cd-5945-41d5-b38b-d177684590a8"
            },
            "outputs": [
                {
                    "output_type": "display_data",
                    "data": {
                        "text/html": "Commands completed successfully."
                    },
                    "metadata": {}
                },
                {
                    "output_type": "display_data",
                    "data": {
                        "text/html": "Commands completed successfully."
                    },
                    "metadata": {}
                },
                {
                    "output_type": "display_data",
                    "data": {
                        "text/html": "Total execution time: 00:00:00.050"
                    },
                    "metadata": {}
                }
            ],
            "execution_count": 22
        },
        {
            "cell_type": "code",
            "source": [
                "-- Agregue una fila que cumpla la condición\r\n",
                "INSERT  empleados (idEmpleado,  nombre, apellido,salario,sexo,nacimiento,contratacion)\r\n",
                "VALUES (3, 'Daniel', 'Campos', 100,'M','1998-12-14','2015-08-25')\r\n",
                ""
            ],
            "metadata": {
                "azdata_cell_guid": "9078e712-fc69-493f-b447-a9de4570888b",
                "tags": []
            },
            "outputs": [
                {
                    "output_type": "error",
                    "evalue": "Msg 547, Level 16, State 0, Line 2\r\nThe INSERT statement conflicted with the CHECK constraint \"Check_Fechas\". The conflict occurred in database \"Pruebas\", table \"dbo.Empleados\".",
                    "ename": "",
                    "traceback": []
                },
                {
                    "output_type": "display_data",
                    "data": {
                        "text/html": "The statement has been terminated."
                    },
                    "metadata": {}
                },
                {
                    "output_type": "display_data",
                    "data": {
                        "text/html": "Total execution time: 00:00:00.008"
                    },
                    "metadata": {}
                }
            ],
            "execution_count": 52
        },
        {
            "cell_type": "code",
            "source": [
                "-- Agregue una fila que NO cumpla la condición\r\n",
                "INSERT  empleados(idEmpleado,  nombre, apellido,salario,sexo,nacimiento,contratacion)\r\n",
                "VALUES (3, 'Daniel', 'Campos', 100,'M','1998-12-14','1995-08-25')\r\n",
                ""
            ],
            "metadata": {
                "azdata_cell_guid": "c3350f6a-b5fe-4e01-a799-e52a60ee0f2e"
            },
            "outputs": [
                {
                    "output_type": "error",
                    "evalue": "Msg 547, Level 16, State 0, Line 2\r\nThe INSERT statement conflicted with the CHECK constraint \"Check_ValidaFechas\". The conflict occurred in database \"Pruebas\", table \"dbo.Empleados\".",
                    "ename": "",
                    "traceback": []
                },
                {
                    "output_type": "display_data",
                    "data": {
                        "text/html": "The statement has been terminated."
                    },
                    "metadata": {}
                },
                {
                    "output_type": "display_data",
                    "data": {
                        "text/html": "Total execution time: 00:00:00.010"
                    },
                    "metadata": {}
                }
            ],
            "execution_count": 51
        },
        {
            "cell_type": "markdown",
            "source": [
                "La fecha de nacimiento del empleado no puede ser posterior al la fecha actual. Utilice la funcion del sistema `GETDATE()` para definir la condición."
            ],
            "metadata": {
                "azdata_cell_guid": "d2307154-f69f-45a2-8329-2990058a1a58"
            }
        },
        {
            "cell_type": "code",
            "source": [
                "ALTER TABLE empleados ADD CONSTRAINT Check_fechaNac CHECK (nacimiento<=GETDATE())\r\n",
                "\r\n",
                "--DATEDIFF(Y,Fecha1,Fecha2)>=18"
            ],
            "metadata": {
                "azdata_cell_guid": "2b2ab59d-3700-437e-883a-c4be78cbecab"
            },
            "outputs": [
                {
                    "output_type": "display_data",
                    "data": {
                        "text/html": "Commands completed successfully."
                    },
                    "metadata": {}
                },
                {
                    "output_type": "display_data",
                    "data": {
                        "text/html": "Total execution time: 00:00:00.041"
                    },
                    "metadata": {}
                }
            ],
            "execution_count": 25
        },
        {
            "cell_type": "code",
            "source": [
                "-- Agregue una fila que cumpla la condición\r\n",
                "INSERT  empleados\r\n",
                "    (idEmpleado,  nombre, apellido,salario,sexo,nacimiento,contratacion)\r\n",
                "    VALUES (5, 'Juan', 'Es', 2,'M','2000-12-23','2019-02-23')"
            ],
            "metadata": {
                "azdata_cell_guid": "696bbd74-bfe7-4051-b1d4-aae23c10caf1",
                "tags": []
            },
            "outputs": [
                {
                    "output_type": "display_data",
                    "data": {
                        "text/html": "(1 row affected)"
                    },
                    "metadata": {}
                },
                {
                    "output_type": "display_data",
                    "data": {
                        "text/html": "Total execution time: 00:00:00.022"
                    },
                    "metadata": {}
                }
            ],
            "execution_count": 49
        },
        {
            "cell_type": "code",
            "source": [
                "-- Agregue una fila que NO cumpla la condición\r\n",
                "INSERT  empleados\r\n",
                "    (idEmpleado,  nombre, apellido,salario,sexo,nacimiento,contratacion)\r\n",
                "    VALUES (5, 'Juan', 'Es', 2,'M','2038-12-14',GETDATE())"
            ],
            "metadata": {
                "azdata_cell_guid": "353d9ad8-4e9e-43f9-b07e-f8f24df3d465",
                "tags": []
            },
            "outputs": [
                {
                    "output_type": "error",
                    "evalue": "Msg 547, Level 16, State 0, Line 2\r\nThe INSERT statement conflicted with the CHECK constraint \"Check_ValidaFechas\". The conflict occurred in database \"Pruebas\", table \"dbo.Empleados\".",
                    "ename": "",
                    "traceback": []
                },
                {
                    "output_type": "display_data",
                    "data": {
                        "text/html": "The statement has been terminated."
                    },
                    "metadata": {}
                },
                {
                    "output_type": "display_data",
                    "data": {
                        "text/html": "Total execution time: 00:00:00.019"
                    },
                    "metadata": {}
                }
            ],
            "execution_count": 50
        },
        {
            "cell_type": "markdown",
            "source": [
                "De hecho la empresa no puede contratar a menores de edad. Redefina la condición, eliminando la anterior y creandola otra vez"
            ],
            "metadata": {
                "azdata_cell_guid": "0018684c-76ed-42e9-ae3b-b7f0fb6f77d5"
            }
        },
        {
            "cell_type": "code",
            "source": [
                "ALTER TABLE empleados DROP CONSTRAINT Check_fechaNac;\r\n",
                " GO\r\n",
                "DELETE Empleados\r\n",
                "ALTER TABLE empleados ADD CONSTRAINT Check_Fechas CHECK((DATEDIFF(YEAR,nacimiento,contratacion)>=18))"
            ],
            "metadata": {
                "azdata_cell_guid": "70cb9cea-dd13-40aa-b993-c977b9677220"
            },
            "outputs": [
                {
                    "output_type": "error",
                    "evalue": "Msg 3728, Level 16, State 1, Line 1\r\n'Check_fechaNac' is not a constraint.",
                    "ename": "",
                    "traceback": []
                },
                {
                    "output_type": "error",
                    "evalue": "Msg 3727, Level 16, State 0, Line 1\r\nCould not drop constraint. See previous errors.",
                    "ename": "",
                    "traceback": []
                },
                {
                    "output_type": "display_data",
                    "data": {
                        "text/html": "(3 rows affected)"
                    },
                    "metadata": {}
                },
                {
                    "output_type": "display_data",
                    "data": {
                        "text/html": "Total execution time: 00:00:00.055"
                    },
                    "metadata": {}
                }
            ],
            "execution_count": 31
        },
        {
            "cell_type": "code",
            "source": [
                "-- Agregue una fila que cumpla la condición\r\n",
                "INSERT INTO empleados (idEmpleado,  nombre, apellido,salario,sexo,nacimiento,contratacion) VALUES \r\n",
                "(25,'Daniel','Campos',3,'M','1998-12-14',GETDATE())"
            ],
            "metadata": {
                "azdata_cell_guid": "8f060128-cb89-47b2-a81b-3f429bf4f727"
            },
            "outputs": [
                {
                    "output_type": "display_data",
                    "data": {
                        "text/html": "(1 row affected)"
                    },
                    "metadata": {}
                },
                {
                    "output_type": "display_data",
                    "data": {
                        "text/html": "Total execution time: 00:00:00.023"
                    },
                    "metadata": {}
                }
            ],
            "execution_count": 32
        },
        {
            "cell_type": "code",
            "source": [
                "-- Agregue una fila que NO cumpla la condición\r\n",
                "INSERT INTO empleados (idEmpleado,  nombre, apellido,salario,sexo,nacimiento,contratacion) VALUES \r\n",
                "(62,'Daniel','Medina',60,'M','2010-10-15',GETDATE())"
            ],
            "metadata": {
                "azdata_cell_guid": "594e7910-19f4-4306-b190-694356cbba50"
            },
            "outputs": [
                {
                    "output_type": "error",
                    "evalue": "Msg 547, Level 16, State 0, Line 2\r\nThe INSERT statement conflicted with the CHECK constraint \"Check_Fechas\". The conflict occurred in database \"Pruebas\", table \"dbo.Empleados\".",
                    "ename": "",
                    "traceback": []
                },
                {
                    "output_type": "display_data",
                    "data": {
                        "text/html": "The statement has been terminated."
                    },
                    "metadata": {}
                },
                {
                    "output_type": "display_data",
                    "data": {
                        "text/html": "Total execution time: 00:00:00.010"
                    },
                    "metadata": {}
                }
            ],
            "execution_count": 47
        },
        {
            "cell_type": "code",
            "source": [
                "INSERT INTO empleados (idEmpleado,  nombre, apellido,salario,sexo,nacimiento,contratacion) VALUES \r\n",
                "(12,'Ximena','Campos',500,'F','19920424',GETDATE())\r\n",
                "\r\n",
                "\r\n",
                "INSERT INTO empleados (idEmpleado,  nombre, apellido,salario,sexo,nacimiento,contratacion) VALUES \r\n",
                "(62,'Alejandra','Campos',60,'F','19922812','19980214')"
            ],
            "metadata": {
                "azdata_cell_guid": "ecd54e28-de5e-4a02-9de5-1aeecc6b3cdf"
            },
            "outputs": [
                {
                    "output_type": "display_data",
                    "data": {
                        "text/html": "(1 row affected)"
                    },
                    "metadata": {}
                },
                {
                    "output_type": "error",
                    "evalue": "Msg 241, Level 16, State 1, Line 5\r\nConversion failed when converting date and/or time from character string.",
                    "ename": "",
                    "traceback": []
                },
                {
                    "output_type": "display_data",
                    "data": {
                        "text/html": "Total execution time: 00:00:00.169"
                    },
                    "metadata": {}
                }
            ],
            "execution_count": 60
        },
        {
            "cell_type": "code",
            "source": [
                "SELECT * FROM empleados"
            ],
            "metadata": {
                "azdata_cell_guid": "b6816501-fb78-45f8-b804-e47a5d1ebb13"
            },
            "outputs": [
                {
                    "output_type": "display_data",
                    "data": {
                        "text/html": "(4 rows affected)"
                    },
                    "metadata": {}
                },
                {
                    "output_type": "display_data",
                    "data": {
                        "text/html": "Total execution time: 00:00:00.123"
                    },
                    "metadata": {}
                },
                {
                    "output_type": "execute_result",
                    "metadata": {},
                    "execution_count": 61,
                    "data": {
                        "application/vnd.dataresource+json": {
                            "schema": {
                                "fields": [
                                    {
                                        "name": "idEmpleado"
                                    },
                                    {
                                        "name": "apellido"
                                    },
                                    {
                                        "name": "nombre"
                                    },
                                    {
                                        "name": "salario"
                                    },
                                    {
                                        "name": "sexo"
                                    },
                                    {
                                        "name": "nacimiento"
                                    },
                                    {
                                        "name": "contratacion"
                                    }
                                ]
                            },
                            "data": [
                                {
                                    "0": "25",
                                    "1": "Campos",
                                    "2": "Daniel",
                                    "3": "3.000",
                                    "4": "M",
                                    "5": "1998-12-14",
                                    "6": "2020-02-13"
                                },
                                {
                                    "0": "5",
                                    "1": "Es",
                                    "2": "Juan",
                                    "3": "2.000",
                                    "4": "M",
                                    "5": "2000-12-23",
                                    "6": "2019-02-23"
                                },
                                {
                                    "0": "12",
                                    "1": "Campos",
                                    "2": "Ximena",
                                    "3": "500.000",
                                    "4": "F",
                                    "5": "1992-04-24",
                                    "6": "2020-02-13"
                                },
                                {
                                    "0": "12",
                                    "1": "Campos",
                                    "2": "Ximena",
                                    "3": "500.000",
                                    "4": "F",
                                    "5": "1992-04-24",
                                    "6": "2020-02-13"
                                }
                            ]
                        },
                        "text/html": "<table><tr><th>idEmpleado</th><th>apellido</th><th>nombre</th><th>salario</th><th>sexo</th><th>nacimiento</th><th>contratacion</th></tr><tr><td>25</td><td>Campos</td><td>Daniel</td><td>3.000</td><td>M</td><td>1998-12-14</td><td>2020-02-13</td></tr><tr><td>5</td><td>Es</td><td>Juan</td><td>2.000</td><td>M</td><td>2000-12-23</td><td>2019-02-23</td></tr><tr><td>12</td><td>Campos</td><td>Ximena</td><td>500.000</td><td>F</td><td>1992-04-24</td><td>2020-02-13</td></tr><tr><td>12</td><td>Campos</td><td>Ximena</td><td>500.000</td><td>F</td><td>1992-04-24</td><td>2020-02-13</td></tr></table>"
                    }
                }
            ],
            "execution_count": 61
        }
    ]
}