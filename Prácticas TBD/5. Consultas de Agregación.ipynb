{
    "metadata": {
        "kernelspec": {
            "name": "SQL",
            "display_name": "SQL",
            "language": "sql"
        },
        "language_info": {
            "name": "sql",
            "version": ""
        }
    },
    "nbformat_minor": 2,
    "nbformat": 4,
    "cells": [
        {
            "cell_type": "markdown",
            "source": [
                "# Consultas de agregación #\n",
                "\n",
                "\n",
                "Las consutas de agregación trabajan con grupos de filas sobre las cuales se aplica una función de agregación\n",
                "\n",
                "<table>\n",
                "<tr><td>AVG(expr)<td> Devuelve el promedio de todos los valores, o sólo de los valores DISTINCT. Se ignoran los nulos.\n",
                "<tr><td>COUNT(expr)<td> Devuelve el numero de valores no nulos en la expresión. Se ignoran los valores nulos. Puede utilizarse en columnas numéricas y no numéricas.  Puede utilizarse con DISTINCT.\n",
                "<tr><td>COUNT(*)<td> Se cuentan todas las filas incluso las que tienen valores nulos. No puede utilizarse con DISTINCT.\n",
                "<tr><td>MAX(expr)<td> Devuelve el valor máximo de la expresión. Puede utilizarse con columnas numéricas, de tipo carácter y datetime.\n",
                "<tr><td>MIN(expr)<td> Devuelve el valor mínimo en la expresión. MIN, puede utilizarse con columnas numéricas, de tipo carácter y datetime, pero no con columnas tipo bit. Con columnas tipo carácter, busca el valor mínimo en la secuencia. MIN, ignora los nulos.\n",
                "<tr><td>SUM(expr)<td> Devuelve la suma de todos los valores,  o solo de los valores DISTINCT. Se ignoran los nulos y sólo puede utilizarse en columnas numéricas."
            ],
            "metadata": {
                "azdata_cell_guid": "310942b4-4043-4e0a-b769-7e9d8c90466c"
            }
        },
        {
            "cell_type": "code",
            "source": [
                "use northwind"
            ],
            "metadata": {
                "azdata_cell_guid": "70ca2c7a-0a86-41d3-88a8-c7e1a1f9ae13"
            },
            "outputs": [
                {
                    "output_type": "display_data",
                    "data": {
                        "text/html": "Commands completed successfully."
                    },
                    "metadata": {}
                },
                {
                    "output_type": "display_data",
                    "data": {
                        "text/html": "Total execution time: 00:00:00.702"
                    },
                    "metadata": {}
                }
            ],
            "execution_count": 1
        },
        {
            "cell_type": "markdown",
            "source": [
                "## Paso 1: Promedio ## \n",
                "Para obtener el promedio de un grupo utilizamos la función  `AVG()`. \n",
                "<p>Recupere el precio promedio de los productos"
            ],
            "metadata": {
                "azdata_cell_guid": "148dbb09-51ec-42be-9876-353f7f1a08fb"
            }
        },
        {
            "cell_type": "code",
            "source": [
                "select  AVG(UnitPrice) as PrecioPromedio\n",
                "    from products"
            ],
            "metadata": {
                "azdata_cell_guid": "716d58e0-5cf4-4467-8143-62574504f4b8"
            },
            "outputs": [
                {
                    "output_type": "display_data",
                    "data": {
                        "text/html": "(1 row affected)"
                    },
                    "metadata": {}
                },
                {
                    "output_type": "display_data",
                    "data": {
                        "text/html": "Total execution time: 00:00:01.991"
                    },
                    "metadata": {}
                },
                {
                    "output_type": "execute_result",
                    "execution_count": 2,
                    "data": {
                        "application/vnd.dataresource+json": {
                            "schema": {
                                "fields": [
                                    {
                                        "name": "PrecioPromedio"
                                    }
                                ]
                            },
                            "data": [
                                {
                                    "0": "28.4962"
                                }
                            ]
                        },
                        "text/html": "<table><tr><th>PrecioPromedio</th></tr><tr><td>28.4962</td></tr></table>"
                    },
                    "metadata": {}
                }
            ],
            "execution_count": 2
        },
        {
            "cell_type": "markdown",
            "source": [
                "Si queremos el precio promedio de los productos dentro de cada categoría usamos la cláusula `GROUP BY`"
            ],
            "metadata": {
                "azdata_cell_guid": "b4d78075-55b5-4c3a-99f1-97b953351a52"
            }
        },
        {
            "cell_type": "code",
            "source": [
                "select  CategoryID, AVG(UnitPrice) as PrecioPromedio\n",
                "    from products\n",
                "    GROUP by CategoryID"
            ],
            "metadata": {
                "azdata_cell_guid": "48797621-9a0a-47bb-a7af-009c60526d06"
            },
            "outputs": [
                {
                    "output_type": "display_data",
                    "data": {
                        "text/html": "(8 rows affected)"
                    },
                    "metadata": {}
                },
                {
                    "output_type": "display_data",
                    "data": {
                        "text/html": "Total execution time: 00:00:00.348"
                    },
                    "metadata": {}
                },
                {
                    "output_type": "execute_result",
                    "execution_count": 3,
                    "data": {
                        "application/vnd.dataresource+json": {
                            "schema": {
                                "fields": [
                                    {
                                        "name": "CategoryID"
                                    },
                                    {
                                        "name": "PrecioPromedio"
                                    }
                                ]
                            },
                            "data": [
                                {
                                    "0": "1",
                                    "1": "37.9791"
                                },
                                {
                                    "0": "2",
                                    "1": "23.0625"
                                },
                                {
                                    "0": "3",
                                    "1": "25.1600"
                                },
                                {
                                    "0": "4",
                                    "1": "28.7300"
                                },
                                {
                                    "0": "5",
                                    "1": "20.2500"
                                },
                                {
                                    "0": "6",
                                    "1": "46.2914"
                                },
                                {
                                    "0": "7",
                                    "1": "32.3700"
                                },
                                {
                                    "0": "8",
                                    "1": "20.6825"
                                }
                            ]
                        },
                        "text/html": "<table><tr><th>CategoryID</th><th>PrecioPromedio</th></tr><tr><td>1</td><td>37.9791</td></tr><tr><td>2</td><td>23.0625</td></tr><tr><td>3</td><td>25.1600</td></tr><tr><td>4</td><td>28.7300</td></tr><tr><td>5</td><td>20.2500</td></tr><tr><td>6</td><td>46.2914</td></tr><tr><td>7</td><td>32.3700</td></tr><tr><td>8</td><td>20.6825</td></tr></table>"
                    },
                    "metadata": {}
                }
            ],
            "execution_count": 3
        },
        {
            "cell_type": "markdown",
            "source": [
                "## Paso 2: Contando ##\n",
                "Determine cuántos productos se manejan por categoría"
            ],
            "metadata": {
                "azdata_cell_guid": "f8b71dec-e900-4851-8f1a-c5b05940e48a"
            }
        },
        {
            "cell_type": "code",
            "source": [
                "select CategoryID, COUNT(productID) \n",
                "    from products\n",
                "    GROUP by CategoryID"
            ],
            "metadata": {
                "azdata_cell_guid": "b3a1a532-46a9-40f6-8f1e-76c17fdf7f0b"
            },
            "outputs": [
                {
                    "output_type": "display_data",
                    "data": {
                        "text/html": "(8 rows affected)"
                    },
                    "metadata": {}
                },
                {
                    "output_type": "display_data",
                    "data": {
                        "text/html": "Total execution time: 00:00:00.119"
                    },
                    "metadata": {}
                },
                {
                    "output_type": "execute_result",
                    "execution_count": 9,
                    "data": {
                        "application/vnd.dataresource+json": {
                            "schema": {
                                "fields": [
                                    {
                                        "name": "CategoryID"
                                    },
                                    {
                                        "name": "(No column name)"
                                    }
                                ]
                            },
                            "data": [
                                {
                                    "0": "1",
                                    "1": "12"
                                },
                                {
                                    "0": "2",
                                    "1": "12"
                                },
                                {
                                    "0": "3",
                                    "1": "13"
                                },
                                {
                                    "0": "4",
                                    "1": "10"
                                },
                                {
                                    "0": "5",
                                    "1": "7"
                                },
                                {
                                    "0": "6",
                                    "1": "7"
                                },
                                {
                                    "0": "7",
                                    "1": "5"
                                },
                                {
                                    "0": "8",
                                    "1": "12"
                                }
                            ]
                        },
                        "text/html": "<table><tr><th>CategoryID</th><th>(No column name)</th></tr><tr><td>1</td><td>12</td></tr><tr><td>2</td><td>12</td></tr><tr><td>3</td><td>13</td></tr><tr><td>4</td><td>10</td></tr><tr><td>5</td><td>7</td></tr><tr><td>6</td><td>7</td></tr><tr><td>7</td><td>5</td></tr><tr><td>8</td><td>12</td></tr></table>"
                    },
                    "metadata": {}
                }
            ],
            "execution_count": 9
        },
        {
            "cell_type": "markdown",
            "source": [
                "## Paso 3: Mayor ##\n",
                "\n",
                "Obtenga el precio mas bajo y mas alto que se maneja"
            ],
            "metadata": {
                "azdata_cell_guid": "0d6fe265-ad6e-4853-a08a-990fab96c19b"
            }
        },
        {
            "cell_type": "code",
            "source": [
                "SELECT MAX(UnitPrice) as Maximo,MIN(UnitPrice) as Minimo FROM Products\r\n",
                ""
            ],
            "metadata": {
                "azdata_cell_guid": "869ab667-8770-4356-9e20-6293e288d6c5"
            },
            "outputs": [
                {
                    "output_type": "display_data",
                    "data": {
                        "text/html": "(1 row affected)"
                    },
                    "metadata": {}
                },
                {
                    "output_type": "display_data",
                    "data": {
                        "text/html": "Total execution time: 00:00:00.036"
                    },
                    "metadata": {}
                },
                {
                    "output_type": "execute_result",
                    "execution_count": 6,
                    "data": {
                        "application/vnd.dataresource+json": {
                            "schema": {
                                "fields": [
                                    {
                                        "name": "Maximo"
                                    },
                                    {
                                        "name": "Minimo"
                                    }
                                ]
                            },
                            "data": [
                                {
                                    "0": "263.5000",
                                    "1": "0.0000"
                                }
                            ]
                        },
                        "text/html": "<table><tr><th>Maximo</th><th>Minimo</th></tr><tr><td>263.5000</td><td>0.0000</td></tr></table>"
                    },
                    "metadata": {}
                }
            ],
            "execution_count": 6
        },
        {
            "cell_type": "markdown",
            "source": [
                "## Paso 4: Suma ##\n",
                "Obtenga el importe total de fletes del día 10 de junio de 1997"
            ],
            "metadata": {
                "azdata_cell_guid": "239c532a-d96e-496e-ac10-336cb58c5b0b"
            }
        },
        {
            "cell_type": "code",
            "source": [
                "SELECT OrderDate,SUM(Freight) as Importe_Total\n",
                "    FROM orders where OrderDate='19970610'\n",
                "    GROUP BY OrderDate"
            ],
            "metadata": {
                "azdata_cell_guid": "bbc68def-cd71-4931-af3a-2afd08fa2c93"
            },
            "outputs": [
                {
                    "output_type": "display_data",
                    "data": {
                        "text/html": "(1 row affected)"
                    },
                    "metadata": {}
                },
                {
                    "output_type": "display_data",
                    "data": {
                        "text/html": "Total execution time: 00:00:00.102"
                    },
                    "metadata": {}
                },
                {
                    "output_type": "execute_result",
                    "execution_count": 13,
                    "data": {
                        "application/vnd.dataresource+json": {
                            "schema": {
                                "fields": [
                                    {
                                        "name": "OrderDate"
                                    },
                                    {
                                        "name": "Importe_Total"
                                    }
                                ]
                            },
                            "data": [
                                {
                                    "0": "1997-06-10 00:00:00.000",
                                    "1": "74.1800"
                                }
                            ]
                        },
                        "text/html": "<table><tr><th>OrderDate</th><th>Importe_Total</th></tr><tr><td>1997-06-10 00:00:00.000</td><td>74.1800</td></tr></table>"
                    },
                    "metadata": {}
                }
            ],
            "execution_count": 13
        },
        {
            "cell_type": "markdown",
            "source": [
                "## Paso 5 ##\n",
                "Obtenga el total de ventas del día 10 de junio de 1997"
            ],
            "metadata": {
                "azdata_cell_guid": "c82afeb0-acd7-48bb-ac6c-336a0d01c1e8"
            }
        },
        {
            "cell_type": "code",
            "source": [
                "SELECT SUM((OD.UnitPrice* OD.Quantity)*(1-OD.Discount)) as [Total Ventas] FROM Orders Ord\n",
                "INNER JOIN [Order Details Extended] OD ON OD.OrderID = Ord.OrderID\n",
                "WHERE Ord.OrderDate='19970610'"
            ],
            "metadata": {
                "azdata_cell_guid": "b96170c0-fe81-4b77-94e9-e0afadbf2af9"
            },
            "outputs": [
                {
                    "output_type": "display_data",
                    "data": {
                        "text/html": "(1 row affected)"
                    },
                    "metadata": {}
                },
                {
                    "output_type": "display_data",
                    "data": {
                        "text/html": "Total execution time: 00:00:00.064"
                    },
                    "metadata": {}
                },
                {
                    "output_type": "execute_result",
                    "execution_count": 31,
                    "data": {
                        "application/vnd.dataresource+json": {
                            "schema": {
                                "fields": [
                                    {
                                        "name": "Total Ventas"
                                    }
                                ]
                            },
                            "data": [
                                {
                                    "0": "2199.04998779297"
                                }
                            ]
                        },
                        "text/html": "<table><tr><th>Total Ventas</th></tr><tr><td>2199.04998779297</td></tr></table>"
                    },
                    "metadata": {}
                }
            ],
            "execution_count": 31
        },
        {
            "cell_type": "markdown",
            "source": [
                "## Paso 6 ##\n",
                "Obtenga el total de ventas por producto del mes de junio de 1997"
            ],
            "metadata": {
                "azdata_cell_guid": "5c7b2ca0-ac57-4bd2-ac63-5e346479b5d8"
            }
        },
        {
            "cell_type": "code",
            "source": [
                "SELECT P.ProductName,SUM((OD.UnitPrice*Od.Quantity)*(1-OD.Discount))as Total FROM [Order Details] OD\n",
                "INNER JOIN Products P ON P.ProductID = OD.ProductID\n",
                "INNER JOIN Orders O ON O.OrderID = OD.OrderID\n",
                "\n",
                "WHERE MONTH(OrderDate)='06' AND YEAR(OrderDate)='1997'\n",
                "\n",
                "GROUP BY  P.ProductName"
            ],
            "metadata": {
                "azdata_cell_guid": "e8c3b6ef-8c95-47cb-b534-5dba3283bf94"
            },
            "outputs": [
                {
                    "output_type": "display_data",
                    "data": {
                        "text/html": "(42 rows affected)"
                    },
                    "metadata": {}
                },
                {
                    "output_type": "display_data",
                    "data": {
                        "text/html": "Total execution time: 00:00:00.082"
                    },
                    "metadata": {}
                },
                {
                    "output_type": "execute_result",
                    "execution_count": 46,
                    "data": {
                        "application/vnd.dataresource+json": {
                            "schema": {
                                "fields": [
                                    {
                                        "name": "ProductName"
                                    },
                                    {
                                        "name": "Total"
                                    }
                                ]
                            },
                            "data": [
                                {
                                    "0": "Alice Mutton",
                                    "1": "1294.79998779297"
                                },
                                {
                                    "0": "Boston Crab Meat",
                                    "1": "956.799999237061"
                                },
                                {
                                    "0": "Camembert Pierrot",
                                    "1": "693.600036621094"
                                },
                                {
                                    "0": "Carnarvon Tigers",
                                    "1": "956.25"
                                },
                                {
                                    "0": "Chai",
                                    "1": "180"
                                },
                                {
                                    "0": "Chartreuse verte",
                                    "1": "180"
                                },
                                {
                                    "0": "Filo Mix",
                                    "1": "700"
                                },
                                {
                                    "0": "Geitost",
                                    "1": "80"
                                },
                                {
                                    "0": "Genen Shouyu",
                                    "1": "155"
                                },
                                {
                                    "0": "Gnocchi di nonna Alice",
                                    "1": "3382"
                                },
                                {
                                    "0": "Gorgonzola Telino",
                                    "1": "1865"
                                },
                                {
                                    "0": "Guaraná Fantástica",
                                    "1": "166.050003051758"
                                },
                                {
                                    "0": "Gudbrandsdalsost",
                                    "1": "306"
                                },
                                {
                                    "0": "Gula Malacca",
                                    "1": "602.950012207031"
                                },
                                {
                                    "0": "Ikura",
                                    "1": "155"
                                },
                                {
                                    "0": "Inlagd Sill",
                                    "1": "475"
                                },
                                {
                                    "0": "Jack's New England Clam Chowder",
                                    "1": "192.517501831055"
                                },
                                {
                                    "0": "Lakkalikööri",
                                    "1": "1152"
                                },
                                {
                                    "0": "Louisiana Fiery Hot Pepper Sauce",
                                    "1": "599.924987792969"
                                },
                                {
                                    "0": "Manjimup Dried Apples",
                                    "1": "4717"
                                },
                                {
                                    "0": "Mascarpone Fabioli",
                                    "1": "288"
                                },
                                {
                                    "0": "Mozzarella di Giovanni",
                                    "1": "1879.20001220703"
                                },
                                {
                                    "0": "Nord-Ost Matjeshering",
                                    "1": "517.799987792969"
                                },
                                {
                                    "0": "Original Frankfurter grüne Soße",
                                    "1": "234"
                                },
                                {
                                    "0": "Pâté chinois",
                                    "1": "980.399993896484"
                                },
                                {
                                    "0": "Pavlova",
                                    "1": "188.459991455078"
                                },
                                {
                                    "0": "Perth Pasties",
                                    "1": "1410.40002441406"
                                },
                                {
                                    "0": "Queso Cabrales",
                                    "1": "924"
                                },
                                {
                                    "0": "Raclette Courdavault",
                                    "1": "2420"
                                },
                                {
                                    "0": "Ravioli Angelo",
                                    "1": "195"
                                },
                                {
                                    "0": "Rhönbräu Klosterbier",
                                    "1": "887.375"
                                },
                                {
                                    "0": "Röd Kaviar",
                                    "1": "45"
                                },
                                {
                                    "0": "Sasquatch Ale",
                                    "1": "560"
                                },
                                {
                                    "0": "Singaporean Hokkien Fried Mee",
                                    "1": "333.200012207031"
                                },
                                {
                                    "0": "Steeleye Stout",
                                    "1": "360"
                                },
                                {
                                    "0": "Tarte au sucre",
                                    "1": "1491.32498168945"
                                },
                                {
                                    "0": "Teatime Chocolate Biscuits",
                                    "1": "257.600006103516"
                                },
                                {
                                    "0": "Thüringer Rostbratwurst",
                                    "1": "1237.90002441406"
                                },
                                {
                                    "0": "Tofu",
                                    "1": "1106.70001220703"
                                },
                                {
                                    "0": "Vegie-spread",
                                    "1": "263.399993896484"
                                },
                                {
                                    "0": "Wimmers gute Semmelknödel",
                                    "1": "1735.64996337891"
                                },
                                {
                                    "0": "Zaanse koeken",
                                    "1": "237.5"
                                }
                            ]
                        },
                        "text/html": "<table><tr><th>ProductName</th><th>Total</th></tr><tr><td>Alice Mutton</td><td>1294.79998779297</td></tr><tr><td>Boston Crab Meat</td><td>956.799999237061</td></tr><tr><td>Camembert Pierrot</td><td>693.600036621094</td></tr><tr><td>Carnarvon Tigers</td><td>956.25</td></tr><tr><td>Chai</td><td>180</td></tr><tr><td>Chartreuse verte</td><td>180</td></tr><tr><td>Filo Mix</td><td>700</td></tr><tr><td>Geitost</td><td>80</td></tr><tr><td>Genen Shouyu</td><td>155</td></tr><tr><td>Gnocchi di nonna Alice</td><td>3382</td></tr><tr><td>Gorgonzola Telino</td><td>1865</td></tr><tr><td>Guaraná Fantástica</td><td>166.050003051758</td></tr><tr><td>Gudbrandsdalsost</td><td>306</td></tr><tr><td>Gula Malacca</td><td>602.950012207031</td></tr><tr><td>Ikura</td><td>155</td></tr><tr><td>Inlagd Sill</td><td>475</td></tr><tr><td>Jack's New England Clam Chowder</td><td>192.517501831055</td></tr><tr><td>Lakkalikööri</td><td>1152</td></tr><tr><td>Louisiana Fiery Hot Pepper Sauce</td><td>599.924987792969</td></tr><tr><td>Manjimup Dried Apples</td><td>4717</td></tr><tr><td>Mascarpone Fabioli</td><td>288</td></tr><tr><td>Mozzarella di Giovanni</td><td>1879.20001220703</td></tr><tr><td>Nord-Ost Matjeshering</td><td>517.799987792969</td></tr><tr><td>Original Frankfurter grüne Soße</td><td>234</td></tr><tr><td>Pâté chinois</td><td>980.399993896484</td></tr><tr><td>Pavlova</td><td>188.459991455078</td></tr><tr><td>Perth Pasties</td><td>1410.40002441406</td></tr><tr><td>Queso Cabrales</td><td>924</td></tr><tr><td>Raclette Courdavault</td><td>2420</td></tr><tr><td>Ravioli Angelo</td><td>195</td></tr><tr><td>Rhönbräu Klosterbier</td><td>887.375</td></tr><tr><td>Röd Kaviar</td><td>45</td></tr><tr><td>Sasquatch Ale</td><td>560</td></tr><tr><td>Singaporean Hokkien Fried Mee</td><td>333.200012207031</td></tr><tr><td>Steeleye Stout</td><td>360</td></tr><tr><td>Tarte au sucre</td><td>1491.32498168945</td></tr><tr><td>Teatime Chocolate Biscuits</td><td>257.600006103516</td></tr><tr><td>Thüringer Rostbratwurst</td><td>1237.90002441406</td></tr><tr><td>Tofu</td><td>1106.70001220703</td></tr><tr><td>Vegie-spread</td><td>263.399993896484</td></tr><tr><td>Wimmers gute Semmelknödel</td><td>1735.64996337891</td></tr><tr><td>Zaanse koeken</td><td>237.5</td></tr></table>"
                    },
                    "metadata": {}
                }
            ],
            "execution_count": 46
        },
        {
            "cell_type": "markdown",
            "source": [
                "## Paso 7 ##\n",
                "Obtenga el importe de ventas por categoría por mes del año 1997\n",
                ""
            ],
            "metadata": {
                "azdata_cell_guid": "cd8fffec-437e-4ac0-9eee-5ab6f27ecd46"
            }
        },
        {
            "cell_type": "code",
            "source": [
                ""
            ],
            "metadata": {
                "azdata_cell_guid": "3d44dd92-486f-4757-abb8-4893b8ce1a56"
            },
            "outputs": [],
            "execution_count": null
        },
        {
            "cell_type": "markdown",
            "source": [
                "## Paso 8##\n",
                "Obtenga el producto mas caro\n",
                ""
            ],
            "metadata": {
                "azdata_cell_guid": "e0f4cdb1-9ccb-4feb-ab87-a9876d9cf9de"
            }
        },
        {
            "cell_type": "code",
            "source": [
                ""
            ],
            "metadata": {
                "azdata_cell_guid": "971d7532-e07a-4c7d-8aed-ad27be2fbc72"
            },
            "outputs": [
                {
                    "output_type": "error",
                    "ename": "",
                    "evalue": "Msg 156, Level 15, State 1, Line 3\r\nIncorrect syntax near the keyword 'SELECT'.",
                    "traceback": []
                },
                {
                    "output_type": "error",
                    "ename": "",
                    "evalue": "Msg 102, Level 15, State 1, Line 3\r\nIncorrect syntax near ')'.",
                    "traceback": []
                },
                {
                    "output_type": "display_data",
                    "data": {
                        "text/html": "Total execution time: 00:00:00.101"
                    },
                    "metadata": {}
                }
            ],
            "execution_count": 7
        }
    ]
}