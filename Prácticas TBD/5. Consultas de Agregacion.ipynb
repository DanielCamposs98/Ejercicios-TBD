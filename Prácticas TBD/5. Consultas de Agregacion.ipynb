{
    "metadata": {
        "kernelspec": {
            "name": "SQL",
            "display_name": "SQL",
            "language": "sql"
        },
        "language_info": {
            "name": "sql",
            "version": ""
        }
    },
    "nbformat_minor": 2,
    "nbformat": 4,
    "cells": [
        {
            "cell_type": "markdown",
            "source": [
                "# Consultas de agregación #"
            ],
            "metadata": {
                "azdata_cell_guid": "74e15073-22fb-4c59-8e45-22099c72af98"
            }
        },
        {
            "cell_type": "code",
            "source": [
                "USE Northwind"
            ],
            "metadata": {
                "azdata_cell_guid": "3d353aac-cd90-43b6-b15c-ce5cafa67c19"
            },
            "outputs": [
                {
                    "output_type": "display_data",
                    "data": {
                        "text/html": "Commands completed successfully."
                    },
                    "metadata": {}
                },
                {
                    "output_type": "display_data",
                    "data": {
                        "text/html": "Total execution time: 00:00:01.926"
                    },
                    "metadata": {}
                }
            ],
            "execution_count": 1
        },
        {
            "cell_type": "markdown",
            "source": [
                "## Paso 1: Promedio ## \r\n",
                "Para obtener el promedio de un grupo utilizamos la función  `AVG()`. \r\n",
                "<p>Recupere el precio promedio de los productos"
            ],
            "metadata": {
                "azdata_cell_guid": "000e60d4-927a-4ba4-a6ca-855d8dfa238e"
            }
        },
        {
            "cell_type": "code",
            "source": [
                "select  AVG(UnitPrice) as [Precio Promedio] from products"
            ],
            "metadata": {
                "azdata_cell_guid": "df651475-7313-4946-bdbc-49e5457854d1"
            },
            "outputs": [
                {
                    "output_type": "display_data",
                    "data": {
                        "text/html": "(1 row affected)"
                    },
                    "metadata": {}
                },
                {
                    "output_type": "display_data",
                    "data": {
                        "text/html": "Total execution time: 00:00:00.019"
                    },
                    "metadata": {}
                },
                {
                    "output_type": "execute_result",
                    "metadata": {},
                    "execution_count": 25,
                    "data": {
                        "application/vnd.dataresource+json": {
                            "schema": {
                                "fields": [
                                    {
                                        "name": "Precio Promedio"
                                    }
                                ]
                            },
                            "data": [
                                {
                                    "0": "28.8663"
                                }
                            ]
                        },
                        "text/html": "<table><tr><th>Precio Promedio</th></tr><tr><td>28.8663</td></tr></table>"
                    }
                }
            ],
            "execution_count": 25
        },
        {
            "cell_type": "markdown",
            "source": [
                "Si queremos el precio promedio de los productos dentro de cada categoría usamos la cláusula `GROUP BY`"
            ],
            "metadata": {
                "azdata_cell_guid": "bc6dddac-bbec-4c4d-a910-ffd3d7b92fbd"
            }
        },
        {
            "cell_type": "code",
            "source": [
                "select  CategoryID as Categoria, AVG(UnitPrice) as [Precio Promedio Producto]\r\n",
                "    from products\r\n",
                "GROUP by CategoryID"
            ],
            "metadata": {
                "azdata_cell_guid": "bfd3005d-0c2c-4ef1-b1b9-bbc224795595"
            },
            "outputs": [
                {
                    "output_type": "display_data",
                    "data": {
                        "text/html": "(8 rows affected)"
                    },
                    "metadata": {}
                },
                {
                    "output_type": "display_data",
                    "data": {
                        "text/html": "Total execution time: 00:00:00.049"
                    },
                    "metadata": {}
                },
                {
                    "output_type": "execute_result",
                    "metadata": {},
                    "execution_count": 24,
                    "data": {
                        "application/vnd.dataresource+json": {
                            "schema": {
                                "fields": [
                                    {
                                        "name": "Categoria"
                                    },
                                    {
                                        "name": "Precio Promedio Producto"
                                    }
                                ]
                            },
                            "data": [
                                {
                                    "0": "1",
                                    "1": "37.9791"
                                },
                                {
                                    "0": "2",
                                    "1": "23.0625"
                                },
                                {
                                    "0": "3",
                                    "1": "25.1600"
                                },
                                {
                                    "0": "4",
                                    "1": "28.7300"
                                },
                                {
                                    "0": "5",
                                    "1": "20.2500"
                                },
                                {
                                    "0": "6",
                                    "1": "54.0066"
                                },
                                {
                                    "0": "7",
                                    "1": "32.3700"
                                },
                                {
                                    "0": "8",
                                    "1": "20.6825"
                                }
                            ]
                        },
                        "text/html": "<table><tr><th>Categoria</th><th>Precio Promedio Producto</th></tr><tr><td>1</td><td>37.9791</td></tr><tr><td>2</td><td>23.0625</td></tr><tr><td>3</td><td>25.1600</td></tr><tr><td>4</td><td>28.7300</td></tr><tr><td>5</td><td>20.2500</td></tr><tr><td>6</td><td>54.0066</td></tr><tr><td>7</td><td>32.3700</td></tr><tr><td>8</td><td>20.6825</td></tr></table>"
                    }
                }
            ],
            "execution_count": 24
        },
        {
            "cell_type": "markdown",
            "source": [
                "## Paso 2: Contando ##\r\n",
                "Determine cuántos productos se manejan por categoría"
            ],
            "metadata": {
                "azdata_cell_guid": "5b039d63-7bb8-4baf-ae2f-44614047ce4f"
            }
        },
        {
            "cell_type": "code",
            "source": [
                "select CategoryID as Categoria, COUNT(productID) as [Cantidad Productos] \r\n",
                "    from products\r\n",
                "GROUP by CategoryID"
            ],
            "metadata": {
                "azdata_cell_guid": "519845bb-1e4d-4138-889a-3d62c37a6c25"
            },
            "outputs": [
                {
                    "output_type": "display_data",
                    "data": {
                        "text/html": "(8 rows affected)"
                    },
                    "metadata": {}
                },
                {
                    "output_type": "display_data",
                    "data": {
                        "text/html": "Total execution time: 00:00:00.109"
                    },
                    "metadata": {}
                },
                {
                    "output_type": "execute_result",
                    "metadata": {},
                    "execution_count": 23,
                    "data": {
                        "application/vnd.dataresource+json": {
                            "schema": {
                                "fields": [
                                    {
                                        "name": "Categoria"
                                    },
                                    {
                                        "name": "Cantidad Productos"
                                    }
                                ]
                            },
                            "data": [
                                {
                                    "0": "1",
                                    "1": "12"
                                },
                                {
                                    "0": "2",
                                    "1": "12"
                                },
                                {
                                    "0": "3",
                                    "1": "13"
                                },
                                {
                                    "0": "4",
                                    "1": "10"
                                },
                                {
                                    "0": "5",
                                    "1": "7"
                                },
                                {
                                    "0": "6",
                                    "1": "6"
                                },
                                {
                                    "0": "7",
                                    "1": "5"
                                },
                                {
                                    "0": "8",
                                    "1": "12"
                                }
                            ]
                        },
                        "text/html": "<table><tr><th>Categoria</th><th>Cantidad Productos</th></tr><tr><td>1</td><td>12</td></tr><tr><td>2</td><td>12</td></tr><tr><td>3</td><td>13</td></tr><tr><td>4</td><td>10</td></tr><tr><td>5</td><td>7</td></tr><tr><td>6</td><td>6</td></tr><tr><td>7</td><td>5</td></tr><tr><td>8</td><td>12</td></tr></table>"
                    }
                }
            ],
            "execution_count": 23
        },
        {
            "cell_type": "markdown",
            "source": [
                "## Paso 3: Mayor ##\r\n",
                "\r\n",
                "Obtenga el precio mas bajo y mas alto que se maneja"
            ],
            "metadata": {
                "azdata_cell_guid": "20e4fc47-4b59-435f-8434-ed69aaddbfec"
            }
        },
        {
            "cell_type": "code",
            "source": [
                "SELECT MAX(UnitPrice) as Maximo,MIN(UnitPrice) as Minimo FROM Products"
            ],
            "metadata": {
                "azdata_cell_guid": "44e7dbcc-06f3-45a9-b977-e343c312bf6c"
            },
            "outputs": [],
            "execution_count": null
        },
        {
            "cell_type": "markdown",
            "source": [
                "## Paso 4: Suma ##\r\n",
                "Obtenga el importe total de fletes del día 10 de junio de 1997"
            ],
            "metadata": {
                "azdata_cell_guid": "1a0000e6-c5de-4be7-bb74-4c3e1f3efe8e"
            }
        },
        {
            "cell_type": "code",
            "source": [
                "SELECT OrderDate,SUM(Freight) as [Importe Total Fletes 10 Jun 1997]\r\n",
                "    FROM orders where OrderDate='19970610'\r\n",
                "    GROUP BY OrderDate"
            ],
            "metadata": {
                "azdata_cell_guid": "9ccd08cc-7a8f-4713-97e1-bf3c9787ed69"
            },
            "outputs": [
                {
                    "output_type": "display_data",
                    "data": {
                        "text/html": "(1 row affected)"
                    },
                    "metadata": {}
                },
                {
                    "output_type": "display_data",
                    "data": {
                        "text/html": "Total execution time: 00:00:00.145"
                    },
                    "metadata": {}
                },
                {
                    "output_type": "execute_result",
                    "metadata": {},
                    "execution_count": 22,
                    "data": {
                        "application/vnd.dataresource+json": {
                            "schema": {
                                "fields": [
                                    {
                                        "name": "OrderDate"
                                    },
                                    {
                                        "name": "Importe Total Fletes 10 Jun 1997"
                                    }
                                ]
                            },
                            "data": [
                                {
                                    "0": "1997-06-10 00:00:00.000",
                                    "1": "74.1800"
                                }
                            ]
                        },
                        "text/html": "<table><tr><th>OrderDate</th><th>Importe Total Fletes 10 Jun 1997</th></tr><tr><td>1997-06-10 00:00:00.000</td><td>74.1800</td></tr></table>"
                    }
                }
            ],
            "execution_count": 22
        },
        {
            "cell_type": "markdown",
            "source": [
                "## Paso 5 ##\r\n",
                "Obtenga el total de ventas del día 10 de junio de 1997"
            ],
            "metadata": {
                "azdata_cell_guid": "3b1d0a2d-2ced-45e8-8447-e8dcfbb565da"
            }
        },
        {
            "cell_type": "code",
            "source": [
                "SELECT SUM((OD.UnitPrice*OD.Quantity)*(1-OD.Discount)) as [Total Ventas 10 Jun 1997] FROM Orders O\r\n",
                "JOIN [Order Details] OD ON OD.OrderID=O.OrderID\r\n",
                "WHERE O.OrderDate='19970610'"
            ],
            "metadata": {
                "azdata_cell_guid": "dbaa0590-bdb7-4188-b55f-081d93c9cc21"
            },
            "outputs": [
                {
                    "output_type": "display_data",
                    "data": {
                        "text/html": "(1 row affected)"
                    },
                    "metadata": {}
                },
                {
                    "output_type": "display_data",
                    "data": {
                        "text/html": "Total execution time: 00:00:00.048"
                    },
                    "metadata": {}
                },
                {
                    "output_type": "execute_result",
                    "metadata": {},
                    "execution_count": 21,
                    "data": {
                        "application/vnd.dataresource+json": {
                            "schema": {
                                "fields": [
                                    {
                                        "name": "Total Ventas"
                                    }
                                ]
                            },
                            "data": [
                                {
                                    "0": "2199.04998779297"
                                }
                            ]
                        },
                        "text/html": "<table><tr><th>Total Ventas</th></tr><tr><td>2199.04998779297</td></tr></table>"
                    }
                }
            ],
            "execution_count": 21
        },
        {
            "cell_type": "markdown",
            "source": [
                "## Paso 6 ##\r\n",
                "Obtenga el total de ventas por producto del mes de junio de 1997"
            ],
            "metadata": {
                "azdata_cell_guid": "b6f71053-cdfb-4800-8b2b-b31c043aca3f"
            }
        },
        {
            "cell_type": "code",
            "source": [
                "SELECT P.ProductName as Producto,SUM((OD.UnitPrice*OD.Quantity)*(1-OD.Discount)) as [Total Ventas Jun 1997]FROM Orders O\r\n",
                "JOIN [Order Details] OD ON OD.OrderID=O.OrderID\r\n",
                "JOIN Products P ON P.ProductID=OD.ProductID\r\n",
                "WHERE O.OrderDate BETWEEN '19970601' AND '19970630'\r\n",
                "GROUP BY P.ProductName"
            ],
            "metadata": {
                "azdata_cell_guid": "aabcdd40-b652-4f94-a67d-eea8f63bb0c3"
            },
            "outputs": [
                {
                    "output_type": "display_data",
                    "data": {
                        "text/html": "(42 rows affected)"
                    },
                    "metadata": {}
                },
                {
                    "output_type": "display_data",
                    "data": {
                        "text/html": "Total execution time: 00:00:00.077"
                    },
                    "metadata": {}
                },
                {
                    "output_type": "execute_result",
                    "metadata": {},
                    "execution_count": 20,
                    "data": {
                        "application/vnd.dataresource+json": {
                            "schema": {
                                "fields": [
                                    {
                                        "name": "Producto"
                                    },
                                    {
                                        "name": "Total Ventas Jun 1997"
                                    }
                                ]
                            },
                            "data": [
                                {
                                    "0": "Alice Mutton",
                                    "1": "1294.79998779297"
                                },
                                {
                                    "0": "Boston Crab Meat",
                                    "1": "956.799999237061"
                                },
                                {
                                    "0": "Camembert Pierrot",
                                    "1": "693.600036621094"
                                },
                                {
                                    "0": "Carnarvon Tigers",
                                    "1": "956.25"
                                },
                                {
                                    "0": "Chai",
                                    "1": "180"
                                },
                                {
                                    "0": "Chartreuse verte",
                                    "1": "180"
                                },
                                {
                                    "0": "Filo Mix",
                                    "1": "700"
                                },
                                {
                                    "0": "Geitost",
                                    "1": "80"
                                },
                                {
                                    "0": "Genen Shouyu",
                                    "1": "155"
                                },
                                {
                                    "0": "Gnocchi di nonna Alice",
                                    "1": "3382"
                                },
                                {
                                    "0": "Gorgonzola Telino",
                                    "1": "1865"
                                },
                                {
                                    "0": "Guaraná Fantástica",
                                    "1": "166.050003051758"
                                },
                                {
                                    "0": "Gudbrandsdalsost",
                                    "1": "306"
                                },
                                {
                                    "0": "Gula Malacca",
                                    "1": "602.950012207031"
                                },
                                {
                                    "0": "Ikura",
                                    "1": "155"
                                },
                                {
                                    "0": "Inlagd Sill",
                                    "1": "475"
                                },
                                {
                                    "0": "Jack's New England Clam Chowder",
                                    "1": "192.517501831055"
                                },
                                {
                                    "0": "Lakkalikööri",
                                    "1": "1152"
                                },
                                {
                                    "0": "Louisiana Fiery Hot Pepper Sauce",
                                    "1": "599.924987792969"
                                },
                                {
                                    "0": "Manjimup Dried Apples",
                                    "1": "4717"
                                },
                                {
                                    "0": "Mascarpone Fabioli",
                                    "1": "288"
                                },
                                {
                                    "0": "Mozzarella di Giovanni",
                                    "1": "1879.20001220703"
                                },
                                {
                                    "0": "Nord-Ost Matjeshering",
                                    "1": "517.799987792969"
                                },
                                {
                                    "0": "Original Frankfurter grüne Soße",
                                    "1": "234"
                                },
                                {
                                    "0": "Pâté chinois",
                                    "1": "980.399993896484"
                                },
                                {
                                    "0": "Pavlova",
                                    "1": "188.459991455078"
                                },
                                {
                                    "0": "Perth Pasties",
                                    "1": "1410.40002441406"
                                },
                                {
                                    "0": "Queso Cabrales",
                                    "1": "924"
                                },
                                {
                                    "0": "Raclette Courdavault",
                                    "1": "2420"
                                },
                                {
                                    "0": "Ravioli Angelo",
                                    "1": "195"
                                },
                                {
                                    "0": "Rhönbräu Klosterbier",
                                    "1": "887.375"
                                },
                                {
                                    "0": "Röd Kaviar",
                                    "1": "45"
                                },
                                {
                                    "0": "Sasquatch Ale",
                                    "1": "560"
                                },
                                {
                                    "0": "Singaporean Hokkien Fried Mee",
                                    "1": "333.200012207031"
                                },
                                {
                                    "0": "Steeleye Stout",
                                    "1": "360"
                                },
                                {
                                    "0": "Tarte au sucre",
                                    "1": "1491.32498168945"
                                },
                                {
                                    "0": "Teatime Chocolate Biscuits",
                                    "1": "257.600006103516"
                                },
                                {
                                    "0": "Thüringer Rostbratwurst",
                                    "1": "1237.90002441406"
                                },
                                {
                                    "0": "Tofu",
                                    "1": "1106.70001220703"
                                },
                                {
                                    "0": "Vegie-spread",
                                    "1": "263.399993896484"
                                },
                                {
                                    "0": "Wimmers gute Semmelknödel",
                                    "1": "1735.64996337891"
                                },
                                {
                                    "0": "Zaanse koeken",
                                    "1": "237.5"
                                }
                            ]
                        },
                        "text/html": "<table><tr><th>Producto</th><th>Total Ventas Jun 1997</th></tr><tr><td>Alice Mutton</td><td>1294.79998779297</td></tr><tr><td>Boston Crab Meat</td><td>956.799999237061</td></tr><tr><td>Camembert Pierrot</td><td>693.600036621094</td></tr><tr><td>Carnarvon Tigers</td><td>956.25</td></tr><tr><td>Chai</td><td>180</td></tr><tr><td>Chartreuse verte</td><td>180</td></tr><tr><td>Filo Mix</td><td>700</td></tr><tr><td>Geitost</td><td>80</td></tr><tr><td>Genen Shouyu</td><td>155</td></tr><tr><td>Gnocchi di nonna Alice</td><td>3382</td></tr><tr><td>Gorgonzola Telino</td><td>1865</td></tr><tr><td>Guaraná Fantástica</td><td>166.050003051758</td></tr><tr><td>Gudbrandsdalsost</td><td>306</td></tr><tr><td>Gula Malacca</td><td>602.950012207031</td></tr><tr><td>Ikura</td><td>155</td></tr><tr><td>Inlagd Sill</td><td>475</td></tr><tr><td>Jack's New England Clam Chowder</td><td>192.517501831055</td></tr><tr><td>Lakkalikööri</td><td>1152</td></tr><tr><td>Louisiana Fiery Hot Pepper Sauce</td><td>599.924987792969</td></tr><tr><td>Manjimup Dried Apples</td><td>4717</td></tr><tr><td>Mascarpone Fabioli</td><td>288</td></tr><tr><td>Mozzarella di Giovanni</td><td>1879.20001220703</td></tr><tr><td>Nord-Ost Matjeshering</td><td>517.799987792969</td></tr><tr><td>Original Frankfurter grüne Soße</td><td>234</td></tr><tr><td>Pâté chinois</td><td>980.399993896484</td></tr><tr><td>Pavlova</td><td>188.459991455078</td></tr><tr><td>Perth Pasties</td><td>1410.40002441406</td></tr><tr><td>Queso Cabrales</td><td>924</td></tr><tr><td>Raclette Courdavault</td><td>2420</td></tr><tr><td>Ravioli Angelo</td><td>195</td></tr><tr><td>Rhönbräu Klosterbier</td><td>887.375</td></tr><tr><td>Röd Kaviar</td><td>45</td></tr><tr><td>Sasquatch Ale</td><td>560</td></tr><tr><td>Singaporean Hokkien Fried Mee</td><td>333.200012207031</td></tr><tr><td>Steeleye Stout</td><td>360</td></tr><tr><td>Tarte au sucre</td><td>1491.32498168945</td></tr><tr><td>Teatime Chocolate Biscuits</td><td>257.600006103516</td></tr><tr><td>Thüringer Rostbratwurst</td><td>1237.90002441406</td></tr><tr><td>Tofu</td><td>1106.70001220703</td></tr><tr><td>Vegie-spread</td><td>263.399993896484</td></tr><tr><td>Wimmers gute Semmelknödel</td><td>1735.64996337891</td></tr><tr><td>Zaanse koeken</td><td>237.5</td></tr></table>"
                    }
                }
            ],
            "execution_count": 20
        },
        {
            "cell_type": "markdown",
            "source": [
                "## Paso 7 ##\r\n",
                "Obtenga el importe de ventas por categoría por mes del año 1997\r\n",
                ""
            ],
            "metadata": {
                "azdata_cell_guid": "cf88f762-d304-4fcc-ab96-3b918be85b11"
            }
        },
        {
            "cell_type": "code",
            "source": [
                "SELECT MONTH(O.OrderDate) as Mes,C.CategoryName as Categoria,SUM((OD.UnitPrice*OD.Quantity)*(1-OD.Discount)) as [Importe Ventas]FROM Orders O\r\n",
                "JOIN [Order Details] OD ON OD.OrderID=O.OrderID\r\n",
                "JOIN Products P ON P.ProductID=OD.ProductID\r\n",
                "JOIN Categories C ON C.CategoryID=P.CategoryID\r\n",
                "WHERE YEAR(O.OrderDate)=1997\r\n",
                "GROUP BY MONTH(O.OrderDate),C.CategoryName\r\n",
                "ORDER BY C.CategoryName"
            ],
            "metadata": {
                "azdata_cell_guid": "989ff8f2-326b-42fb-8a98-4a2c01277d0b"
            },
            "outputs": [
                {
                    "output_type": "display_data",
                    "data": {
                        "text/html": "(96 rows affected)"
                    },
                    "metadata": {}
                },
                {
                    "output_type": "display_data",
                    "data": {
                        "text/html": "Total execution time: 00:00:00.118"
                    },
                    "metadata": {}
                },
                {
                    "output_type": "execute_result",
                    "metadata": {},
                    "execution_count": 19,
                    "data": {
                        "application/vnd.dataresource+json": {
                            "schema": {
                                "fields": [
                                    {
                                        "name": "Mes"
                                    },
                                    {
                                        "name": "Categoria"
                                    },
                                    {
                                        "name": "Importe Ventas"
                                    }
                                ]
                            },
                            "data": [
                                {
                                    "0": "1",
                                    "1": "Beverages",
                                    "2": "21904.160369873"
                                },
                                {
                                    "0": "2",
                                    "1": "Beverages",
                                    "2": "2845.84003448486"
                                },
                                {
                                    "0": "3",
                                    "1": "Beverages",
                                    "2": "10636.8800125122"
                                },
                                {
                                    "0": "4",
                                    "1": "Beverages",
                                    "2": "7074.34999084473"
                                },
                                {
                                    "0": "5",
                                    "1": "Beverages",
                                    "2": "15422.2499771118"
                                },
                                {
                                    "0": "6",
                                    "1": "Beverages",
                                    "2": "3485.42500305176"
                                },
                                {
                                    "0": "7",
                                    "1": "Beverages",
                                    "2": "7889.22500228882"
                                },
                                {
                                    "0": "8",
                                    "1": "Beverages",
                                    "2": "5836.92499923706"
                                },
                                {
                                    "0": "9",
                                    "1": "Beverages",
                                    "2": "5726.70000076294"
                                },
                                {
                                    "0": "10",
                                    "1": "Beverages",
                                    "2": "8374.90000915527"
                                },
                                {
                                    "0": "11",
                                    "1": "Beverages",
                                    "2": "3851"
                                },
                                {
                                    "0": "12",
                                    "1": "Beverages",
                                    "2": "10876.6499958038"
                                },
                                {
                                    "0": "1",
                                    "1": "Condiments",
                                    "2": "5252.07498931885"
                                },
                                {
                                    "0": "2",
                                    "1": "Condiments",
                                    "2": "6128.86004638672"
                                },
                                {
                                    "0": "3",
                                    "1": "Condiments",
                                    "2": "1645.13504981995"
                                },
                                {
                                    "0": "4",
                                    "1": "Condiments",
                                    "2": "5544.39999389648"
                                },
                                {
                                    "0": "5",
                                    "1": "Condiments",
                                    "2": "5453.01995849609"
                                },
                                {
                                    "0": "6",
                                    "1": "Condiments",
                                    "2": "1855.27499389648"
                                },
                                {
                                    "0": "7",
                                    "1": "Condiments",
                                    "2": "5519.83500671387"
                                },
                                {
                                    "0": "8",
                                    "1": "Condiments",
                                    "2": "4220.02499389648"
                                },
                                {
                                    "0": "9",
                                    "1": "Condiments",
                                    "2": "3575.17747497559"
                                },
                                {
                                    "0": "10",
                                    "1": "Condiments",
                                    "2": "6565.91251373291"
                                },
                                {
                                    "0": "11",
                                    "1": "Condiments",
                                    "2": "3784.6750087738"
                                },
                                {
                                    "0": "12",
                                    "1": "Condiments",
                                    "2": "5824.19997406006"
                                },
                                {
                                    "0": "1",
                                    "1": "Confections",
                                    "2": "9128.11498832703"
                                },
                                {
                                    "0": "2",
                                    "1": "Confections",
                                    "2": "6978.87499237061"
                                },
                                {
                                    "0": "3",
                                    "1": "Confections",
                                    "2": "3209.92501831055"
                                },
                                {
                                    "0": "4",
                                    "1": "Confections",
                                    "2": "11538.6124458313"
                                },
                                {
                                    "0": "5",
                                    "1": "Confections",
                                    "2": "7689.82493591309"
                                },
                                {
                                    "0": "6",
                                    "1": "Confections",
                                    "2": "2174.88497924805"
                                },
                                {
                                    "0": "7",
                                    "1": "Confections",
                                    "2": "6462.59752655029"
                                },
                                {
                                    "0": "8",
                                    "1": "Confections",
                                    "2": "7105.63023376465"
                                },
                                {
                                    "0": "9",
                                    "1": "Confections",
                                    "2": "6708.59005355835"
                                },
                                {
                                    "0": "10",
                                    "1": "Confections",
                                    "2": "7800.69994354248"
                                },
                                {
                                    "0": "11",
                                    "1": "Confections",
                                    "2": "5081.84647369385"
                                },
                                {
                                    "0": "12",
                                    "1": "Confections",
                                    "2": "8778.1489944458"
                                },
                                {
                                    "0": "1",
                                    "1": "Dairy Products",
                                    "2": "9066.40005493164"
                                },
                                {
                                    "0": "2",
                                    "1": "Dairy Products",
                                    "2": "5584.84001159668"
                                },
                                {
                                    "0": "3",
                                    "1": "Dairy Products",
                                    "2": "9728.89999389648"
                                },
                                {
                                    "0": "4",
                                    "1": "Dairy Products",
                                    "2": "5775.60009765625"
                                },
                                {
                                    "0": "5",
                                    "1": "Dairy Products",
                                    "2": "10435.5750541687"
                                },
                                {
                                    "0": "6",
                                    "1": "Dairy Products",
                                    "2": "8455.80004882812"
                                },
                                {
                                    "0": "7",
                                    "1": "Dairy Products",
                                    "2": "12387.3500061035"
                                },
                                {
                                    "0": "8",
                                    "1": "Dairy Products",
                                    "2": "6826.55004882812"
                                },
                                {
                                    "0": "9",
                                    "1": "Dairy Products",
                                    "2": "11420.3000030518"
                                },
                                {
                                    "0": "10",
                                    "1": "Dairy Products",
                                    "2": "12869"
                                },
                                {
                                    "0": "11",
                                    "1": "Dairy Products",
                                    "2": "12992.4750061035"
                                },
                                {
                                    "0": "12",
                                    "1": "Dairy Products",
                                    "2": "9844.85003662109"
                                },
                                {
                                    "0": "1",
                                    "1": "Grains/Cereals",
                                    "2": "4547.80000305176"
                                },
                                {
                                    "0": "2",
                                    "1": "Grains/Cereals",
                                    "2": "4693.69995880127"
                                },
                                {
                                    "0": "3",
                                    "1": "Grains/Cereals",
                                    "2": "3167.60003662109"
                                },
                                {
                                    "0": "4",
                                    "1": "Grains/Cereals",
                                    "2": "6544.40000915527"
                                },
                                {
                                    "0": "5",
                                    "1": "Grains/Cereals",
                                    "2": "2267.25"
                                },
                                {
                                    "0": "6",
                                    "1": "Grains/Cereals",
                                    "2": "6345.84997558594"
                                },
                                {
                                    "0": "7",
                                    "1": "Grains/Cereals",
                                    "2": "4457.80000114441"
                                },
                                {
                                    "0": "8",
                                    "1": "Grains/Cereals",
                                    "2": "5415.25"
                                },
                                {
                                    "0": "9",
                                    "1": "Grains/Cereals",
                                    "2": "5371.47500610352"
                                },
                                {
                                    "0": "10",
                                    "1": "Grains/Cereals",
                                    "2": "3031"
                                },
                                {
                                    "0": "11",
                                    "1": "Grains/Cereals",
                                    "2": "5787.35000610352"
                                },
                                {
                                    "0": "12",
                                    "1": "Grains/Cereals",
                                    "2": "5242.34999084473"
                                },
                                {
                                    "0": "1",
                                    "1": "Meat/Poultry",
                                    "2": "6842.8500213623"
                                },
                                {
                                    "0": "2",
                                    "1": "Meat/Poultry",
                                    "2": "7561.01995277405"
                                },
                                {
                                    "0": "3",
                                    "1": "Meat/Poultry",
                                    "2": "2998.47986984253"
                                },
                                {
                                    "0": "4",
                                    "1": "Meat/Poultry",
                                    "2": "6613.4400177002"
                                },
                                {
                                    "0": "5",
                                    "1": "Meat/Poultry",
                                    "2": "3395.50999069214"
                                },
                                {
                                    "0": "6",
                                    "1": "Meat/Poultry",
                                    "2": "4923.50003051758"
                                },
                                {
                                    "0": "7",
                                    "1": "Meat/Poultry",
                                    "2": "4806.29999923706"
                                },
                                {
                                    "0": "8",
                                    "1": "Meat/Poultry",
                                    "2": "4888.24005126953"
                                },
                                {
                                    "0": "9",
                                    "1": "Meat/Poultry",
                                    "2": "10945.969959259"
                                },
                                {
                                    "0": "10",
                                    "1": "Meat/Poultry",
                                    "2": "14203.6360397339"
                                },
                                {
                                    "0": "11",
                                    "1": "Meat/Poultry",
                                    "2": "1029"
                                },
                                {
                                    "0": "12",
                                    "1": "Meat/Poultry",
                                    "2": "12767.162065506"
                                },
                                {
                                    "0": "1",
                                    "1": "Produce",
                                    "2": "2704.92002868652"
                                },
                                {
                                    "0": "2",
                                    "1": "Produce",
                                    "2": "2679.59997558594"
                                },
                                {
                                    "0": "3",
                                    "1": "Produce",
                                    "2": "3676.80001831055"
                                },
                                {
                                    "0": "4",
                                    "1": "Produce",
                                    "2": "5893.86000061035"
                                },
                                {
                                    "0": "5",
                                    "1": "Produce",
                                    "2": "3099.60015869141"
                                },
                                {
                                    "0": "6",
                                    "1": "Produce",
                                    "2": "5823.70001220703"
                                },
                                {
                                    "0": "7",
                                    "1": "Produce",
                                    "2": "1650"
                                },
                                {
                                    "0": "8",
                                    "1": "Produce",
                                    "2": "4284"
                                },
                                {
                                    "0": "9",
                                    "1": "Produce",
                                    "2": "2827.27499771118"
                                },
                                {
                                    "0": "10",
                                    "1": "Produce",
                                    "2": "7017.39990234375"
                                },
                                {
                                    "0": "11",
                                    "1": "Produce",
                                    "2": "3125.71250915527"
                                },
                                {
                                    "0": "12",
                                    "1": "Produce",
                                    "2": "12157.9000244141"
                                },
                                {
                                    "0": "1",
                                    "1": "Seafood",
                                    "2": "1811.75000762939"
                                },
                                {
                                    "0": "2",
                                    "1": "Seafood",
                                    "2": "2010.90000915527"
                                },
                                {
                                    "0": "3",
                                    "1": "Seafood",
                                    "2": "3483.49999713898"
                                },
                                {
                                    "0": "4",
                                    "1": "Seafood",
                                    "2": "4048.28996276855"
                                },
                                {
                                    "0": "5",
                                    "1": "Seafood",
                                    "2": "6018.25996398926"
                                },
                                {
                                    "0": "6",
                                    "1": "Seafood",
                                    "2": "3298.36748886108"
                                },
                                {
                                    "0": "7",
                                    "1": "Seafood",
                                    "2": "7847.74998474121"
                                },
                                {
                                    "0": "8",
                                    "1": "Seafood",
                                    "2": "8711.05000305176"
                                },
                                {
                                    "0": "9",
                                    "1": "Seafood",
                                    "2": "9053.75498962402"
                                },
                                {
                                    "0": "10",
                                    "1": "Seafood",
                                    "2": "6886.67747116089"
                                },
                                {
                                    "0": "11",
                                    "1": "Seafood",
                                    "2": "7881.75001144409"
                                },
                                {
                                    "0": "12",
                                    "1": "Seafood",
                                    "2": "5907.16751670837"
                                }
                            ]
                        },
                        "text/html": "<table><tr><th>Mes</th><th>Categoria</th><th>Importe Ventas</th></tr><tr><td>1</td><td>Beverages</td><td>21904.160369873</td></tr><tr><td>2</td><td>Beverages</td><td>2845.84003448486</td></tr><tr><td>3</td><td>Beverages</td><td>10636.8800125122</td></tr><tr><td>4</td><td>Beverages</td><td>7074.34999084473</td></tr><tr><td>5</td><td>Beverages</td><td>15422.2499771118</td></tr><tr><td>6</td><td>Beverages</td><td>3485.42500305176</td></tr><tr><td>7</td><td>Beverages</td><td>7889.22500228882</td></tr><tr><td>8</td><td>Beverages</td><td>5836.92499923706</td></tr><tr><td>9</td><td>Beverages</td><td>5726.70000076294</td></tr><tr><td>10</td><td>Beverages</td><td>8374.90000915527</td></tr><tr><td>11</td><td>Beverages</td><td>3851</td></tr><tr><td>12</td><td>Beverages</td><td>10876.6499958038</td></tr><tr><td>1</td><td>Condiments</td><td>5252.07498931885</td></tr><tr><td>2</td><td>Condiments</td><td>6128.86004638672</td></tr><tr><td>3</td><td>Condiments</td><td>1645.13504981995</td></tr><tr><td>4</td><td>Condiments</td><td>5544.39999389648</td></tr><tr><td>5</td><td>Condiments</td><td>5453.01995849609</td></tr><tr><td>6</td><td>Condiments</td><td>1855.27499389648</td></tr><tr><td>7</td><td>Condiments</td><td>5519.83500671387</td></tr><tr><td>8</td><td>Condiments</td><td>4220.02499389648</td></tr><tr><td>9</td><td>Condiments</td><td>3575.17747497559</td></tr><tr><td>10</td><td>Condiments</td><td>6565.91251373291</td></tr><tr><td>11</td><td>Condiments</td><td>3784.6750087738</td></tr><tr><td>12</td><td>Condiments</td><td>5824.19997406006</td></tr><tr><td>1</td><td>Confections</td><td>9128.11498832703</td></tr><tr><td>2</td><td>Confections</td><td>6978.87499237061</td></tr><tr><td>3</td><td>Confections</td><td>3209.92501831055</td></tr><tr><td>4</td><td>Confections</td><td>11538.6124458313</td></tr><tr><td>5</td><td>Confections</td><td>7689.82493591309</td></tr><tr><td>6</td><td>Confections</td><td>2174.88497924805</td></tr><tr><td>7</td><td>Confections</td><td>6462.59752655029</td></tr><tr><td>8</td><td>Confections</td><td>7105.63023376465</td></tr><tr><td>9</td><td>Confections</td><td>6708.59005355835</td></tr><tr><td>10</td><td>Confections</td><td>7800.69994354248</td></tr><tr><td>11</td><td>Confections</td><td>5081.84647369385</td></tr><tr><td>12</td><td>Confections</td><td>8778.1489944458</td></tr><tr><td>1</td><td>Dairy Products</td><td>9066.40005493164</td></tr><tr><td>2</td><td>Dairy Products</td><td>5584.84001159668</td></tr><tr><td>3</td><td>Dairy Products</td><td>9728.89999389648</td></tr><tr><td>4</td><td>Dairy Products</td><td>5775.60009765625</td></tr><tr><td>5</td><td>Dairy Products</td><td>10435.5750541687</td></tr><tr><td>6</td><td>Dairy Products</td><td>8455.80004882812</td></tr><tr><td>7</td><td>Dairy Products</td><td>12387.3500061035</td></tr><tr><td>8</td><td>Dairy Products</td><td>6826.55004882812</td></tr><tr><td>9</td><td>Dairy Products</td><td>11420.3000030518</td></tr><tr><td>10</td><td>Dairy Products</td><td>12869</td></tr><tr><td>11</td><td>Dairy Products</td><td>12992.4750061035</td></tr><tr><td>12</td><td>Dairy Products</td><td>9844.85003662109</td></tr><tr><td>1</td><td>Grains/Cereals</td><td>4547.80000305176</td></tr><tr><td>2</td><td>Grains/Cereals</td><td>4693.69995880127</td></tr><tr><td>3</td><td>Grains/Cereals</td><td>3167.60003662109</td></tr><tr><td>4</td><td>Grains/Cereals</td><td>6544.40000915527</td></tr><tr><td>5</td><td>Grains/Cereals</td><td>2267.25</td></tr><tr><td>6</td><td>Grains/Cereals</td><td>6345.84997558594</td></tr><tr><td>7</td><td>Grains/Cereals</td><td>4457.80000114441</td></tr><tr><td>8</td><td>Grains/Cereals</td><td>5415.25</td></tr><tr><td>9</td><td>Grains/Cereals</td><td>5371.47500610352</td></tr><tr><td>10</td><td>Grains/Cereals</td><td>3031</td></tr><tr><td>11</td><td>Grains/Cereals</td><td>5787.35000610352</td></tr><tr><td>12</td><td>Grains/Cereals</td><td>5242.34999084473</td></tr><tr><td>1</td><td>Meat/Poultry</td><td>6842.8500213623</td></tr><tr><td>2</td><td>Meat/Poultry</td><td>7561.01995277405</td></tr><tr><td>3</td><td>Meat/Poultry</td><td>2998.47986984253</td></tr><tr><td>4</td><td>Meat/Poultry</td><td>6613.4400177002</td></tr><tr><td>5</td><td>Meat/Poultry</td><td>3395.50999069214</td></tr><tr><td>6</td><td>Meat/Poultry</td><td>4923.50003051758</td></tr><tr><td>7</td><td>Meat/Poultry</td><td>4806.29999923706</td></tr><tr><td>8</td><td>Meat/Poultry</td><td>4888.24005126953</td></tr><tr><td>9</td><td>Meat/Poultry</td><td>10945.969959259</td></tr><tr><td>10</td><td>Meat/Poultry</td><td>14203.6360397339</td></tr><tr><td>11</td><td>Meat/Poultry</td><td>1029</td></tr><tr><td>12</td><td>Meat/Poultry</td><td>12767.162065506</td></tr><tr><td>1</td><td>Produce</td><td>2704.92002868652</td></tr><tr><td>2</td><td>Produce</td><td>2679.59997558594</td></tr><tr><td>3</td><td>Produce</td><td>3676.80001831055</td></tr><tr><td>4</td><td>Produce</td><td>5893.86000061035</td></tr><tr><td>5</td><td>Produce</td><td>3099.60015869141</td></tr><tr><td>6</td><td>Produce</td><td>5823.70001220703</td></tr><tr><td>7</td><td>Produce</td><td>1650</td></tr><tr><td>8</td><td>Produce</td><td>4284</td></tr><tr><td>9</td><td>Produce</td><td>2827.27499771118</td></tr><tr><td>10</td><td>Produce</td><td>7017.39990234375</td></tr><tr><td>11</td><td>Produce</td><td>3125.71250915527</td></tr><tr><td>12</td><td>Produce</td><td>12157.9000244141</td></tr><tr><td>1</td><td>Seafood</td><td>1811.75000762939</td></tr><tr><td>2</td><td>Seafood</td><td>2010.90000915527</td></tr><tr><td>3</td><td>Seafood</td><td>3483.49999713898</td></tr><tr><td>4</td><td>Seafood</td><td>4048.28996276855</td></tr><tr><td>5</td><td>Seafood</td><td>6018.25996398926</td></tr><tr><td>6</td><td>Seafood</td><td>3298.36748886108</td></tr><tr><td>7</td><td>Seafood</td><td>7847.74998474121</td></tr><tr><td>8</td><td>Seafood</td><td>8711.05000305176</td></tr><tr><td>9</td><td>Seafood</td><td>9053.75498962402</td></tr><tr><td>10</td><td>Seafood</td><td>6886.67747116089</td></tr><tr><td>11</td><td>Seafood</td><td>7881.75001144409</td></tr><tr><td>12</td><td>Seafood</td><td>5907.16751670837</td></tr></table>"
                    }
                }
            ],
            "execution_count": 19
        },
        {
            "cell_type": "markdown",
            "source": [
                "## Paso 8##\r\n",
                "Obtenga el producto mas caro"
            ],
            "metadata": {
                "azdata_cell_guid": "2ea60f04-8c1a-484a-80e8-3f4206c885e7"
            }
        },
        {
            "cell_type": "code",
            "source": [
                "SELECT ProductName, UnitPrice FROM PRODUCTS WHERE UnitPrice in (SELECT MAX(UnitPrice) from Products)"
            ],
            "metadata": {
                "azdata_cell_guid": "7555827b-43cc-4faa-8b13-ef77edf8592b"
            },
            "outputs": [
                {
                    "output_type": "display_data",
                    "data": {
                        "text/html": "(1 row affected)"
                    },
                    "metadata": {}
                },
                {
                    "output_type": "display_data",
                    "data": {
                        "text/html": "Total execution time: 00:00:00.146"
                    },
                    "metadata": {}
                },
                {
                    "output_type": "execute_result",
                    "metadata": {},
                    "execution_count": 18,
                    "data": {
                        "application/vnd.dataresource+json": {
                            "schema": {
                                "fields": [
                                    {
                                        "name": "ProductName"
                                    },
                                    {
                                        "name": "UnitPrice"
                                    }
                                ]
                            },
                            "data": [
                                {
                                    "0": "Côte de Blaye",
                                    "1": "263.5000"
                                }
                            ]
                        },
                        "text/html": "<table><tr><th>ProductName</th><th>UnitPrice</th></tr><tr><td>Côte de Blaye</td><td>263.5000</td></tr></table>"
                    }
                }
            ],
            "execution_count": 18
        }
    ]
}