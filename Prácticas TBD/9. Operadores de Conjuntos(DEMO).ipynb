{
    "metadata": {
        "kernelspec": {
            "name": "SQL",
            "display_name": "SQL",
            "language": "sql"
        },
        "language_info": {
            "name": "sql",
            "version": ""
        }
    },
    "nbformat_minor": 2,
    "nbformat": 4,
    "cells": [
        {
            "cell_type": "code",
            "source": [
                "use pruebas\n",
                "GO\n",
                "\n",
                "create table T1\n",
                "(\n",
                "    id int, \n",
                "    c  char(1)\n",
                ")\n",
                "\n",
                "\n",
                "create table T2\n",
                "(\n",
                "    num int, \n",
                "    valor  char(1)\n",
                ")\n",
                "\n",
                "INSERT T1 (id, c)\n",
                "    VALUES\n",
                "    (1, 'A'),\n",
                "    (2, 'B'),\n",
                "    (3, 'A'),\n",
                "    (4, 'C');\n",
                "\n",
                "\n",
                "INSERT T2 (num, valor)\n",
                "    VALUES\n",
                "    (1, 'C'),\n",
                "    (3, 'D'),\n",
                "    (3, 'A'),\n",
                "    (5, 'F');\n",
                "\n",
                "\n",
                ""
            ],
            "metadata": {
                "azdata_cell_guid": "16efa61a-f02b-405d-967b-0016717f973c",
                "tags": []
            },
            "outputs": [
                {
                    "output_type": "display_data",
                    "data": {
                        "text/html": "Commands completed successfully."
                    },
                    "metadata": {}
                },
                {
                    "output_type": "display_data",
                    "data": {
                        "text/html": "(4 rows affected)"
                    },
                    "metadata": {}
                },
                {
                    "output_type": "display_data",
                    "data": {
                        "text/html": "(4 rows affected)"
                    },
                    "metadata": {}
                },
                {
                    "output_type": "display_data",
                    "data": {
                        "text/html": "Total execution time: 00:00:01.963"
                    },
                    "metadata": {}
                }
            ],
            "execution_count": 1
        },
        {
            "cell_type": "markdown",
            "source": [
                "# Operadores de Conjuntos #\n",
                "## 1. UNION ##\n",
                "Obtener el conjunto de todas las filas de T1 y unirlas al conjunto de las filas de T2\n",
                ""
            ],
            "metadata": {
                "azdata_cell_guid": "0bb375c7-0546-40ad-bb83-87885eca525b"
            }
        },
        {
            "cell_type": "code",
            "source": [
                " SELECT * FROM T1 UNION SELECT * FROM T2\n",
                "\n",
                ""
            ],
            "metadata": {
                "azdata_cell_guid": "ca385ec1-2030-40d0-9897-d47fe87d27b6"
            },
            "outputs": [
                {
                    "output_type": "display_data",
                    "data": {
                        "text/html": "(7 rows affected)"
                    },
                    "metadata": {}
                },
                {
                    "output_type": "display_data",
                    "data": {
                        "text/html": "Total execution time: 00:00:00.424"
                    },
                    "metadata": {}
                },
                {
                    "output_type": "execute_result",
                    "metadata": {},
                    "execution_count": 4,
                    "data": {
                        "application/vnd.dataresource+json": {
                            "schema": {
                                "fields": [
                                    {
                                        "name": "id"
                                    },
                                    {
                                        "name": "c"
                                    }
                                ]
                            },
                            "data": [
                                {
                                    "0": "1",
                                    "1": "A"
                                },
                                {
                                    "0": "1",
                                    "1": "C"
                                },
                                {
                                    "0": "2",
                                    "1": "B"
                                },
                                {
                                    "0": "3",
                                    "1": "A"
                                },
                                {
                                    "0": "3",
                                    "1": "D"
                                },
                                {
                                    "0": "4",
                                    "1": "C"
                                },
                                {
                                    "0": "5",
                                    "1": "F"
                                }
                            ]
                        },
                        "text/html": "<table><tr><th>id</th><th>c</th></tr><tr><td>1</td><td>A</td></tr><tr><td>1</td><td>C</td></tr><tr><td>2</td><td>B</td></tr><tr><td>3</td><td>A</td></tr><tr><td>3</td><td>D</td></tr><tr><td>4</td><td>C</td></tr><tr><td>5</td><td>F</td></tr></table>"
                    }
                }
            ],
            "execution_count": 4
        },
        {
            "cell_type": "markdown",
            "source": [
                "### Opción ALL ###\n",
                "\n",
                "¿Cual es el efecto de la opcion ALL en la UNION? Realice la misma consulta pero utilice UNION ALL"
            ],
            "metadata": {
                "azdata_cell_guid": "ae52d2c9-8dc6-497e-9622-d9207336ef2c"
            }
        },
        {
            "cell_type": "code",
            "source": [
                "SELECT * FROM T1 UNION ALL SELECT * FROM T2"
            ],
            "metadata": {
                "azdata_cell_guid": "4b51610a-5924-4fd1-b68d-2fcc9f3c308f"
            },
            "outputs": [
                {
                    "output_type": "display_data",
                    "data": {
                        "text/html": "(8 rows affected)"
                    },
                    "metadata": {}
                },
                {
                    "output_type": "display_data",
                    "data": {
                        "text/html": "Total execution time: 00:00:00.251"
                    },
                    "metadata": {}
                },
                {
                    "output_type": "execute_result",
                    "metadata": {},
                    "execution_count": 5,
                    "data": {
                        "application/vnd.dataresource+json": {
                            "schema": {
                                "fields": [
                                    {
                                        "name": "id"
                                    },
                                    {
                                        "name": "c"
                                    }
                                ]
                            },
                            "data": [
                                {
                                    "0": "1",
                                    "1": "A"
                                },
                                {
                                    "0": "2",
                                    "1": "B"
                                },
                                {
                                    "0": "3",
                                    "1": "A"
                                },
                                {
                                    "0": "4",
                                    "1": "C"
                                },
                                {
                                    "0": "1",
                                    "1": "C"
                                },
                                {
                                    "0": "3",
                                    "1": "D"
                                },
                                {
                                    "0": "3",
                                    "1": "A"
                                },
                                {
                                    "0": "5",
                                    "1": "F"
                                }
                            ]
                        },
                        "text/html": "<table><tr><th>id</th><th>c</th></tr><tr><td>1</td><td>A</td></tr><tr><td>2</td><td>B</td></tr><tr><td>3</td><td>A</td></tr><tr><td>4</td><td>C</td></tr><tr><td>1</td><td>C</td></tr><tr><td>3</td><td>D</td></tr><tr><td>3</td><td>A</td></tr><tr><td>5</td><td>F</td></tr></table>"
                    }
                }
            ],
            "execution_count": 5
        },
        {
            "cell_type": "markdown",
            "source": [
                "**Respuesta**: Muestra la Unión de todas las filas de T1 y T2, aunque haya repeticiones."
            ],
            "metadata": {
                "azdata_cell_guid": "a384b335-d31f-4bc7-bca4-e0bf2fc545d3"
            }
        },
        {
            "cell_type": "markdown",
            "source": [
                "### Tuplas como elementos###\n",
                "Realice la misma consulta pero ahora recupere solo las columnas numericas de ambas tablas ¿ Que sucede y por qué ?"
            ],
            "metadata": {
                "azdata_cell_guid": "9b2a5437-79d0-4236-a6aa-5e0301ffa1e8"
            }
        },
        {
            "cell_type": "code",
            "source": [
                "SELECT ID FROM t1 UNION SELECT num FROM T2"
            ],
            "metadata": {
                "azdata_cell_guid": "24c4d813-e107-448f-a27a-a16f272b9154"
            },
            "outputs": [
                {
                    "output_type": "display_data",
                    "data": {
                        "text/html": "(5 rows affected)"
                    },
                    "metadata": {}
                },
                {
                    "output_type": "display_data",
                    "data": {
                        "text/html": "Total execution time: 00:00:00.083"
                    },
                    "metadata": {}
                },
                {
                    "output_type": "execute_result",
                    "metadata": {},
                    "execution_count": 6,
                    "data": {
                        "application/vnd.dataresource+json": {
                            "schema": {
                                "fields": [
                                    {
                                        "name": "ID"
                                    }
                                ]
                            },
                            "data": [
                                {
                                    "0": "1"
                                },
                                {
                                    "0": "2"
                                },
                                {
                                    "0": "3"
                                },
                                {
                                    "0": "4"
                                },
                                {
                                    "0": "5"
                                }
                            ]
                        },
                        "text/html": "<table><tr><th>ID</th></tr><tr><td>1</td></tr><tr><td>2</td></tr><tr><td>3</td></tr><tr><td>4</td></tr><tr><td>5</td></tr></table>"
                    }
                }
            ],
            "execution_count": 6
        },
        {
            "cell_type": "markdown",
            "source": [
                "**Respuesta**: Se muestra la union de los datos numericos de ambas tablas (id y num), eliminando la redundancia de valores."
            ],
            "metadata": {
                "azdata_cell_guid": "baf4075d-202c-45d1-bc64-2e0aaceb0c72"
            }
        },
        {
            "cell_type": "markdown",
            "source": [
                "## 2. INTERSECT ##\n",
                "Obtenga la intersección de ambas tablas "
            ],
            "metadata": {
                "azdata_cell_guid": "7ae5dec3-1321-4a16-9884-67dd43d8b158"
            }
        },
        {
            "cell_type": "code",
            "source": [
                "SELECT * FROM T1 INTERSECT SELECT * FROM T2"
            ],
            "metadata": {
                "azdata_cell_guid": "0146610c-134a-4f1b-8891-6418e30325f9"
            },
            "outputs": [
                {
                    "output_type": "display_data",
                    "data": {
                        "text/html": "(1 row affected)"
                    },
                    "metadata": {}
                },
                {
                    "output_type": "display_data",
                    "data": {
                        "text/html": "Total execution time: 00:00:00.188"
                    },
                    "metadata": {}
                },
                {
                    "output_type": "execute_result",
                    "metadata": {},
                    "execution_count": 7,
                    "data": {
                        "application/vnd.dataresource+json": {
                            "schema": {
                                "fields": [
                                    {
                                        "name": "id"
                                    },
                                    {
                                        "name": "c"
                                    }
                                ]
                            },
                            "data": [
                                {
                                    "0": "3",
                                    "1": "A"
                                }
                            ]
                        },
                        "text/html": "<table><tr><th>id</th><th>c</th></tr><tr><td>3</td><td>A</td></tr></table>"
                    }
                }
            ],
            "execution_count": 7
        },
        {
            "cell_type": "markdown",
            "source": [
                "## 3. EXCEPT ##\n",
                "### 3.1 ###\n",
                "Obtenga la diferencia entre T1 y T2 "
            ],
            "metadata": {
                "azdata_cell_guid": "8899d8ed-0817-45f3-9c65-2ccb42d98fcf"
            }
        },
        {
            "cell_type": "code",
            "source": [
                "SELECT * FROM T1 EXCEPT SELECT * FROM T2"
            ],
            "metadata": {
                "azdata_cell_guid": "20576e4b-e47e-4913-9f3a-dfbb307f1172"
            },
            "outputs": [
                {
                    "output_type": "display_data",
                    "data": {
                        "text/html": "(3 rows affected)"
                    },
                    "metadata": {}
                },
                {
                    "output_type": "display_data",
                    "data": {
                        "text/html": "Total execution time: 00:00:00.080"
                    },
                    "metadata": {}
                },
                {
                    "output_type": "execute_result",
                    "metadata": {},
                    "execution_count": 8,
                    "data": {
                        "application/vnd.dataresource+json": {
                            "schema": {
                                "fields": [
                                    {
                                        "name": "id"
                                    },
                                    {
                                        "name": "c"
                                    }
                                ]
                            },
                            "data": [
                                {
                                    "0": "1",
                                    "1": "A"
                                },
                                {
                                    "0": "2",
                                    "1": "B"
                                },
                                {
                                    "0": "4",
                                    "1": "C"
                                }
                            ]
                        },
                        "text/html": "<table><tr><th>id</th><th>c</th></tr><tr><td>1</td><td>A</td></tr><tr><td>2</td><td>B</td></tr><tr><td>4</td><td>C</td></tr></table>"
                    }
                }
            ],
            "execution_count": 8
        },
        {
            "cell_type": "markdown",
            "source": [
                "### 3.2### \n",
                "Obtenga los numeros que están en T1 pero no en T2"
            ],
            "metadata": {
                "azdata_cell_guid": "c7eb187a-21e4-4e8c-8dd4-d647a20faae0"
            }
        },
        {
            "cell_type": "code",
            "source": [
                "SELECT id FROM T1 EXCEPT SELECT num FROM T2"
            ],
            "metadata": {
                "azdata_cell_guid": "df4c7ae3-bc15-4606-873f-d5fd3c652c4b"
            },
            "outputs": [
                {
                    "output_type": "display_data",
                    "data": {
                        "text/html": "(2 rows affected)"
                    },
                    "metadata": {}
                },
                {
                    "output_type": "display_data",
                    "data": {
                        "text/html": "Total execution time: 00:00:00.095"
                    },
                    "metadata": {}
                },
                {
                    "output_type": "execute_result",
                    "metadata": {},
                    "execution_count": 11,
                    "data": {
                        "application/vnd.dataresource+json": {
                            "schema": {
                                "fields": [
                                    {
                                        "name": "id"
                                    }
                                ]
                            },
                            "data": [
                                {
                                    "0": "2"
                                },
                                {
                                    "0": "4"
                                }
                            ]
                        },
                        "text/html": "<table><tr><th>id</th></tr><tr><td>2</td></tr><tr><td>4</td></tr></table>"
                    }
                }
            ],
            "execution_count": 11
        }
    ]
}