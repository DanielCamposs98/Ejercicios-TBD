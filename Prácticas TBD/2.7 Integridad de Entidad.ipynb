{
    "metadata": {
        "kernelspec": {
            "name": "SQL",
            "display_name": "SQL",
            "language": "sql"
        },
        "language_info": {
            "name": "sql",
            "version": ""
        }
    },
    "nbformat_minor": 2,
    "nbformat": 4,
    "cells": [
        {
            "cell_type": "markdown",
            "source": [
                "# Identidad\n",
                "\n",
                "Sea la entidad Empleado con atributos Nombre, Apellido, RFC, CURP, NSS y Nacimiento. Como RFC y CURP tienen valores únicos, son nuestras llaves candidatas. Elijamos una de ellas como llave primaria, digamos RFC."
            ],
            "metadata": {
                "azdata_cell_guid": "891f8c81-8103-47c3-9858-62efc6d34122"
            }
        },
        {
            "cell_type": "code",
            "source": [
                "--Para dejar en blanco la base de datos PRUEBA ejecute este bloque\n",
                "--Ejecute este bloque(colapsado) para usarla \n",
                "USE master\n",
                "IF EXISTS \n",
                "   (\n",
                "     SELECT name FROM master.dbo.sysdatabases \n",
                "     WHERE name = 'Pruebas'\n",
                "    )\n",
                "    DROP DATABASE Pruebas\n",
                "GO\n",
                "\n",
                "CREATE DATABASE Pruebas\n",
                "GO\n",
                "\n",
                "use Pruebas"
            ],
            "metadata": {
                "azdata_cell_guid": "ff62390c-b6aa-4b7e-b708-03e6d45b483b",
                "tags": []
            },
            "outputs": [
                {
                    "output_type": "display_data",
                    "data": {
                        "text/html": "Commands completed successfully."
                    },
                    "metadata": {}
                },
                {
                    "output_type": "display_data",
                    "data": {
                        "text/html": "Commands completed successfully."
                    },
                    "metadata": {}
                },
                {
                    "output_type": "display_data",
                    "data": {
                        "text/html": "Commands completed successfully."
                    },
                    "metadata": {}
                },
                {
                    "output_type": "display_data",
                    "data": {
                        "text/html": "Total execution time: 00:00:05.263"
                    },
                    "metadata": {}
                }
            ],
            "execution_count": 7
        },
        {
            "cell_type": "markdown",
            "source": [
                "## Paso1 ##\n",
                "Cree la tabla `Empleados` sin llave primaria"
            ],
            "metadata": {
                "azdata_cell_guid": "159843f5-d578-4c34-83bc-4bdeba47fe28"
            }
        },
        {
            "cell_type": "code",
            "source": [
                "CREATE TABLE Empleados\n",
                "(\n",
                "    Nombre nvarchar(30), \n",
                "    Apellido nvarchar(30), \n",
                "    RFC CHAR(13), \n",
                "    CURP CHAR(18), \n",
                "    NSS CHAR(20),\n",
                "    Nacimiento DATE\n",
                ")"
            ],
            "metadata": {
                "azdata_cell_guid": "9ac7e8a8-87f1-4e8e-ae32-4eddbafd39d9"
            },
            "outputs": [
                {
                    "output_type": "display_data",
                    "data": {
                        "text/html": "Commands completed successfully."
                    },
                    "metadata": {}
                },
                {
                    "output_type": "display_data",
                    "data": {
                        "text/html": "Total execution time: 00:00:00.163"
                    },
                    "metadata": {}
                }
            ],
            "execution_count": 8
        },
        {
            "cell_type": "markdown",
            "source": [
                "¿Que sucede si intento agregar dos veces el mismo empleado? (Ejecute dos veces o mas el siguiente bloque)\n",
                "\n",
                "**Respuesta:** Se van a agregar aunque haya redundancia ya que la tabla no contiene una llave primaria.\n",
                ""
            ],
            "metadata": {
                "azdata_cell_guid": "5bbf8a79-1465-49ca-8d99-512dd67b2fc7"
            }
        },
        {
            "cell_type": "code",
            "source": [
                "--Agregamos un empleado\n",
                "INSERT into Empleados (Nombre, Apellido, RFC, CURP, NSS, Nacimiento)\n",
                "    VALUES ('Juan', 'Salinas García', 'SAGJ680701HYB', 'SAGJ6807010000000', '1234567', '19680701' )\n",
                "SELECT * from Empleados"
            ],
            "metadata": {
                "azdata_cell_guid": "c517e533-2965-42f7-88c0-7d190c559a06",
                "tags": []
            },
            "outputs": [
                {
                    "output_type": "display_data",
                    "data": {
                        "text/html": "(1 row affected)"
                    },
                    "metadata": {}
                },
                {
                    "output_type": "display_data",
                    "data": {
                        "text/html": "(2 rows affected)"
                    },
                    "metadata": {}
                },
                {
                    "output_type": "display_data",
                    "data": {
                        "text/html": "Total execution time: 00:00:00.078"
                    },
                    "metadata": {}
                },
                {
                    "output_type": "execute_result",
                    "metadata": {},
                    "execution_count": 10,
                    "data": {
                        "application/vnd.dataresource+json": {
                            "schema": {
                                "fields": [
                                    {
                                        "name": "Nombre"
                                    },
                                    {
                                        "name": "Apellido"
                                    },
                                    {
                                        "name": "RFC"
                                    },
                                    {
                                        "name": "CURP"
                                    },
                                    {
                                        "name": "NSS"
                                    },
                                    {
                                        "name": "Nacimiento"
                                    }
                                ]
                            },
                            "data": [
                                {
                                    "0": "Juan",
                                    "1": "Salinas García",
                                    "2": "SAGJ680701HYB",
                                    "3": "SAGJ6807010000000 ",
                                    "4": "1234567             ",
                                    "5": "1968-07-01"
                                },
                                {
                                    "0": "Juan",
                                    "1": "Salinas García",
                                    "2": "SAGJ680701HYB",
                                    "3": "SAGJ6807010000000 ",
                                    "4": "1234567             ",
                                    "5": "1968-07-01"
                                }
                            ]
                        },
                        "text/html": "<table><tr><th>Nombre</th><th>Apellido</th><th>RFC</th><th>CURP</th><th>NSS</th><th>Nacimiento</th></tr><tr><td>Juan</td><td>Salinas García</td><td>SAGJ680701HYB</td><td>SAGJ6807010000000 </td><td>1234567             </td><td>1968-07-01</td></tr><tr><td>Juan</td><td>Salinas García</td><td>SAGJ680701HYB</td><td>SAGJ6807010000000 </td><td>1234567             </td><td>1968-07-01</td></tr></table>"
                    }
                }
            ],
            "execution_count": 10
        },
        {
            "cell_type": "markdown",
            "source": [
                "**¡ATENCION!**\n",
                "\n",
                "Elimine todas las filas de la tabla antes de proseguir"
            ],
            "metadata": {
                "azdata_cell_guid": "b7b6b962-4e07-4957-9dcd-a3c1f3cb2556"
            }
        },
        {
            "cell_type": "code",
            "source": [
                "DELETE Empleados\r\n",
                "SELECT * FROM Empleados"
            ],
            "metadata": {
                "azdata_cell_guid": "bf414ed1-dd8d-4c39-a340-c448d0c05d40"
            },
            "outputs": [
                {
                    "output_type": "display_data",
                    "data": {
                        "text/html": "(2 rows affected)"
                    },
                    "metadata": {}
                },
                {
                    "output_type": "display_data",
                    "data": {
                        "text/html": "(0 rows affected)"
                    },
                    "metadata": {}
                },
                {
                    "output_type": "display_data",
                    "data": {
                        "text/html": "Total execution time: 00:00:00.197"
                    },
                    "metadata": {}
                },
                {
                    "output_type": "execute_result",
                    "metadata": {},
                    "execution_count": 11,
                    "data": {
                        "application/vnd.dataresource+json": {
                            "schema": {
                                "fields": [
                                    {
                                        "name": "Nombre"
                                    },
                                    {
                                        "name": "Apellido"
                                    },
                                    {
                                        "name": "RFC"
                                    },
                                    {
                                        "name": "CURP"
                                    },
                                    {
                                        "name": "NSS"
                                    },
                                    {
                                        "name": "Nacimiento"
                                    }
                                ]
                            },
                            "data": []
                        },
                        "text/html": "<table><tr><th>Nombre</th><th>Apellido</th><th>RFC</th><th>CURP</th><th>NSS</th><th>Nacimiento</th></tr></table>"
                    }
                }
            ],
            "execution_count": 11
        },
        {
            "cell_type": "markdown",
            "source": [
                "## Paso 2 ##\n",
                "Ahora agreguemos una restricción de llave primaria con la columna `RFC`. Recuerde que una llave primaria no debe permitir nulos, así que antes debemos añadir también la restriccion `NOT NULL` a la columna."
            ],
            "metadata": {
                "azdata_cell_guid": "9943fe45-ce2b-40ff-8ff2-c1fa80ee70f6"
            }
        },
        {
            "cell_type": "code",
            "source": [
                "ALTER TABLE Empleados\n",
                "    ALTER COLUMN RFC CHAR(13) NOT NULL\n",
                " GO\n",
                "ALTER TABLE Empleados\n",
                "    ADD CONSTRAINT PK_RFC PRIMARY KEY (RFC)\n",
                "\n",
                "\n",
                ""
            ],
            "metadata": {
                "azdata_cell_guid": "906d2241-3f5e-48ce-ba12-e87d6f974ec9"
            },
            "outputs": [
                {
                    "output_type": "display_data",
                    "data": {
                        "text/html": "Commands completed successfully."
                    },
                    "metadata": {}
                },
                {
                    "output_type": "display_data",
                    "data": {
                        "text/html": "Commands completed successfully."
                    },
                    "metadata": {}
                },
                {
                    "output_type": "display_data",
                    "data": {
                        "text/html": "Total execution time: 00:00:00.997"
                    },
                    "metadata": {}
                }
            ],
            "execution_count": 16
        },
        {
            "cell_type": "markdown",
            "source": [
                "Intente agregar ahora dos veces al mismo empleado ¿Que sucede?\n",
                "**Respuesta:**\n",
                "\n",
                "No permite la inserción debido a que hay una violación en la llave primaria. Por lo tanto, no es posible añadir llaves duplicadas en la tabla."
            ],
            "metadata": {
                "azdata_cell_guid": "9990a1de-fafe-46be-8066-2f0666f617a5"
            }
        },
        {
            "cell_type": "code",
            "source": [
                "INSERT into Empleados (Nombre, Apellido, RFC, CURP, NSS, Nacimiento)\n",
                "    VALUES ('Juan', 'Salinas García', 'SAGJ680701HYB', 'SAGJ6807010000000', '1234567', '19680701' )\n",
                "SELECT * from Empleados"
            ],
            "metadata": {
                "azdata_cell_guid": "8385591e-cb6e-4669-a33b-bc9f88105745"
            },
            "outputs": [
                {
                    "output_type": "error",
                    "evalue": "Msg 2627, Level 14, State 1, Line 1\r\nViolation of PRIMARY KEY constraint 'PK_RFC'. Cannot insert duplicate key in object 'dbo.Empleados'. The duplicate key value is (SAGJ680701HYB).",
                    "ename": "",
                    "traceback": []
                },
                {
                    "output_type": "display_data",
                    "data": {
                        "text/html": "The statement has been terminated."
                    },
                    "metadata": {}
                },
                {
                    "output_type": "display_data",
                    "data": {
                        "text/html": "(1 row affected)"
                    },
                    "metadata": {}
                },
                {
                    "output_type": "display_data",
                    "data": {
                        "text/html": "Total execution time: 00:00:00.206"
                    },
                    "metadata": {}
                },
                {
                    "output_type": "execute_result",
                    "metadata": {},
                    "execution_count": 18,
                    "data": {
                        "application/vnd.dataresource+json": {
                            "schema": {
                                "fields": [
                                    {
                                        "name": "Nombre"
                                    },
                                    {
                                        "name": "Apellido"
                                    },
                                    {
                                        "name": "RFC"
                                    },
                                    {
                                        "name": "CURP"
                                    },
                                    {
                                        "name": "NSS"
                                    },
                                    {
                                        "name": "Nacimiento"
                                    }
                                ]
                            },
                            "data": [
                                {
                                    "0": "Juan",
                                    "1": "Salinas García",
                                    "2": "SAGJ680701HYB",
                                    "3": "SAGJ6807010000000 ",
                                    "4": "1234567             ",
                                    "5": "1968-07-01"
                                }
                            ]
                        },
                        "text/html": "<table><tr><th>Nombre</th><th>Apellido</th><th>RFC</th><th>CURP</th><th>NSS</th><th>Nacimiento</th></tr><tr><td>Juan</td><td>Salinas García</td><td>SAGJ680701HYB</td><td>SAGJ6807010000000 </td><td>1234567             </td><td>1968-07-01</td></tr></table>"
                    }
                }
            ],
            "execution_count": 18
        },
        {
            "cell_type": "markdown",
            "source": [
                "## Paso 3##\n",
                "Para mostrar los indices de una tabla usamos `sp_helpindex [ @objname = ] 'name' `"
            ],
            "metadata": {
                "azdata_cell_guid": "c1e5c7f2-9ece-4081-9c23-43c9f2e88eb0"
            }
        },
        {
            "cell_type": "code",
            "source": [
                "--Muestre los indices de la tabla Empleados\n",
                "sp_helpindex Empleados\n",
                ""
            ],
            "metadata": {
                "azdata_cell_guid": "2ee6bac2-5332-4b6f-a776-317d150c968b",
                "tags": []
            },
            "outputs": [
                {
                    "output_type": "display_data",
                    "data": {
                        "text/html": "Commands completed successfully."
                    },
                    "metadata": {}
                },
                {
                    "output_type": "display_data",
                    "data": {
                        "text/html": "Total execution time: 00:00:01.765"
                    },
                    "metadata": {}
                },
                {
                    "output_type": "execute_result",
                    "metadata": {},
                    "execution_count": 22,
                    "data": {
                        "application/vnd.dataresource+json": {
                            "schema": {
                                "fields": [
                                    {
                                        "name": "index_name"
                                    },
                                    {
                                        "name": "index_description"
                                    },
                                    {
                                        "name": "index_keys"
                                    }
                                ]
                            },
                            "data": [
                                {
                                    "0": "PK_RFC",
                                    "1": "clustered, unique, primary key located on PRIMARY",
                                    "2": "RFC"
                                }
                            ]
                        },
                        "text/html": "<table><tr><th>index_name</th><th>index_description</th><th>index_keys</th></tr><tr><td>PK_RFC</td><td>clustered, unique, primary key located on PRIMARY</td><td>RFC</td></tr></table>"
                    }
                }
            ],
            "execution_count": 22
        },
        {
            "cell_type": "markdown",
            "source": [
                "## Paso 4 #\n",
                "\n",
                "Supongamos que cambiamos de idea y queremos que la llave primaria sea `CURP`. Para eso tenemos que eliminar la propiedad `PRIMARY KEY` de `RFC` con `ALTER TABLE ... DROP CONSTRAINT ` y luego ponerla en `CURP`"
            ],
            "metadata": {
                "azdata_cell_guid": "e4016f0b-0e70-41a6-8e23-c07e625e14c0"
            }
        },
        {
            "cell_type": "code",
            "source": [
                "ALTER TABLE Empleados DROP CONSTRAINT PK_RFC\r\n",
                "GO \r\n",
                "ALTER TABLE Empleados ALTER COLUMN CURP CHAR(18) NOT NULL\r\n",
                "GO\r\n",
                "ALTER TABLE Empleados ADD CONSTRAINT PK_CURP PRIMARY KEY(CURP)\r\n",
                ""
            ],
            "metadata": {
                "azdata_cell_guid": "8128d21f-10ab-41d4-8844-0c49cb188ebf",
                "tags": []
            },
            "outputs": [
                {
                    "output_type": "error",
                    "evalue": "Msg 3728, Level 16, State 1, Line 1\r\n'PK_RFC' is not a constraint.",
                    "ename": "",
                    "traceback": []
                },
                {
                    "output_type": "error",
                    "evalue": "Msg 3727, Level 16, State 0, Line 1\r\nCould not drop constraint. See previous errors.",
                    "ename": "",
                    "traceback": []
                },
                {
                    "output_type": "display_data",
                    "data": {
                        "text/html": "Commands completed successfully."
                    },
                    "metadata": {}
                },
                {
                    "output_type": "display_data",
                    "data": {
                        "text/html": "Commands completed successfully."
                    },
                    "metadata": {}
                },
                {
                    "output_type": "display_data",
                    "data": {
                        "text/html": "Total execution time: 00:00:00.667"
                    },
                    "metadata": {}
                }
            ],
            "execution_count": 24
        },
        {
            "cell_type": "markdown",
            "source": [
                "¿Se puede agregar ahora un empleado con CURP unico pero RFC repetido? Respuesta: Si es posible, ya que la unica restriccion que hay es en el CURP."
            ],
            "metadata": {
                "azdata_cell_guid": "9151cd2c-da6d-4c01-9a45-9a3482339adc"
            }
        },
        {
            "cell_type": "code",
            "source": [
                "INSERT INTO Empleados (Nombre, Apellido, RFC, CURP, NSS, Nacimiento) VALUES ('Daniel','Campos','CAMF981214CT8','CAMF981214HSLMDR06',1234567,'19981214')\r\n",
                "\r\n",
                "INSERT INTO Empleados (Nombre, Apellido, RFC, CURP, NSS, Nacimiento) VALUES ('Daniel','Campos','CAMF981214CT8','CAMF981214HSLMDR10',1234567,'19981214')"
            ],
            "metadata": {
                "azdata_cell_guid": "d8efa1b6-8466-4fb7-ae87-21522b840398"
            },
            "outputs": [
                {
                    "output_type": "display_data",
                    "data": {
                        "text/html": "(1 row affected)"
                    },
                    "metadata": {}
                },
                {
                    "output_type": "display_data",
                    "data": {
                        "text/html": "(1 row affected)"
                    },
                    "metadata": {}
                },
                {
                    "output_type": "display_data",
                    "data": {
                        "text/html": "Total execution time: 00:00:00.042"
                    },
                    "metadata": {}
                }
            ],
            "execution_count": 25
        },
        {
            "cell_type": "code",
            "source": [
                "SELECT * FROM Empleados"
            ],
            "metadata": {
                "azdata_cell_guid": "fc756573-45dc-4058-abad-0f73beec891a"
            },
            "outputs": [
                {
                    "output_type": "display_data",
                    "data": {
                        "text/html": "(3 rows affected)"
                    },
                    "metadata": {}
                },
                {
                    "output_type": "display_data",
                    "data": {
                        "text/html": "Total execution time: 00:00:00.189"
                    },
                    "metadata": {}
                },
                {
                    "output_type": "execute_result",
                    "metadata": {},
                    "execution_count": 26,
                    "data": {
                        "application/vnd.dataresource+json": {
                            "schema": {
                                "fields": [
                                    {
                                        "name": "Nombre"
                                    },
                                    {
                                        "name": "Apellido"
                                    },
                                    {
                                        "name": "RFC"
                                    },
                                    {
                                        "name": "CURP"
                                    },
                                    {
                                        "name": "NSS"
                                    },
                                    {
                                        "name": "Nacimiento"
                                    }
                                ]
                            },
                            "data": [
                                {
                                    "0": "Daniel",
                                    "1": "Campos",
                                    "2": "CAMF981214CT8",
                                    "3": "CAMF981214HSLMDR06",
                                    "4": "1234567             ",
                                    "5": "1998-12-14"
                                },
                                {
                                    "0": "Daniel",
                                    "1": "Campos",
                                    "2": "CAMF981214CT8",
                                    "3": "CAMF981214HSLMDR10",
                                    "4": "1234567             ",
                                    "5": "1998-12-14"
                                },
                                {
                                    "0": "Juan",
                                    "1": "Salinas García",
                                    "2": "SAGJ680701HYB",
                                    "3": "SAGJ6807010000000 ",
                                    "4": "1234567             ",
                                    "5": "1968-07-01"
                                }
                            ]
                        },
                        "text/html": "<table><tr><th>Nombre</th><th>Apellido</th><th>RFC</th><th>CURP</th><th>NSS</th><th>Nacimiento</th></tr><tr><td>Daniel</td><td>Campos</td><td>CAMF981214CT8</td><td>CAMF981214HSLMDR06</td><td>1234567             </td><td>1998-12-14</td></tr><tr><td>Daniel</td><td>Campos</td><td>CAMF981214CT8</td><td>CAMF981214HSLMDR10</td><td>1234567             </td><td>1998-12-14</td></tr><tr><td>Juan</td><td>Salinas García</td><td>SAGJ680701HYB</td><td>SAGJ6807010000000 </td><td>1234567             </td><td>1968-07-01</td></tr></table>"
                    }
                }
            ],
            "execution_count": 26
        },
        {
            "cell_type": "markdown",
            "source": [
                "¿Como lo podemos evitar? \n",
                "\n",
                "**Respuesta**\n",
                "\n",
                "Modificando la columna RFC como UNIQUE"
            ],
            "metadata": {
                "azdata_cell_guid": "e35069ac-03d6-41c9-800a-12d2f6c121be"
            }
        },
        {
            "cell_type": "markdown",
            "source": [
                "# Unique #\n",
                "\n",
                "Agreguemos entonces una restricción `UNIQUE` a la tabla `Empleados` sobre la columna `RFC`\n",
                ""
            ],
            "metadata": {
                "azdata_cell_guid": "1ac8a2b2-5670-413c-97f8-70cb4a40d8ed"
            }
        },
        {
            "cell_type": "code",
            "source": [
                "DELETE Empleados"
            ],
            "metadata": {
                "azdata_cell_guid": "5a197d20-b428-4a9d-863e-cd409d6c09e6"
            },
            "outputs": [
                {
                    "output_type": "display_data",
                    "data": {
                        "text/html": "(3 rows affected)"
                    },
                    "metadata": {}
                },
                {
                    "output_type": "display_data",
                    "data": {
                        "text/html": "Total execution time: 00:00:00.129"
                    },
                    "metadata": {}
                }
            ],
            "execution_count": 29
        },
        {
            "cell_type": "code",
            "source": [
                "ALTER TABLE Empleados\n",
                "    ADD CONSTRAINT Unique_RFC UNIQUE(RFC)\n",
                "\n",
                ""
            ],
            "metadata": {
                "azdata_cell_guid": "9fe58480-fe19-4db1-9bfa-fb664daf2a02"
            },
            "outputs": [
                {
                    "output_type": "display_data",
                    "data": {
                        "text/html": "Commands completed successfully."
                    },
                    "metadata": {}
                },
                {
                    "output_type": "display_data",
                    "data": {
                        "text/html": "Total execution time: 00:00:00.038"
                    },
                    "metadata": {}
                }
            ],
            "execution_count": 30
        },
        {
            "cell_type": "markdown",
            "source": [
                "Intente ahora agregar un RFC repetido"
            ],
            "metadata": {
                "azdata_cell_guid": "e19bbca2-1b21-4748-99d0-81b7b33f9da6"
            }
        },
        {
            "cell_type": "code",
            "source": [
                "INSERT INTO Empleados (Nombre, Apellido, RFC, CURP, NSS, Nacimiento) VALUES ('Daniel','Campos','CAMF981214CT8','CAMF981214HSLMDR06',1234567,'19981214')\r\n",
                "INSERT INTO Empleados (Nombre, Apellido, RFC, CURP, NSS, Nacimiento) VALUES ('Daniel','Campos','CAMF981214CT8','CAMF981214HSLMDR10',1234567,'19981214')\r\n",
                ""
            ],
            "metadata": {
                "azdata_cell_guid": "0bc75978-728f-463c-9851-d4dc23d2440a"
            },
            "outputs": [
                {
                    "output_type": "display_data",
                    "data": {
                        "text/html": "(1 row affected)"
                    },
                    "metadata": {}
                },
                {
                    "output_type": "error",
                    "evalue": "Msg 2627, Level 14, State 1, Line 2\r\nViolation of UNIQUE KEY constraint 'Unique_RFC'. Cannot insert duplicate key in object 'dbo.Empleados'. The duplicate key value is (CAMF981214CT8).",
                    "ename": "",
                    "traceback": []
                },
                {
                    "output_type": "display_data",
                    "data": {
                        "text/html": "The statement has been terminated."
                    },
                    "metadata": {}
                },
                {
                    "output_type": "display_data",
                    "data": {
                        "text/html": "Total execution time: 00:00:00.031"
                    },
                    "metadata": {}
                }
            ],
            "execution_count": 33
        },
        {
            "cell_type": "code",
            "source": [
                "SELECT * FROM Empleados"
            ],
            "metadata": {
                "azdata_cell_guid": "05786262-ecd4-4fe9-9c68-55edba868fc7"
            },
            "outputs": [
                {
                    "output_type": "display_data",
                    "data": {
                        "text/html": "(1 row affected)"
                    },
                    "metadata": {}
                },
                {
                    "output_type": "display_data",
                    "data": {
                        "text/html": "Total execution time: 00:00:00.074"
                    },
                    "metadata": {}
                },
                {
                    "output_type": "execute_result",
                    "metadata": {},
                    "execution_count": 34,
                    "data": {
                        "application/vnd.dataresource+json": {
                            "schema": {
                                "fields": [
                                    {
                                        "name": "Nombre"
                                    },
                                    {
                                        "name": "Apellido"
                                    },
                                    {
                                        "name": "RFC"
                                    },
                                    {
                                        "name": "CURP"
                                    },
                                    {
                                        "name": "NSS"
                                    },
                                    {
                                        "name": "Nacimiento"
                                    }
                                ]
                            },
                            "data": [
                                {
                                    "0": "Daniel",
                                    "1": "Campos",
                                    "2": "CAMF981214CT8",
                                    "3": "CAMF981214HSLMDR06",
                                    "4": "1234567             ",
                                    "5": "1998-12-14"
                                }
                            ]
                        },
                        "text/html": "<table><tr><th>Nombre</th><th>Apellido</th><th>RFC</th><th>CURP</th><th>NSS</th><th>Nacimiento</th></tr><tr><td>Daniel</td><td>Campos</td><td>CAMF981214CT8</td><td>CAMF981214HSLMDR06</td><td>1234567             </td><td>1998-12-14</td></tr></table>"
                    }
                }
            ],
            "execution_count": 34
        },
        {
            "cell_type": "markdown",
            "source": [
                "Revise los indices de la tabla Empleados"
            ],
            "metadata": {
                "azdata_cell_guid": "fa7f856d-1f85-4292-90ba-1008edc83d91"
            }
        },
        {
            "cell_type": "code",
            "source": [
                "sp_helpindex Empleados"
            ],
            "metadata": {
                "azdata_cell_guid": "518d7560-39f8-4a0c-9414-a12c87c2fec8"
            },
            "outputs": [
                {
                    "output_type": "display_data",
                    "data": {
                        "text/html": "Commands completed successfully."
                    },
                    "metadata": {}
                },
                {
                    "output_type": "display_data",
                    "data": {
                        "text/html": "Total execution time: 00:00:00.548"
                    },
                    "metadata": {}
                },
                {
                    "output_type": "execute_result",
                    "metadata": {},
                    "execution_count": 35,
                    "data": {
                        "application/vnd.dataresource+json": {
                            "schema": {
                                "fields": [
                                    {
                                        "name": "index_name"
                                    },
                                    {
                                        "name": "index_description"
                                    },
                                    {
                                        "name": "index_keys"
                                    }
                                ]
                            },
                            "data": [
                                {
                                    "0": "PK_CURP",
                                    "1": "clustered, unique, primary key located on PRIMARY",
                                    "2": "CURP"
                                },
                                {
                                    "0": "Unique_RFC",
                                    "1": "nonclustered, unique, unique key located on PRIMARY",
                                    "2": "RFC"
                                }
                            ]
                        },
                        "text/html": "<table><tr><th>index_name</th><th>index_description</th><th>index_keys</th></tr><tr><td>PK_CURP</td><td>clustered, unique, primary key located on PRIMARY</td><td>CURP</td></tr><tr><td>Unique_RFC</td><td>nonclustered, unique, unique key located on PRIMARY</td><td>RFC</td></tr></table>"
                    }
                }
            ],
            "execution_count": 35
        }
    ]
}