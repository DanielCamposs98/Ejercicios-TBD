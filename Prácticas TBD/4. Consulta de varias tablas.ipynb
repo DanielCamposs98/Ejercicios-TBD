{
    "metadata": {
        "kernelspec": {
            "name": "SQL",
            "display_name": "SQL",
            "language": "sql"
        },
        "language_info": {
            "name": "sql",
            "version": ""
        }
    },
    "nbformat_minor": 2,
    "nbformat": 4,
    "cells": [
        {
            "cell_type": "markdown",
            "source": [
                "# Reunión de tablas #\n",
                "\n",
                "SELECT específica columnas de múltiples tablas <BR>\n",
                "JOIN especifica que tablas participan en la consulta <BR>\n",
                "ON especifica la condición de la consulta<BR>\n",
                "<p>Para producir un resultado de una tabla usa las llaves primarias y foráneas como parte de la condición\n",
                ""
            ],
            "metadata": {
                "azdata_cell_guid": "5ad1701b-c7f5-497b-b9a2-8de98ef7408c"
            }
        },
        {
            "cell_type": "code",
            "source": [
                "use master\n",
                "\n",
                "IF EXISTS  \n",
                "    ( \n",
                "        SELECT name FROM master.dbo.sysdatabases  \n",
                "        WHERE name = 'Pruebas' \n",
                "    ) \n",
                "    DROP DATABASE Pruebas \n",
                "GO \n",
                "    \n",
                "CREATE DATABASE Pruebas \n",
                "GO \n",
                "use Pruebas"
            ],
            "metadata": {
                "azdata_cell_guid": "28c19c5b-2fde-4e92-9963-9d1e296380be",
                "tags": []
            },
            "outputs": [
                {
                    "output_type": "display_data",
                    "data": {
                        "text/html": "Commands completed successfully."
                    },
                    "metadata": {}
                },
                {
                    "output_type": "display_data",
                    "data": {
                        "text/html": "Commands completed successfully."
                    },
                    "metadata": {}
                },
                {
                    "output_type": "display_data",
                    "data": {
                        "text/html": "Commands completed successfully."
                    },
                    "metadata": {}
                },
                {
                    "output_type": "display_data",
                    "data": {
                        "text/html": "Total execution time: 00:00:01.989"
                    },
                    "metadata": {}
                }
            ],
            "execution_count": 1
        },
        {
            "cell_type": "code",
            "source": [
                "USE PRUEBAS\n",
                "CREATE TABLE Departamentos\n",
                "(\n",
                "    idDepartamento INT NOT NULL PRIMARY KEY,\n",
                "    NombreDepto NVARCHAR (30)\n",
                ")\n",
                "\n",
                "CREATE TABLE Empleados\n",
                "(\n",
                "    idEmpleado INT PRIMARY KEY NOT NULL,\n",
                "    NombreEmp NVARCHAR(30), \n",
                "    idDepartamento INT --FOREIGN KEY REFERENCES Departamentos(idDepartamento)\n",
                ")\n",
                "\n",
                "\n",
                ""
            ],
            "metadata": {
                "azdata_cell_guid": "0ee558e1-16e1-4899-bcbb-1ddbd7b5df84",
                "tags": []
            },
            "outputs": [
                {
                    "output_type": "display_data",
                    "data": {
                        "text/html": "Commands completed successfully."
                    },
                    "metadata": {}
                },
                {
                    "output_type": "display_data",
                    "data": {
                        "text/html": "Total execution time: 00:00:00.105"
                    },
                    "metadata": {}
                }
            ],
            "execution_count": 2
        },
        {
            "cell_type": "code",
            "source": [
                "USE PRUEBAS\n",
                "insert into Departamentos\n",
                "    (idDepartamento, NombreDepto)\n",
                "    VALUES \n",
                "    (101, 'Ventas'),\n",
                "    (102, 'Mercadotecnia'),\n",
                "    (103, 'Producción'),\n",
                "    (104, 'Sistemas')\n",
                "\n",
                "insert into Empleados\n",
                "    (idEmpleado, NombreEmp, idDepartamento)\n",
                "    VALUES \n",
                "    (301, 'Rodolfo', 101),\n",
                "    (302, 'Federico', 102),\n",
                "    (303, 'Enrique', null),\n",
                "    (304, 'Manuel', 105)\n",
                "\n",
                ""
            ],
            "metadata": {
                "azdata_cell_guid": "30d74f8b-319d-41dd-9a25-5c53f20b6a5b",
                "tags": []
            },
            "outputs": [
                {
                    "output_type": "display_data",
                    "data": {
                        "text/html": "(4 rows affected)"
                    },
                    "metadata": {}
                },
                {
                    "output_type": "display_data",
                    "data": {
                        "text/html": "(4 rows affected)"
                    },
                    "metadata": {}
                },
                {
                    "output_type": "display_data",
                    "data": {
                        "text/html": "Total execution time: 00:00:00.034"
                    },
                    "metadata": {}
                }
            ],
            "execution_count": 3
        },
        {
            "cell_type": "markdown",
            "source": [
                "Los diferentes tipos de `JOIN` están basados en el producto cartesiano de las tablas que reune, se puede expresar de dos formas"
            ],
            "metadata": {
                "azdata_cell_guid": "847c6619-ed0e-4b4e-af4c-665ba4f7e0fa"
            }
        },
        {
            "cell_type": "code",
            "source": [
                "USE PRUEBAS\n",
                "SELECT * from Empleados, Departamentos\n",
                ""
            ],
            "metadata": {
                "azdata_cell_guid": "4c4effab-fa26-4966-993c-80346cfb5c9a"
            },
            "outputs": [
                {
                    "output_type": "display_data",
                    "data": {
                        "text/html": "(16 rows affected)"
                    },
                    "metadata": {}
                },
                {
                    "output_type": "display_data",
                    "data": {
                        "text/html": "Total execution time: 00:00:00.082"
                    },
                    "metadata": {}
                },
                {
                    "output_type": "execute_result",
                    "metadata": {},
                    "execution_count": 4,
                    "data": {
                        "application/vnd.dataresource+json": {
                            "schema": {
                                "fields": [
                                    {
                                        "name": "idEmpleado"
                                    },
                                    {
                                        "name": "NombreEmp"
                                    },
                                    {
                                        "name": "idDepartamento"
                                    },
                                    {
                                        "name": "idDepartamento"
                                    },
                                    {
                                        "name": "NombreDepto"
                                    }
                                ]
                            },
                            "data": [
                                {
                                    "0": "301",
                                    "1": "Rodolfo",
                                    "2": "101",
                                    "3": "101",
                                    "4": "Ventas"
                                },
                                {
                                    "0": "302",
                                    "1": "Federico",
                                    "2": "102",
                                    "3": "101",
                                    "4": "Ventas"
                                },
                                {
                                    "0": "303",
                                    "1": "Enrique",
                                    "2": "NULL",
                                    "3": "101",
                                    "4": "Ventas"
                                },
                                {
                                    "0": "304",
                                    "1": "Manuel",
                                    "2": "105",
                                    "3": "101",
                                    "4": "Ventas"
                                },
                                {
                                    "0": "301",
                                    "1": "Rodolfo",
                                    "2": "101",
                                    "3": "102",
                                    "4": "Mercadotecnia"
                                },
                                {
                                    "0": "302",
                                    "1": "Federico",
                                    "2": "102",
                                    "3": "102",
                                    "4": "Mercadotecnia"
                                },
                                {
                                    "0": "303",
                                    "1": "Enrique",
                                    "2": "NULL",
                                    "3": "102",
                                    "4": "Mercadotecnia"
                                },
                                {
                                    "0": "304",
                                    "1": "Manuel",
                                    "2": "105",
                                    "3": "102",
                                    "4": "Mercadotecnia"
                                },
                                {
                                    "0": "301",
                                    "1": "Rodolfo",
                                    "2": "101",
                                    "3": "103",
                                    "4": "Producción"
                                },
                                {
                                    "0": "302",
                                    "1": "Federico",
                                    "2": "102",
                                    "3": "103",
                                    "4": "Producción"
                                },
                                {
                                    "0": "303",
                                    "1": "Enrique",
                                    "2": "NULL",
                                    "3": "103",
                                    "4": "Producción"
                                },
                                {
                                    "0": "304",
                                    "1": "Manuel",
                                    "2": "105",
                                    "3": "103",
                                    "4": "Producción"
                                },
                                {
                                    "0": "301",
                                    "1": "Rodolfo",
                                    "2": "101",
                                    "3": "104",
                                    "4": "Sistemas"
                                },
                                {
                                    "0": "302",
                                    "1": "Federico",
                                    "2": "102",
                                    "3": "104",
                                    "4": "Sistemas"
                                },
                                {
                                    "0": "303",
                                    "1": "Enrique",
                                    "2": "NULL",
                                    "3": "104",
                                    "4": "Sistemas"
                                },
                                {
                                    "0": "304",
                                    "1": "Manuel",
                                    "2": "105",
                                    "3": "104",
                                    "4": "Sistemas"
                                }
                            ]
                        },
                        "text/html": "<table><tr><th>idEmpleado</th><th>NombreEmp</th><th>idDepartamento</th><th>idDepartamento</th><th>NombreDepto</th></tr><tr><td>301</td><td>Rodolfo</td><td>101</td><td>101</td><td>Ventas</td></tr><tr><td>302</td><td>Federico</td><td>102</td><td>101</td><td>Ventas</td></tr><tr><td>303</td><td>Enrique</td><td>NULL</td><td>101</td><td>Ventas</td></tr><tr><td>304</td><td>Manuel</td><td>105</td><td>101</td><td>Ventas</td></tr><tr><td>301</td><td>Rodolfo</td><td>101</td><td>102</td><td>Mercadotecnia</td></tr><tr><td>302</td><td>Federico</td><td>102</td><td>102</td><td>Mercadotecnia</td></tr><tr><td>303</td><td>Enrique</td><td>NULL</td><td>102</td><td>Mercadotecnia</td></tr><tr><td>304</td><td>Manuel</td><td>105</td><td>102</td><td>Mercadotecnia</td></tr><tr><td>301</td><td>Rodolfo</td><td>101</td><td>103</td><td>Producción</td></tr><tr><td>302</td><td>Federico</td><td>102</td><td>103</td><td>Producción</td></tr><tr><td>303</td><td>Enrique</td><td>NULL</td><td>103</td><td>Producción</td></tr><tr><td>304</td><td>Manuel</td><td>105</td><td>103</td><td>Producción</td></tr><tr><td>301</td><td>Rodolfo</td><td>101</td><td>104</td><td>Sistemas</td></tr><tr><td>302</td><td>Federico</td><td>102</td><td>104</td><td>Sistemas</td></tr><tr><td>303</td><td>Enrique</td><td>NULL</td><td>104</td><td>Sistemas</td></tr><tr><td>304</td><td>Manuel</td><td>105</td><td>104</td><td>Sistemas</td></tr></table>"
                    }
                }
            ],
            "execution_count": 4
        },
        {
            "cell_type": "code",
            "source": [
                "USE PRUEBAS\n",
                "SELECT * FROM Empleados\n",
                "    CROSS JOIN Departamentos\n",
                ""
            ],
            "metadata": {
                "azdata_cell_guid": "be2134d1-f7f7-49ac-95bd-a85c90d07ad2"
            },
            "outputs": [
                {
                    "output_type": "display_data",
                    "data": {
                        "text/html": "(16 rows affected)"
                    },
                    "metadata": {}
                },
                {
                    "output_type": "display_data",
                    "data": {
                        "text/html": "Total execution time: 00:00:00.057"
                    },
                    "metadata": {}
                },
                {
                    "output_type": "execute_result",
                    "metadata": {},
                    "execution_count": 5,
                    "data": {
                        "application/vnd.dataresource+json": {
                            "schema": {
                                "fields": [
                                    {
                                        "name": "idEmpleado"
                                    },
                                    {
                                        "name": "NombreEmp"
                                    },
                                    {
                                        "name": "idDepartamento"
                                    },
                                    {
                                        "name": "idDepartamento"
                                    },
                                    {
                                        "name": "NombreDepto"
                                    }
                                ]
                            },
                            "data": [
                                {
                                    "0": "301",
                                    "1": "Rodolfo",
                                    "2": "101",
                                    "3": "101",
                                    "4": "Ventas"
                                },
                                {
                                    "0": "302",
                                    "1": "Federico",
                                    "2": "102",
                                    "3": "101",
                                    "4": "Ventas"
                                },
                                {
                                    "0": "303",
                                    "1": "Enrique",
                                    "2": "NULL",
                                    "3": "101",
                                    "4": "Ventas"
                                },
                                {
                                    "0": "304",
                                    "1": "Manuel",
                                    "2": "105",
                                    "3": "101",
                                    "4": "Ventas"
                                },
                                {
                                    "0": "301",
                                    "1": "Rodolfo",
                                    "2": "101",
                                    "3": "102",
                                    "4": "Mercadotecnia"
                                },
                                {
                                    "0": "302",
                                    "1": "Federico",
                                    "2": "102",
                                    "3": "102",
                                    "4": "Mercadotecnia"
                                },
                                {
                                    "0": "303",
                                    "1": "Enrique",
                                    "2": "NULL",
                                    "3": "102",
                                    "4": "Mercadotecnia"
                                },
                                {
                                    "0": "304",
                                    "1": "Manuel",
                                    "2": "105",
                                    "3": "102",
                                    "4": "Mercadotecnia"
                                },
                                {
                                    "0": "301",
                                    "1": "Rodolfo",
                                    "2": "101",
                                    "3": "103",
                                    "4": "Producción"
                                },
                                {
                                    "0": "302",
                                    "1": "Federico",
                                    "2": "102",
                                    "3": "103",
                                    "4": "Producción"
                                },
                                {
                                    "0": "303",
                                    "1": "Enrique",
                                    "2": "NULL",
                                    "3": "103",
                                    "4": "Producción"
                                },
                                {
                                    "0": "304",
                                    "1": "Manuel",
                                    "2": "105",
                                    "3": "103",
                                    "4": "Producción"
                                },
                                {
                                    "0": "301",
                                    "1": "Rodolfo",
                                    "2": "101",
                                    "3": "104",
                                    "4": "Sistemas"
                                },
                                {
                                    "0": "302",
                                    "1": "Federico",
                                    "2": "102",
                                    "3": "104",
                                    "4": "Sistemas"
                                },
                                {
                                    "0": "303",
                                    "1": "Enrique",
                                    "2": "NULL",
                                    "3": "104",
                                    "4": "Sistemas"
                                },
                                {
                                    "0": "304",
                                    "1": "Manuel",
                                    "2": "105",
                                    "3": "104",
                                    "4": "Sistemas"
                                }
                            ]
                        },
                        "text/html": "<table><tr><th>idEmpleado</th><th>NombreEmp</th><th>idDepartamento</th><th>idDepartamento</th><th>NombreDepto</th></tr><tr><td>301</td><td>Rodolfo</td><td>101</td><td>101</td><td>Ventas</td></tr><tr><td>302</td><td>Federico</td><td>102</td><td>101</td><td>Ventas</td></tr><tr><td>303</td><td>Enrique</td><td>NULL</td><td>101</td><td>Ventas</td></tr><tr><td>304</td><td>Manuel</td><td>105</td><td>101</td><td>Ventas</td></tr><tr><td>301</td><td>Rodolfo</td><td>101</td><td>102</td><td>Mercadotecnia</td></tr><tr><td>302</td><td>Federico</td><td>102</td><td>102</td><td>Mercadotecnia</td></tr><tr><td>303</td><td>Enrique</td><td>NULL</td><td>102</td><td>Mercadotecnia</td></tr><tr><td>304</td><td>Manuel</td><td>105</td><td>102</td><td>Mercadotecnia</td></tr><tr><td>301</td><td>Rodolfo</td><td>101</td><td>103</td><td>Producción</td></tr><tr><td>302</td><td>Federico</td><td>102</td><td>103</td><td>Producción</td></tr><tr><td>303</td><td>Enrique</td><td>NULL</td><td>103</td><td>Producción</td></tr><tr><td>304</td><td>Manuel</td><td>105</td><td>103</td><td>Producción</td></tr><tr><td>301</td><td>Rodolfo</td><td>101</td><td>104</td><td>Sistemas</td></tr><tr><td>302</td><td>Federico</td><td>102</td><td>104</td><td>Sistemas</td></tr><tr><td>303</td><td>Enrique</td><td>NULL</td><td>104</td><td>Sistemas</td></tr><tr><td>304</td><td>Manuel</td><td>105</td><td>104</td><td>Sistemas</td></tr></table>"
                    }
                }
            ],
            "execution_count": 5
        },
        {
            "cell_type": "markdown",
            "source": [
                "## INNER JOIN\n",
                "\n",
                "Recupera las filas de las tablas participantes donde coincidan los valores de las columnas "
            ],
            "metadata": {
                "azdata_cell_guid": "16849c13-539d-4789-ba0a-54cdbfbcc8ab"
            }
        },
        {
            "cell_type": "code",
            "source": [
                "SELECT * FROM Empleados\r\n",
                "SELECT * FROM Departamentos"
            ],
            "metadata": {
                "azdata_cell_guid": "6680f155-2d9f-4cc8-b255-d1b8b92a3cfe"
            },
            "outputs": [
                {
                    "output_type": "display_data",
                    "data": {
                        "text/html": "(4 rows affected)"
                    },
                    "metadata": {}
                },
                {
                    "output_type": "display_data",
                    "data": {
                        "text/html": "(4 rows affected)"
                    },
                    "metadata": {}
                },
                {
                    "output_type": "display_data",
                    "data": {
                        "text/html": "Total execution time: 00:00:00.085"
                    },
                    "metadata": {}
                },
                {
                    "output_type": "execute_result",
                    "metadata": {},
                    "execution_count": 6,
                    "data": {
                        "application/vnd.dataresource+json": {
                            "schema": {
                                "fields": [
                                    {
                                        "name": "idEmpleado"
                                    },
                                    {
                                        "name": "NombreEmp"
                                    },
                                    {
                                        "name": "idDepartamento"
                                    }
                                ]
                            },
                            "data": [
                                {
                                    "0": "301",
                                    "1": "Rodolfo",
                                    "2": "101"
                                },
                                {
                                    "0": "302",
                                    "1": "Federico",
                                    "2": "102"
                                },
                                {
                                    "0": "303",
                                    "1": "Enrique",
                                    "2": "NULL"
                                },
                                {
                                    "0": "304",
                                    "1": "Manuel",
                                    "2": "105"
                                }
                            ]
                        },
                        "text/html": "<table><tr><th>idEmpleado</th><th>NombreEmp</th><th>idDepartamento</th></tr><tr><td>301</td><td>Rodolfo</td><td>101</td></tr><tr><td>302</td><td>Federico</td><td>102</td></tr><tr><td>303</td><td>Enrique</td><td>NULL</td></tr><tr><td>304</td><td>Manuel</td><td>105</td></tr></table>"
                    }
                },
                {
                    "output_type": "execute_result",
                    "metadata": {},
                    "execution_count": 6,
                    "data": {
                        "application/vnd.dataresource+json": {
                            "schema": {
                                "fields": [
                                    {
                                        "name": "idDepartamento"
                                    },
                                    {
                                        "name": "NombreDepto"
                                    }
                                ]
                            },
                            "data": [
                                {
                                    "0": "101",
                                    "1": "Ventas"
                                },
                                {
                                    "0": "102",
                                    "1": "Mercadotecnia"
                                },
                                {
                                    "0": "103",
                                    "1": "Producción"
                                },
                                {
                                    "0": "104",
                                    "1": "Sistemas"
                                }
                            ]
                        },
                        "text/html": "<table><tr><th>idDepartamento</th><th>NombreDepto</th></tr><tr><td>101</td><td>Ventas</td></tr><tr><td>102</td><td>Mercadotecnia</td></tr><tr><td>103</td><td>Producción</td></tr><tr><td>104</td><td>Sistemas</td></tr></table>"
                    }
                }
            ],
            "execution_count": 6
        },
        {
            "cell_type": "code",
            "source": [
                "USE PRUEBAS\n",
                "SELECT * FROM Empleados --tabla 1\n",
                "    INNER JOIN Departamentos --tabla 2\n",
                "    ON  Empleados.idDepartamento = Departamentos.idDepartamento--condición de reunión"
            ],
            "metadata": {
                "azdata_cell_guid": "676c888d-3a1d-45a8-95ac-8132e72a9725"
            },
            "outputs": [
                {
                    "output_type": "display_data",
                    "data": {
                        "text/html": "(2 rows affected)"
                    },
                    "metadata": {}
                },
                {
                    "output_type": "display_data",
                    "data": {
                        "text/html": "Total execution time: 00:00:00.065"
                    },
                    "metadata": {}
                },
                {
                    "output_type": "execute_result",
                    "metadata": {},
                    "execution_count": 7,
                    "data": {
                        "application/vnd.dataresource+json": {
                            "schema": {
                                "fields": [
                                    {
                                        "name": "idEmpleado"
                                    },
                                    {
                                        "name": "NombreEmp"
                                    },
                                    {
                                        "name": "idDepartamento"
                                    },
                                    {
                                        "name": "idDepartamento"
                                    },
                                    {
                                        "name": "NombreDepto"
                                    }
                                ]
                            },
                            "data": [
                                {
                                    "0": "301",
                                    "1": "Rodolfo",
                                    "2": "101",
                                    "3": "101",
                                    "4": "Ventas"
                                },
                                {
                                    "0": "302",
                                    "1": "Federico",
                                    "2": "102",
                                    "3": "102",
                                    "4": "Mercadotecnia"
                                }
                            ]
                        },
                        "text/html": "<table><tr><th>idEmpleado</th><th>NombreEmp</th><th>idDepartamento</th><th>idDepartamento</th><th>NombreDepto</th></tr><tr><td>301</td><td>Rodolfo</td><td>101</td><td>101</td><td>Ventas</td></tr><tr><td>302</td><td>Federico</td><td>102</td><td>102</td><td>Mercadotecnia</td></tr></table>"
                    }
                }
            ],
            "execution_count": 7
        },
        {
            "cell_type": "markdown",
            "source": [
                "# LEFT JOIN #\n",
                "\n",
                "Recupera las filas de las tablas que tengan coincidencia mas las filas de la primera que no tengan coincidencia"
            ],
            "metadata": {
                "azdata_cell_guid": "aa61b5d2-c19e-4e6d-b047-254af3c4cb98"
            }
        },
        {
            "cell_type": "code",
            "source": [
                "USE PRUEBAS\n",
                "SELECT * FROM Empleados as E--tabla 1\n",
                "    LEFT JOIN  Departamentos as D-- reunion de la tabla 2\n",
                "    ON D.idDepartamento = E.idDepartamento --condición de reunión"
            ],
            "metadata": {
                "azdata_cell_guid": "9b1f822b-4411-4e80-843b-fd370a465e6f"
            },
            "outputs": [
                {
                    "output_type": "display_data",
                    "data": {
                        "text/html": "(4 rows affected)"
                    },
                    "metadata": {}
                },
                {
                    "output_type": "display_data",
                    "data": {
                        "text/html": "Total execution time: 00:00:00.048"
                    },
                    "metadata": {}
                },
                {
                    "output_type": "execute_result",
                    "metadata": {},
                    "execution_count": 8,
                    "data": {
                        "application/vnd.dataresource+json": {
                            "schema": {
                                "fields": [
                                    {
                                        "name": "idEmpleado"
                                    },
                                    {
                                        "name": "NombreEmp"
                                    },
                                    {
                                        "name": "idDepartamento"
                                    },
                                    {
                                        "name": "idDepartamento"
                                    },
                                    {
                                        "name": "NombreDepto"
                                    }
                                ]
                            },
                            "data": [
                                {
                                    "0": "301",
                                    "1": "Rodolfo",
                                    "2": "101",
                                    "3": "101",
                                    "4": "Ventas"
                                },
                                {
                                    "0": "302",
                                    "1": "Federico",
                                    "2": "102",
                                    "3": "102",
                                    "4": "Mercadotecnia"
                                },
                                {
                                    "0": "303",
                                    "1": "Enrique",
                                    "2": "NULL",
                                    "3": "NULL",
                                    "4": "NULL"
                                },
                                {
                                    "0": "304",
                                    "1": "Manuel",
                                    "2": "105",
                                    "3": "NULL",
                                    "4": "NULL"
                                }
                            ]
                        },
                        "text/html": "<table><tr><th>idEmpleado</th><th>NombreEmp</th><th>idDepartamento</th><th>idDepartamento</th><th>NombreDepto</th></tr><tr><td>301</td><td>Rodolfo</td><td>101</td><td>101</td><td>Ventas</td></tr><tr><td>302</td><td>Federico</td><td>102</td><td>102</td><td>Mercadotecnia</td></tr><tr><td>303</td><td>Enrique</td><td>NULL</td><td>NULL</td><td>NULL</td></tr><tr><td>304</td><td>Manuel</td><td>105</td><td>NULL</td><td>NULL</td></tr></table>"
                    }
                }
            ],
            "execution_count": 8
        },
        {
            "cell_type": "markdown",
            "source": [
                "# RIGHT JOIN #\n",
                "\n",
                "Recupera las filas de las tablas que tengan coincidencia mas las filas de la segunda que no tengan coincidencia"
            ],
            "metadata": {
                "azdata_cell_guid": "cc5020bd-5683-4e9b-b7c4-2331e0c12deb"
            }
        },
        {
            "cell_type": "code",
            "source": [
                "USE PRUEBAS\n",
                "SELECT * FROM Empleados as E--tabla 1\n",
                "    RIGHT JOIN  Departamentos as D-- reunion de la tabla 2\n",
                "    ON D.idDepartamento = E.idDepartamento --condición de reunión"
            ],
            "metadata": {
                "azdata_cell_guid": "0049f309-5867-4114-ac99-0e046506235c"
            },
            "outputs": [
                {
                    "output_type": "display_data",
                    "data": {
                        "text/html": "(4 rows affected)"
                    },
                    "metadata": {}
                },
                {
                    "output_type": "display_data",
                    "data": {
                        "text/html": "Total execution time: 00:00:00.081"
                    },
                    "metadata": {}
                },
                {
                    "output_type": "execute_result",
                    "metadata": {},
                    "execution_count": 9,
                    "data": {
                        "application/vnd.dataresource+json": {
                            "schema": {
                                "fields": [
                                    {
                                        "name": "idEmpleado"
                                    },
                                    {
                                        "name": "NombreEmp"
                                    },
                                    {
                                        "name": "idDepartamento"
                                    },
                                    {
                                        "name": "idDepartamento"
                                    },
                                    {
                                        "name": "NombreDepto"
                                    }
                                ]
                            },
                            "data": [
                                {
                                    "0": "301",
                                    "1": "Rodolfo",
                                    "2": "101",
                                    "3": "101",
                                    "4": "Ventas"
                                },
                                {
                                    "0": "302",
                                    "1": "Federico",
                                    "2": "102",
                                    "3": "102",
                                    "4": "Mercadotecnia"
                                },
                                {
                                    "0": "NULL",
                                    "1": "NULL",
                                    "2": "NULL",
                                    "3": "103",
                                    "4": "Producción"
                                },
                                {
                                    "0": "NULL",
                                    "1": "NULL",
                                    "2": "NULL",
                                    "3": "104",
                                    "4": "Sistemas"
                                }
                            ]
                        },
                        "text/html": "<table><tr><th>idEmpleado</th><th>NombreEmp</th><th>idDepartamento</th><th>idDepartamento</th><th>NombreDepto</th></tr><tr><td>301</td><td>Rodolfo</td><td>101</td><td>101</td><td>Ventas</td></tr><tr><td>302</td><td>Federico</td><td>102</td><td>102</td><td>Mercadotecnia</td></tr><tr><td>NULL</td><td>NULL</td><td>NULL</td><td>103</td><td>Producción</td></tr><tr><td>NULL</td><td>NULL</td><td>NULL</td><td>104</td><td>Sistemas</td></tr></table>"
                    }
                }
            ],
            "execution_count": 9
        },
        {
            "cell_type": "markdown",
            "source": [
                "# FULL OUTER JOIN #\n",
                "\n",
                "Recupera las filas de las tablas participantes aun cuando no tengan coincidencia"
            ],
            "metadata": {
                "azdata_cell_guid": "9649eb8e-9df2-4093-a5a7-4a9a97c6e9b0"
            }
        },
        {
            "cell_type": "code",
            "source": [
                "USE PRUEBAS\n",
                "SELECT * FROM  Departamentos as D --tabla 1\n",
                "    FULL OUTER JOIN Empleados as E-- reunion de la tabla 2\n",
                "    ON d.idDepartamento = e.idDepartamento --condición de reunión"
            ],
            "metadata": {
                "azdata_cell_guid": "9dd7a5b4-f4a7-4987-8269-ca220d620f04"
            },
            "outputs": [
                {
                    "output_type": "display_data",
                    "data": {
                        "text/html": "(6 rows affected)"
                    },
                    "metadata": {}
                },
                {
                    "output_type": "display_data",
                    "data": {
                        "text/html": "Total execution time: 00:00:00.121"
                    },
                    "metadata": {}
                },
                {
                    "output_type": "execute_result",
                    "metadata": {},
                    "execution_count": 10,
                    "data": {
                        "application/vnd.dataresource+json": {
                            "schema": {
                                "fields": [
                                    {
                                        "name": "idDepartamento"
                                    },
                                    {
                                        "name": "NombreDepto"
                                    },
                                    {
                                        "name": "idEmpleado"
                                    },
                                    {
                                        "name": "NombreEmp"
                                    },
                                    {
                                        "name": "idDepartamento"
                                    }
                                ]
                            },
                            "data": [
                                {
                                    "0": "101",
                                    "1": "Ventas",
                                    "2": "301",
                                    "3": "Rodolfo",
                                    "4": "101"
                                },
                                {
                                    "0": "102",
                                    "1": "Mercadotecnia",
                                    "2": "302",
                                    "3": "Federico",
                                    "4": "102"
                                },
                                {
                                    "0": "103",
                                    "1": "Producción",
                                    "2": "NULL",
                                    "3": "NULL",
                                    "4": "NULL"
                                },
                                {
                                    "0": "104",
                                    "1": "Sistemas",
                                    "2": "NULL",
                                    "3": "NULL",
                                    "4": "NULL"
                                },
                                {
                                    "0": "NULL",
                                    "1": "NULL",
                                    "2": "303",
                                    "3": "Enrique",
                                    "4": "NULL"
                                },
                                {
                                    "0": "NULL",
                                    "1": "NULL",
                                    "2": "304",
                                    "3": "Manuel",
                                    "4": "105"
                                }
                            ]
                        },
                        "text/html": "<table><tr><th>idDepartamento</th><th>NombreDepto</th><th>idEmpleado</th><th>NombreEmp</th><th>idDepartamento</th></tr><tr><td>101</td><td>Ventas</td><td>301</td><td>Rodolfo</td><td>101</td></tr><tr><td>102</td><td>Mercadotecnia</td><td>302</td><td>Federico</td><td>102</td></tr><tr><td>103</td><td>Producción</td><td>NULL</td><td>NULL</td><td>NULL</td></tr><tr><td>104</td><td>Sistemas</td><td>NULL</td><td>NULL</td><td>NULL</td></tr><tr><td>NULL</td><td>NULL</td><td>303</td><td>Enrique</td><td>NULL</td></tr><tr><td>NULL</td><td>NULL</td><td>304</td><td>Manuel</td><td>105</td></tr></table>"
                    }
                }
            ],
            "execution_count": 10
        },
        {
            "cell_type": "markdown",
            "source": [
                "## Paso 1 #\n",
                "En Northwind, recupere el nombre, precio y nombre de la categoría de los productos"
            ],
            "metadata": {
                "azdata_cell_guid": "99a5ffa2-aae5-45d0-80b6-4e1f2bf3061d"
            }
        },
        {
            "cell_type": "code",
            "source": [
                "USE northwind\n",
                "\n",
                "SELECT P.ProductName,P.UnitPrice,C.CategoryName FROM Products as P FULL OUTER JOIN Categories as C ON  P.CategoryID = C.CategoryID"
            ],
            "metadata": {
                "azdata_cell_guid": "43b694ea-d481-48e8-8d1c-950cce0ddadb"
            },
            "outputs": [
                {
                    "output_type": "display_data",
                    "data": {
                        "text/html": "(77 rows affected)"
                    },
                    "metadata": {}
                },
                {
                    "output_type": "display_data",
                    "data": {
                        "text/html": "Total execution time: 00:00:00.303"
                    },
                    "metadata": {}
                },
                {
                    "output_type": "execute_result",
                    "metadata": {},
                    "execution_count": 11,
                    "data": {
                        "application/vnd.dataresource+json": {
                            "schema": {
                                "fields": [
                                    {
                                        "name": "ProductName"
                                    },
                                    {
                                        "name": "UnitPrice"
                                    },
                                    {
                                        "name": "CategoryName"
                                    }
                                ]
                            },
                            "data": [
                                {
                                    "0": "Chai",
                                    "1": "18.0000",
                                    "2": "Beverages"
                                },
                                {
                                    "0": "Chang",
                                    "1": "19.0000",
                                    "2": "Beverages"
                                },
                                {
                                    "0": "Aniseed Syrup",
                                    "1": "10.0000",
                                    "2": "Condiments"
                                },
                                {
                                    "0": "Chef Anton's Cajun Seasoning",
                                    "1": "22.0000",
                                    "2": "Condiments"
                                },
                                {
                                    "0": "Chef Anton's Gumbo Mix",
                                    "1": "21.3500",
                                    "2": "Condiments"
                                },
                                {
                                    "0": "Grandma's Boysenberry Spread",
                                    "1": "25.0000",
                                    "2": "Condiments"
                                },
                                {
                                    "0": "Uncle Bob's Organic Dried Pears",
                                    "1": "30.0000",
                                    "2": "Produce"
                                },
                                {
                                    "0": "Northwoods Cranberry Sauce",
                                    "1": "40.0000",
                                    "2": "Condiments"
                                },
                                {
                                    "0": "Mishi Kobe Niku",
                                    "1": "97.0000",
                                    "2": "Meat/Poultry"
                                },
                                {
                                    "0": "Ikura",
                                    "1": "31.0000",
                                    "2": "Seafood"
                                },
                                {
                                    "0": "Queso Cabrales",
                                    "1": "21.0000",
                                    "2": "Dairy Products"
                                },
                                {
                                    "0": "Queso Manchego La Pastora",
                                    "1": "38.0000",
                                    "2": "Dairy Products"
                                },
                                {
                                    "0": "Konbu",
                                    "1": "6.0000",
                                    "2": "Seafood"
                                },
                                {
                                    "0": "Tofu",
                                    "1": "23.2500",
                                    "2": "Produce"
                                },
                                {
                                    "0": "Genen Shouyu",
                                    "1": "15.5000",
                                    "2": "Condiments"
                                },
                                {
                                    "0": "Pavlova",
                                    "1": "17.4500",
                                    "2": "Confections"
                                },
                                {
                                    "0": "Alice Mutton",
                                    "1": "39.0000",
                                    "2": "Meat/Poultry"
                                },
                                {
                                    "0": "Carnarvon Tigers",
                                    "1": "62.5000",
                                    "2": "Seafood"
                                },
                                {
                                    "0": "Teatime Chocolate Biscuits",
                                    "1": "9.2000",
                                    "2": "Confections"
                                },
                                {
                                    "0": "Sir Rodney's Marmalade",
                                    "1": "81.0000",
                                    "2": "Confections"
                                },
                                {
                                    "0": "Sir Rodney's Scones",
                                    "1": "10.0000",
                                    "2": "Confections"
                                },
                                {
                                    "0": "Gustaf's Knäckebröd",
                                    "1": "21.0000",
                                    "2": "Grains/Cereals"
                                },
                                {
                                    "0": "Tunnbröd",
                                    "1": "9.0000",
                                    "2": "Grains/Cereals"
                                },
                                {
                                    "0": "Guaraná Fantástica",
                                    "1": "4.5000",
                                    "2": "Beverages"
                                },
                                {
                                    "0": "NuNuCa Nuß-Nougat-Creme",
                                    "1": "14.0000",
                                    "2": "Confections"
                                },
                                {
                                    "0": "Gumbär Gummibärchen",
                                    "1": "31.2300",
                                    "2": "Confections"
                                },
                                {
                                    "0": "Schoggi Schokolade",
                                    "1": "43.9000",
                                    "2": "Confections"
                                },
                                {
                                    "0": "Rössle Sauerkraut",
                                    "1": "45.6000",
                                    "2": "Produce"
                                },
                                {
                                    "0": "Thüringer Rostbratwurst",
                                    "1": "123.7900",
                                    "2": "Meat/Poultry"
                                },
                                {
                                    "0": "Nord-Ost Matjeshering",
                                    "1": "25.8900",
                                    "2": "Seafood"
                                },
                                {
                                    "0": "Gorgonzola Telino",
                                    "1": "12.5000",
                                    "2": "Dairy Products"
                                },
                                {
                                    "0": "Mascarpone Fabioli",
                                    "1": "32.0000",
                                    "2": "Dairy Products"
                                },
                                {
                                    "0": "Geitost",
                                    "1": "2.5000",
                                    "2": "Dairy Products"
                                },
                                {
                                    "0": "Sasquatch Ale",
                                    "1": "14.0000",
                                    "2": "Beverages"
                                },
                                {
                                    "0": "Steeleye Stout",
                                    "1": "18.0000",
                                    "2": "Beverages"
                                },
                                {
                                    "0": "Inlagd Sill",
                                    "1": "19.0000",
                                    "2": "Seafood"
                                },
                                {
                                    "0": "Gravad lax",
                                    "1": "26.0000",
                                    "2": "Seafood"
                                },
                                {
                                    "0": "Côte de Blaye",
                                    "1": "263.5000",
                                    "2": "Beverages"
                                },
                                {
                                    "0": "Chartreuse verte",
                                    "1": "18.0000",
                                    "2": "Beverages"
                                },
                                {
                                    "0": "Boston Crab Meat",
                                    "1": "18.4000",
                                    "2": "Seafood"
                                },
                                {
                                    "0": "Jack's New England Clam Chowder",
                                    "1": "9.6500",
                                    "2": "Seafood"
                                },
                                {
                                    "0": "Singaporean Hokkien Fried Mee",
                                    "1": "14.0000",
                                    "2": "Grains/Cereals"
                                },
                                {
                                    "0": "Ipoh Coffee",
                                    "1": "46.0000",
                                    "2": "Beverages"
                                },
                                {
                                    "0": "Gula Malacca",
                                    "1": "19.4500",
                                    "2": "Condiments"
                                },
                                {
                                    "0": "Rogede sild",
                                    "1": "9.5000",
                                    "2": "Seafood"
                                },
                                {
                                    "0": "Spegesild",
                                    "1": "12.0000",
                                    "2": "Seafood"
                                },
                                {
                                    "0": "Zaanse koeken",
                                    "1": "9.5000",
                                    "2": "Confections"
                                },
                                {
                                    "0": "Chocolade",
                                    "1": "12.7500",
                                    "2": "Confections"
                                },
                                {
                                    "0": "Maxilaku",
                                    "1": "20.0000",
                                    "2": "Confections"
                                },
                                {
                                    "0": "Valkoinen suklaa",
                                    "1": "16.2500",
                                    "2": "Confections"
                                },
                                {
                                    "0": "Manjimup Dried Apples",
                                    "1": "53.0000",
                                    "2": "Produce"
                                },
                                {
                                    "0": "Filo Mix",
                                    "1": "7.0000",
                                    "2": "Grains/Cereals"
                                },
                                {
                                    "0": "Perth Pasties",
                                    "1": "32.8000",
                                    "2": "Meat/Poultry"
                                },
                                {
                                    "0": "Tourtière",
                                    "1": "7.4500",
                                    "2": "Meat/Poultry"
                                },
                                {
                                    "0": "Pâté chinois",
                                    "1": "24.0000",
                                    "2": "Meat/Poultry"
                                },
                                {
                                    "0": "Gnocchi di nonna Alice",
                                    "1": "38.0000",
                                    "2": "Grains/Cereals"
                                },
                                {
                                    "0": "Ravioli Angelo",
                                    "1": "19.5000",
                                    "2": "Grains/Cereals"
                                },
                                {
                                    "0": "Escargots de Bourgogne",
                                    "1": "13.2500",
                                    "2": "Seafood"
                                },
                                {
                                    "0": "Raclette Courdavault",
                                    "1": "55.0000",
                                    "2": "Dairy Products"
                                },
                                {
                                    "0": "Camembert Pierrot",
                                    "1": "34.0000",
                                    "2": "Dairy Products"
                                },
                                {
                                    "0": "Sirop d'érable",
                                    "1": "28.5000",
                                    "2": "Condiments"
                                },
                                {
                                    "0": "Tarte au sucre",
                                    "1": "49.3000",
                                    "2": "Confections"
                                },
                                {
                                    "0": "Vegie-spread",
                                    "1": "43.9000",
                                    "2": "Condiments"
                                },
                                {
                                    "0": "Wimmers gute Semmelknödel",
                                    "1": "33.2500",
                                    "2": "Grains/Cereals"
                                },
                                {
                                    "0": "Louisiana Fiery Hot Pepper Sauce",
                                    "1": "21.0500",
                                    "2": "Condiments"
                                },
                                {
                                    "0": "Louisiana Hot Spiced Okra",
                                    "1": "17.0000",
                                    "2": "Condiments"
                                },
                                {
                                    "0": "Laughing Lumberjack Lager",
                                    "1": "14.0000",
                                    "2": "Beverages"
                                },
                                {
                                    "0": "Scottish Longbreads",
                                    "1": "12.5000",
                                    "2": "Confections"
                                },
                                {
                                    "0": "Gudbrandsdalsost",
                                    "1": "36.0000",
                                    "2": "Dairy Products"
                                },
                                {
                                    "0": "Outback Lager",
                                    "1": "15.0000",
                                    "2": "Beverages"
                                },
                                {
                                    "0": "Flotemysost",
                                    "1": "21.5000",
                                    "2": "Dairy Products"
                                },
                                {
                                    "0": "Mozzarella di Giovanni",
                                    "1": "34.8000",
                                    "2": "Dairy Products"
                                },
                                {
                                    "0": "Röd Kaviar",
                                    "1": "15.0000",
                                    "2": "Seafood"
                                },
                                {
                                    "0": "Longlife Tofu",
                                    "1": "10.0000",
                                    "2": "Produce"
                                },
                                {
                                    "0": "Rhönbräu Klosterbier",
                                    "1": "7.7500",
                                    "2": "Beverages"
                                },
                                {
                                    "0": "Lakkalikööri",
                                    "1": "18.0000",
                                    "2": "Beverages"
                                },
                                {
                                    "0": "Original Frankfurter grüne Soße",
                                    "1": "13.0000",
                                    "2": "Condiments"
                                }
                            ]
                        },
                        "text/html": "<table><tr><th>ProductName</th><th>UnitPrice</th><th>CategoryName</th></tr><tr><td>Chai</td><td>18.0000</td><td>Beverages</td></tr><tr><td>Chang</td><td>19.0000</td><td>Beverages</td></tr><tr><td>Aniseed Syrup</td><td>10.0000</td><td>Condiments</td></tr><tr><td>Chef Anton's Cajun Seasoning</td><td>22.0000</td><td>Condiments</td></tr><tr><td>Chef Anton's Gumbo Mix</td><td>21.3500</td><td>Condiments</td></tr><tr><td>Grandma's Boysenberry Spread</td><td>25.0000</td><td>Condiments</td></tr><tr><td>Uncle Bob's Organic Dried Pears</td><td>30.0000</td><td>Produce</td></tr><tr><td>Northwoods Cranberry Sauce</td><td>40.0000</td><td>Condiments</td></tr><tr><td>Mishi Kobe Niku</td><td>97.0000</td><td>Meat/Poultry</td></tr><tr><td>Ikura</td><td>31.0000</td><td>Seafood</td></tr><tr><td>Queso Cabrales</td><td>21.0000</td><td>Dairy Products</td></tr><tr><td>Queso Manchego La Pastora</td><td>38.0000</td><td>Dairy Products</td></tr><tr><td>Konbu</td><td>6.0000</td><td>Seafood</td></tr><tr><td>Tofu</td><td>23.2500</td><td>Produce</td></tr><tr><td>Genen Shouyu</td><td>15.5000</td><td>Condiments</td></tr><tr><td>Pavlova</td><td>17.4500</td><td>Confections</td></tr><tr><td>Alice Mutton</td><td>39.0000</td><td>Meat/Poultry</td></tr><tr><td>Carnarvon Tigers</td><td>62.5000</td><td>Seafood</td></tr><tr><td>Teatime Chocolate Biscuits</td><td>9.2000</td><td>Confections</td></tr><tr><td>Sir Rodney's Marmalade</td><td>81.0000</td><td>Confections</td></tr><tr><td>Sir Rodney's Scones</td><td>10.0000</td><td>Confections</td></tr><tr><td>Gustaf's Knäckebröd</td><td>21.0000</td><td>Grains/Cereals</td></tr><tr><td>Tunnbröd</td><td>9.0000</td><td>Grains/Cereals</td></tr><tr><td>Guaraná Fantástica</td><td>4.5000</td><td>Beverages</td></tr><tr><td>NuNuCa Nuß-Nougat-Creme</td><td>14.0000</td><td>Confections</td></tr><tr><td>Gumbär Gummibärchen</td><td>31.2300</td><td>Confections</td></tr><tr><td>Schoggi Schokolade</td><td>43.9000</td><td>Confections</td></tr><tr><td>Rössle Sauerkraut</td><td>45.6000</td><td>Produce</td></tr><tr><td>Thüringer Rostbratwurst</td><td>123.7900</td><td>Meat/Poultry</td></tr><tr><td>Nord-Ost Matjeshering</td><td>25.8900</td><td>Seafood</td></tr><tr><td>Gorgonzola Telino</td><td>12.5000</td><td>Dairy Products</td></tr><tr><td>Mascarpone Fabioli</td><td>32.0000</td><td>Dairy Products</td></tr><tr><td>Geitost</td><td>2.5000</td><td>Dairy Products</td></tr><tr><td>Sasquatch Ale</td><td>14.0000</td><td>Beverages</td></tr><tr><td>Steeleye Stout</td><td>18.0000</td><td>Beverages</td></tr><tr><td>Inlagd Sill</td><td>19.0000</td><td>Seafood</td></tr><tr><td>Gravad lax</td><td>26.0000</td><td>Seafood</td></tr><tr><td>Côte de Blaye</td><td>263.5000</td><td>Beverages</td></tr><tr><td>Chartreuse verte</td><td>18.0000</td><td>Beverages</td></tr><tr><td>Boston Crab Meat</td><td>18.4000</td><td>Seafood</td></tr><tr><td>Jack's New England Clam Chowder</td><td>9.6500</td><td>Seafood</td></tr><tr><td>Singaporean Hokkien Fried Mee</td><td>14.0000</td><td>Grains/Cereals</td></tr><tr><td>Ipoh Coffee</td><td>46.0000</td><td>Beverages</td></tr><tr><td>Gula Malacca</td><td>19.4500</td><td>Condiments</td></tr><tr><td>Rogede sild</td><td>9.5000</td><td>Seafood</td></tr><tr><td>Spegesild</td><td>12.0000</td><td>Seafood</td></tr><tr><td>Zaanse koeken</td><td>9.5000</td><td>Confections</td></tr><tr><td>Chocolade</td><td>12.7500</td><td>Confections</td></tr><tr><td>Maxilaku</td><td>20.0000</td><td>Confections</td></tr><tr><td>Valkoinen suklaa</td><td>16.2500</td><td>Confections</td></tr><tr><td>Manjimup Dried Apples</td><td>53.0000</td><td>Produce</td></tr><tr><td>Filo Mix</td><td>7.0000</td><td>Grains/Cereals</td></tr><tr><td>Perth Pasties</td><td>32.8000</td><td>Meat/Poultry</td></tr><tr><td>Tourtière</td><td>7.4500</td><td>Meat/Poultry</td></tr><tr><td>Pâté chinois</td><td>24.0000</td><td>Meat/Poultry</td></tr><tr><td>Gnocchi di nonna Alice</td><td>38.0000</td><td>Grains/Cereals</td></tr><tr><td>Ravioli Angelo</td><td>19.5000</td><td>Grains/Cereals</td></tr><tr><td>Escargots de Bourgogne</td><td>13.2500</td><td>Seafood</td></tr><tr><td>Raclette Courdavault</td><td>55.0000</td><td>Dairy Products</td></tr><tr><td>Camembert Pierrot</td><td>34.0000</td><td>Dairy Products</td></tr><tr><td>Sirop d'érable</td><td>28.5000</td><td>Condiments</td></tr><tr><td>Tarte au sucre</td><td>49.3000</td><td>Confections</td></tr><tr><td>Vegie-spread</td><td>43.9000</td><td>Condiments</td></tr><tr><td>Wimmers gute Semmelknödel</td><td>33.2500</td><td>Grains/Cereals</td></tr><tr><td>Louisiana Fiery Hot Pepper Sauce</td><td>21.0500</td><td>Condiments</td></tr><tr><td>Louisiana Hot Spiced Okra</td><td>17.0000</td><td>Condiments</td></tr><tr><td>Laughing Lumberjack Lager</td><td>14.0000</td><td>Beverages</td></tr><tr><td>Scottish Longbreads</td><td>12.5000</td><td>Confections</td></tr><tr><td>Gudbrandsdalsost</td><td>36.0000</td><td>Dairy Products</td></tr><tr><td>Outback Lager</td><td>15.0000</td><td>Beverages</td></tr><tr><td>Flotemysost</td><td>21.5000</td><td>Dairy Products</td></tr><tr><td>Mozzarella di Giovanni</td><td>34.8000</td><td>Dairy Products</td></tr><tr><td>Röd Kaviar</td><td>15.0000</td><td>Seafood</td></tr><tr><td>Longlife Tofu</td><td>10.0000</td><td>Produce</td></tr><tr><td>Rhönbräu Klosterbier</td><td>7.7500</td><td>Beverages</td></tr><tr><td>Lakkalikööri</td><td>18.0000</td><td>Beverages</td></tr><tr><td>Original Frankfurter grüne Soße</td><td>13.0000</td><td>Condiments</td></tr></table>"
                    }
                }
            ],
            "execution_count": 11
        },
        {
            "cell_type": "markdown",
            "source": [
                "## Paso 2: Reunión de mas de 2 tablas #\n",
                "En Northwind, recupere el nombre, precio, nombre de la categoría y nombre del proveedor de los productos\n",
                "\n",
                "\n",
                ""
            ],
            "metadata": {
                "azdata_cell_guid": "31357c00-597f-4547-b364-2ea41d4f4794"
            }
        },
        {
            "cell_type": "code",
            "source": [
                "SELECT  P.ProductName, P.UnitPrice, C.CategoryName, Pv.CompanyName FROM Products P\n",
                "INNER JOIN Categories C ON C.CategoryID=P.CategoryID\n",
                "INNER JOIN Suppliers Pv ON P.SupplierID = Pv.SupplierID\n",
                "\n",
                "\n",
                ""
            ],
            "metadata": {
                "azdata_cell_guid": "0a187aba-328d-4df3-bf25-73ac8df4c921"
            },
            "outputs": [
                {
                    "output_type": "display_data",
                    "data": {
                        "text/html": "(77 rows affected)"
                    },
                    "metadata": {}
                },
                {
                    "output_type": "display_data",
                    "data": {
                        "text/html": "Total execution time: 00:00:00.107"
                    },
                    "metadata": {}
                },
                {
                    "output_type": "execute_result",
                    "metadata": {},
                    "execution_count": 12,
                    "data": {
                        "application/vnd.dataresource+json": {
                            "schema": {
                                "fields": [
                                    {
                                        "name": "ProductName"
                                    },
                                    {
                                        "name": "UnitPrice"
                                    },
                                    {
                                        "name": "CategoryName"
                                    },
                                    {
                                        "name": "CompanyName"
                                    }
                                ]
                            },
                            "data": [
                                {
                                    "0": "Chai",
                                    "1": "18.0000",
                                    "2": "Beverages",
                                    "3": "Exotic Liquids"
                                },
                                {
                                    "0": "Chang",
                                    "1": "19.0000",
                                    "2": "Beverages",
                                    "3": "Exotic Liquids"
                                },
                                {
                                    "0": "Aniseed Syrup",
                                    "1": "10.0000",
                                    "2": "Condiments",
                                    "3": "Exotic Liquids"
                                },
                                {
                                    "0": "Chef Anton's Cajun Seasoning",
                                    "1": "22.0000",
                                    "2": "Condiments",
                                    "3": "New Orleans Cajun Delights"
                                },
                                {
                                    "0": "Chef Anton's Gumbo Mix",
                                    "1": "21.3500",
                                    "2": "Condiments",
                                    "3": "New Orleans Cajun Delights"
                                },
                                {
                                    "0": "Grandma's Boysenberry Spread",
                                    "1": "25.0000",
                                    "2": "Condiments",
                                    "3": "Grandma Kelly's Homestead"
                                },
                                {
                                    "0": "Uncle Bob's Organic Dried Pears",
                                    "1": "30.0000",
                                    "2": "Produce",
                                    "3": "Grandma Kelly's Homestead"
                                },
                                {
                                    "0": "Northwoods Cranberry Sauce",
                                    "1": "40.0000",
                                    "2": "Condiments",
                                    "3": "Grandma Kelly's Homestead"
                                },
                                {
                                    "0": "Mishi Kobe Niku",
                                    "1": "97.0000",
                                    "2": "Meat/Poultry",
                                    "3": "Tokyo Traders"
                                },
                                {
                                    "0": "Ikura",
                                    "1": "31.0000",
                                    "2": "Seafood",
                                    "3": "Tokyo Traders"
                                },
                                {
                                    "0": "Queso Cabrales",
                                    "1": "21.0000",
                                    "2": "Dairy Products",
                                    "3": "Cooperativa de Quesos 'Las Cabras'"
                                },
                                {
                                    "0": "Queso Manchego La Pastora",
                                    "1": "38.0000",
                                    "2": "Dairy Products",
                                    "3": "Cooperativa de Quesos 'Las Cabras'"
                                },
                                {
                                    "0": "Konbu",
                                    "1": "6.0000",
                                    "2": "Seafood",
                                    "3": "Mayumi's"
                                },
                                {
                                    "0": "Tofu",
                                    "1": "23.2500",
                                    "2": "Produce",
                                    "3": "Mayumi's"
                                },
                                {
                                    "0": "Genen Shouyu",
                                    "1": "15.5000",
                                    "2": "Condiments",
                                    "3": "Mayumi's"
                                },
                                {
                                    "0": "Pavlova",
                                    "1": "17.4500",
                                    "2": "Confections",
                                    "3": "Pavlova, Ltd."
                                },
                                {
                                    "0": "Alice Mutton",
                                    "1": "39.0000",
                                    "2": "Meat/Poultry",
                                    "3": "Pavlova, Ltd."
                                },
                                {
                                    "0": "Carnarvon Tigers",
                                    "1": "62.5000",
                                    "2": "Seafood",
                                    "3": "Pavlova, Ltd."
                                },
                                {
                                    "0": "Teatime Chocolate Biscuits",
                                    "1": "9.2000",
                                    "2": "Confections",
                                    "3": "Specialty Biscuits, Ltd."
                                },
                                {
                                    "0": "Sir Rodney's Marmalade",
                                    "1": "81.0000",
                                    "2": "Confections",
                                    "3": "Specialty Biscuits, Ltd."
                                },
                                {
                                    "0": "Sir Rodney's Scones",
                                    "1": "10.0000",
                                    "2": "Confections",
                                    "3": "Specialty Biscuits, Ltd."
                                },
                                {
                                    "0": "Gustaf's Knäckebröd",
                                    "1": "21.0000",
                                    "2": "Grains/Cereals",
                                    "3": "PB Knäckebröd AB"
                                },
                                {
                                    "0": "Tunnbröd",
                                    "1": "9.0000",
                                    "2": "Grains/Cereals",
                                    "3": "PB Knäckebröd AB"
                                },
                                {
                                    "0": "Guaraná Fantástica",
                                    "1": "4.5000",
                                    "2": "Beverages",
                                    "3": "Refrescos Americanas LTDA"
                                },
                                {
                                    "0": "NuNuCa Nuß-Nougat-Creme",
                                    "1": "14.0000",
                                    "2": "Confections",
                                    "3": "Heli Süßwaren GmbH & Co. KG"
                                },
                                {
                                    "0": "Gumbär Gummibärchen",
                                    "1": "31.2300",
                                    "2": "Confections",
                                    "3": "Heli Süßwaren GmbH & Co. KG"
                                },
                                {
                                    "0": "Schoggi Schokolade",
                                    "1": "43.9000",
                                    "2": "Confections",
                                    "3": "Heli Süßwaren GmbH & Co. KG"
                                },
                                {
                                    "0": "Rössle Sauerkraut",
                                    "1": "45.6000",
                                    "2": "Produce",
                                    "3": "Plutzer Lebensmittelgroßmärkte AG"
                                },
                                {
                                    "0": "Thüringer Rostbratwurst",
                                    "1": "123.7900",
                                    "2": "Meat/Poultry",
                                    "3": "Plutzer Lebensmittelgroßmärkte AG"
                                },
                                {
                                    "0": "Nord-Ost Matjeshering",
                                    "1": "25.8900",
                                    "2": "Seafood",
                                    "3": "Nord-Ost-Fisch Handelsgesellschaft mbH"
                                },
                                {
                                    "0": "Gorgonzola Telino",
                                    "1": "12.5000",
                                    "2": "Dairy Products",
                                    "3": "Formaggi Fortini s.r.l."
                                },
                                {
                                    "0": "Mascarpone Fabioli",
                                    "1": "32.0000",
                                    "2": "Dairy Products",
                                    "3": "Formaggi Fortini s.r.l."
                                },
                                {
                                    "0": "Geitost",
                                    "1": "2.5000",
                                    "2": "Dairy Products",
                                    "3": "Norske Meierier"
                                },
                                {
                                    "0": "Sasquatch Ale",
                                    "1": "14.0000",
                                    "2": "Beverages",
                                    "3": "Bigfoot Breweries"
                                },
                                {
                                    "0": "Steeleye Stout",
                                    "1": "18.0000",
                                    "2": "Beverages",
                                    "3": "Bigfoot Breweries"
                                },
                                {
                                    "0": "Inlagd Sill",
                                    "1": "19.0000",
                                    "2": "Seafood",
                                    "3": "Svensk Sjöföda AB"
                                },
                                {
                                    "0": "Gravad lax",
                                    "1": "26.0000",
                                    "2": "Seafood",
                                    "3": "Svensk Sjöföda AB"
                                },
                                {
                                    "0": "Côte de Blaye",
                                    "1": "263.5000",
                                    "2": "Beverages",
                                    "3": "Aux joyeux ecclésiastiques"
                                },
                                {
                                    "0": "Chartreuse verte",
                                    "1": "18.0000",
                                    "2": "Beverages",
                                    "3": "Aux joyeux ecclésiastiques"
                                },
                                {
                                    "0": "Boston Crab Meat",
                                    "1": "18.4000",
                                    "2": "Seafood",
                                    "3": "New England Seafood Cannery"
                                },
                                {
                                    "0": "Jack's New England Clam Chowder",
                                    "1": "9.6500",
                                    "2": "Seafood",
                                    "3": "New England Seafood Cannery"
                                },
                                {
                                    "0": "Singaporean Hokkien Fried Mee",
                                    "1": "14.0000",
                                    "2": "Grains/Cereals",
                                    "3": "Leka Trading"
                                },
                                {
                                    "0": "Ipoh Coffee",
                                    "1": "46.0000",
                                    "2": "Beverages",
                                    "3": "Leka Trading"
                                },
                                {
                                    "0": "Gula Malacca",
                                    "1": "19.4500",
                                    "2": "Condiments",
                                    "3": "Leka Trading"
                                },
                                {
                                    "0": "Rogede sild",
                                    "1": "9.5000",
                                    "2": "Seafood",
                                    "3": "Lyngbysild"
                                },
                                {
                                    "0": "Spegesild",
                                    "1": "12.0000",
                                    "2": "Seafood",
                                    "3": "Lyngbysild"
                                },
                                {
                                    "0": "Zaanse koeken",
                                    "1": "9.5000",
                                    "2": "Confections",
                                    "3": "Zaanse Snoepfabriek"
                                },
                                {
                                    "0": "Chocolade",
                                    "1": "12.7500",
                                    "2": "Confections",
                                    "3": "Zaanse Snoepfabriek"
                                },
                                {
                                    "0": "Maxilaku",
                                    "1": "20.0000",
                                    "2": "Confections",
                                    "3": "Karkki Oy"
                                },
                                {
                                    "0": "Valkoinen suklaa",
                                    "1": "16.2500",
                                    "2": "Confections",
                                    "3": "Karkki Oy"
                                },
                                {
                                    "0": "Manjimup Dried Apples",
                                    "1": "53.0000",
                                    "2": "Produce",
                                    "3": "G'day, Mate"
                                },
                                {
                                    "0": "Filo Mix",
                                    "1": "7.0000",
                                    "2": "Grains/Cereals",
                                    "3": "G'day, Mate"
                                },
                                {
                                    "0": "Perth Pasties",
                                    "1": "32.8000",
                                    "2": "Meat/Poultry",
                                    "3": "G'day, Mate"
                                },
                                {
                                    "0": "Tourtière",
                                    "1": "7.4500",
                                    "2": "Meat/Poultry",
                                    "3": "Ma Maison"
                                },
                                {
                                    "0": "Pâté chinois",
                                    "1": "24.0000",
                                    "2": "Meat/Poultry",
                                    "3": "Ma Maison"
                                },
                                {
                                    "0": "Gnocchi di nonna Alice",
                                    "1": "38.0000",
                                    "2": "Grains/Cereals",
                                    "3": "Pasta Buttini s.r.l."
                                },
                                {
                                    "0": "Ravioli Angelo",
                                    "1": "19.5000",
                                    "2": "Grains/Cereals",
                                    "3": "Pasta Buttini s.r.l."
                                },
                                {
                                    "0": "Escargots de Bourgogne",
                                    "1": "13.2500",
                                    "2": "Seafood",
                                    "3": "Escargots Nouveaux"
                                },
                                {
                                    "0": "Raclette Courdavault",
                                    "1": "55.0000",
                                    "2": "Dairy Products",
                                    "3": "Gai pâturage"
                                },
                                {
                                    "0": "Camembert Pierrot",
                                    "1": "34.0000",
                                    "2": "Dairy Products",
                                    "3": "Gai pâturage"
                                },
                                {
                                    "0": "Sirop d'érable",
                                    "1": "28.5000",
                                    "2": "Condiments",
                                    "3": "Forêts d'érables"
                                },
                                {
                                    "0": "Tarte au sucre",
                                    "1": "49.3000",
                                    "2": "Confections",
                                    "3": "Forêts d'érables"
                                },
                                {
                                    "0": "Vegie-spread",
                                    "1": "43.9000",
                                    "2": "Condiments",
                                    "3": "Pavlova, Ltd."
                                },
                                {
                                    "0": "Wimmers gute Semmelknödel",
                                    "1": "33.2500",
                                    "2": "Grains/Cereals",
                                    "3": "Plutzer Lebensmittelgroßmärkte AG"
                                },
                                {
                                    "0": "Louisiana Fiery Hot Pepper Sauce",
                                    "1": "21.0500",
                                    "2": "Condiments",
                                    "3": "New Orleans Cajun Delights"
                                },
                                {
                                    "0": "Louisiana Hot Spiced Okra",
                                    "1": "17.0000",
                                    "2": "Condiments",
                                    "3": "New Orleans Cajun Delights"
                                },
                                {
                                    "0": "Laughing Lumberjack Lager",
                                    "1": "14.0000",
                                    "2": "Beverages",
                                    "3": "Bigfoot Breweries"
                                },
                                {
                                    "0": "Scottish Longbreads",
                                    "1": "12.5000",
                                    "2": "Confections",
                                    "3": "Specialty Biscuits, Ltd."
                                },
                                {
                                    "0": "Gudbrandsdalsost",
                                    "1": "36.0000",
                                    "2": "Dairy Products",
                                    "3": "Norske Meierier"
                                },
                                {
                                    "0": "Outback Lager",
                                    "1": "15.0000",
                                    "2": "Beverages",
                                    "3": "Pavlova, Ltd."
                                },
                                {
                                    "0": "Flotemysost",
                                    "1": "21.5000",
                                    "2": "Dairy Products",
                                    "3": "Norske Meierier"
                                },
                                {
                                    "0": "Mozzarella di Giovanni",
                                    "1": "34.8000",
                                    "2": "Dairy Products",
                                    "3": "Formaggi Fortini s.r.l."
                                },
                                {
                                    "0": "Röd Kaviar",
                                    "1": "15.0000",
                                    "2": "Seafood",
                                    "3": "Svensk Sjöföda AB"
                                },
                                {
                                    "0": "Longlife Tofu",
                                    "1": "10.0000",
                                    "2": "Produce",
                                    "3": "Tokyo Traders"
                                },
                                {
                                    "0": "Rhönbräu Klosterbier",
                                    "1": "7.7500",
                                    "2": "Beverages",
                                    "3": "Plutzer Lebensmittelgroßmärkte AG"
                                },
                                {
                                    "0": "Lakkalikööri",
                                    "1": "18.0000",
                                    "2": "Beverages",
                                    "3": "Karkki Oy"
                                },
                                {
                                    "0": "Original Frankfurter grüne Soße",
                                    "1": "13.0000",
                                    "2": "Condiments",
                                    "3": "Plutzer Lebensmittelgroßmärkte AG"
                                }
                            ]
                        },
                        "text/html": "<table><tr><th>ProductName</th><th>UnitPrice</th><th>CategoryName</th><th>CompanyName</th></tr><tr><td>Chai</td><td>18.0000</td><td>Beverages</td><td>Exotic Liquids</td></tr><tr><td>Chang</td><td>19.0000</td><td>Beverages</td><td>Exotic Liquids</td></tr><tr><td>Aniseed Syrup</td><td>10.0000</td><td>Condiments</td><td>Exotic Liquids</td></tr><tr><td>Chef Anton's Cajun Seasoning</td><td>22.0000</td><td>Condiments</td><td>New Orleans Cajun Delights</td></tr><tr><td>Chef Anton's Gumbo Mix</td><td>21.3500</td><td>Condiments</td><td>New Orleans Cajun Delights</td></tr><tr><td>Grandma's Boysenberry Spread</td><td>25.0000</td><td>Condiments</td><td>Grandma Kelly's Homestead</td></tr><tr><td>Uncle Bob's Organic Dried Pears</td><td>30.0000</td><td>Produce</td><td>Grandma Kelly's Homestead</td></tr><tr><td>Northwoods Cranberry Sauce</td><td>40.0000</td><td>Condiments</td><td>Grandma Kelly's Homestead</td></tr><tr><td>Mishi Kobe Niku</td><td>97.0000</td><td>Meat/Poultry</td><td>Tokyo Traders</td></tr><tr><td>Ikura</td><td>31.0000</td><td>Seafood</td><td>Tokyo Traders</td></tr><tr><td>Queso Cabrales</td><td>21.0000</td><td>Dairy Products</td><td>Cooperativa de Quesos 'Las Cabras'</td></tr><tr><td>Queso Manchego La Pastora</td><td>38.0000</td><td>Dairy Products</td><td>Cooperativa de Quesos 'Las Cabras'</td></tr><tr><td>Konbu</td><td>6.0000</td><td>Seafood</td><td>Mayumi's</td></tr><tr><td>Tofu</td><td>23.2500</td><td>Produce</td><td>Mayumi's</td></tr><tr><td>Genen Shouyu</td><td>15.5000</td><td>Condiments</td><td>Mayumi's</td></tr><tr><td>Pavlova</td><td>17.4500</td><td>Confections</td><td>Pavlova, Ltd.</td></tr><tr><td>Alice Mutton</td><td>39.0000</td><td>Meat/Poultry</td><td>Pavlova, Ltd.</td></tr><tr><td>Carnarvon Tigers</td><td>62.5000</td><td>Seafood</td><td>Pavlova, Ltd.</td></tr><tr><td>Teatime Chocolate Biscuits</td><td>9.2000</td><td>Confections</td><td>Specialty Biscuits, Ltd.</td></tr><tr><td>Sir Rodney's Marmalade</td><td>81.0000</td><td>Confections</td><td>Specialty Biscuits, Ltd.</td></tr><tr><td>Sir Rodney's Scones</td><td>10.0000</td><td>Confections</td><td>Specialty Biscuits, Ltd.</td></tr><tr><td>Gustaf's Knäckebröd</td><td>21.0000</td><td>Grains/Cereals</td><td>PB Knäckebröd AB</td></tr><tr><td>Tunnbröd</td><td>9.0000</td><td>Grains/Cereals</td><td>PB Knäckebröd AB</td></tr><tr><td>Guaraná Fantástica</td><td>4.5000</td><td>Beverages</td><td>Refrescos Americanas LTDA</td></tr><tr><td>NuNuCa Nuß-Nougat-Creme</td><td>14.0000</td><td>Confections</td><td>Heli Süßwaren GmbH &amp; Co. KG</td></tr><tr><td>Gumbär Gummibärchen</td><td>31.2300</td><td>Confections</td><td>Heli Süßwaren GmbH &amp; Co. KG</td></tr><tr><td>Schoggi Schokolade</td><td>43.9000</td><td>Confections</td><td>Heli Süßwaren GmbH &amp; Co. KG</td></tr><tr><td>Rössle Sauerkraut</td><td>45.6000</td><td>Produce</td><td>Plutzer Lebensmittelgroßmärkte AG</td></tr><tr><td>Thüringer Rostbratwurst</td><td>123.7900</td><td>Meat/Poultry</td><td>Plutzer Lebensmittelgroßmärkte AG</td></tr><tr><td>Nord-Ost Matjeshering</td><td>25.8900</td><td>Seafood</td><td>Nord-Ost-Fisch Handelsgesellschaft mbH</td></tr><tr><td>Gorgonzola Telino</td><td>12.5000</td><td>Dairy Products</td><td>Formaggi Fortini s.r.l.</td></tr><tr><td>Mascarpone Fabioli</td><td>32.0000</td><td>Dairy Products</td><td>Formaggi Fortini s.r.l.</td></tr><tr><td>Geitost</td><td>2.5000</td><td>Dairy Products</td><td>Norske Meierier</td></tr><tr><td>Sasquatch Ale</td><td>14.0000</td><td>Beverages</td><td>Bigfoot Breweries</td></tr><tr><td>Steeleye Stout</td><td>18.0000</td><td>Beverages</td><td>Bigfoot Breweries</td></tr><tr><td>Inlagd Sill</td><td>19.0000</td><td>Seafood</td><td>Svensk Sjöföda AB</td></tr><tr><td>Gravad lax</td><td>26.0000</td><td>Seafood</td><td>Svensk Sjöföda AB</td></tr><tr><td>Côte de Blaye</td><td>263.5000</td><td>Beverages</td><td>Aux joyeux ecclésiastiques</td></tr><tr><td>Chartreuse verte</td><td>18.0000</td><td>Beverages</td><td>Aux joyeux ecclésiastiques</td></tr><tr><td>Boston Crab Meat</td><td>18.4000</td><td>Seafood</td><td>New England Seafood Cannery</td></tr><tr><td>Jack's New England Clam Chowder</td><td>9.6500</td><td>Seafood</td><td>New England Seafood Cannery</td></tr><tr><td>Singaporean Hokkien Fried Mee</td><td>14.0000</td><td>Grains/Cereals</td><td>Leka Trading</td></tr><tr><td>Ipoh Coffee</td><td>46.0000</td><td>Beverages</td><td>Leka Trading</td></tr><tr><td>Gula Malacca</td><td>19.4500</td><td>Condiments</td><td>Leka Trading</td></tr><tr><td>Rogede sild</td><td>9.5000</td><td>Seafood</td><td>Lyngbysild</td></tr><tr><td>Spegesild</td><td>12.0000</td><td>Seafood</td><td>Lyngbysild</td></tr><tr><td>Zaanse koeken</td><td>9.5000</td><td>Confections</td><td>Zaanse Snoepfabriek</td></tr><tr><td>Chocolade</td><td>12.7500</td><td>Confections</td><td>Zaanse Snoepfabriek</td></tr><tr><td>Maxilaku</td><td>20.0000</td><td>Confections</td><td>Karkki Oy</td></tr><tr><td>Valkoinen suklaa</td><td>16.2500</td><td>Confections</td><td>Karkki Oy</td></tr><tr><td>Manjimup Dried Apples</td><td>53.0000</td><td>Produce</td><td>G'day, Mate</td></tr><tr><td>Filo Mix</td><td>7.0000</td><td>Grains/Cereals</td><td>G'day, Mate</td></tr><tr><td>Perth Pasties</td><td>32.8000</td><td>Meat/Poultry</td><td>G'day, Mate</td></tr><tr><td>Tourtière</td><td>7.4500</td><td>Meat/Poultry</td><td>Ma Maison</td></tr><tr><td>Pâté chinois</td><td>24.0000</td><td>Meat/Poultry</td><td>Ma Maison</td></tr><tr><td>Gnocchi di nonna Alice</td><td>38.0000</td><td>Grains/Cereals</td><td>Pasta Buttini s.r.l.</td></tr><tr><td>Ravioli Angelo</td><td>19.5000</td><td>Grains/Cereals</td><td>Pasta Buttini s.r.l.</td></tr><tr><td>Escargots de Bourgogne</td><td>13.2500</td><td>Seafood</td><td>Escargots Nouveaux</td></tr><tr><td>Raclette Courdavault</td><td>55.0000</td><td>Dairy Products</td><td>Gai pâturage</td></tr><tr><td>Camembert Pierrot</td><td>34.0000</td><td>Dairy Products</td><td>Gai pâturage</td></tr><tr><td>Sirop d'érable</td><td>28.5000</td><td>Condiments</td><td>Forêts d'érables</td></tr><tr><td>Tarte au sucre</td><td>49.3000</td><td>Confections</td><td>Forêts d'érables</td></tr><tr><td>Vegie-spread</td><td>43.9000</td><td>Condiments</td><td>Pavlova, Ltd.</td></tr><tr><td>Wimmers gute Semmelknödel</td><td>33.2500</td><td>Grains/Cereals</td><td>Plutzer Lebensmittelgroßmärkte AG</td></tr><tr><td>Louisiana Fiery Hot Pepper Sauce</td><td>21.0500</td><td>Condiments</td><td>New Orleans Cajun Delights</td></tr><tr><td>Louisiana Hot Spiced Okra</td><td>17.0000</td><td>Condiments</td><td>New Orleans Cajun Delights</td></tr><tr><td>Laughing Lumberjack Lager</td><td>14.0000</td><td>Beverages</td><td>Bigfoot Breweries</td></tr><tr><td>Scottish Longbreads</td><td>12.5000</td><td>Confections</td><td>Specialty Biscuits, Ltd.</td></tr><tr><td>Gudbrandsdalsost</td><td>36.0000</td><td>Dairy Products</td><td>Norske Meierier</td></tr><tr><td>Outback Lager</td><td>15.0000</td><td>Beverages</td><td>Pavlova, Ltd.</td></tr><tr><td>Flotemysost</td><td>21.5000</td><td>Dairy Products</td><td>Norske Meierier</td></tr><tr><td>Mozzarella di Giovanni</td><td>34.8000</td><td>Dairy Products</td><td>Formaggi Fortini s.r.l.</td></tr><tr><td>Röd Kaviar</td><td>15.0000</td><td>Seafood</td><td>Svensk Sjöföda AB</td></tr><tr><td>Longlife Tofu</td><td>10.0000</td><td>Produce</td><td>Tokyo Traders</td></tr><tr><td>Rhönbräu Klosterbier</td><td>7.7500</td><td>Beverages</td><td>Plutzer Lebensmittelgroßmärkte AG</td></tr><tr><td>Lakkalikööri</td><td>18.0000</td><td>Beverages</td><td>Karkki Oy</td></tr><tr><td>Original Frankfurter grüne Soße</td><td>13.0000</td><td>Condiments</td><td>Plutzer Lebensmittelgroßmärkte AG</td></tr></table>"
                    }
                }
            ],
            "execution_count": 12
        },
        {
            "cell_type": "markdown",
            "source": [
                "## Paso 3: Agregando complejidad\n",
                "\n",
                "Recupere los productos del mar que es necesario resurtir\n",
                ""
            ],
            "metadata": {
                "azdata_cell_guid": "77adef35-7b03-4ad3-b1f9-583915f014f5"
            }
        },
        {
            "cell_type": "code",
            "source": [
                "SELECT P.ProductName as Producto, C.CategoryName as Categoria, P.UnitsInStock as [Cantidad en Stock],P.ReorderLevel as [Cantidad en Orden], (P.ReorderLevel-P.UnitsInStock) as Faltantes FROM Products P\r\n",
                "INNER JOIN Categories C ON C.CategoryID=P.CategoryID\r\n",
                "WHERE P.UnitsInStock<P.ReorderLevel"
            ],
            "metadata": {
                "azdata_cell_guid": "c5a11613-d5e5-4cf8-91a6-e7e295cdac9c"
            },
            "outputs": [
                {
                    "output_type": "display_data",
                    "data": {
                        "text/html": "(18 rows affected)"
                    },
                    "metadata": {}
                },
                {
                    "output_type": "display_data",
                    "data": {
                        "text/html": "Total execution time: 00:00:00.083"
                    },
                    "metadata": {}
                },
                {
                    "output_type": "execute_result",
                    "metadata": {},
                    "execution_count": 13,
                    "data": {
                        "application/vnd.dataresource+json": {
                            "schema": {
                                "fields": [
                                    {
                                        "name": "Producto"
                                    },
                                    {
                                        "name": "Categoria"
                                    },
                                    {
                                        "name": "Cantidad en Stock"
                                    },
                                    {
                                        "name": "Cantidad en Orden"
                                    },
                                    {
                                        "name": "Faltantes"
                                    }
                                ]
                            },
                            "data": [
                                {
                                    "0": "Chang",
                                    "1": "Beverages",
                                    "2": "17",
                                    "3": "25",
                                    "4": "8"
                                },
                                {
                                    "0": "Aniseed Syrup",
                                    "1": "Condiments",
                                    "2": "13",
                                    "3": "25",
                                    "4": "12"
                                },
                                {
                                    "0": "Queso Cabrales",
                                    "1": "Dairy Products",
                                    "2": "22",
                                    "3": "30",
                                    "4": "8"
                                },
                                {
                                    "0": "Sir Rodney's Scones",
                                    "1": "Confections",
                                    "2": "3",
                                    "3": "5",
                                    "4": "2"
                                },
                                {
                                    "0": "Nord-Ost Matjeshering",
                                    "1": "Seafood",
                                    "2": "10",
                                    "3": "15",
                                    "4": "5"
                                },
                                {
                                    "0": "Gorgonzola Telino",
                                    "1": "Dairy Products",
                                    "2": "0",
                                    "3": "20",
                                    "4": "20"
                                },
                                {
                                    "0": "Mascarpone Fabioli",
                                    "1": "Dairy Products",
                                    "2": "9",
                                    "3": "25",
                                    "4": "16"
                                },
                                {
                                    "0": "Gravad lax",
                                    "1": "Seafood",
                                    "2": "11",
                                    "3": "25",
                                    "4": "14"
                                },
                                {
                                    "0": "Ipoh Coffee",
                                    "1": "Beverages",
                                    "2": "17",
                                    "3": "25",
                                    "4": "8"
                                },
                                {
                                    "0": "Rogede sild",
                                    "1": "Seafood",
                                    "2": "5",
                                    "3": "15",
                                    "4": "10"
                                },
                                {
                                    "0": "Chocolade",
                                    "1": "Confections",
                                    "2": "15",
                                    "3": "25",
                                    "4": "10"
                                },
                                {
                                    "0": "Maxilaku",
                                    "1": "Confections",
                                    "2": "10",
                                    "3": "15",
                                    "4": "5"
                                },
                                {
                                    "0": "Gnocchi di nonna Alice",
                                    "1": "Grains/Cereals",
                                    "2": "21",
                                    "3": "30",
                                    "4": "9"
                                },
                                {
                                    "0": "Wimmers gute Semmelknödel",
                                    "1": "Grains/Cereals",
                                    "2": "22",
                                    "3": "30",
                                    "4": "8"
                                },
                                {
                                    "0": "Louisiana Hot Spiced Okra",
                                    "1": "Condiments",
                                    "2": "4",
                                    "3": "20",
                                    "4": "16"
                                },
                                {
                                    "0": "Scottish Longbreads",
                                    "1": "Confections",
                                    "2": "6",
                                    "3": "15",
                                    "4": "9"
                                },
                                {
                                    "0": "Outback Lager",
                                    "1": "Beverages",
                                    "2": "15",
                                    "3": "30",
                                    "4": "15"
                                },
                                {
                                    "0": "Longlife Tofu",
                                    "1": "Produce",
                                    "2": "4",
                                    "3": "5",
                                    "4": "1"
                                }
                            ]
                        },
                        "text/html": "<table><tr><th>Producto</th><th>Categoria</th><th>Cantidad en Stock</th><th>Cantidad en Orden</th><th>Faltantes</th></tr><tr><td>Chang</td><td>Beverages</td><td>17</td><td>25</td><td>8</td></tr><tr><td>Aniseed Syrup</td><td>Condiments</td><td>13</td><td>25</td><td>12</td></tr><tr><td>Queso Cabrales</td><td>Dairy Products</td><td>22</td><td>30</td><td>8</td></tr><tr><td>Sir Rodney's Scones</td><td>Confections</td><td>3</td><td>5</td><td>2</td></tr><tr><td>Nord-Ost Matjeshering</td><td>Seafood</td><td>10</td><td>15</td><td>5</td></tr><tr><td>Gorgonzola Telino</td><td>Dairy Products</td><td>0</td><td>20</td><td>20</td></tr><tr><td>Mascarpone Fabioli</td><td>Dairy Products</td><td>9</td><td>25</td><td>16</td></tr><tr><td>Gravad lax</td><td>Seafood</td><td>11</td><td>25</td><td>14</td></tr><tr><td>Ipoh Coffee</td><td>Beverages</td><td>17</td><td>25</td><td>8</td></tr><tr><td>Rogede sild</td><td>Seafood</td><td>5</td><td>15</td><td>10</td></tr><tr><td>Chocolade</td><td>Confections</td><td>15</td><td>25</td><td>10</td></tr><tr><td>Maxilaku</td><td>Confections</td><td>10</td><td>15</td><td>5</td></tr><tr><td>Gnocchi di nonna Alice</td><td>Grains/Cereals</td><td>21</td><td>30</td><td>9</td></tr><tr><td>Wimmers gute Semmelknödel</td><td>Grains/Cereals</td><td>22</td><td>30</td><td>8</td></tr><tr><td>Louisiana Hot Spiced Okra</td><td>Condiments</td><td>4</td><td>20</td><td>16</td></tr><tr><td>Scottish Longbreads</td><td>Confections</td><td>6</td><td>15</td><td>9</td></tr><tr><td>Outback Lager</td><td>Beverages</td><td>15</td><td>30</td><td>15</td></tr><tr><td>Longlife Tofu</td><td>Produce</td><td>4</td><td>5</td><td>1</td></tr></table>"
                    }
                }
            ],
            "execution_count": 13
        }
    ]
}