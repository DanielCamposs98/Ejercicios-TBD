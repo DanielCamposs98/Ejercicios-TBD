{
    "metadata": {
        "kernelspec": {
            "name": "SQL",
            "display_name": "SQL",
            "language": "sql"
        },
        "language_info": {
            "name": "sql",
            "version": ""
        }
    },
    "nbformat_minor": 2,
    "nbformat": 4,
    "cells": [
        {
            "cell_type": "markdown",
            "source": [
                "\n",
                "# Inserción de datos (DEMO)#\n",
                "\n",
                "## Paso 1: Es recomendable siempre incluir la lista de columnas\n",
                "\n",
                ""
            ],
            "metadata": {
                "azdata_cell_guid": "eb9b1bca-1417-4355-9c77-6dc049aa9a07"
            }
        },
        {
            "cell_type": "code",
            "source": [
                "--Trabajemos con la de Pruebas\n",
                "use master\n",
                "\n",
                "IF EXISTS  \n",
                "    ( \n",
                "        SELECT name FROM master.dbo.sysdatabases  \n",
                "        WHERE name = 'Pruebas' \n",
                "    ) \n",
                "    DROP DATABASE Pruebas \n",
                "GO \n",
                "    \n",
                "CREATE DATABASE Pruebas \n",
                "GO \n",
                "use Pruebas"
            ],
            "metadata": {
                "azdata_cell_guid": "2f609fde-7eeb-4cac-839b-40a92d7ccdc2",
                "tags": []
            },
            "outputs": [
                {
                    "output_type": "display_data",
                    "data": {
                        "text/html": "Commands completed successfully."
                    },
                    "metadata": {}
                },
                {
                    "output_type": "display_data",
                    "data": {
                        "text/html": "Commands completed successfully."
                    },
                    "metadata": {}
                },
                {
                    "output_type": "display_data",
                    "data": {
                        "text/html": "Commands completed successfully."
                    },
                    "metadata": {}
                },
                {
                    "output_type": "display_data",
                    "data": {
                        "text/html": "Total execution time: 00:00:20.287"
                    },
                    "metadata": {}
                }
            ],
            "execution_count": 1
        },
        {
            "cell_type": "markdown",
            "source": [
                "Sea la tabla siguiente"
            ],
            "metadata": {
                "azdata_cell_guid": "4190a2e5-4921-4f05-bff0-b675e0e91929"
            }
        },
        {
            "cell_type": "code",
            "source": [
                "create TABLE T1\n",
                "(\n",
                "    id int not NULL,\n",
                "    c CHAR(1)\n",
                ")\n",
                ""
            ],
            "metadata": {
                "azdata_cell_guid": "143511dc-78ea-43ef-91c2-d4f11622b07d"
            },
            "outputs": [
                {
                    "output_type": "display_data",
                    "data": {
                        "text/html": "Commands completed successfully."
                    },
                    "metadata": {}
                },
                {
                    "output_type": "display_data",
                    "data": {
                        "text/html": "Total execution time: 00:00:00.710"
                    },
                    "metadata": {}
                }
            ],
            "execution_count": 2
        },
        {
            "cell_type": "markdown",
            "source": [
                "Podemos desde un programa ejecutar la siguiente sentencia de inserción"
            ],
            "metadata": {
                "azdata_cell_guid": "55ccb535-b686-4be4-aa82-4747c3dda09d"
            }
        },
        {
            "cell_type": "code",
            "source": [
                "insert into t1 values (1, 'A')"
            ],
            "metadata": {
                "azdata_cell_guid": "2aad00aa-c7ca-45ac-95dd-030371e22484"
            },
            "outputs": [
                {
                    "output_type": "display_data",
                    "data": {
                        "text/html": "(1 row affected)"
                    },
                    "metadata": {}
                },
                {
                    "output_type": "display_data",
                    "data": {
                        "text/html": "Total execution time: 00:00:00.365"
                    },
                    "metadata": {}
                }
            ],
            "execution_count": 3
        },
        {
            "cell_type": "markdown",
            "source": [
                "Pero que pasa si pasado el tiempo se modifica la tabla agregando una columna"
            ],
            "metadata": {
                "azdata_cell_guid": "bc789845-41ca-4655-96f2-756be9b41da8"
            }
        },
        {
            "cell_type": "code",
            "source": [
                "    ALTER TABLE t1\n",
                "        add s int"
            ],
            "metadata": {
                "azdata_cell_guid": "36c805ed-330c-4040-a165-3dbff68e19f2"
            },
            "outputs": [
                {
                    "output_type": "display_data",
                    "data": {
                        "text/html": "Commands completed successfully."
                    },
                    "metadata": {}
                },
                {
                    "output_type": "display_data",
                    "data": {
                        "text/html": "Total execution time: 00:00:01.207"
                    },
                    "metadata": {}
                }
            ],
            "execution_count": 4
        },
        {
            "cell_type": "markdown",
            "source": [
                "Y llegamos a la misma línea en el programa en cuestión"
            ],
            "metadata": {
                "azdata_cell_guid": "e0a733fc-dae9-4199-95b3-2ce7fbb27b85"
            }
        },
        {
            "cell_type": "code",
            "source": [
                "insert into t1 values (2, 'B')"
            ],
            "metadata": {
                "azdata_cell_guid": "60cb7d90-37ae-4216-a3ac-0c0c1cfd9c8c"
            },
            "outputs": [
                {
                    "output_type": "error",
                    "evalue": "Msg 213, Level 16, State 1, Line 1\r\nColumn name or number of supplied values does not match table definition.",
                    "ename": "",
                    "traceback": []
                },
                {
                    "output_type": "display_data",
                    "data": {
                        "text/html": "Total execution time: 00:00:04.921"
                    },
                    "metadata": {}
                }
            ],
            "execution_count": 5
        },
        {
            "cell_type": "markdown",
            "source": [
                "## Paso 2: Orden de las columnas##\n",
                "Por claridad se recomienda siempre poner los nombres de columnas, que pueden ir en cualquier orden"
            ],
            "metadata": {
                "azdata_cell_guid": "c7be691c-1443-4355-bcfe-20c5dae04ce6"
            }
        },
        {
            "cell_type": "code",
            "source": [
                "insert into t1 (C, id) values ( 'B', 2)\n",
                "select * from T1"
            ],
            "metadata": {
                "azdata_cell_guid": "c0762fa4-c412-4a8f-8ed5-2771eea3ec73"
            },
            "outputs": [
                {
                    "output_type": "display_data",
                    "data": {
                        "text/html": "(1 row affected)"
                    },
                    "metadata": {}
                },
                {
                    "output_type": "display_data",
                    "data": {
                        "text/html": "(2 rows affected)"
                    },
                    "metadata": {}
                },
                {
                    "output_type": "display_data",
                    "data": {
                        "text/html": "Total execution time: 00:00:06.124"
                    },
                    "metadata": {}
                },
                {
                    "output_type": "execute_result",
                    "metadata": {},
                    "execution_count": 6,
                    "data": {
                        "application/vnd.dataresource+json": {
                            "schema": {
                                "fields": [
                                    {
                                        "name": "id"
                                    },
                                    {
                                        "name": "c"
                                    },
                                    {
                                        "name": "s"
                                    }
                                ]
                            },
                            "data": [
                                {
                                    "0": "1",
                                    "1": "A",
                                    "2": "NULL"
                                },
                                {
                                    "0": "2",
                                    "1": "B",
                                    "2": "NULL"
                                }
                            ]
                        },
                        "text/html": "<table><tr><th>id</th><th>c</th><th>s</th></tr><tr><td>1</td><td>A</td><td>NULL</td></tr><tr><td>2</td><td>B</td><td>NULL</td></tr></table>"
                    }
                }
            ],
            "execution_count": 6
        },
        {
            "cell_type": "markdown",
            "source": [
                "## Paso 3: Valores por DEFAULT ##"
            ],
            "metadata": {
                "azdata_cell_guid": "2823e2a6-74b7-482f-a5f5-42c0ac834201"
            }
        },
        {
            "cell_type": "code",
            "source": [
                "USE northwind\n",
                "\n",
                "INSERT Products (ProductName, SupplierID, CategoryID, UnitPrice)\n",
                "VALUES ('Chilorio Chata', 25, 6, DEFAULT)\n",
                "\n",
                "SELECT * from Products"
            ],
            "metadata": {
                "azdata_cell_guid": "6117788f-65af-443d-9460-d8361bb7c57c",
                "tags": []
            },
            "outputs": [
                {
                    "output_type": "display_data",
                    "data": {
                        "text/html": "(1 row affected)"
                    },
                    "metadata": {}
                },
                {
                    "output_type": "display_data",
                    "data": {
                        "text/html": "(78 rows affected)"
                    },
                    "metadata": {}
                },
                {
                    "output_type": "display_data",
                    "data": {
                        "text/html": "Total execution time: 00:00:01.690"
                    },
                    "metadata": {}
                },
                {
                    "output_type": "execute_result",
                    "metadata": {},
                    "execution_count": 7,
                    "data": {
                        "application/vnd.dataresource+json": {
                            "schema": {
                                "fields": [
                                    {
                                        "name": "ProductID"
                                    },
                                    {
                                        "name": "ProductName"
                                    },
                                    {
                                        "name": "SupplierID"
                                    },
                                    {
                                        "name": "CategoryID"
                                    },
                                    {
                                        "name": "QuantityPerUnit"
                                    },
                                    {
                                        "name": "UnitPrice"
                                    },
                                    {
                                        "name": "UnitsInStock"
                                    },
                                    {
                                        "name": "UnitsOnOrder"
                                    },
                                    {
                                        "name": "ReorderLevel"
                                    },
                                    {
                                        "name": "Discontinued"
                                    }
                                ]
                            },
                            "data": [
                                {
                                    "0": "1",
                                    "1": "Chai",
                                    "2": "1",
                                    "3": "1",
                                    "4": "10 boxes x 20 bags",
                                    "5": "18.0000",
                                    "6": "39",
                                    "7": "0",
                                    "8": "10",
                                    "9": "0"
                                },
                                {
                                    "0": "2",
                                    "1": "Chang",
                                    "2": "1",
                                    "3": "1",
                                    "4": "24 - 12 oz bottles",
                                    "5": "19.0000",
                                    "6": "17",
                                    "7": "40",
                                    "8": "25",
                                    "9": "0"
                                },
                                {
                                    "0": "3",
                                    "1": "Aniseed Syrup",
                                    "2": "1",
                                    "3": "2",
                                    "4": "12 - 550 ml bottles",
                                    "5": "10.0000",
                                    "6": "13",
                                    "7": "70",
                                    "8": "25",
                                    "9": "0"
                                },
                                {
                                    "0": "4",
                                    "1": "Chef Anton's Cajun Seasoning",
                                    "2": "2",
                                    "3": "2",
                                    "4": "48 - 6 oz jars",
                                    "5": "22.0000",
                                    "6": "53",
                                    "7": "0",
                                    "8": "0",
                                    "9": "0"
                                },
                                {
                                    "0": "5",
                                    "1": "Chef Anton's Gumbo Mix",
                                    "2": "2",
                                    "3": "2",
                                    "4": "36 boxes",
                                    "5": "21.3500",
                                    "6": "0",
                                    "7": "0",
                                    "8": "0",
                                    "9": "1"
                                },
                                {
                                    "0": "6",
                                    "1": "Grandma's Boysenberry Spread",
                                    "2": "3",
                                    "3": "2",
                                    "4": "12 - 8 oz jars",
                                    "5": "25.0000",
                                    "6": "120",
                                    "7": "0",
                                    "8": "25",
                                    "9": "0"
                                },
                                {
                                    "0": "7",
                                    "1": "Uncle Bob's Organic Dried Pears",
                                    "2": "3",
                                    "3": "7",
                                    "4": "12 - 1 lb pkgs.",
                                    "5": "30.0000",
                                    "6": "15",
                                    "7": "0",
                                    "8": "10",
                                    "9": "0"
                                },
                                {
                                    "0": "8",
                                    "1": "Northwoods Cranberry Sauce",
                                    "2": "3",
                                    "3": "2",
                                    "4": "12 - 12 oz jars",
                                    "5": "40.0000",
                                    "6": "6",
                                    "7": "0",
                                    "8": "0",
                                    "9": "0"
                                },
                                {
                                    "0": "9",
                                    "1": "Mishi Kobe Niku",
                                    "2": "4",
                                    "3": "6",
                                    "4": "18 - 500 g pkgs.",
                                    "5": "97.0000",
                                    "6": "29",
                                    "7": "0",
                                    "8": "0",
                                    "9": "1"
                                },
                                {
                                    "0": "10",
                                    "1": "Ikura",
                                    "2": "4",
                                    "3": "8",
                                    "4": "12 - 200 ml jars",
                                    "5": "31.0000",
                                    "6": "31",
                                    "7": "0",
                                    "8": "0",
                                    "9": "0"
                                },
                                {
                                    "0": "11",
                                    "1": "Queso Cabrales",
                                    "2": "5",
                                    "3": "4",
                                    "4": "1 kg pkg.",
                                    "5": "21.0000",
                                    "6": "22",
                                    "7": "30",
                                    "8": "30",
                                    "9": "0"
                                },
                                {
                                    "0": "12",
                                    "1": "Queso Manchego La Pastora",
                                    "2": "5",
                                    "3": "4",
                                    "4": "10 - 500 g pkgs.",
                                    "5": "38.0000",
                                    "6": "86",
                                    "7": "0",
                                    "8": "0",
                                    "9": "0"
                                },
                                {
                                    "0": "13",
                                    "1": "Konbu",
                                    "2": "6",
                                    "3": "8",
                                    "4": "2 kg box",
                                    "5": "6.0000",
                                    "6": "24",
                                    "7": "0",
                                    "8": "5",
                                    "9": "0"
                                },
                                {
                                    "0": "14",
                                    "1": "Tofu",
                                    "2": "6",
                                    "3": "7",
                                    "4": "40 - 100 g pkgs.",
                                    "5": "23.2500",
                                    "6": "35",
                                    "7": "0",
                                    "8": "0",
                                    "9": "0"
                                },
                                {
                                    "0": "15",
                                    "1": "Genen Shouyu",
                                    "2": "6",
                                    "3": "2",
                                    "4": "24 - 250 ml bottles",
                                    "5": "15.5000",
                                    "6": "39",
                                    "7": "0",
                                    "8": "5",
                                    "9": "0"
                                },
                                {
                                    "0": "16",
                                    "1": "Pavlova",
                                    "2": "7",
                                    "3": "3",
                                    "4": "32 - 500 g boxes",
                                    "5": "17.4500",
                                    "6": "29",
                                    "7": "0",
                                    "8": "10",
                                    "9": "0"
                                },
                                {
                                    "0": "17",
                                    "1": "Alice Mutton",
                                    "2": "7",
                                    "3": "6",
                                    "4": "20 - 1 kg tins",
                                    "5": "39.0000",
                                    "6": "0",
                                    "7": "0",
                                    "8": "0",
                                    "9": "1"
                                },
                                {
                                    "0": "18",
                                    "1": "Carnarvon Tigers",
                                    "2": "7",
                                    "3": "8",
                                    "4": "16 kg pkg.",
                                    "5": "62.5000",
                                    "6": "42",
                                    "7": "0",
                                    "8": "0",
                                    "9": "0"
                                },
                                {
                                    "0": "19",
                                    "1": "Teatime Chocolate Biscuits",
                                    "2": "8",
                                    "3": "3",
                                    "4": "10 boxes x 12 pieces",
                                    "5": "9.2000",
                                    "6": "25",
                                    "7": "0",
                                    "8": "5",
                                    "9": "0"
                                },
                                {
                                    "0": "20",
                                    "1": "Sir Rodney's Marmalade",
                                    "2": "8",
                                    "3": "3",
                                    "4": "30 gift boxes",
                                    "5": "81.0000",
                                    "6": "40",
                                    "7": "0",
                                    "8": "0",
                                    "9": "0"
                                },
                                {
                                    "0": "21",
                                    "1": "Sir Rodney's Scones",
                                    "2": "8",
                                    "3": "3",
                                    "4": "24 pkgs. x 4 pieces",
                                    "5": "10.0000",
                                    "6": "3",
                                    "7": "40",
                                    "8": "5",
                                    "9": "0"
                                },
                                {
                                    "0": "22",
                                    "1": "Gustaf's Knäckebröd",
                                    "2": "9",
                                    "3": "5",
                                    "4": "24 - 500 g pkgs.",
                                    "5": "21.0000",
                                    "6": "104",
                                    "7": "0",
                                    "8": "25",
                                    "9": "0"
                                },
                                {
                                    "0": "23",
                                    "1": "Tunnbröd",
                                    "2": "9",
                                    "3": "5",
                                    "4": "12 - 250 g pkgs.",
                                    "5": "9.0000",
                                    "6": "61",
                                    "7": "0",
                                    "8": "25",
                                    "9": "0"
                                },
                                {
                                    "0": "24",
                                    "1": "Guaraná Fantástica",
                                    "2": "10",
                                    "3": "1",
                                    "4": "12 - 355 ml cans",
                                    "5": "4.5000",
                                    "6": "20",
                                    "7": "0",
                                    "8": "0",
                                    "9": "1"
                                },
                                {
                                    "0": "25",
                                    "1": "NuNuCa Nuß-Nougat-Creme",
                                    "2": "11",
                                    "3": "3",
                                    "4": "20 - 450 g glasses",
                                    "5": "14.0000",
                                    "6": "76",
                                    "7": "0",
                                    "8": "30",
                                    "9": "0"
                                },
                                {
                                    "0": "26",
                                    "1": "Gumbär Gummibärchen",
                                    "2": "11",
                                    "3": "3",
                                    "4": "100 - 250 g bags",
                                    "5": "31.2300",
                                    "6": "15",
                                    "7": "0",
                                    "8": "0",
                                    "9": "0"
                                },
                                {
                                    "0": "27",
                                    "1": "Schoggi Schokolade",
                                    "2": "11",
                                    "3": "3",
                                    "4": "100 - 100 g pieces",
                                    "5": "43.9000",
                                    "6": "49",
                                    "7": "0",
                                    "8": "30",
                                    "9": "0"
                                },
                                {
                                    "0": "28",
                                    "1": "Rössle Sauerkraut",
                                    "2": "12",
                                    "3": "7",
                                    "4": "25 - 825 g cans",
                                    "5": "45.6000",
                                    "6": "26",
                                    "7": "0",
                                    "8": "0",
                                    "9": "1"
                                },
                                {
                                    "0": "29",
                                    "1": "Thüringer Rostbratwurst",
                                    "2": "12",
                                    "3": "6",
                                    "4": "50 bags x 30 sausgs.",
                                    "5": "123.7900",
                                    "6": "0",
                                    "7": "0",
                                    "8": "0",
                                    "9": "1"
                                },
                                {
                                    "0": "30",
                                    "1": "Nord-Ost Matjeshering",
                                    "2": "13",
                                    "3": "8",
                                    "4": "10 - 200 g glasses",
                                    "5": "25.8900",
                                    "6": "10",
                                    "7": "0",
                                    "8": "15",
                                    "9": "0"
                                },
                                {
                                    "0": "31",
                                    "1": "Gorgonzola Telino",
                                    "2": "14",
                                    "3": "4",
                                    "4": "12 - 100 g pkgs",
                                    "5": "12.5000",
                                    "6": "0",
                                    "7": "70",
                                    "8": "20",
                                    "9": "0"
                                },
                                {
                                    "0": "32",
                                    "1": "Mascarpone Fabioli",
                                    "2": "14",
                                    "3": "4",
                                    "4": "24 - 200 g pkgs.",
                                    "5": "32.0000",
                                    "6": "9",
                                    "7": "40",
                                    "8": "25",
                                    "9": "0"
                                },
                                {
                                    "0": "33",
                                    "1": "Geitost",
                                    "2": "15",
                                    "3": "4",
                                    "4": "500 g",
                                    "5": "2.5000",
                                    "6": "112",
                                    "7": "0",
                                    "8": "20",
                                    "9": "0"
                                },
                                {
                                    "0": "34",
                                    "1": "Sasquatch Ale",
                                    "2": "16",
                                    "3": "1",
                                    "4": "24 - 12 oz bottles",
                                    "5": "14.0000",
                                    "6": "111",
                                    "7": "0",
                                    "8": "15",
                                    "9": "0"
                                },
                                {
                                    "0": "35",
                                    "1": "Steeleye Stout",
                                    "2": "16",
                                    "3": "1",
                                    "4": "24 - 12 oz bottles",
                                    "5": "18.0000",
                                    "6": "20",
                                    "7": "0",
                                    "8": "15",
                                    "9": "0"
                                },
                                {
                                    "0": "36",
                                    "1": "Inlagd Sill",
                                    "2": "17",
                                    "3": "8",
                                    "4": "24 - 250 g  jars",
                                    "5": "19.0000",
                                    "6": "112",
                                    "7": "0",
                                    "8": "20",
                                    "9": "0"
                                },
                                {
                                    "0": "37",
                                    "1": "Gravad lax",
                                    "2": "17",
                                    "3": "8",
                                    "4": "12 - 500 g pkgs.",
                                    "5": "26.0000",
                                    "6": "11",
                                    "7": "50",
                                    "8": "25",
                                    "9": "0"
                                },
                                {
                                    "0": "38",
                                    "1": "Côte de Blaye",
                                    "2": "18",
                                    "3": "1",
                                    "4": "12 - 75 cl bottles",
                                    "5": "263.5000",
                                    "6": "17",
                                    "7": "0",
                                    "8": "15",
                                    "9": "0"
                                },
                                {
                                    "0": "39",
                                    "1": "Chartreuse verte",
                                    "2": "18",
                                    "3": "1",
                                    "4": "750 cc per bottle",
                                    "5": "18.0000",
                                    "6": "69",
                                    "7": "0",
                                    "8": "5",
                                    "9": "0"
                                },
                                {
                                    "0": "40",
                                    "1": "Boston Crab Meat",
                                    "2": "19",
                                    "3": "8",
                                    "4": "24 - 4 oz tins",
                                    "5": "18.4000",
                                    "6": "123",
                                    "7": "0",
                                    "8": "30",
                                    "9": "0"
                                },
                                {
                                    "0": "41",
                                    "1": "Jack's New England Clam Chowder",
                                    "2": "19",
                                    "3": "8",
                                    "4": "12 - 12 oz cans",
                                    "5": "9.6500",
                                    "6": "85",
                                    "7": "0",
                                    "8": "10",
                                    "9": "0"
                                },
                                {
                                    "0": "42",
                                    "1": "Singaporean Hokkien Fried Mee",
                                    "2": "20",
                                    "3": "5",
                                    "4": "32 - 1 kg pkgs.",
                                    "5": "14.0000",
                                    "6": "26",
                                    "7": "0",
                                    "8": "0",
                                    "9": "1"
                                },
                                {
                                    "0": "43",
                                    "1": "Ipoh Coffee",
                                    "2": "20",
                                    "3": "1",
                                    "4": "16 - 500 g tins",
                                    "5": "46.0000",
                                    "6": "17",
                                    "7": "10",
                                    "8": "25",
                                    "9": "0"
                                },
                                {
                                    "0": "44",
                                    "1": "Gula Malacca",
                                    "2": "20",
                                    "3": "2",
                                    "4": "20 - 2 kg bags",
                                    "5": "19.4500",
                                    "6": "27",
                                    "7": "0",
                                    "8": "15",
                                    "9": "0"
                                },
                                {
                                    "0": "45",
                                    "1": "Rogede sild",
                                    "2": "21",
                                    "3": "8",
                                    "4": "1k pkg.",
                                    "5": "9.5000",
                                    "6": "5",
                                    "7": "70",
                                    "8": "15",
                                    "9": "0"
                                },
                                {
                                    "0": "46",
                                    "1": "Spegesild",
                                    "2": "21",
                                    "3": "8",
                                    "4": "4 - 450 g glasses",
                                    "5": "12.0000",
                                    "6": "95",
                                    "7": "0",
                                    "8": "0",
                                    "9": "0"
                                },
                                {
                                    "0": "47",
                                    "1": "Zaanse koeken",
                                    "2": "22",
                                    "3": "3",
                                    "4": "10 - 4 oz boxes",
                                    "5": "9.5000",
                                    "6": "36",
                                    "7": "0",
                                    "8": "0",
                                    "9": "0"
                                },
                                {
                                    "0": "48",
                                    "1": "Chocolade",
                                    "2": "22",
                                    "3": "3",
                                    "4": "10 pkgs.",
                                    "5": "12.7500",
                                    "6": "15",
                                    "7": "70",
                                    "8": "25",
                                    "9": "0"
                                },
                                {
                                    "0": "49",
                                    "1": "Maxilaku",
                                    "2": "23",
                                    "3": "3",
                                    "4": "24 - 50 g pkgs.",
                                    "5": "20.0000",
                                    "6": "10",
                                    "7": "60",
                                    "8": "15",
                                    "9": "0"
                                },
                                {
                                    "0": "50",
                                    "1": "Valkoinen suklaa",
                                    "2": "23",
                                    "3": "3",
                                    "4": "12 - 100 g bars",
                                    "5": "16.2500",
                                    "6": "65",
                                    "7": "0",
                                    "8": "30",
                                    "9": "0"
                                },
                                {
                                    "0": "51",
                                    "1": "Manjimup Dried Apples",
                                    "2": "24",
                                    "3": "7",
                                    "4": "50 - 300 g pkgs.",
                                    "5": "53.0000",
                                    "6": "20",
                                    "7": "0",
                                    "8": "10",
                                    "9": "0"
                                },
                                {
                                    "0": "52",
                                    "1": "Filo Mix",
                                    "2": "24",
                                    "3": "5",
                                    "4": "16 - 2 kg boxes",
                                    "5": "7.0000",
                                    "6": "38",
                                    "7": "0",
                                    "8": "25",
                                    "9": "0"
                                },
                                {
                                    "0": "53",
                                    "1": "Perth Pasties",
                                    "2": "24",
                                    "3": "6",
                                    "4": "48 pieces",
                                    "5": "32.8000",
                                    "6": "0",
                                    "7": "0",
                                    "8": "0",
                                    "9": "1"
                                },
                                {
                                    "0": "54",
                                    "1": "Tourtière",
                                    "2": "25",
                                    "3": "6",
                                    "4": "16 pies",
                                    "5": "7.4500",
                                    "6": "21",
                                    "7": "0",
                                    "8": "10",
                                    "9": "0"
                                },
                                {
                                    "0": "55",
                                    "1": "Pâté chinois",
                                    "2": "25",
                                    "3": "6",
                                    "4": "24 boxes x 2 pies",
                                    "5": "24.0000",
                                    "6": "115",
                                    "7": "0",
                                    "8": "20",
                                    "9": "0"
                                },
                                {
                                    "0": "56",
                                    "1": "Gnocchi di nonna Alice",
                                    "2": "26",
                                    "3": "5",
                                    "4": "24 - 250 g pkgs.",
                                    "5": "38.0000",
                                    "6": "21",
                                    "7": "10",
                                    "8": "30",
                                    "9": "0"
                                },
                                {
                                    "0": "57",
                                    "1": "Ravioli Angelo",
                                    "2": "26",
                                    "3": "5",
                                    "4": "24 - 250 g pkgs.",
                                    "5": "19.5000",
                                    "6": "36",
                                    "7": "0",
                                    "8": "20",
                                    "9": "0"
                                },
                                {
                                    "0": "58",
                                    "1": "Escargots de Bourgogne",
                                    "2": "27",
                                    "3": "8",
                                    "4": "24 pieces",
                                    "5": "13.2500",
                                    "6": "62",
                                    "7": "0",
                                    "8": "20",
                                    "9": "0"
                                },
                                {
                                    "0": "59",
                                    "1": "Raclette Courdavault",
                                    "2": "28",
                                    "3": "4",
                                    "4": "5 kg pkg.",
                                    "5": "55.0000",
                                    "6": "79",
                                    "7": "0",
                                    "8": "0",
                                    "9": "0"
                                },
                                {
                                    "0": "60",
                                    "1": "Camembert Pierrot",
                                    "2": "28",
                                    "3": "4",
                                    "4": "15 - 300 g rounds",
                                    "5": "34.0000",
                                    "6": "19",
                                    "7": "0",
                                    "8": "0",
                                    "9": "0"
                                },
                                {
                                    "0": "61",
                                    "1": "Sirop d'érable",
                                    "2": "29",
                                    "3": "2",
                                    "4": "24 - 500 ml bottles",
                                    "5": "28.5000",
                                    "6": "113",
                                    "7": "0",
                                    "8": "25",
                                    "9": "0"
                                },
                                {
                                    "0": "62",
                                    "1": "Tarte au sucre",
                                    "2": "29",
                                    "3": "3",
                                    "4": "48 pies",
                                    "5": "49.3000",
                                    "6": "17",
                                    "7": "0",
                                    "8": "0",
                                    "9": "0"
                                },
                                {
                                    "0": "63",
                                    "1": "Vegie-spread",
                                    "2": "7",
                                    "3": "2",
                                    "4": "15 - 625 g jars",
                                    "5": "43.9000",
                                    "6": "24",
                                    "7": "0",
                                    "8": "5",
                                    "9": "0"
                                },
                                {
                                    "0": "64",
                                    "1": "Wimmers gute Semmelknödel",
                                    "2": "12",
                                    "3": "5",
                                    "4": "20 bags x 4 pieces",
                                    "5": "33.2500",
                                    "6": "22",
                                    "7": "80",
                                    "8": "30",
                                    "9": "0"
                                },
                                {
                                    "0": "65",
                                    "1": "Louisiana Fiery Hot Pepper Sauce",
                                    "2": "2",
                                    "3": "2",
                                    "4": "32 - 8 oz bottles",
                                    "5": "21.0500",
                                    "6": "76",
                                    "7": "0",
                                    "8": "0",
                                    "9": "0"
                                },
                                {
                                    "0": "66",
                                    "1": "Louisiana Hot Spiced Okra",
                                    "2": "2",
                                    "3": "2",
                                    "4": "24 - 8 oz jars",
                                    "5": "17.0000",
                                    "6": "4",
                                    "7": "100",
                                    "8": "20",
                                    "9": "0"
                                },
                                {
                                    "0": "67",
                                    "1": "Laughing Lumberjack Lager",
                                    "2": "16",
                                    "3": "1",
                                    "4": "24 - 12 oz bottles",
                                    "5": "14.0000",
                                    "6": "52",
                                    "7": "0",
                                    "8": "10",
                                    "9": "0"
                                },
                                {
                                    "0": "68",
                                    "1": "Scottish Longbreads",
                                    "2": "8",
                                    "3": "3",
                                    "4": "10 boxes x 8 pieces",
                                    "5": "12.5000",
                                    "6": "6",
                                    "7": "10",
                                    "8": "15",
                                    "9": "0"
                                },
                                {
                                    "0": "69",
                                    "1": "Gudbrandsdalsost",
                                    "2": "15",
                                    "3": "4",
                                    "4": "10 kg pkg.",
                                    "5": "36.0000",
                                    "6": "26",
                                    "7": "0",
                                    "8": "15",
                                    "9": "0"
                                },
                                {
                                    "0": "70",
                                    "1": "Outback Lager",
                                    "2": "7",
                                    "3": "1",
                                    "4": "24 - 355 ml bottles",
                                    "5": "15.0000",
                                    "6": "15",
                                    "7": "10",
                                    "8": "30",
                                    "9": "0"
                                },
                                {
                                    "0": "71",
                                    "1": "Flotemysost",
                                    "2": "15",
                                    "3": "4",
                                    "4": "10 - 500 g pkgs.",
                                    "5": "21.5000",
                                    "6": "26",
                                    "7": "0",
                                    "8": "0",
                                    "9": "0"
                                },
                                {
                                    "0": "72",
                                    "1": "Mozzarella di Giovanni",
                                    "2": "14",
                                    "3": "4",
                                    "4": "24 - 200 g pkgs.",
                                    "5": "34.8000",
                                    "6": "14",
                                    "7": "0",
                                    "8": "0",
                                    "9": "0"
                                },
                                {
                                    "0": "73",
                                    "1": "Röd Kaviar",
                                    "2": "17",
                                    "3": "8",
                                    "4": "24 - 150 g jars",
                                    "5": "15.0000",
                                    "6": "101",
                                    "7": "0",
                                    "8": "5",
                                    "9": "0"
                                },
                                {
                                    "0": "74",
                                    "1": "Longlife Tofu",
                                    "2": "4",
                                    "3": "7",
                                    "4": "5 kg pkg.",
                                    "5": "10.0000",
                                    "6": "4",
                                    "7": "20",
                                    "8": "5",
                                    "9": "0"
                                },
                                {
                                    "0": "75",
                                    "1": "Rhönbräu Klosterbier",
                                    "2": "12",
                                    "3": "1",
                                    "4": "24 - 0.5 l bottles",
                                    "5": "7.7500",
                                    "6": "125",
                                    "7": "0",
                                    "8": "25",
                                    "9": "0"
                                },
                                {
                                    "0": "76",
                                    "1": "Lakkalikööri",
                                    "2": "23",
                                    "3": "1",
                                    "4": "500 ml",
                                    "5": "18.0000",
                                    "6": "57",
                                    "7": "0",
                                    "8": "20",
                                    "9": "0"
                                },
                                {
                                    "0": "77",
                                    "1": "Original Frankfurter grüne Soße",
                                    "2": "12",
                                    "3": "2",
                                    "4": "12 boxes",
                                    "5": "13.0000",
                                    "6": "32",
                                    "7": "0",
                                    "8": "15",
                                    "9": "0"
                                },
                                {
                                    "0": "78",
                                    "1": "Chilorio Chata",
                                    "2": "25",
                                    "3": "6",
                                    "4": "NULL",
                                    "5": "0.0000",
                                    "6": "0",
                                    "7": "0",
                                    "8": "0",
                                    "9": "0"
                                }
                            ]
                        },
                        "text/html": "<table><tr><th>ProductID</th><th>ProductName</th><th>SupplierID</th><th>CategoryID</th><th>QuantityPerUnit</th><th>UnitPrice</th><th>UnitsInStock</th><th>UnitsOnOrder</th><th>ReorderLevel</th><th>Discontinued</th></tr><tr><td>1</td><td>Chai</td><td>1</td><td>1</td><td>10 boxes x 20 bags</td><td>18.0000</td><td>39</td><td>0</td><td>10</td><td>0</td></tr><tr><td>2</td><td>Chang</td><td>1</td><td>1</td><td>24 - 12 oz bottles</td><td>19.0000</td><td>17</td><td>40</td><td>25</td><td>0</td></tr><tr><td>3</td><td>Aniseed Syrup</td><td>1</td><td>2</td><td>12 - 550 ml bottles</td><td>10.0000</td><td>13</td><td>70</td><td>25</td><td>0</td></tr><tr><td>4</td><td>Chef Anton's Cajun Seasoning</td><td>2</td><td>2</td><td>48 - 6 oz jars</td><td>22.0000</td><td>53</td><td>0</td><td>0</td><td>0</td></tr><tr><td>5</td><td>Chef Anton's Gumbo Mix</td><td>2</td><td>2</td><td>36 boxes</td><td>21.3500</td><td>0</td><td>0</td><td>0</td><td>1</td></tr><tr><td>6</td><td>Grandma's Boysenberry Spread</td><td>3</td><td>2</td><td>12 - 8 oz jars</td><td>25.0000</td><td>120</td><td>0</td><td>25</td><td>0</td></tr><tr><td>7</td><td>Uncle Bob's Organic Dried Pears</td><td>3</td><td>7</td><td>12 - 1 lb pkgs.</td><td>30.0000</td><td>15</td><td>0</td><td>10</td><td>0</td></tr><tr><td>8</td><td>Northwoods Cranberry Sauce</td><td>3</td><td>2</td><td>12 - 12 oz jars</td><td>40.0000</td><td>6</td><td>0</td><td>0</td><td>0</td></tr><tr><td>9</td><td>Mishi Kobe Niku</td><td>4</td><td>6</td><td>18 - 500 g pkgs.</td><td>97.0000</td><td>29</td><td>0</td><td>0</td><td>1</td></tr><tr><td>10</td><td>Ikura</td><td>4</td><td>8</td><td>12 - 200 ml jars</td><td>31.0000</td><td>31</td><td>0</td><td>0</td><td>0</td></tr><tr><td>11</td><td>Queso Cabrales</td><td>5</td><td>4</td><td>1 kg pkg.</td><td>21.0000</td><td>22</td><td>30</td><td>30</td><td>0</td></tr><tr><td>12</td><td>Queso Manchego La Pastora</td><td>5</td><td>4</td><td>10 - 500 g pkgs.</td><td>38.0000</td><td>86</td><td>0</td><td>0</td><td>0</td></tr><tr><td>13</td><td>Konbu</td><td>6</td><td>8</td><td>2 kg box</td><td>6.0000</td><td>24</td><td>0</td><td>5</td><td>0</td></tr><tr><td>14</td><td>Tofu</td><td>6</td><td>7</td><td>40 - 100 g pkgs.</td><td>23.2500</td><td>35</td><td>0</td><td>0</td><td>0</td></tr><tr><td>15</td><td>Genen Shouyu</td><td>6</td><td>2</td><td>24 - 250 ml bottles</td><td>15.5000</td><td>39</td><td>0</td><td>5</td><td>0</td></tr><tr><td>16</td><td>Pavlova</td><td>7</td><td>3</td><td>32 - 500 g boxes</td><td>17.4500</td><td>29</td><td>0</td><td>10</td><td>0</td></tr><tr><td>17</td><td>Alice Mutton</td><td>7</td><td>6</td><td>20 - 1 kg tins</td><td>39.0000</td><td>0</td><td>0</td><td>0</td><td>1</td></tr><tr><td>18</td><td>Carnarvon Tigers</td><td>7</td><td>8</td><td>16 kg pkg.</td><td>62.5000</td><td>42</td><td>0</td><td>0</td><td>0</td></tr><tr><td>19</td><td>Teatime Chocolate Biscuits</td><td>8</td><td>3</td><td>10 boxes x 12 pieces</td><td>9.2000</td><td>25</td><td>0</td><td>5</td><td>0</td></tr><tr><td>20</td><td>Sir Rodney's Marmalade</td><td>8</td><td>3</td><td>30 gift boxes</td><td>81.0000</td><td>40</td><td>0</td><td>0</td><td>0</td></tr><tr><td>21</td><td>Sir Rodney's Scones</td><td>8</td><td>3</td><td>24 pkgs. x 4 pieces</td><td>10.0000</td><td>3</td><td>40</td><td>5</td><td>0</td></tr><tr><td>22</td><td>Gustaf's Knäckebröd</td><td>9</td><td>5</td><td>24 - 500 g pkgs.</td><td>21.0000</td><td>104</td><td>0</td><td>25</td><td>0</td></tr><tr><td>23</td><td>Tunnbröd</td><td>9</td><td>5</td><td>12 - 250 g pkgs.</td><td>9.0000</td><td>61</td><td>0</td><td>25</td><td>0</td></tr><tr><td>24</td><td>Guaraná Fantástica</td><td>10</td><td>1</td><td>12 - 355 ml cans</td><td>4.5000</td><td>20</td><td>0</td><td>0</td><td>1</td></tr><tr><td>25</td><td>NuNuCa Nuß-Nougat-Creme</td><td>11</td><td>3</td><td>20 - 450 g glasses</td><td>14.0000</td><td>76</td><td>0</td><td>30</td><td>0</td></tr><tr><td>26</td><td>Gumbär Gummibärchen</td><td>11</td><td>3</td><td>100 - 250 g bags</td><td>31.2300</td><td>15</td><td>0</td><td>0</td><td>0</td></tr><tr><td>27</td><td>Schoggi Schokolade</td><td>11</td><td>3</td><td>100 - 100 g pieces</td><td>43.9000</td><td>49</td><td>0</td><td>30</td><td>0</td></tr><tr><td>28</td><td>Rössle Sauerkraut</td><td>12</td><td>7</td><td>25 - 825 g cans</td><td>45.6000</td><td>26</td><td>0</td><td>0</td><td>1</td></tr><tr><td>29</td><td>Thüringer Rostbratwurst</td><td>12</td><td>6</td><td>50 bags x 30 sausgs.</td><td>123.7900</td><td>0</td><td>0</td><td>0</td><td>1</td></tr><tr><td>30</td><td>Nord-Ost Matjeshering</td><td>13</td><td>8</td><td>10 - 200 g glasses</td><td>25.8900</td><td>10</td><td>0</td><td>15</td><td>0</td></tr><tr><td>31</td><td>Gorgonzola Telino</td><td>14</td><td>4</td><td>12 - 100 g pkgs</td><td>12.5000</td><td>0</td><td>70</td><td>20</td><td>0</td></tr><tr><td>32</td><td>Mascarpone Fabioli</td><td>14</td><td>4</td><td>24 - 200 g pkgs.</td><td>32.0000</td><td>9</td><td>40</td><td>25</td><td>0</td></tr><tr><td>33</td><td>Geitost</td><td>15</td><td>4</td><td>500 g</td><td>2.5000</td><td>112</td><td>0</td><td>20</td><td>0</td></tr><tr><td>34</td><td>Sasquatch Ale</td><td>16</td><td>1</td><td>24 - 12 oz bottles</td><td>14.0000</td><td>111</td><td>0</td><td>15</td><td>0</td></tr><tr><td>35</td><td>Steeleye Stout</td><td>16</td><td>1</td><td>24 - 12 oz bottles</td><td>18.0000</td><td>20</td><td>0</td><td>15</td><td>0</td></tr><tr><td>36</td><td>Inlagd Sill</td><td>17</td><td>8</td><td>24 - 250 g  jars</td><td>19.0000</td><td>112</td><td>0</td><td>20</td><td>0</td></tr><tr><td>37</td><td>Gravad lax</td><td>17</td><td>8</td><td>12 - 500 g pkgs.</td><td>26.0000</td><td>11</td><td>50</td><td>25</td><td>0</td></tr><tr><td>38</td><td>Côte de Blaye</td><td>18</td><td>1</td><td>12 - 75 cl bottles</td><td>263.5000</td><td>17</td><td>0</td><td>15</td><td>0</td></tr><tr><td>39</td><td>Chartreuse verte</td><td>18</td><td>1</td><td>750 cc per bottle</td><td>18.0000</td><td>69</td><td>0</td><td>5</td><td>0</td></tr><tr><td>40</td><td>Boston Crab Meat</td><td>19</td><td>8</td><td>24 - 4 oz tins</td><td>18.4000</td><td>123</td><td>0</td><td>30</td><td>0</td></tr><tr><td>41</td><td>Jack's New England Clam Chowder</td><td>19</td><td>8</td><td>12 - 12 oz cans</td><td>9.6500</td><td>85</td><td>0</td><td>10</td><td>0</td></tr><tr><td>42</td><td>Singaporean Hokkien Fried Mee</td><td>20</td><td>5</td><td>32 - 1 kg pkgs.</td><td>14.0000</td><td>26</td><td>0</td><td>0</td><td>1</td></tr><tr><td>43</td><td>Ipoh Coffee</td><td>20</td><td>1</td><td>16 - 500 g tins</td><td>46.0000</td><td>17</td><td>10</td><td>25</td><td>0</td></tr><tr><td>44</td><td>Gula Malacca</td><td>20</td><td>2</td><td>20 - 2 kg bags</td><td>19.4500</td><td>27</td><td>0</td><td>15</td><td>0</td></tr><tr><td>45</td><td>Rogede sild</td><td>21</td><td>8</td><td>1k pkg.</td><td>9.5000</td><td>5</td><td>70</td><td>15</td><td>0</td></tr><tr><td>46</td><td>Spegesild</td><td>21</td><td>8</td><td>4 - 450 g glasses</td><td>12.0000</td><td>95</td><td>0</td><td>0</td><td>0</td></tr><tr><td>47</td><td>Zaanse koeken</td><td>22</td><td>3</td><td>10 - 4 oz boxes</td><td>9.5000</td><td>36</td><td>0</td><td>0</td><td>0</td></tr><tr><td>48</td><td>Chocolade</td><td>22</td><td>3</td><td>10 pkgs.</td><td>12.7500</td><td>15</td><td>70</td><td>25</td><td>0</td></tr><tr><td>49</td><td>Maxilaku</td><td>23</td><td>3</td><td>24 - 50 g pkgs.</td><td>20.0000</td><td>10</td><td>60</td><td>15</td><td>0</td></tr><tr><td>50</td><td>Valkoinen suklaa</td><td>23</td><td>3</td><td>12 - 100 g bars</td><td>16.2500</td><td>65</td><td>0</td><td>30</td><td>0</td></tr><tr><td>51</td><td>Manjimup Dried Apples</td><td>24</td><td>7</td><td>50 - 300 g pkgs.</td><td>53.0000</td><td>20</td><td>0</td><td>10</td><td>0</td></tr><tr><td>52</td><td>Filo Mix</td><td>24</td><td>5</td><td>16 - 2 kg boxes</td><td>7.0000</td><td>38</td><td>0</td><td>25</td><td>0</td></tr><tr><td>53</td><td>Perth Pasties</td><td>24</td><td>6</td><td>48 pieces</td><td>32.8000</td><td>0</td><td>0</td><td>0</td><td>1</td></tr><tr><td>54</td><td>Tourtière</td><td>25</td><td>6</td><td>16 pies</td><td>7.4500</td><td>21</td><td>0</td><td>10</td><td>0</td></tr><tr><td>55</td><td>Pâté chinois</td><td>25</td><td>6</td><td>24 boxes x 2 pies</td><td>24.0000</td><td>115</td><td>0</td><td>20</td><td>0</td></tr><tr><td>56</td><td>Gnocchi di nonna Alice</td><td>26</td><td>5</td><td>24 - 250 g pkgs.</td><td>38.0000</td><td>21</td><td>10</td><td>30</td><td>0</td></tr><tr><td>57</td><td>Ravioli Angelo</td><td>26</td><td>5</td><td>24 - 250 g pkgs.</td><td>19.5000</td><td>36</td><td>0</td><td>20</td><td>0</td></tr><tr><td>58</td><td>Escargots de Bourgogne</td><td>27</td><td>8</td><td>24 pieces</td><td>13.2500</td><td>62</td><td>0</td><td>20</td><td>0</td></tr><tr><td>59</td><td>Raclette Courdavault</td><td>28</td><td>4</td><td>5 kg pkg.</td><td>55.0000</td><td>79</td><td>0</td><td>0</td><td>0</td></tr><tr><td>60</td><td>Camembert Pierrot</td><td>28</td><td>4</td><td>15 - 300 g rounds</td><td>34.0000</td><td>19</td><td>0</td><td>0</td><td>0</td></tr><tr><td>61</td><td>Sirop d'érable</td><td>29</td><td>2</td><td>24 - 500 ml bottles</td><td>28.5000</td><td>113</td><td>0</td><td>25</td><td>0</td></tr><tr><td>62</td><td>Tarte au sucre</td><td>29</td><td>3</td><td>48 pies</td><td>49.3000</td><td>17</td><td>0</td><td>0</td><td>0</td></tr><tr><td>63</td><td>Vegie-spread</td><td>7</td><td>2</td><td>15 - 625 g jars</td><td>43.9000</td><td>24</td><td>0</td><td>5</td><td>0</td></tr><tr><td>64</td><td>Wimmers gute Semmelknödel</td><td>12</td><td>5</td><td>20 bags x 4 pieces</td><td>33.2500</td><td>22</td><td>80</td><td>30</td><td>0</td></tr><tr><td>65</td><td>Louisiana Fiery Hot Pepper Sauce</td><td>2</td><td>2</td><td>32 - 8 oz bottles</td><td>21.0500</td><td>76</td><td>0</td><td>0</td><td>0</td></tr><tr><td>66</td><td>Louisiana Hot Spiced Okra</td><td>2</td><td>2</td><td>24 - 8 oz jars</td><td>17.0000</td><td>4</td><td>100</td><td>20</td><td>0</td></tr><tr><td>67</td><td>Laughing Lumberjack Lager</td><td>16</td><td>1</td><td>24 - 12 oz bottles</td><td>14.0000</td><td>52</td><td>0</td><td>10</td><td>0</td></tr><tr><td>68</td><td>Scottish Longbreads</td><td>8</td><td>3</td><td>10 boxes x 8 pieces</td><td>12.5000</td><td>6</td><td>10</td><td>15</td><td>0</td></tr><tr><td>69</td><td>Gudbrandsdalsost</td><td>15</td><td>4</td><td>10 kg pkg.</td><td>36.0000</td><td>26</td><td>0</td><td>15</td><td>0</td></tr><tr><td>70</td><td>Outback Lager</td><td>7</td><td>1</td><td>24 - 355 ml bottles</td><td>15.0000</td><td>15</td><td>10</td><td>30</td><td>0</td></tr><tr><td>71</td><td>Flotemysost</td><td>15</td><td>4</td><td>10 - 500 g pkgs.</td><td>21.5000</td><td>26</td><td>0</td><td>0</td><td>0</td></tr><tr><td>72</td><td>Mozzarella di Giovanni</td><td>14</td><td>4</td><td>24 - 200 g pkgs.</td><td>34.8000</td><td>14</td><td>0</td><td>0</td><td>0</td></tr><tr><td>73</td><td>Röd Kaviar</td><td>17</td><td>8</td><td>24 - 150 g jars</td><td>15.0000</td><td>101</td><td>0</td><td>5</td><td>0</td></tr><tr><td>74</td><td>Longlife Tofu</td><td>4</td><td>7</td><td>5 kg pkg.</td><td>10.0000</td><td>4</td><td>20</td><td>5</td><td>0</td></tr><tr><td>75</td><td>Rhönbräu Klosterbier</td><td>12</td><td>1</td><td>24 - 0.5 l bottles</td><td>7.7500</td><td>125</td><td>0</td><td>25</td><td>0</td></tr><tr><td>76</td><td>Lakkalikööri</td><td>23</td><td>1</td><td>500 ml</td><td>18.0000</td><td>57</td><td>0</td><td>20</td><td>0</td></tr><tr><td>77</td><td>Original Frankfurter grüne Soße</td><td>12</td><td>2</td><td>12 boxes</td><td>13.0000</td><td>32</td><td>0</td><td>15</td><td>0</td></tr><tr><td>78</td><td>Chilorio Chata</td><td>25</td><td>6</td><td>NULL</td><td>0.0000</td><td>0</td><td>0</td><td>0</td><td>0</td></tr></table>"
                    }
                }
            ],
            "execution_count": 7
        },
        {
            "cell_type": "markdown",
            "source": [
                "## Paso 4: Insertando datos parciales ##\n",
                ""
            ],
            "metadata": {
                "azdata_cell_guid": "382e6dce-ba6d-4ea2-b11b-a4b34da09949"
            }
        },
        {
            "cell_type": "code",
            "source": [
                "USE northwind\n",
                "INSERT shippers (companyname)\n",
                "VALUES ('Fitch & Mather')\n",
                "\n",
                "SELECT * FROM Shippers"
            ],
            "metadata": {
                "azdata_cell_guid": "7a8c1ee0-72ef-42c7-84ed-d78711132aad",
                "tags": []
            },
            "outputs": [
                {
                    "output_type": "display_data",
                    "data": {
                        "text/html": "(1 row affected)"
                    },
                    "metadata": {}
                },
                {
                    "output_type": "display_data",
                    "data": {
                        "text/html": "(4 rows affected)"
                    },
                    "metadata": {}
                },
                {
                    "output_type": "display_data",
                    "data": {
                        "text/html": "Total execution time: 00:00:00.293"
                    },
                    "metadata": {}
                },
                {
                    "output_type": "execute_result",
                    "metadata": {},
                    "execution_count": 8,
                    "data": {
                        "application/vnd.dataresource+json": {
                            "schema": {
                                "fields": [
                                    {
                                        "name": "ShipperID"
                                    },
                                    {
                                        "name": "CompanyName"
                                    },
                                    {
                                        "name": "Phone"
                                    }
                                ]
                            },
                            "data": [
                                {
                                    "0": "1",
                                    "1": "Speedy Express",
                                    "2": "(503) 555-9831"
                                },
                                {
                                    "0": "2",
                                    "1": "United Package",
                                    "2": "(503) 555-3199"
                                },
                                {
                                    "0": "3",
                                    "1": "Federal Shipping",
                                    "2": "(503) 555-9931"
                                },
                                {
                                    "0": "4",
                                    "1": "Fitch & Mather",
                                    "2": "NULL"
                                }
                            ]
                        },
                        "text/html": "<table><tr><th>ShipperID</th><th>CompanyName</th><th>Phone</th></tr><tr><td>1</td><td>Speedy Express</td><td>(503) 555-9831</td></tr><tr><td>2</td><td>United Package</td><td>(503) 555-3199</td></tr><tr><td>3</td><td>Federal Shipping</td><td>(503) 555-9931</td></tr><tr><td>4</td><td>Fitch &amp; Mather</td><td>NULL</td></tr></table>"
                    }
                }
            ],
            "execution_count": 8
        },
        {
            "cell_type": "markdown",
            "source": [
                "Copiar los datos de una tabla"
            ],
            "metadata": {
                "azdata_cell_guid": "28c8a911-4136-4a3e-ac69-43a730d39a1f"
            }
        },
        {
            "cell_type": "markdown",
            "source": [
                "Tabla Destino NO existe:"
            ],
            "metadata": {
                "azdata_cell_guid": "e4da50db-7f48-418d-9877-7b64a7f3e9c2"
            }
        },
        {
            "cell_type": "code",
            "source": [
                "SELECT * INTO Shippers2 FROM Shippers\r\n",
                "SELECT * FROM Shippers2"
            ],
            "metadata": {
                "azdata_cell_guid": "74370837-4022-4f7c-b91c-2ea8eb0f2ead"
            },
            "outputs": [
                {
                    "output_type": "display_data",
                    "data": {
                        "text/html": "(4 rows affected)"
                    },
                    "metadata": {}
                },
                {
                    "output_type": "display_data",
                    "data": {
                        "text/html": "Total execution time: 00:00:01.556"
                    },
                    "metadata": {}
                }
            ],
            "execution_count": 9
        },
        {
            "cell_type": "markdown",
            "source": [
                "Tabla Destino SI Existe"
            ],
            "metadata": {
                "azdata_cell_guid": "bdde1374-f8f8-4d76-b4c6-6aaff93de55d"
            }
        },
        {
            "cell_type": "code",
            "source": [
                "CREATE TABLE Shippers3(\r\n",
                "    ShipperID INT,\r\n",
                "    CompanyName NVARCHAR(30),\r\n",
                "    Phone CHAR(15)\r\n",
                "    )\r\n",
                "\r\n",
                "INSERT INTO Shippers3 SELECT * FROM Shippers2\r\n",
                ""
            ],
            "metadata": {
                "azdata_cell_guid": "25c23ba3-b976-42da-9ed7-a93264fffa02"
            },
            "outputs": [
                {
                    "output_type": "display_data",
                    "data": {
                        "text/html": "(4 rows affected)"
                    },
                    "metadata": {}
                },
                {
                    "output_type": "display_data",
                    "data": {
                        "text/html": "Total execution time: 00:00:00.319"
                    },
                    "metadata": {}
                }
            ],
            "execution_count": 14
        },
        {
            "cell_type": "code",
            "source": [
                "SELECT * FROM Shippers3"
            ],
            "metadata": {
                "azdata_cell_guid": "253d4699-c8a4-4f01-aac0-ef566d5fccc2"
            },
            "outputs": [
                {
                    "output_type": "display_data",
                    "data": {
                        "text/html": "(4 rows affected)"
                    },
                    "metadata": {}
                },
                {
                    "output_type": "display_data",
                    "data": {
                        "text/html": "Total execution time: 00:00:00.139"
                    },
                    "metadata": {}
                },
                {
                    "output_type": "execute_result",
                    "metadata": {},
                    "execution_count": 15,
                    "data": {
                        "application/vnd.dataresource+json": {
                            "schema": {
                                "fields": [
                                    {
                                        "name": "ShipperID"
                                    },
                                    {
                                        "name": "CompanyName"
                                    },
                                    {
                                        "name": "Phone"
                                    }
                                ]
                            },
                            "data": [
                                {
                                    "0": "1",
                                    "1": "Speedy Express",
                                    "2": "(503) 555-9831 "
                                },
                                {
                                    "0": "2",
                                    "1": "United Package",
                                    "2": "(503) 555-3199 "
                                },
                                {
                                    "0": "3",
                                    "1": "Federal Shipping",
                                    "2": "(503) 555-9931 "
                                },
                                {
                                    "0": "4",
                                    "1": "Fitch & Mather",
                                    "2": "NULL"
                                }
                            ]
                        },
                        "text/html": "<table><tr><th>ShipperID</th><th>CompanyName</th><th>Phone</th></tr><tr><td>1</td><td>Speedy Express</td><td>(503) 555-9831 </td></tr><tr><td>2</td><td>United Package</td><td>(503) 555-3199 </td></tr><tr><td>3</td><td>Federal Shipping</td><td>(503) 555-9931 </td></tr><tr><td>4</td><td>Fitch &amp; Mather</td><td>NULL</td></tr></table>"
                    }
                }
            ],
            "execution_count": 15
        }
    ]
}