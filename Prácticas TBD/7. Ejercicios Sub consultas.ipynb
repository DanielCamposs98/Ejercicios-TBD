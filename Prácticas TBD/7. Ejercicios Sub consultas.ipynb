{
    "metadata": {
        "kernelspec": {
            "name": "SQL",
            "display_name": "SQL",
            "language": "sql"
        },
        "language_info": {
            "name": "sql",
            "version": ""
        }
    },
    "nbformat_minor": 2,
    "nbformat": 4,
    "cells": [
        {
            "cell_type": "markdown",
            "source": [
                "# Ejercicios de sub consultas #\n",
                "Resuelva las siguientes necesidades de información de la base de datos Northwind usando subconsultas\n",
                "## 1 ##\n",
                "Obtenga el nombre de los vendedores que durante el mes de junio de 1996 vendieron abajo del vendedor promedio "
            ],
            "metadata": {
                "azdata_cell_guid": "cb5583c5-ee55-40f4-835f-6b44fb23c7ac"
            }
        },
        {
            "cell_type": "code",
            "source": [
                "WITH VtasXEmp(EmpId,VtasJun97)\r\n",
                "as(\r\n",
                "SELECT EmployeeID, SUM((UnitPrice*Quantity)*(1-Discount)) from [Order Details] od\r\n",
                "JOIN ORDERS o on o.OrderID=od.OrderID\r\n",
                "WHERE YEAR(OrderDate)=1997 AND Month(OrderDate)=6\r\n",
                "GROUP BY EmployeeID\r\n",
                ")\r\n",
                "\r\n",
                "\r\n",
                "\r\n",
                "\r\n",
                "SELECT V.EmpId,E.LASTNAME, E.FIRSTNAme, V.VtasJun97 FROM Employees E\r\n",
                "INNER JOIN VtasXEmp V ON V.EmpId = E.EmployeeID\r\n",
                "WHERE VtasJun97 < (SELECT AVG(VtasJun97) FROM VtasXEmp);\r\n",
                "\r\n",
                ""
            ],
            "metadata": {
                "azdata_cell_guid": "4a01219f-60e8-4e95-a5de-748e651bb305",
                "tags": []
            },
            "outputs": [
                {
                    "output_type": "display_data",
                    "data": {
                        "text/html": "(5 rows affected)"
                    },
                    "metadata": {}
                },
                {
                    "output_type": "display_data",
                    "data": {
                        "text/html": "Total execution time: 00:00:00.181"
                    },
                    "metadata": {}
                },
                {
                    "output_type": "execute_result",
                    "execution_count": 4,
                    "data": {
                        "application/vnd.dataresource+json": {
                            "schema": {
                                "fields": [
                                    {
                                        "name": "EmpId"
                                    },
                                    {
                                        "name": "LASTNAME"
                                    },
                                    {
                                        "name": "FIRSTNAme"
                                    },
                                    {
                                        "name": "VtasJun97"
                                    }
                                ]
                            },
                            "data": [
                                {
                                    "0": "5",
                                    "1": "Buchanan",
                                    "2": "Steven",
                                    "3": "3037.39999389648"
                                },
                                {
                                    "0": "6",
                                    "1": "Suyama",
                                    "2": "Michael",
                                    "3": "3464.81000518799"
                                },
                                {
                                    "0": "7",
                                    "1": "King",
                                    "2": "Robert",
                                    "3": "2082"
                                },
                                {
                                    "0": "8",
                                    "1": "Callahan",
                                    "2": "Laura",
                                    "3": "2262.91247558594"
                                },
                                {
                                    "0": "9",
                                    "1": "Dodsworth",
                                    "2": "Anne",
                                    "3": "3482.5"
                                }
                            ]
                        },
                        "text/html": "<table><tr><th>EmpId</th><th>LASTNAME</th><th>FIRSTNAme</th><th>VtasJun97</th></tr><tr><td>5</td><td>Buchanan</td><td>Steven</td><td>3037.39999389648</td></tr><tr><td>6</td><td>Suyama</td><td>Michael</td><td>3464.81000518799</td></tr><tr><td>7</td><td>King</td><td>Robert</td><td>2082</td></tr><tr><td>8</td><td>Callahan</td><td>Laura</td><td>2262.91247558594</td></tr><tr><td>9</td><td>Dodsworth</td><td>Anne</td><td>3482.5</td></tr></table>"
                    },
                    "metadata": {}
                }
            ],
            "execution_count": 4
        },
        {
            "cell_type": "markdown",
            "source": [
                "## 2 ##\n",
                "Obtenga el nombre de los vendedores que hicieron ordenes el día 11 de marzo de 1998"
            ],
            "metadata": {
                "azdata_cell_guid": "f0bb3d9e-527a-4d33-bad8-3052b68a66db"
            }
        },
        {
            "cell_type": "code",
            "source": [
                "SELECT EmployeeID AS [Id Empleado], CONCAT(LastName,' ',FirstName) AS Nombre FROM Employees\r\n",
                "WHERE EmployeeID IN (SELECT EmployeeID FROM Orders WHERE OrderDate='19980311')"
            ],
            "metadata": {
                "azdata_cell_guid": "71da1ce2-ccde-4f47-a680-ab944e5173f5"
            },
            "outputs": [
                {
                    "output_type": "display_data",
                    "data": {
                        "text/html": "(4 rows affected)"
                    },
                    "metadata": {}
                },
                {
                    "output_type": "display_data",
                    "data": {
                        "text/html": "Total execution time: 00:00:01.039"
                    },
                    "metadata": {}
                },
                {
                    "output_type": "execute_result",
                    "execution_count": 5,
                    "data": {
                        "application/vnd.dataresource+json": {
                            "schema": {
                                "fields": [
                                    {
                                        "name": "Id Empleado"
                                    },
                                    {
                                        "name": "Nombre"
                                    }
                                ]
                            },
                            "data": [
                                {
                                    "0": "4",
                                    "1": "Peacock Margaret"
                                },
                                {
                                    "0": "7",
                                    "1": "King Robert"
                                },
                                {
                                    "0": "8",
                                    "1": "Callahan Laura"
                                },
                                {
                                    "0": "9",
                                    "1": "Dodsworth Anne"
                                }
                            ]
                        },
                        "text/html": "<table><tr><th>Id Empleado</th><th>Nombre</th></tr><tr><td>4</td><td>Peacock Margaret</td></tr><tr><td>7</td><td>King Robert</td></tr><tr><td>8</td><td>Callahan Laura</td></tr><tr><td>9</td><td>Dodsworth Anne</td></tr></table>"
                    },
                    "metadata": {}
                }
            ],
            "execution_count": 5
        },
        {
            "cell_type": "markdown",
            "source": [
                "## 3 ## \n",
                "Obtenga el nombre de los vendedores que hicieron ordenes el día que se realizaron mas ventas"
            ],
            "metadata": {
                "azdata_cell_guid": "d2300dd9-b140-40c1-9e83-b29fd7511fcd"
            }
        },
        {
            "cell_type": "code",
            "source": [
                "WITH VentasDiarias(dia,ventas)\r\n",
                "as ( \r\n",
                "    select OrderDate,COUNT(*) from orders \r\n",
                "    group by orderDate\r\n",
                ")\r\n",
                "\r\n",
                "\r\n",
                "SELECT EmployeeID,LastName,FirstName from Employees WHERE EmployeeID \r\n",
                "    in (SELECT EmployeeID from Orders where OrderDate \r\n",
                "        in (SELECT dia from VentasDiarias where ventas = (Select MAX(ventas) from VentasDiarias)));\r\n",
                ""
            ],
            "metadata": {
                "azdata_cell_guid": "068d2b86-f85e-4a5f-aeb9-2124b66817e4"
            },
            "outputs": [
                {
                    "output_type": "display_data",
                    "data": {
                        "text/html": "(4 rows affected)"
                    },
                    "metadata": {}
                },
                {
                    "output_type": "display_data",
                    "data": {
                        "text/html": "Total execution time: 00:00:00.301"
                    },
                    "metadata": {}
                },
                {
                    "output_type": "execute_result",
                    "execution_count": 6,
                    "data": {
                        "application/vnd.dataresource+json": {
                            "schema": {
                                "fields": [
                                    {
                                        "name": "EmployeeID"
                                    },
                                    {
                                        "name": "LastName"
                                    },
                                    {
                                        "name": "FirstName"
                                    }
                                ]
                            },
                            "data": [
                                {
                                    "0": "1",
                                    "1": "Davolio",
                                    "2": "Nancy"
                                },
                                {
                                    "0": "2",
                                    "1": "Fuller",
                                    "2": "Andrew"
                                },
                                {
                                    "0": "3",
                                    "1": "Leverling",
                                    "2": "Janet"
                                },
                                {
                                    "0": "4",
                                    "1": "Peacock",
                                    "2": "Margaret"
                                }
                            ]
                        },
                        "text/html": "<table><tr><th>EmployeeID</th><th>LastName</th><th>FirstName</th></tr><tr><td>1</td><td>Davolio</td><td>Nancy</td></tr><tr><td>2</td><td>Fuller</td><td>Andrew</td></tr><tr><td>3</td><td>Leverling</td><td>Janet</td></tr><tr><td>4</td><td>Peacock</td><td>Margaret</td></tr></table>"
                    },
                    "metadata": {}
                }
            ],
            "execution_count": 6
        },
        {
            "cell_type": "markdown",
            "source": [
                "## 4 ##\n",
                "Obtenga el nombre de los vendedores que viven en la misma ciudad de al menos uno de sus clientes ( es su cliente si le ha vendido al menos una vez )"
            ],
            "metadata": {
                "azdata_cell_guid": "94a88626-c950-4f48-8510-e247405d2346"
            }
        },
        {
            "cell_type": "code",
            "source": [
                "SELECT CONCAT(E.LastName,' ',E.FirstName) FROM Employees E WHERE City IN (SELECT City FROM Customers WHERE CustomerID IN (SELECT CustomerID FROM Orders))\r\n",
                "\r\n",
                "SELECT DISTINCT C.CustomerID , E.LastName FROM Customers C \r\n",
                "INNER JOIN  Orders O ON O.CustomerID = C.CustomerID\r\n",
                "INNER JOIN Employees E ON E.EmployeeID = O.EmployeeID\r\n",
                "WHERE COUNT IN (SELECT OrderID FROM ORDERS WHERE CustomerID IN (SELECT CustomerID fROM Customers)) "
            ],
            "metadata": {
                "azdata_cell_guid": "24508e74-d4e0-4eee-853a-f53496df99d7",
                "tags": []
            },
            "outputs": [
                {
                    "output_type": "error",
                    "ename": "",
                    "evalue": "Msg 207, Level 16, State 1, Line 6\r\nInvalid column name 'COUNT'.",
                    "traceback": []
                },
                {
                    "output_type": "display_data",
                    "data": {
                        "text/html": "Total execution time: 00:00:00.600"
                    },
                    "metadata": {}
                }
            ],
            "execution_count": 17
        },
        {
            "cell_type": "markdown",
            "source": [
                "## 5 ##\n",
                "Obtenga el producto mas caro de cada proveedor"
            ],
            "metadata": {
                "azdata_cell_guid": "07b9be20-1487-4aa6-8634-e41f49e7d4fd"
            }
        },
        {
            "cell_type": "code",
            "source": [
                "--SELECT ProductID, ProductName,UnitPrice, SupplierID FROM PRODUCTS WHERE UnitPrice \n",
                "--IN (SELECT MAX(UnitPrice) FROM PRODUCTS  WHERE SupplierID IN (SELECT SupplierID FROM Suppliers))\n",
                "\n",
                "SELECT S.SupplierID, S.CompanyName, UnitPrice FROM Suppliers S \n",
                "INNER JOIN Products P ON P.SupplierID = S.SupplierID\n",
                "WHERE S.SupplierID IN (SELECT SupplierID FROM Products ) \n",
                ""
            ],
            "metadata": {
                "azdata_cell_guid": "09fbb5b1-e6af-4fff-bce4-6b9290ecc96e",
                "tags": [
                    "hide_input"
                ]
            },
            "outputs": [
                {
                    "output_type": "display_data",
                    "data": {
                        "text/html": "(78 rows affected)"
                    },
                    "metadata": {}
                },
                {
                    "output_type": "display_data",
                    "data": {
                        "text/html": "Total execution time: 00:00:00.175"
                    },
                    "metadata": {}
                },
                {
                    "output_type": "execute_result",
                    "execution_count": 16,
                    "data": {
                        "application/vnd.dataresource+json": {
                            "schema": {
                                "fields": [
                                    {
                                        "name": "SupplierID"
                                    },
                                    {
                                        "name": "CompanyName"
                                    },
                                    {
                                        "name": "UnitPrice"
                                    }
                                ]
                            },
                            "data": [
                                {
                                    "0": "1",
                                    "1": "Exotic Liquids",
                                    "2": "18.0000"
                                },
                                {
                                    "0": "1",
                                    "1": "Exotic Liquids",
                                    "2": "19.0000"
                                },
                                {
                                    "0": "1",
                                    "1": "Exotic Liquids",
                                    "2": "10.0000"
                                },
                                {
                                    "0": "2",
                                    "1": "New Orleans Cajun Delights",
                                    "2": "22.0000"
                                },
                                {
                                    "0": "2",
                                    "1": "New Orleans Cajun Delights",
                                    "2": "21.3500"
                                },
                                {
                                    "0": "2",
                                    "1": "New Orleans Cajun Delights",
                                    "2": "21.0500"
                                },
                                {
                                    "0": "2",
                                    "1": "New Orleans Cajun Delights",
                                    "2": "17.0000"
                                },
                                {
                                    "0": "3",
                                    "1": "Grandma Kelly's Homestead",
                                    "2": "25.0000"
                                },
                                {
                                    "0": "3",
                                    "1": "Grandma Kelly's Homestead",
                                    "2": "30.0000"
                                },
                                {
                                    "0": "3",
                                    "1": "Grandma Kelly's Homestead",
                                    "2": "40.0000"
                                },
                                {
                                    "0": "4",
                                    "1": "Tokyo Traders",
                                    "2": "97.0000"
                                },
                                {
                                    "0": "4",
                                    "1": "Tokyo Traders",
                                    "2": "31.0000"
                                },
                                {
                                    "0": "4",
                                    "1": "Tokyo Traders",
                                    "2": "10.0000"
                                },
                                {
                                    "0": "5",
                                    "1": "Cooperativa de Quesos 'Las Cabras'",
                                    "2": "21.0000"
                                },
                                {
                                    "0": "5",
                                    "1": "Cooperativa de Quesos 'Las Cabras'",
                                    "2": "38.0000"
                                },
                                {
                                    "0": "6",
                                    "1": "Mayumi's",
                                    "2": "6.0000"
                                },
                                {
                                    "0": "6",
                                    "1": "Mayumi's",
                                    "2": "23.2500"
                                },
                                {
                                    "0": "6",
                                    "1": "Mayumi's",
                                    "2": "15.5000"
                                },
                                {
                                    "0": "7",
                                    "1": "Pavlova, Ltd.",
                                    "2": "17.4500"
                                },
                                {
                                    "0": "7",
                                    "1": "Pavlova, Ltd.",
                                    "2": "39.0000"
                                },
                                {
                                    "0": "7",
                                    "1": "Pavlova, Ltd.",
                                    "2": "62.5000"
                                },
                                {
                                    "0": "7",
                                    "1": "Pavlova, Ltd.",
                                    "2": "43.9000"
                                },
                                {
                                    "0": "7",
                                    "1": "Pavlova, Ltd.",
                                    "2": "15.0000"
                                },
                                {
                                    "0": "8",
                                    "1": "Specialty Biscuits, Ltd.",
                                    "2": "12.5000"
                                },
                                {
                                    "0": "8",
                                    "1": "Specialty Biscuits, Ltd.",
                                    "2": "9.2000"
                                },
                                {
                                    "0": "8",
                                    "1": "Specialty Biscuits, Ltd.",
                                    "2": "81.0000"
                                },
                                {
                                    "0": "8",
                                    "1": "Specialty Biscuits, Ltd.",
                                    "2": "10.0000"
                                },
                                {
                                    "0": "9",
                                    "1": "PB Knäckebröd AB",
                                    "2": "21.0000"
                                },
                                {
                                    "0": "9",
                                    "1": "PB Knäckebröd AB",
                                    "2": "9.0000"
                                },
                                {
                                    "0": "10",
                                    "1": "Refrescos Americanas LTDA",
                                    "2": "4.5000"
                                },
                                {
                                    "0": "11",
                                    "1": "Heli Süßwaren GmbH & Co. KG",
                                    "2": "14.0000"
                                },
                                {
                                    "0": "11",
                                    "1": "Heli Süßwaren GmbH & Co. KG",
                                    "2": "31.2300"
                                },
                                {
                                    "0": "11",
                                    "1": "Heli Süßwaren GmbH & Co. KG",
                                    "2": "43.9000"
                                },
                                {
                                    "0": "12",
                                    "1": "Plutzer Lebensmittelgroßmärkte AG",
                                    "2": "45.6000"
                                },
                                {
                                    "0": "12",
                                    "1": "Plutzer Lebensmittelgroßmärkte AG",
                                    "2": "123.7900"
                                },
                                {
                                    "0": "12",
                                    "1": "Plutzer Lebensmittelgroßmärkte AG",
                                    "2": "33.2500"
                                },
                                {
                                    "0": "12",
                                    "1": "Plutzer Lebensmittelgroßmärkte AG",
                                    "2": "7.7500"
                                },
                                {
                                    "0": "12",
                                    "1": "Plutzer Lebensmittelgroßmärkte AG",
                                    "2": "13.0000"
                                },
                                {
                                    "0": "13",
                                    "1": "Nord-Ost-Fisch Handelsgesellschaft mbH",
                                    "2": "25.8900"
                                },
                                {
                                    "0": "14",
                                    "1": "Formaggi Fortini s.r.l.",
                                    "2": "12.5000"
                                },
                                {
                                    "0": "14",
                                    "1": "Formaggi Fortini s.r.l.",
                                    "2": "32.0000"
                                },
                                {
                                    "0": "14",
                                    "1": "Formaggi Fortini s.r.l.",
                                    "2": "34.8000"
                                },
                                {
                                    "0": "15",
                                    "1": "Norske Meierier",
                                    "2": "36.0000"
                                },
                                {
                                    "0": "15",
                                    "1": "Norske Meierier",
                                    "2": "21.5000"
                                },
                                {
                                    "0": "15",
                                    "1": "Norske Meierier",
                                    "2": "2.5000"
                                },
                                {
                                    "0": "16",
                                    "1": "Bigfoot Breweries",
                                    "2": "14.0000"
                                },
                                {
                                    "0": "16",
                                    "1": "Bigfoot Breweries",
                                    "2": "18.0000"
                                },
                                {
                                    "0": "16",
                                    "1": "Bigfoot Breweries",
                                    "2": "14.0000"
                                },
                                {
                                    "0": "17",
                                    "1": "Svensk Sjöföda AB",
                                    "2": "15.0000"
                                },
                                {
                                    "0": "17",
                                    "1": "Svensk Sjöföda AB",
                                    "2": "19.0000"
                                },
                                {
                                    "0": "17",
                                    "1": "Svensk Sjöföda AB",
                                    "2": "26.0000"
                                },
                                {
                                    "0": "18",
                                    "1": "Aux joyeux ecclésiastiques",
                                    "2": "263.5000"
                                },
                                {
                                    "0": "18",
                                    "1": "Aux joyeux ecclésiastiques",
                                    "2": "18.0000"
                                },
                                {
                                    "0": "19",
                                    "1": "New England Seafood Cannery",
                                    "2": "18.4000"
                                },
                                {
                                    "0": "19",
                                    "1": "New England Seafood Cannery",
                                    "2": "9.6500"
                                },
                                {
                                    "0": "20",
                                    "1": "Leka Trading",
                                    "2": "14.0000"
                                },
                                {
                                    "0": "20",
                                    "1": "Leka Trading",
                                    "2": "46.0000"
                                },
                                {
                                    "0": "20",
                                    "1": "Leka Trading",
                                    "2": "19.4500"
                                },
                                {
                                    "0": "21",
                                    "1": "Lyngbysild",
                                    "2": "9.5000"
                                },
                                {
                                    "0": "21",
                                    "1": "Lyngbysild",
                                    "2": "12.0000"
                                },
                                {
                                    "0": "22",
                                    "1": "Zaanse Snoepfabriek",
                                    "2": "9.5000"
                                },
                                {
                                    "0": "22",
                                    "1": "Zaanse Snoepfabriek",
                                    "2": "12.7500"
                                },
                                {
                                    "0": "23",
                                    "1": "Karkki Oy",
                                    "2": "20.0000"
                                },
                                {
                                    "0": "23",
                                    "1": "Karkki Oy",
                                    "2": "16.2500"
                                },
                                {
                                    "0": "23",
                                    "1": "Karkki Oy",
                                    "2": "18.0000"
                                },
                                {
                                    "0": "24",
                                    "1": "G'day, Mate",
                                    "2": "53.0000"
                                },
                                {
                                    "0": "24",
                                    "1": "G'day, Mate",
                                    "2": "7.0000"
                                },
                                {
                                    "0": "24",
                                    "1": "G'day, Mate",
                                    "2": "32.8000"
                                },
                                {
                                    "0": "25",
                                    "1": "Ma Maison",
                                    "2": "7.4500"
                                },
                                {
                                    "0": "25",
                                    "1": "Ma Maison",
                                    "2": "24.0000"
                                },
                                {
                                    "0": "25",
                                    "1": "Ma Maison",
                                    "2": "0.0000"
                                },
                                {
                                    "0": "26",
                                    "1": "Pasta Buttini s.r.l.",
                                    "2": "38.0000"
                                },
                                {
                                    "0": "26",
                                    "1": "Pasta Buttini s.r.l.",
                                    "2": "19.5000"
                                },
                                {
                                    "0": "27",
                                    "1": "Escargots Nouveaux",
                                    "2": "13.2500"
                                },
                                {
                                    "0": "28",
                                    "1": "Gai pâturage",
                                    "2": "55.0000"
                                },
                                {
                                    "0": "28",
                                    "1": "Gai pâturage",
                                    "2": "34.0000"
                                },
                                {
                                    "0": "29",
                                    "1": "Forêts d'érables",
                                    "2": "28.5000"
                                },
                                {
                                    "0": "29",
                                    "1": "Forêts d'érables",
                                    "2": "49.3000"
                                }
                            ]
                        },
                        "text/html": "<table><tr><th>SupplierID</th><th>CompanyName</th><th>UnitPrice</th></tr><tr><td>1</td><td>Exotic Liquids</td><td>18.0000</td></tr><tr><td>1</td><td>Exotic Liquids</td><td>19.0000</td></tr><tr><td>1</td><td>Exotic Liquids</td><td>10.0000</td></tr><tr><td>2</td><td>New Orleans Cajun Delights</td><td>22.0000</td></tr><tr><td>2</td><td>New Orleans Cajun Delights</td><td>21.3500</td></tr><tr><td>2</td><td>New Orleans Cajun Delights</td><td>21.0500</td></tr><tr><td>2</td><td>New Orleans Cajun Delights</td><td>17.0000</td></tr><tr><td>3</td><td>Grandma Kelly's Homestead</td><td>25.0000</td></tr><tr><td>3</td><td>Grandma Kelly's Homestead</td><td>30.0000</td></tr><tr><td>3</td><td>Grandma Kelly's Homestead</td><td>40.0000</td></tr><tr><td>4</td><td>Tokyo Traders</td><td>97.0000</td></tr><tr><td>4</td><td>Tokyo Traders</td><td>31.0000</td></tr><tr><td>4</td><td>Tokyo Traders</td><td>10.0000</td></tr><tr><td>5</td><td>Cooperativa de Quesos 'Las Cabras'</td><td>21.0000</td></tr><tr><td>5</td><td>Cooperativa de Quesos 'Las Cabras'</td><td>38.0000</td></tr><tr><td>6</td><td>Mayumi's</td><td>6.0000</td></tr><tr><td>6</td><td>Mayumi's</td><td>23.2500</td></tr><tr><td>6</td><td>Mayumi's</td><td>15.5000</td></tr><tr><td>7</td><td>Pavlova, Ltd.</td><td>17.4500</td></tr><tr><td>7</td><td>Pavlova, Ltd.</td><td>39.0000</td></tr><tr><td>7</td><td>Pavlova, Ltd.</td><td>62.5000</td></tr><tr><td>7</td><td>Pavlova, Ltd.</td><td>43.9000</td></tr><tr><td>7</td><td>Pavlova, Ltd.</td><td>15.0000</td></tr><tr><td>8</td><td>Specialty Biscuits, Ltd.</td><td>12.5000</td></tr><tr><td>8</td><td>Specialty Biscuits, Ltd.</td><td>9.2000</td></tr><tr><td>8</td><td>Specialty Biscuits, Ltd.</td><td>81.0000</td></tr><tr><td>8</td><td>Specialty Biscuits, Ltd.</td><td>10.0000</td></tr><tr><td>9</td><td>PB Knäckebröd AB</td><td>21.0000</td></tr><tr><td>9</td><td>PB Knäckebröd AB</td><td>9.0000</td></tr><tr><td>10</td><td>Refrescos Americanas LTDA</td><td>4.5000</td></tr><tr><td>11</td><td>Heli Süßwaren GmbH &amp; Co. KG</td><td>14.0000</td></tr><tr><td>11</td><td>Heli Süßwaren GmbH &amp; Co. KG</td><td>31.2300</td></tr><tr><td>11</td><td>Heli Süßwaren GmbH &amp; Co. KG</td><td>43.9000</td></tr><tr><td>12</td><td>Plutzer Lebensmittelgroßmärkte AG</td><td>45.6000</td></tr><tr><td>12</td><td>Plutzer Lebensmittelgroßmärkte AG</td><td>123.7900</td></tr><tr><td>12</td><td>Plutzer Lebensmittelgroßmärkte AG</td><td>33.2500</td></tr><tr><td>12</td><td>Plutzer Lebensmittelgroßmärkte AG</td><td>7.7500</td></tr><tr><td>12</td><td>Plutzer Lebensmittelgroßmärkte AG</td><td>13.0000</td></tr><tr><td>13</td><td>Nord-Ost-Fisch Handelsgesellschaft mbH</td><td>25.8900</td></tr><tr><td>14</td><td>Formaggi Fortini s.r.l.</td><td>12.5000</td></tr><tr><td>14</td><td>Formaggi Fortini s.r.l.</td><td>32.0000</td></tr><tr><td>14</td><td>Formaggi Fortini s.r.l.</td><td>34.8000</td></tr><tr><td>15</td><td>Norske Meierier</td><td>36.0000</td></tr><tr><td>15</td><td>Norske Meierier</td><td>21.5000</td></tr><tr><td>15</td><td>Norske Meierier</td><td>2.5000</td></tr><tr><td>16</td><td>Bigfoot Breweries</td><td>14.0000</td></tr><tr><td>16</td><td>Bigfoot Breweries</td><td>18.0000</td></tr><tr><td>16</td><td>Bigfoot Breweries</td><td>14.0000</td></tr><tr><td>17</td><td>Svensk Sjöföda AB</td><td>15.0000</td></tr><tr><td>17</td><td>Svensk Sjöföda AB</td><td>19.0000</td></tr><tr><td>17</td><td>Svensk Sjöföda AB</td><td>26.0000</td></tr><tr><td>18</td><td>Aux joyeux ecclésiastiques</td><td>263.5000</td></tr><tr><td>18</td><td>Aux joyeux ecclésiastiques</td><td>18.0000</td></tr><tr><td>19</td><td>New England Seafood Cannery</td><td>18.4000</td></tr><tr><td>19</td><td>New England Seafood Cannery</td><td>9.6500</td></tr><tr><td>20</td><td>Leka Trading</td><td>14.0000</td></tr><tr><td>20</td><td>Leka Trading</td><td>46.0000</td></tr><tr><td>20</td><td>Leka Trading</td><td>19.4500</td></tr><tr><td>21</td><td>Lyngbysild</td><td>9.5000</td></tr><tr><td>21</td><td>Lyngbysild</td><td>12.0000</td></tr><tr><td>22</td><td>Zaanse Snoepfabriek</td><td>9.5000</td></tr><tr><td>22</td><td>Zaanse Snoepfabriek</td><td>12.7500</td></tr><tr><td>23</td><td>Karkki Oy</td><td>20.0000</td></tr><tr><td>23</td><td>Karkki Oy</td><td>16.2500</td></tr><tr><td>23</td><td>Karkki Oy</td><td>18.0000</td></tr><tr><td>24</td><td>G'day, Mate</td><td>53.0000</td></tr><tr><td>24</td><td>G'day, Mate</td><td>7.0000</td></tr><tr><td>24</td><td>G'day, Mate</td><td>32.8000</td></tr><tr><td>25</td><td>Ma Maison</td><td>7.4500</td></tr><tr><td>25</td><td>Ma Maison</td><td>24.0000</td></tr><tr><td>25</td><td>Ma Maison</td><td>0.0000</td></tr><tr><td>26</td><td>Pasta Buttini s.r.l.</td><td>38.0000</td></tr><tr><td>26</td><td>Pasta Buttini s.r.l.</td><td>19.5000</td></tr><tr><td>27</td><td>Escargots Nouveaux</td><td>13.2500</td></tr><tr><td>28</td><td>Gai pâturage</td><td>55.0000</td></tr><tr><td>28</td><td>Gai pâturage</td><td>34.0000</td></tr><tr><td>29</td><td>Forêts d'érables</td><td>28.5000</td></tr><tr><td>29</td><td>Forêts d'érables</td><td>49.3000</td></tr></table>"
                    },
                    "metadata": {}
                }
            ],
            "execution_count": 16
        },
        {
            "cell_type": "markdown",
            "source": [
                "## 6 ## \n",
                "Encuentre el nombre de las ciudades donde tenemos mas de 2 clientes"
            ],
            "metadata": {
                "azdata_cell_guid": "79ab9e85-48bb-4757-ab1b-cab388341601"
            }
        },
        {
            "cell_type": "code",
            "source": [
                ""
            ],
            "metadata": {
                "azdata_cell_guid": "e6c82738-6551-480d-a1cb-68a4a63f655c"
            },
            "outputs": [
                {
                    "output_type": "error",
                    "ename": "",
                    "evalue": "Msg 156, Level 15, State 1, Line 1\r\nIncorrect syntax near the keyword 'SELECT'.",
                    "traceback": []
                },
                {
                    "output_type": "error",
                    "ename": "",
                    "evalue": "Msg 102, Level 15, State 1, Line 1\r\nIncorrect syntax near ')'.",
                    "traceback": []
                },
                {
                    "output_type": "display_data",
                    "data": {
                        "text/html": "Total execution time: 00:00:00.004"
                    },
                    "metadata": {}
                }
            ],
            "execution_count": 1
        }
    ]
}