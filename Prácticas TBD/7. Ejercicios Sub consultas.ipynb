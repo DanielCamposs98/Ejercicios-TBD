{
    "metadata": {
        "kernelspec": {
            "name": "SQL",
            "display_name": "SQL",
            "language": "sql"
        },
        "language_info": {
            "name": "sql",
            "version": ""
        }
    },
    "nbformat_minor": 2,
    "nbformat": 4,
    "cells": [
        {
            "cell_type": "markdown",
            "source": [
                "# Ejercicios de sub consultas #\n",
                "Resuelva las siguientes necesidades de información de la base de datos Northwind usando subconsultas\n",
                "## 1 ##\n",
                "Obtenga el nombre de los vendedores que durante el mes de junio de 1997 vendieron abajo del vendedor promedio "
            ],
            "metadata": {
                "azdata_cell_guid": "cb5583c5-ee55-40f4-835f-6b44fb23c7ac"
            }
        },
        {
            "cell_type": "code",
            "source": [
                "Use NORTHWIND"
            ],
            "metadata": {
                "azdata_cell_guid": "a24d4ba2-65c4-41f5-a3de-2f03e86cdcaf"
            },
            "outputs": [
                {
                    "output_type": "display_data",
                    "data": {
                        "text/html": "Commands completed successfully."
                    },
                    "metadata": {}
                },
                {
                    "output_type": "display_data",
                    "data": {
                        "text/html": "Total execution time: 00:00:00.010"
                    },
                    "metadata": {}
                }
            ],
            "execution_count": 2
        },
        {
            "cell_type": "code",
            "source": [
                "--Hecho--\r\n",
                "WITH VtasXEmp(EmpId,VtasJun97)\r\n",
                "as(\r\n",
                "SELECT EmployeeID, SUM((UnitPrice*Quantity)*(1-Discount)) from [Order Details] od\r\n",
                "JOIN ORDERS o on o.OrderID=od.OrderID\r\n",
                "WHERE YEAR(OrderDate)=1997 AND Month(OrderDate)=6\r\n",
                "GROUP BY EmployeeID\r\n",
                ")\r\n",
                "\r\n",
                "SELECT V.EmpId as Empleado,E.LASTNAME as Apellido, E.FIRSTNAme as Nombre, V.VtasJun97 as [Ventas Jun 1997] FROM Employees E\r\n",
                "INNER JOIN VtasXEmp V ON V.EmpId = E.EmployeeID\r\n",
                "WHERE VtasJun97 < (SELECT AVG(VtasJun97) FROM VtasXEmp);\r\n",
                "\r\n",
                ""
            ],
            "metadata": {
                "azdata_cell_guid": "4a01219f-60e8-4e95-a5de-748e651bb305",
                "tags": []
            },
            "outputs": [
                {
                    "output_type": "display_data",
                    "data": {
                        "text/html": "(5 rows affected)"
                    },
                    "metadata": {}
                },
                {
                    "output_type": "display_data",
                    "data": {
                        "text/html": "Total execution time: 00:00:00.205"
                    },
                    "metadata": {}
                },
                {
                    "output_type": "execute_result",
                    "metadata": {},
                    "execution_count": 10,
                    "data": {
                        "application/vnd.dataresource+json": {
                            "schema": {
                                "fields": [
                                    {
                                        "name": "Empleado"
                                    },
                                    {
                                        "name": "Apellido"
                                    },
                                    {
                                        "name": "Nombre"
                                    },
                                    {
                                        "name": "Ventas Jun 1997"
                                    }
                                ]
                            },
                            "data": [
                                {
                                    "0": "5",
                                    "1": "Buchanan",
                                    "2": "Steven",
                                    "3": "3037.39999389648"
                                },
                                {
                                    "0": "6",
                                    "1": "Suyama",
                                    "2": "Michael",
                                    "3": "3464.81000518799"
                                },
                                {
                                    "0": "7",
                                    "1": "King",
                                    "2": "Robert",
                                    "3": "2082"
                                },
                                {
                                    "0": "8",
                                    "1": "Callahan",
                                    "2": "Laura",
                                    "3": "2262.91247558594"
                                },
                                {
                                    "0": "9",
                                    "1": "Dodsworth",
                                    "2": "Anne",
                                    "3": "3482.5"
                                }
                            ]
                        },
                        "text/html": "<table><tr><th>Empleado</th><th>Apellido</th><th>Nombre</th><th>Ventas Jun 1997</th></tr><tr><td>5</td><td>Buchanan</td><td>Steven</td><td>3037.39999389648</td></tr><tr><td>6</td><td>Suyama</td><td>Michael</td><td>3464.81000518799</td></tr><tr><td>7</td><td>King</td><td>Robert</td><td>2082</td></tr><tr><td>8</td><td>Callahan</td><td>Laura</td><td>2262.91247558594</td></tr><tr><td>9</td><td>Dodsworth</td><td>Anne</td><td>3482.5</td></tr></table>"
                    }
                }
            ],
            "execution_count": 10
        },
        {
            "cell_type": "markdown",
            "source": [
                "## 2 ##\n",
                "Obtenga el nombre de los vendedores que hicieron ordenes el día 11 de marzo de 1998"
            ],
            "metadata": {
                "azdata_cell_guid": "f0bb3d9e-527a-4d33-bad8-3052b68a66db"
            }
        },
        {
            "cell_type": "code",
            "source": [
                "--Hecho--\r\n",
                "SELECT EmployeeID AS [Id Empleado], CONCAT(LastName,' ',FirstName) AS Nombre FROM Employees\r\n",
                "WHERE EmployeeID IN (SELECT EmployeeID FROM Orders WHERE OrderDate='19980311')"
            ],
            "metadata": {
                "azdata_cell_guid": "71da1ce2-ccde-4f47-a680-ab944e5173f5"
            },
            "outputs": [
                {
                    "output_type": "display_data",
                    "data": {
                        "text/html": "(4 rows affected)"
                    },
                    "metadata": {}
                },
                {
                    "output_type": "display_data",
                    "data": {
                        "text/html": "Total execution time: 00:00:02.237"
                    },
                    "metadata": {}
                },
                {
                    "output_type": "execute_result",
                    "execution_count": 2,
                    "data": {
                        "application/vnd.dataresource+json": {
                            "schema": {
                                "fields": [
                                    {
                                        "name": "Id Empleado"
                                    },
                                    {
                                        "name": "Nombre"
                                    }
                                ]
                            },
                            "data": [
                                {
                                    "0": "4",
                                    "1": "Peacock Margaret"
                                },
                                {
                                    "0": "7",
                                    "1": "King Robert"
                                },
                                {
                                    "0": "8",
                                    "1": "Callahan Laura"
                                },
                                {
                                    "0": "9",
                                    "1": "Dodsworth Anne"
                                }
                            ]
                        },
                        "text/html": "<table><tr><th>Id Empleado</th><th>Nombre</th></tr><tr><td>4</td><td>Peacock Margaret</td></tr><tr><td>7</td><td>King Robert</td></tr><tr><td>8</td><td>Callahan Laura</td></tr><tr><td>9</td><td>Dodsworth Anne</td></tr></table>"
                    },
                    "metadata": {}
                }
            ],
            "execution_count": 2
        },
        {
            "cell_type": "markdown",
            "source": [
                "## 3 ## \n",
                "Obtenga el nombre de los vendedores que hicieron ordenes el día que se realizaron mas ventas"
            ],
            "metadata": {
                "azdata_cell_guid": "d2300dd9-b140-40c1-9e83-b29fd7511fcd"
            }
        },
        {
            "cell_type": "code",
            "source": [
                "--Hecho--\r\n",
                "WITH VentasDiarias(dia,ventas)\r\n",
                "as ( \r\n",
                "    select OrderDate,COUNT(*) from orders \r\n",
                "    group by orderDate\r\n",
                ")\r\n",
                "\r\n",
                "\r\n",
                "SELECT EmployeeID as Empleado,LastName as Apellido,FirstName as Nombre from Employees WHERE EmployeeID \r\n",
                "    in (SELECT EmployeeID from Orders where OrderDate \r\n",
                "        in (SELECT dia from VentasDiarias where ventas = (Select MAX(ventas) from VentasDiarias)));\r\n",
                ""
            ],
            "metadata": {
                "azdata_cell_guid": "068d2b86-f85e-4a5f-aeb9-2124b66817e4"
            },
            "outputs": [
                {
                    "output_type": "display_data",
                    "data": {
                        "text/html": "(4 rows affected)"
                    },
                    "metadata": {}
                },
                {
                    "output_type": "display_data",
                    "data": {
                        "text/html": "Total execution time: 00:00:00.115"
                    },
                    "metadata": {}
                },
                {
                    "output_type": "execute_result",
                    "metadata": {},
                    "execution_count": 8,
                    "data": {
                        "application/vnd.dataresource+json": {
                            "schema": {
                                "fields": [
                                    {
                                        "name": "Empleado"
                                    },
                                    {
                                        "name": "Apellido"
                                    },
                                    {
                                        "name": "Nombre"
                                    }
                                ]
                            },
                            "data": [
                                {
                                    "0": "1",
                                    "1": "Davolio",
                                    "2": "Nancy"
                                },
                                {
                                    "0": "2",
                                    "1": "Fuller",
                                    "2": "Andrew"
                                },
                                {
                                    "0": "3",
                                    "1": "Leverling",
                                    "2": "Janet"
                                },
                                {
                                    "0": "4",
                                    "1": "Peacock",
                                    "2": "Margaret"
                                }
                            ]
                        },
                        "text/html": "<table><tr><th>Empleado</th><th>Apellido</th><th>Nombre</th></tr><tr><td>1</td><td>Davolio</td><td>Nancy</td></tr><tr><td>2</td><td>Fuller</td><td>Andrew</td></tr><tr><td>3</td><td>Leverling</td><td>Janet</td></tr><tr><td>4</td><td>Peacock</td><td>Margaret</td></tr></table>"
                    }
                }
            ],
            "execution_count": 8
        },
        {
            "cell_type": "markdown",
            "source": [
                "## 4 ##\n",
                "Obtenga el nombre de los vendedores que viven en la misma ciudad de al menos uno de sus clientes ( es su cliente si le ha vendido al menos una vez )"
            ],
            "metadata": {
                "azdata_cell_guid": "94a88626-c950-4f48-8510-e247405d2346"
            }
        },
        {
            "cell_type": "code",
            "source": [
                "SELECT CONCAT(E.LastName,' ',E.FirstName) as Proveedor FROM Employees E WHERE City \r\n",
                "IN (SELECT City FROM Customers WHERE CustomerID IN (SELECT CustomerID FROM Orders))\r\n",
                "\r\n",
                ""
            ],
            "metadata": {
                "azdata_cell_guid": "24508e74-d4e0-4eee-853a-f53496df99d7",
                "tags": []
            },
            "outputs": [
                {
                    "output_type": "display_data",
                    "data": {
                        "text/html": "(7 rows affected)"
                    },
                    "metadata": {}
                },
                {
                    "output_type": "display_data",
                    "data": {
                        "text/html": "Total execution time: 00:00:00.109"
                    },
                    "metadata": {}
                },
                {
                    "output_type": "execute_result",
                    "metadata": {},
                    "execution_count": 7,
                    "data": {
                        "application/vnd.dataresource+json": {
                            "schema": {
                                "fields": [
                                    {
                                        "name": "Proveedor"
                                    }
                                ]
                            },
                            "data": [
                                {
                                    "0": "Davolio Nancy"
                                },
                                {
                                    "0": "Leverling Janet"
                                },
                                {
                                    "0": "Buchanan Steven"
                                },
                                {
                                    "0": "Suyama Michael"
                                },
                                {
                                    "0": "King Robert"
                                },
                                {
                                    "0": "Callahan Laura"
                                },
                                {
                                    "0": "Dodsworth Anne"
                                }
                            ]
                        },
                        "text/html": "<table><tr><th>Proveedor</th></tr><tr><td>Davolio Nancy</td></tr><tr><td>Leverling Janet</td></tr><tr><td>Buchanan Steven</td></tr><tr><td>Suyama Michael</td></tr><tr><td>King Robert</td></tr><tr><td>Callahan Laura</td></tr><tr><td>Dodsworth Anne</td></tr></table>"
                    }
                }
            ],
            "execution_count": 7
        },
        {
            "cell_type": "markdown",
            "source": [
                "## 5 ##\n",
                "Obtenga el producto mas caro de cada proveedor"
            ],
            "metadata": {
                "azdata_cell_guid": "07b9be20-1487-4aa6-8634-e41f49e7d4fd"
            }
        },
        {
            "cell_type": "code",
            "source": [
                "SELECT S.CompanyName as Proveedor ,P.ProductName as [Producto más caro],P.UnitPrice as Precio  from Products P, Suppliers S\n",
                "WHERE S.SupplierID=P.SupplierID AND P.UnitPrice =( SELECT MAX(UnitPrice) from Products P where P.SupplierID=S.SupplierID)\n",
                "ORDER BY S.CompanyName ASC"
            ],
            "metadata": {
                "azdata_cell_guid": "09fbb5b1-e6af-4fff-bce4-6b9290ecc96e",
                "tags": []
            },
            "outputs": [
                {
                    "output_type": "display_data",
                    "data": {
                        "text/html": "(29 rows affected)"
                    },
                    "metadata": {}
                },
                {
                    "output_type": "display_data",
                    "data": {
                        "text/html": "Total execution time: 00:00:00.217"
                    },
                    "metadata": {}
                },
                {
                    "output_type": "execute_result",
                    "metadata": {},
                    "execution_count": 5,
                    "data": {
                        "application/vnd.dataresource+json": {
                            "schema": {
                                "fields": [
                                    {
                                        "name": "Proveedor"
                                    },
                                    {
                                        "name": "Producto más caro"
                                    },
                                    {
                                        "name": "Precio"
                                    }
                                ]
                            },
                            "data": [
                                {
                                    "0": "Aux joyeux ecclésiastiques",
                                    "1": "Côte de Blaye",
                                    "2": "263.5000"
                                },
                                {
                                    "0": "Bigfoot Breweries",
                                    "1": "Steeleye Stout",
                                    "2": "18.0000"
                                },
                                {
                                    "0": "Cooperativa de Quesos 'Las Cabras'",
                                    "1": "Queso Manchego La Pastora",
                                    "2": "38.0000"
                                },
                                {
                                    "0": "Escargots Nouveaux",
                                    "1": "Escargots de Bourgogne",
                                    "2": "13.2500"
                                },
                                {
                                    "0": "Exotic Liquids",
                                    "1": "Chang",
                                    "2": "19.0000"
                                },
                                {
                                    "0": "Forêts d'érables",
                                    "1": "Tarte au sucre",
                                    "2": "49.3000"
                                },
                                {
                                    "0": "Formaggi Fortini s.r.l.",
                                    "1": "Mozzarella di Giovanni",
                                    "2": "34.8000"
                                },
                                {
                                    "0": "Gai pâturage",
                                    "1": "Raclette Courdavault",
                                    "2": "55.0000"
                                },
                                {
                                    "0": "G'day, Mate",
                                    "1": "Manjimup Dried Apples",
                                    "2": "53.0000"
                                },
                                {
                                    "0": "Grandma Kelly's Homestead",
                                    "1": "Northwoods Cranberry Sauce",
                                    "2": "40.0000"
                                },
                                {
                                    "0": "Heli Süßwaren GmbH & Co. KG",
                                    "1": "Schoggi Schokolade",
                                    "2": "43.9000"
                                },
                                {
                                    "0": "Karkki Oy",
                                    "1": "Maxilaku",
                                    "2": "20.0000"
                                },
                                {
                                    "0": "Leka Trading",
                                    "1": "Ipoh Coffee",
                                    "2": "46.0000"
                                },
                                {
                                    "0": "Lyngbysild",
                                    "1": "Spegesild",
                                    "2": "12.0000"
                                },
                                {
                                    "0": "Ma Maison",
                                    "1": "Pâté chinois",
                                    "2": "24.0000"
                                },
                                {
                                    "0": "Mayumi's",
                                    "1": "Tofu",
                                    "2": "23.2500"
                                },
                                {
                                    "0": "New England Seafood Cannery",
                                    "1": "Boston Crab Meat",
                                    "2": "18.4000"
                                },
                                {
                                    "0": "New Orleans Cajun Delights",
                                    "1": "Chef Anton's Cajun Seasoning",
                                    "2": "22.0000"
                                },
                                {
                                    "0": "Nord-Ost-Fisch Handelsgesellschaft mbH",
                                    "1": "Nord-Ost Matjeshering",
                                    "2": "25.8900"
                                },
                                {
                                    "0": "Norske Meierier",
                                    "1": "Gudbrandsdalsost",
                                    "2": "36.0000"
                                },
                                {
                                    "0": "Pasta Buttini s.r.l.",
                                    "1": "Gnocchi di nonna Alice",
                                    "2": "38.0000"
                                },
                                {
                                    "0": "Pavlova, Ltd.",
                                    "1": "Carnarvon Tigers",
                                    "2": "62.5000"
                                },
                                {
                                    "0": "PB Knäckebröd AB",
                                    "1": "Gustaf's Knäckebröd",
                                    "2": "21.0000"
                                },
                                {
                                    "0": "Plutzer Lebensmittelgroßmärkte AG",
                                    "1": "Thüringer Rostbratwurst",
                                    "2": "123.7900"
                                },
                                {
                                    "0": "Refrescos Americanas LTDA",
                                    "1": "Guaraná Fantástica",
                                    "2": "4.5000"
                                },
                                {
                                    "0": "Specialty Biscuits, Ltd.",
                                    "1": "Sir Rodney's Marmalade",
                                    "2": "81.0000"
                                },
                                {
                                    "0": "Svensk Sjöföda AB",
                                    "1": "Gravad lax",
                                    "2": "26.0000"
                                },
                                {
                                    "0": "Tokyo Traders",
                                    "1": "Mishi Kobe Niku",
                                    "2": "97.0000"
                                },
                                {
                                    "0": "Zaanse Snoepfabriek",
                                    "1": "Chocolade",
                                    "2": "12.7500"
                                }
                            ]
                        },
                        "text/html": "<table><tr><th>Proveedor</th><th>Producto más caro</th><th>Precio</th></tr><tr><td>Aux joyeux ecclésiastiques</td><td>Côte de Blaye</td><td>263.5000</td></tr><tr><td>Bigfoot Breweries</td><td>Steeleye Stout</td><td>18.0000</td></tr><tr><td>Cooperativa de Quesos 'Las Cabras'</td><td>Queso Manchego La Pastora</td><td>38.0000</td></tr><tr><td>Escargots Nouveaux</td><td>Escargots de Bourgogne</td><td>13.2500</td></tr><tr><td>Exotic Liquids</td><td>Chang</td><td>19.0000</td></tr><tr><td>Forêts d'érables</td><td>Tarte au sucre</td><td>49.3000</td></tr><tr><td>Formaggi Fortini s.r.l.</td><td>Mozzarella di Giovanni</td><td>34.8000</td></tr><tr><td>Gai pâturage</td><td>Raclette Courdavault</td><td>55.0000</td></tr><tr><td>G'day, Mate</td><td>Manjimup Dried Apples</td><td>53.0000</td></tr><tr><td>Grandma Kelly's Homestead</td><td>Northwoods Cranberry Sauce</td><td>40.0000</td></tr><tr><td>Heli Süßwaren GmbH &amp; Co. KG</td><td>Schoggi Schokolade</td><td>43.9000</td></tr><tr><td>Karkki Oy</td><td>Maxilaku</td><td>20.0000</td></tr><tr><td>Leka Trading</td><td>Ipoh Coffee</td><td>46.0000</td></tr><tr><td>Lyngbysild</td><td>Spegesild</td><td>12.0000</td></tr><tr><td>Ma Maison</td><td>Pâté chinois</td><td>24.0000</td></tr><tr><td>Mayumi's</td><td>Tofu</td><td>23.2500</td></tr><tr><td>New England Seafood Cannery</td><td>Boston Crab Meat</td><td>18.4000</td></tr><tr><td>New Orleans Cajun Delights</td><td>Chef Anton's Cajun Seasoning</td><td>22.0000</td></tr><tr><td>Nord-Ost-Fisch Handelsgesellschaft mbH</td><td>Nord-Ost Matjeshering</td><td>25.8900</td></tr><tr><td>Norske Meierier</td><td>Gudbrandsdalsost</td><td>36.0000</td></tr><tr><td>Pasta Buttini s.r.l.</td><td>Gnocchi di nonna Alice</td><td>38.0000</td></tr><tr><td>Pavlova, Ltd.</td><td>Carnarvon Tigers</td><td>62.5000</td></tr><tr><td>PB Knäckebröd AB</td><td>Gustaf's Knäckebröd</td><td>21.0000</td></tr><tr><td>Plutzer Lebensmittelgroßmärkte AG</td><td>Thüringer Rostbratwurst</td><td>123.7900</td></tr><tr><td>Refrescos Americanas LTDA</td><td>Guaraná Fantástica</td><td>4.5000</td></tr><tr><td>Specialty Biscuits, Ltd.</td><td>Sir Rodney's Marmalade</td><td>81.0000</td></tr><tr><td>Svensk Sjöföda AB</td><td>Gravad lax</td><td>26.0000</td></tr><tr><td>Tokyo Traders</td><td>Mishi Kobe Niku</td><td>97.0000</td></tr><tr><td>Zaanse Snoepfabriek</td><td>Chocolade</td><td>12.7500</td></tr></table>"
                    }
                }
            ],
            "execution_count": 5
        },
        {
            "cell_type": "markdown",
            "source": [
                "## 6 ## \n",
                "Encuentre el nombre de las ciudades donde tenemos mas de 2 clientes"
            ],
            "metadata": {
                "azdata_cell_guid": "79ab9e85-48bb-4757-ab1b-cab388341601"
            }
        },
        {
            "cell_type": "code",
            "source": [
                "SELECT City as Ciudad, COUNT(*) as [Total Clientes] FROM Customers\r\n",
                "GROUP BY City\r\n",
                "HAVING COUNT(*)>2\r\n",
                ""
            ],
            "metadata": {
                "azdata_cell_guid": "e6c82738-6551-480d-a1cb-68a4a63f655c"
            },
            "outputs": [
                {
                    "output_type": "display_data",
                    "data": {
                        "text/html": "(6 rows affected)"
                    },
                    "metadata": {}
                },
                {
                    "output_type": "display_data",
                    "data": {
                        "text/html": "Total execution time: 00:00:00.140"
                    },
                    "metadata": {}
                },
                {
                    "output_type": "execute_result",
                    "metadata": {},
                    "execution_count": 6,
                    "data": {
                        "application/vnd.dataresource+json": {
                            "schema": {
                                "fields": [
                                    {
                                        "name": "Ciudad"
                                    },
                                    {
                                        "name": "Total Clientes"
                                    }
                                ]
                            },
                            "data": [
                                {
                                    "0": "Buenos Aires",
                                    "1": "3"
                                },
                                {
                                    "0": "London",
                                    "1": "6"
                                },
                                {
                                    "0": "Madrid",
                                    "1": "3"
                                },
                                {
                                    "0": "México D.F.",
                                    "1": "5"
                                },
                                {
                                    "0": "Rio de Janeiro",
                                    "1": "3"
                                },
                                {
                                    "0": "Sao Paulo",
                                    "1": "4"
                                }
                            ]
                        },
                        "text/html": "<table><tr><th>Ciudad</th><th>Total Clientes</th></tr><tr><td>Buenos Aires</td><td>3</td></tr><tr><td>London</td><td>6</td></tr><tr><td>Madrid</td><td>3</td></tr><tr><td>México D.F.</td><td>5</td></tr><tr><td>Rio de Janeiro</td><td>3</td></tr><tr><td>Sao Paulo</td><td>4</td></tr></table>"
                    }
                }
            ],
            "execution_count": 6
        }
    ]
}