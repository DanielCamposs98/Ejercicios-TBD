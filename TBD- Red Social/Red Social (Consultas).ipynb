{
    "metadata": {
        "kernelspec": {
            "name": "SQL",
            "display_name": "SQL",
            "language": "sql"
        },
        "language_info": {
            "name": "sql",
            "version": ""
        }
    },
    "nbformat_minor": 2,
    "nbformat": 4,
    "cells": [
        {
            "cell_type": "markdown",
            "source": [
                "# RED SOCIAL (CONSULTAS) #\r\n",
                ""
            ],
            "metadata": {
                "azdata_cell_guid": "e533a127-ace6-473e-bbef-a9925744dd68"
            }
        },
        {
            "cell_type": "markdown",
            "source": [
                "**Utilizando la BD 'Social' **"
            ],
            "metadata": {
                "azdata_cell_guid": "e0642b0c-6446-4942-a05c-79aec0829e97"
            }
        },
        {
            "cell_type": "code",
            "source": [
                "USE SOCIAL"
            ],
            "metadata": {
                "azdata_cell_guid": "72022741-b3b9-4b55-a740-5729dba576e3",
                "tags": []
            },
            "outputs": [
                {
                    "output_type": "display_data",
                    "data": {
                        "text/html": "Commands completed successfully."
                    },
                    "metadata": {}
                },
                {
                    "output_type": "display_data",
                    "data": {
                        "text/html": "Total execution time: 00:00:00.385"
                    },
                    "metadata": {}
                }
            ],
            "execution_count": 1
        },
        {
            "cell_type": "markdown",
            "source": [
                "# Basic SELECT, Table Variables, Set Operators"
            ],
            "metadata": {
                "azdata_cell_guid": "2b5f49e5-5deb-4707-b00b-3e4c036c87ac"
            }
        },
        {
            "cell_type": "markdown",
            "source": [
                "**1. Friends of Gabes: : Find the names of all students who are friends with someone named Gabriel.**"
            ],
            "metadata": {
                "azdata_cell_guid": "942bf5bf-880f-4c29-b6f2-647481f4557d"
            }
        },
        {
            "cell_type": "code",
            "source": [
                "SELECT h1.name,h2.name FROM Friend \r\n",
                " INNER JOIN  Highschooler h1 on Friend.ID1 = h1.ID\r\n",
                " INNER JOIN Highschooler h2 on Friend.ID2 = h2.ID\r\n",
                " WHERE H1.name='Gabriel'\r\n",
                "\r\n",
                " select distinct H2.name from Highschooler H1, Friend F1, Highschooler H2 \r\n",
                "    where H1.ID = F1.ID1 and H1.name = 'Gabriel' \r\n",
                "    and H2.ID = F1.ID2;\r\n",
                ""
            ],
            "metadata": {
                "azdata_cell_guid": "62b5fe61-d044-414a-bb9c-d7b0d5570448",
                "tags": []
            },
            "outputs": [
                {
                    "output_type": "display_data",
                    "data": {
                        "text/html": "(5 rows affected)"
                    },
                    "metadata": {}
                },
                {
                    "output_type": "display_data",
                    "data": {
                        "text/html": "Total execution time: 00:00:00.911"
                    },
                    "metadata": {}
                },
                {
                    "output_type": "execute_result",
                    "execution_count": 2,
                    "data": {
                        "application/vnd.dataresource+json": {
                            "schema": {
                                "fields": [
                                    {
                                        "name": "name"
                                    },
                                    {
                                        "name": "name"
                                    }
                                ]
                            },
                            "data": [
                                {
                                    "0": "Gabriel             ",
                                    "1": "Jordan              "
                                },
                                {
                                    "0": "Gabriel             ",
                                    "1": "Cassandra           "
                                },
                                {
                                    "0": "Gabriel             ",
                                    "1": "Andrew              "
                                },
                                {
                                    "0": "Gabriel             ",
                                    "1": "Alexis              "
                                },
                                {
                                    "0": "Gabriel             ",
                                    "1": "Jessica             "
                                }
                            ]
                        },
                        "text/html": "<table><tr><th>name</th><th>name</th></tr><tr><td>Gabriel             </td><td>Jordan              </td></tr><tr><td>Gabriel             </td><td>Cassandra           </td></tr><tr><td>Gabriel             </td><td>Andrew              </td></tr><tr><td>Gabriel             </td><td>Alexis              </td></tr><tr><td>Gabriel             </td><td>Jessica             </td></tr></table>"
                    },
                    "metadata": {}
                }
            ],
            "execution_count": 2
        },
        {
            "cell_type": "markdown",
            "source": [
                "**2.  Like, scandalous!: For every student who likes someone 2 or more grades below their own grade, return that student's name and grade, and the name and grade of the student they like.**"
            ],
            "metadata": {
                "azdata_cell_guid": "e9af7382-bf26-4546-93bd-20465f403786"
            }
        },
        {
            "cell_type": "code",
            "source": [
                "select h1.name as [Student 1 Name], h1.grade as [Student 1 Grade],h2.name as [Student 2 Name], h2.grade as [Student 2 Grade] \r\n",
                "    from Highschooler h1, Likes L1, Highschooler h2 \r\n",
                "        where h1.ID = L1.ID1 and h2.ID = L1.ID2 and (h1.grade-h2.grade)>=2;\r\n",
                "\r\n",
                ""
            ],
            "metadata": {
                "azdata_cell_guid": "b4bd69fa-2748-4b06-ae49-0da46ae22262",
                "tags": []
            },
            "outputs": [
                {
                    "output_type": "display_data",
                    "data": {
                        "text/html": "(1 row affected)"
                    },
                    "metadata": {}
                },
                {
                    "output_type": "display_data",
                    "data": {
                        "text/html": "(1 row affected)"
                    },
                    "metadata": {}
                },
                {
                    "output_type": "display_data",
                    "data": {
                        "text/html": "Total execution time: 00:00:00.112"
                    },
                    "metadata": {}
                },
                {
                    "output_type": "execute_result",
                    "metadata": {},
                    "execution_count": 16,
                    "data": {
                        "application/vnd.dataresource+json": {
                            "schema": {
                                "fields": [
                                    {
                                        "name": "Student 1 Name"
                                    },
                                    {
                                        "name": "Student 1 Grade"
                                    },
                                    {
                                        "name": "Student 2 Name"
                                    },
                                    {
                                        "name": "Student 2 Grade"
                                    }
                                ]
                            },
                            "data": [
                                {
                                    "0": "John                ",
                                    "1": "12",
                                    "2": "Haley               ",
                                    "3": "10"
                                }
                            ]
                        },
                        "text/html": "<table><tr><th>Student 1 Name</th><th>Student 1 Grade</th><th>Student 2 Name</th><th>Student 2 Grade</th></tr><tr><td>John                </td><td>12</td><td>Haley               </td><td>10</td></tr></table>"
                    }
                },
                {
                    "output_type": "execute_result",
                    "metadata": {},
                    "execution_count": 16,
                    "data": {
                        "application/vnd.dataresource+json": {
                            "schema": {
                                "fields": [
                                    {
                                        "name": "Student 1 Name"
                                    },
                                    {
                                        "name": "Student 1 Grade"
                                    },
                                    {
                                        "name": "Student 2 Name"
                                    },
                                    {
                                        "name": "Student 2 Grade"
                                    }
                                ]
                            },
                            "data": [
                                {
                                    "0": "John                ",
                                    "1": "12",
                                    "2": "Haley               ",
                                    "3": "10"
                                }
                            ]
                        },
                        "text/html": "<table><tr><th>Student 1 Name</th><th>Student 1 Grade</th><th>Student 2 Name</th><th>Student 2 Grade</th></tr><tr><td>John                </td><td>12</td><td>Haley               </td><td>10</td></tr></table>"
                    }
                }
            ],
            "execution_count": 16
        },
        {
            "cell_type": "markdown",
            "source": [
                "**3.  Should totally be dating: For every pair of students who both like each other, return the name and grade of both students. Include each pair only once.**"
            ],
            "metadata": {
                "azdata_cell_guid": "2d9265e1-6433-427e-9ff8-477599026f00"
            }
        },
        {
            "cell_type": "code",
            "source": [
                "select H1.name, H1.grade, H2.name, H2.grade from Highschooler H1, Highschooler H2, Likes L1, Likes L2 \r\n",
                "where (H1.ID = L1.ID1) and (H2.ID = L1.ID2) and (L1.ID1 = L2.ID2) and (L1.ID2 = L2.ID1) and (L1.ID1 < L1.ID2)"
            ],
            "metadata": {
                "azdata_cell_guid": "23b6e791-3c2f-4a2f-8d37-d08f54441b4e",
                "tags": []
            },
            "outputs": [
                {
                    "output_type": "display_data",
                    "data": {
                        "text/html": "(2 rows affected)"
                    },
                    "metadata": {}
                },
                {
                    "output_type": "display_data",
                    "data": {
                        "text/html": "Total execution time: 00:00:00.051"
                    },
                    "metadata": {}
                },
                {
                    "output_type": "execute_result",
                    "metadata": {},
                    "execution_count": 18,
                    "data": {
                        "application/vnd.dataresource+json": {
                            "schema": {
                                "fields": [
                                    {
                                        "name": "name"
                                    },
                                    {
                                        "name": "grade"
                                    },
                                    {
                                        "name": "name"
                                    },
                                    {
                                        "name": "grade"
                                    }
                                ]
                            },
                            "data": [
                                {
                                    "0": "Gabriel             ",
                                    "1": "9",
                                    "2": "Cassandra           ",
                                    "3": "9"
                                },
                                {
                                    "0": "Jessica             ",
                                    "1": "11",
                                    "2": "Kyle                ",
                                    "3": "12"
                                }
                            ]
                        },
                        "text/html": "<table><tr><th>name</th><th>grade</th><th>name</th><th>grade</th></tr><tr><td>Gabriel             </td><td>9</td><td>Cassandra           </td><td>9</td></tr><tr><td>Jessica             </td><td>11</td><td>Kyle                </td><td>12</td></tr></table>"
                    }
                }
            ],
            "execution_count": 18
        },
        {
            "cell_type": "markdown",
            "source": [
                "**4.  Alias: For every situation where student A likes student B, but student B likes a different student C, return the names and grades of A, B, and C**"
            ],
            "metadata": {
                "azdata_cell_guid": "ecf929e2-4cfc-4ddf-a924-d355e12b0e86"
            }
        },
        {
            "cell_type": "code",
            "source": [
                "select H1.name, H1.grade, H2.name, H2.grade, H3.name, H3.grade \n",
                "    from Highschooler H1, Highschooler H2, Highschooler H3, Likes L1, Likes L2 \n",
                "        where (H1.ID = L1.ID1) and (H2.ID = L1.ID2) and (H3.ID = L2.ID2) and (L1.ID2 = L2.ID1) and (L1.ID1 <> L2.ID2)\n",
                ""
            ],
            "metadata": {
                "azdata_cell_guid": "b738458b-c430-45ba-9fe7-716ebc40f021",
                "tags": []
            },
            "outputs": [
                {
                    "output_type": "display_data",
                    "data": {
                        "text/html": "(2 rows affected)"
                    },
                    "metadata": {}
                },
                {
                    "output_type": "display_data",
                    "data": {
                        "text/html": "Total execution time: 00:00:00.469"
                    },
                    "metadata": {}
                },
                {
                    "output_type": "execute_result",
                    "metadata": {},
                    "execution_count": 22,
                    "data": {
                        "application/vnd.dataresource+json": {
                            "schema": {
                                "fields": [
                                    {
                                        "name": "name"
                                    },
                                    {
                                        "name": "grade"
                                    },
                                    {
                                        "name": "name"
                                    },
                                    {
                                        "name": "grade"
                                    },
                                    {
                                        "name": "name"
                                    },
                                    {
                                        "name": "grade"
                                    }
                                ]
                            },
                            "data": [
                                {
                                    "0": "Andrew              ",
                                    "1": "10",
                                    "2": "Cassandra           ",
                                    "3": "9",
                                    "4": "Gabriel             ",
                                    "5": "9"
                                },
                                {
                                    "0": "Gabriel             ",
                                    "1": "11",
                                    "2": "Alexis              ",
                                    "3": "11",
                                    "4": "Kris                ",
                                    "5": "10"
                                }
                            ]
                        },
                        "text/html": "<table><tr><th>name</th><th>grade</th><th>name</th><th>grade</th><th>name</th><th>grade</th></tr><tr><td>Andrew              </td><td>10</td><td>Cassandra           </td><td>9</td><td>Gabriel             </td><td>9</td></tr><tr><td>Gabriel             </td><td>11</td><td>Alexis              </td><td>11</td><td>Kris                </td><td>10</td></tr></table>"
                    }
                }
            ],
            "execution_count": 22
        },
        {
            "cell_type": "markdown",
            "source": [
                "**5.  Need more intel: Find all students who do not appear in the Likes table (as a student who likes or is liked) and return their names and grades. Sort by grade, then by name within each grade. (Hint: Without subqueries, you will need to use the EXCEPT operator.)**"
            ],
            "metadata": {
                "azdata_cell_guid": "6e2bddd4-1b2f-49d8-b9f0-4a308d328baf"
            }
        },
        {
            "cell_type": "code",
            "source": [
                "select name, grade from Highschooler H1\r\n",
                "     where H1.ID not in (select ID1 from Likes union select ID2 from Likes) order by grade, name;\r\n",
                ""
            ],
            "metadata": {
                "azdata_cell_guid": "cb9b5c5f-e95b-481d-8711-72e2b8568a58",
                "tags": []
            },
            "outputs": [
                {
                    "output_type": "display_data",
                    "data": {
                        "text/html": "(3 rows affected)"
                    },
                    "metadata": {}
                },
                {
                    "output_type": "display_data",
                    "data": {
                        "text/html": "Total execution time: 00:00:00.122"
                    },
                    "metadata": {}
                },
                {
                    "output_type": "execute_result",
                    "metadata": {},
                    "execution_count": 24,
                    "data": {
                        "application/vnd.dataresource+json": {
                            "schema": {
                                "fields": [
                                    {
                                        "name": "name"
                                    },
                                    {
                                        "name": "grade"
                                    }
                                ]
                            },
                            "data": [
                                {
                                    "0": "Jordan              ",
                                    "1": "9"
                                },
                                {
                                    "0": "Tiffany             ",
                                    "1": "9"
                                },
                                {
                                    "0": "Logan               ",
                                    "1": "12"
                                }
                            ]
                        },
                        "text/html": "<table><tr><th>name</th><th>grade</th></tr><tr><td>Jordan              </td><td>9</td></tr><tr><td>Tiffany             </td><td>9</td></tr><tr><td>Logan               </td><td>12</td></tr></table>"
                    }
                }
            ],
            "execution_count": 24
        },
        {
            "cell_type": "markdown",
            "source": [
                "# Subqueries in WHERE, FROM, SELECT#\r\n",
                ""
            ],
            "metadata": {
                "azdata_cell_guid": "ae13695c-39fe-46e2-88ca-9e93e9d381df"
            }
        },
        {
            "cell_type": "markdown",
            "source": [
                "**6.  Have a chance: For every situation where student A likes student B, but we have no information about whom B likes (that is, B does not appear as an ID1 in the Likes table), return A and B's names and grades.**"
            ],
            "metadata": {
                "azdata_cell_guid": "abe75e42-75a2-443e-82d7-5aa016375165"
            }
        },
        {
            "cell_type": "code",
            "source": [
                "select H1.name, H1.grade, H2.name, H2.grade from Highschooler H1, Highschooler H2, Likes L1 where H1.ID = L1.ID1 and H2.ID = L1.ID2 and L1.ID2 not in (select ID1 from Likes);\r\n",
                ""
            ],
            "metadata": {
                "azdata_cell_guid": "90e84271-d20a-4fe9-b7bd-f2deb189352f",
                "tags": []
            },
            "outputs": [
                {
                    "output_type": "display_data",
                    "data": {
                        "text/html": "(4 rows affected)"
                    },
                    "metadata": {}
                },
                {
                    "output_type": "display_data",
                    "data": {
                        "text/html": "Total execution time: 00:00:00.155"
                    },
                    "metadata": {}
                },
                {
                    "output_type": "execute_result",
                    "metadata": {},
                    "execution_count": 25,
                    "data": {
                        "application/vnd.dataresource+json": {
                            "schema": {
                                "fields": [
                                    {
                                        "name": "name"
                                    },
                                    {
                                        "name": "grade"
                                    },
                                    {
                                        "name": "name"
                                    },
                                    {
                                        "name": "grade"
                                    }
                                ]
                            },
                            "data": [
                                {
                                    "0": "John                ",
                                    "1": "12",
                                    "2": "Haley               ",
                                    "3": "10"
                                },
                                {
                                    "0": "Austin              ",
                                    "1": "11",
                                    "2": "Jordan              ",
                                    "3": "12"
                                },
                                {
                                    "0": "Alexis              ",
                                    "1": "11",
                                    "2": "Kris                ",
                                    "3": "10"
                                },
                                {
                                    "0": "Brittany            ",
                                    "1": "10",
                                    "2": "Kris                ",
                                    "3": "10"
                                }
                            ]
                        },
                        "text/html": "<table><tr><th>name</th><th>grade</th><th>name</th><th>grade</th></tr><tr><td>John                </td><td>12</td><td>Haley               </td><td>10</td></tr><tr><td>Austin              </td><td>11</td><td>Jordan              </td><td>12</td></tr><tr><td>Alexis              </td><td>11</td><td>Kris                </td><td>10</td></tr><tr><td>Brittany            </td><td>10</td><td>Kris                </td><td>10</td></tr></table>"
                    }
                }
            ],
            "execution_count": 25
        },
        {
            "cell_type": "markdown",
            "source": [
                "**7.  Narrow-minded: Find names and grades of students who only have friends in the same grade. Return the result sorted by grade, then by name within each grade.**"
            ],
            "metadata": {
                "azdata_cell_guid": "4ffc95c1-f5e4-4c8f-aa0b-2d1dca5f4eb1"
            }
        },
        {
            "cell_type": "code",
            "source": [
                "select distinct H1.name from Highschooler H1, Friend F1 where H1.ID = F1.ID1 and H1.grade = all(select H2.grade from Highschooler H2, Friend F2 where F2.ID1 = F1.ID1 and H2.ID = F2.ID2);\r\n",
                "\r\n",
                "select H1.name, H1.grade from Highschooler H1 where H1.ID not in (select H2.ID from Highschooler H2, Friend F1, Highschooler H3 where H2.ID = F1.ID1 and H3.ID = F1.ID2 and H2.grade <> H3.grade) order by grade, name;\r\n",
                ""
            ],
            "metadata": {
                "azdata_cell_guid": "63a732eb-716f-41f2-894c-dd0c88b9e61a",
                "tags": []
            },
            "outputs": [],
            "execution_count": null
        },
        {
            "cell_type": "markdown",
            "source": [
                "**8.  Broad-minded: Find names and grades of students who only have friends in different grades.**"
            ],
            "metadata": {
                "azdata_cell_guid": "87b5fabf-3c33-4872-b2c0-d70b42dab6d5"
            }
        },
        {
            "cell_type": "code",
            "source": [
                "select distinct H1.name from Highschooler H1, Friend F1 where H1.ID = F1.ID1 and H1.grade <> all(select H2.grade from Highschooler H2, Friend F2 where F2.ID1 = F1.ID1 and H2.ID = F2.ID2);\r\n",
                ""
            ],
            "metadata": {
                "azdata_cell_guid": "fbbeea83-9af2-477c-861c-d1dfc0a49e07",
                "tags": []
            },
            "outputs": [],
            "execution_count": null
        },
        {
            "cell_type": "markdown",
            "source": [
                "**9.  Could you introduce me? For each student A who likes a student B where the two are not friends, find if they have a friend C in common. For all such trios, return the name and grade of A, B, and C.**"
            ],
            "metadata": {
                "azdata_cell_guid": "29ea4fa9-ee7b-46c4-9662-0305839a02f5"
            }
        },
        {
            "cell_type": "code",
            "source": [
                "select H1.name, H1.grade, H2.name, H2.grade, H3.name, H3.grade from Highschooler H1, Highschooler H2, Highschooler H3, Likes L1, Friend F1, Friend F2 where H1.ID = L1.ID1 and H2.ID = L1.ID2 and (H1.ID, H2.ID) not in (select ID1, ID2 from Friend) and (F1.ID1 = H3.ID and F1.ID2 = H1.ID and F2.ID1 = H3.ID and F2.ID2 = H2.ID);\r\n",
                "\r\n",
                "select H1.name, H1.grade, H2.name, H2.grade, H3.name, H3.grade from Highschooler H1, Highschooler H2, Highschooler H3, Likes L1, Friend F1, Friend F2 where H1.ID = L1.ID1 and H2.ID = L1.ID2 and F1.ID1 = H3.ID and F1.ID2 = H1.ID and F2.ID1 = H3.ID and F2.ID2 = H2.ID and H1.ID not in (select ID1 from Friend where ID2 = H2.ID);\r\n",
                ""
            ],
            "metadata": {
                "azdata_cell_guid": "ac8214ea-877b-4ad7-a666-051c3f1b0900",
                "tags": []
            },
            "outputs": [],
            "execution_count": null
        },
        {
            "cell_type": "markdown",
            "source": [
                "# Aggregation #"
            ],
            "metadata": {
                "azdata_cell_guid": "c914c731-0109-4468-a8e3-fe1acb620df1"
            }
        },
        {
            "cell_type": "markdown",
            "source": [
                "**10.  Duplication: Find the difference between the number of students in the school and the number of different first names.**"
            ],
            "metadata": {
                "azdata_cell_guid": "e449a426-edf1-4958-b144-482a0cccfbdf"
            }
        },
        {
            "cell_type": "code",
            "source": [
                "select count(ID) - count(distinct name) from Highschooler;"
            ],
            "metadata": {
                "azdata_cell_guid": "3e9f5a16-c5cd-41e3-983c-d42379a0f5cc",
                "tags": []
            },
            "outputs": [],
            "execution_count": null
        },
        {
            "cell_type": "markdown",
            "source": [
                "**11.  Average affability: What is the average number of friends per student?**"
            ],
            "metadata": {
                "azdata_cell_guid": "a92f4713-09db-4fe1-9093-a8271ae18afb"
            }
        },
        {
            "cell_type": "code",
            "source": [
                "select avg(friends) from (select ID1,count(ID2) as friends from Friend group by ID1) G;\r\n",
                ""
            ],
            "metadata": {
                "azdata_cell_guid": "14e0fb86-0e15-44e3-979c-7882de24a156",
                "tags": []
            },
            "outputs": [],
            "execution_count": null
        },
        {
            "cell_type": "markdown",
            "source": [
                "**12.  Social circle: Find the number of students who are either friends with Cassandra or are friends of friends of Cassandra. Do not count Cassandra, even though technically she is a friend of a friend.**"
            ],
            "metadata": {
                "azdata_cell_guid": "4a76d086-1edd-4f71-9d6b-f1d2f0442ae1"
            }
        },
        {
            "cell_type": "code",
            "source": [
                "create table t1 as (select ID2 from Friend where ID1 = (select ID from Highschooler where name = 'Cassandra'));\r\n",
                "\r\n",
                "create table t2 as select distinct ID2 from Friend where ID1 in (select * from t1)and ID2 <> (select ID from Highschooler where name = 'Cassandra');\r\n",
                "\r\n",
                "select count(ID2) from ((select * from t1) union (select * from t2)) G;"
            ],
            "metadata": {
                "azdata_cell_guid": "b326a148-68b2-4130-be02-19581920e123",
                "tags": []
            },
            "outputs": [],
            "execution_count": null
        },
        {
            "cell_type": "markdown",
            "source": [
                "**13.  It must be their brains, not their looks: Find the name and grade of all students who are liked by more than one other student.**"
            ],
            "metadata": {
                "azdata_cell_guid": "a2f4774d-ad47-43ba-a4ad-207c6650929e"
            }
        },
        {
            "cell_type": "code",
            "source": [
                "select name, grade from Highschooler where ID in (select ID2 from (select count(ID1) as liked,ID2 from Likes group by ID2) G where G.liked >= 2);\r\n",
                ""
            ],
            "metadata": {
                "azdata_cell_guid": "8d98a8f6-f057-48d5-bd6d-57084d5397a1",
                "tags": []
            },
            "outputs": [],
            "execution_count": null
        },
        {
            "cell_type": "markdown",
            "source": [
                "**14.  Most gregarious: Find the name and grade of the student(s) with the greatest number of friends.**"
            ],
            "metadata": {
                "azdata_cell_guid": "2a157edc-bcef-4a79-bf0c-b95b0321642d"
            }
        },
        {
            "cell_type": "code",
            "source": [
                "create table t1 as select ID1, count(ID2) as nof from Friend group by ID1;\r\n",
                "\r\n",
                "select name, grade from Highschooler where ID in (select ID1 from t1 where t1.nof = (select max(nof) from t1));\r\n",
                ""
            ],
            "metadata": {
                "azdata_cell_guid": "3241d0d7-e12e-4f23-b0a7-f9a8a7d6f509",
                "tags": []
            },
            "outputs": [],
            "execution_count": null
        },
        {
            "cell_type": "markdown",
            "source": [
                "# Data Modification Statements#"
            ],
            "metadata": {
                "azdata_cell_guid": "dd156514-5816-4fe0-ac60-36b03b646c0e"
            }
        },
        {
            "cell_type": "markdown",
            "source": [
                "Each of the questions in this section (except the first) assumes the database is in the state after the modifications from the previous question. If you find you've made a mistake or want to restart, just reload the schema and data from scratch."
            ],
            "metadata": {
                "azdata_cell_guid": "946405c0-0bd5-45df-993e-4a810830a35d"
            }
        },
        {
            "cell_type": "markdown",
            "source": [
                "**15.  End of the school year: Increment the year of all students by 1, such that all 9th graders become 10th graders, all 10th graders become 11th graders, and so on. To check your modification, find the names of all students who are in a grade higher than 12 (we'll deal with them later).**"
            ],
            "metadata": {
                "azdata_cell_guid": "078f1b87-5cc1-4379-a977-d40233f3d9cb"
            }
        },
        {
            "cell_type": "code",
            "source": [
                "update Highschooler set grade = grade + 1;"
            ],
            "metadata": {
                "azdata_cell_guid": "68dcd194-4fef-4499-ab93-1425f0f5c5b1",
                "tags": []
            },
            "outputs": [],
            "execution_count": null
        },
        {
            "cell_type": "markdown",
            "source": [
                "**16.  Graduating seniors: After the previous update, some students ended up in 13th grade. They're actually graduating, so remove all tuples in Highschooler with a grade higher than 12. To check your modification, find the total number of students remaining in the Highschooler table.**"
            ],
            "metadata": {
                "azdata_cell_guid": "b2f51c31-485f-45e6-94ed-b9097defccae"
            }
        },
        {
            "cell_type": "code",
            "source": [
                "delete from Highschooler where grade > 12;\r\n",
                ""
            ],
            "metadata": {
                "azdata_cell_guid": "3bfc713e-7519-4d1f-9f55-dc53a0b5eafe",
                "tags": []
            },
            "outputs": [],
            "execution_count": null
        },
        {
            "cell_type": "markdown",
            "source": [
                "**17.  Now clean up this mess: While friendships may continue after graduation, we can't model them for students no longer in our database. Remove all tuples in Friend and all tuples in Likes that refer to nonexistent students. (This will require two separate commands.) To check your modification, find the names of all students whom Austin likes or who are friends with Austin.**"
            ],
            "metadata": {
                "azdata_cell_guid": "0deab20c-57d1-4c5e-a5ba-9fc64e31e933"
            }
        },
        {
            "cell_type": "code",
            "source": [
                "delete from Friend where ID1 not in (select ID from Highschooler) and ID2 not in (select ID from Highschooler);\r\n",
                "delete from Likes where ID1 not in (select ID from Highschooler) and ID2 not in (select ID from Highschooler);\r\n",
                "select H2.name from Highschooler H1, Friend, Highschooler H2 where H1.name = 'Austin' and H1.ID = Friend.ID1 and H2.ID = Friend.ID2;\r\n",
                ""
            ],
            "metadata": {
                "azdata_cell_guid": "27871325-a699-4d1f-9ab6-c46560bd7c55",
                "tags": []
            },
            "outputs": [],
            "execution_count": null
        },
        {
            "cell_type": "markdown",
            "source": [
                "**18.  Summertime: Now that they're on vacation, our students have more time to spend with one another. As a result, their social circles have expanded: For all cases where A is friends with B, and B is friends with C, add a new friendship for the pair A and C. (Do not add duplicate friendships, friendships that already exist, or friendships with oneself.) To check your modification, for the now 10th-grader Jordan, return the names of all her friends.**"
            ],
            "metadata": {
                "azdata_cell_guid": "b529154f-54f4-40a6-8798-8d15a15bd1a8"
            }
        },
        {
            "cell_type": "code",
            "source": [
                "insert into Friend select F1.ID1, F2.ID2 from Friend F1, Friend F2 where F1.ID2 = F2.ID1 and F1.ID1 <> F2.ID2 and (F1.ID1, F2.ID2) not in (select * from Friend);\r\n",
                "select H2.name from Highschooler H1, Friend, Highschooler H2 where H1.name = 'Jordan' and H1.ID = Friend.ID1 and H2.ID = Friend.ID2;+-----------+\r\n",
                ""
            ],
            "metadata": {
                "azdata_cell_guid": "7faa376d-b273-4f9b-8b99-c21368b761b8",
                "tags": []
            },
            "outputs": [],
            "execution_count": null
        }
    ]
}