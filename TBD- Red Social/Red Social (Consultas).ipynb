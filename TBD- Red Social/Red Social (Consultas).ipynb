{
    "metadata": {
        "kernelspec": {
            "name": "SQL",
            "display_name": "SQL",
            "language": "sql"
        },
        "language_info": {
            "name": "sql",
            "version": ""
        }
    },
    "nbformat_minor": 2,
    "nbformat": 4,
    "cells": [
        {
            "cell_type": "markdown",
            "source": [
                "# RED SOCIAL (CONSULTAS) #\r\n",
                ""
            ],
            "metadata": {
                "azdata_cell_guid": "e533a127-ace6-473e-bbef-a9925744dd68"
            }
        },
        {
            "cell_type": "markdown",
            "source": [
                "**Utilizando la BD 'Social' **"
            ],
            "metadata": {
                "azdata_cell_guid": "e0642b0c-6446-4942-a05c-79aec0829e97"
            }
        },
        {
            "cell_type": "code",
            "source": [
                "USE SOCIAL"
            ],
            "metadata": {
                "azdata_cell_guid": "72022741-b3b9-4b55-a740-5729dba576e3",
                "tags": []
            },
            "outputs": [
                {
                    "output_type": "display_data",
                    "data": {
                        "text/html": "Commands completed successfully."
                    },
                    "metadata": {}
                },
                {
                    "output_type": "display_data",
                    "data": {
                        "text/html": "Total execution time: 00:00:00.477"
                    },
                    "metadata": {}
                }
            ],
            "execution_count": 1
        },
        {
            "cell_type": "markdown",
            "source": [
                "# Basic SELECT, Table Variables, Set Operators"
            ],
            "metadata": {
                "azdata_cell_guid": "2b5f49e5-5deb-4707-b00b-3e4c036c87ac"
            }
        },
        {
            "cell_type": "markdown",
            "source": [
                "**1. Friends of Gabes: : Find the names of all students who are friends with someone named Gabriel.**"
            ],
            "metadata": {
                "azdata_cell_guid": "942bf5bf-880f-4c29-b6f2-647481f4557d"
            }
        },
        {
            "cell_type": "code",
            "source": [
                "SELECT h2.name as [Alumno] FROM Friend \r\n",
                " INNER JOIN  Highschooler h1 on Friend.ID1 = h1.ID\r\n",
                " INNER JOIN Highschooler h2 on Friend.ID2 = h2.ID\r\n",
                " WHERE H1.name='Gabriel'\r\n",
                " ORDER BY h2.name"
            ],
            "metadata": {
                "azdata_cell_guid": "62b5fe61-d044-414a-bb9c-d7b0d5570448",
                "tags": []
            },
            "outputs": [
                {
                    "output_type": "display_data",
                    "data": {
                        "text/html": "(5 rows affected)"
                    },
                    "metadata": {}
                },
                {
                    "output_type": "display_data",
                    "data": {
                        "text/html": "Total execution time: 00:00:00.090"
                    },
                    "metadata": {}
                },
                {
                    "output_type": "execute_result",
                    "metadata": {},
                    "execution_count": 5,
                    "data": {
                        "application/vnd.dataresource+json": {
                            "schema": {
                                "fields": [
                                    {
                                        "name": "Alumno"
                                    }
                                ]
                            },
                            "data": [
                                {
                                    "0": "Alexis              "
                                },
                                {
                                    "0": "Andrew              "
                                },
                                {
                                    "0": "Cassandra           "
                                },
                                {
                                    "0": "Jessica             "
                                },
                                {
                                    "0": "Jordan              "
                                }
                            ]
                        },
                        "text/html": "<table><tr><th>Alumno</th></tr><tr><td>Alexis              </td></tr><tr><td>Andrew              </td></tr><tr><td>Cassandra           </td></tr><tr><td>Jessica             </td></tr><tr><td>Jordan              </td></tr></table>"
                    }
                }
            ],
            "execution_count": 5
        },
        {
            "cell_type": "markdown",
            "source": [
                "**2.  Like, scandalous!: For every student who likes someone 2 or more grades below their own grade, return that student's name and grade, and the name and grade of the student they like.**"
            ],
            "metadata": {
                "azdata_cell_guid": "e9af7382-bf26-4546-93bd-20465f403786"
            }
        },
        {
            "cell_type": "code",
            "source": [
                "SELECT h1.name as [Student 1 Name], h1.grade as [Student 1 Grade],h2.name as [Student 2 Name], h2.grade as [Student 2 Grade] \r\n",
                "    FROM Highschooler h1, Likes L1, Highschooler h2 \r\n",
                "    WHERE h1.ID = L1.ID1 AND h2.ID = L1.ID2 AND (h1.grade-h2.grade)>=2;\r\n",
                "\r\n",
                ""
            ],
            "metadata": {
                "azdata_cell_guid": "b4bd69fa-2748-4b06-ae49-0da46ae22262",
                "tags": []
            },
            "outputs": [
                {
                    "output_type": "display_data",
                    "data": {
                        "text/html": "(1 row affected)"
                    },
                    "metadata": {}
                },
                {
                    "output_type": "display_data",
                    "data": {
                        "text/html": "Total execution time: 00:00:00.211"
                    },
                    "metadata": {}
                },
                {
                    "output_type": "execute_result",
                    "metadata": {},
                    "execution_count": 6,
                    "data": {
                        "application/vnd.dataresource+json": {
                            "schema": {
                                "fields": [
                                    {
                                        "name": "Student 1 Name"
                                    },
                                    {
                                        "name": "Student 1 Grade"
                                    },
                                    {
                                        "name": "Student 2 Name"
                                    },
                                    {
                                        "name": "Student 2 Grade"
                                    }
                                ]
                            },
                            "data": [
                                {
                                    "0": "John                ",
                                    "1": "12",
                                    "2": "Haley               ",
                                    "3": "10"
                                }
                            ]
                        },
                        "text/html": "<table><tr><th>Student 1 Name</th><th>Student 1 Grade</th><th>Student 2 Name</th><th>Student 2 Grade</th></tr><tr><td>John                </td><td>12</td><td>Haley               </td><td>10</td></tr></table>"
                    }
                }
            ],
            "execution_count": 6
        },
        {
            "cell_type": "markdown",
            "source": [
                "**3.  Should totally be dating: For every pair of students who both like each other, return the name and grade of both students. Include each pair only once.**"
            ],
            "metadata": {
                "azdata_cell_guid": "2d9265e1-6433-427e-9ff8-477599026f00"
            }
        },
        {
            "cell_type": "code",
            "source": [
                "SELECT H1.name, H1.grade, H2.name, H2.grade FROM Highschooler H1, Highschooler H2, Likes L1, Likes L2  \r\n",
                "WHERE (H1.ID  = L1.ID1) AND\r\n",
                "      (H2.ID  = L1.ID2) AND  \r\n",
                "      (L1.ID1 = L2.ID2) AND\r\n",
                "      (L1.ID2 = L2.ID1) AND \r\n",
                "      (L1.ID1 < L1.ID2)"
            ],
            "metadata": {
                "azdata_cell_guid": "23b6e791-3c2f-4a2f-8d37-d08f54441b4e",
                "tags": [
                    "hide_input"
                ]
            },
            "outputs": [
                {
                    "output_type": "display_data",
                    "data": {
                        "text/html": "(2 rows affected)"
                    },
                    "metadata": {}
                },
                {
                    "output_type": "display_data",
                    "data": {
                        "text/html": "Total execution time: 00:00:00.146"
                    },
                    "metadata": {}
                },
                {
                    "output_type": "execute_result",
                    "metadata": {},
                    "execution_count": 8,
                    "data": {
                        "application/vnd.dataresource+json": {
                            "schema": {
                                "fields": [
                                    {
                                        "name": "name"
                                    },
                                    {
                                        "name": "grade"
                                    },
                                    {
                                        "name": "name"
                                    },
                                    {
                                        "name": "grade"
                                    }
                                ]
                            },
                            "data": [
                                {
                                    "0": "Gabriel             ",
                                    "1": "9",
                                    "2": "Cassandra           ",
                                    "3": "9"
                                },
                                {
                                    "0": "Jessica             ",
                                    "1": "11",
                                    "2": "Kyle                ",
                                    "3": "12"
                                }
                            ]
                        },
                        "text/html": "<table><tr><th>name</th><th>grade</th><th>name</th><th>grade</th></tr><tr><td>Gabriel             </td><td>9</td><td>Cassandra           </td><td>9</td></tr><tr><td>Jessica             </td><td>11</td><td>Kyle                </td><td>12</td></tr></table>"
                    }
                }
            ],
            "execution_count": 8
        },
        {
            "cell_type": "markdown",
            "source": [
                "**4.  Alias: For every situation where student A likes student B, but student B likes a different student C, return the names and grades of A, B, and C**"
            ],
            "metadata": {
                "azdata_cell_guid": "ecf929e2-4cfc-4ddf-a924-d355e12b0e86"
            }
        },
        {
            "cell_type": "code",
            "source": [
                "SELECT H1.name, H1.grade, H2.name, H2.grade, H3.name, H3.grade \n",
                "    FROM Highschooler H1, Highschooler H2, Highschooler H3, Likes L1, Likes L2 \n",
                "    WHERE (H1.ID = L1.ID1)  AND \n",
                "          (H2.ID = L1.ID2)  AND \n",
                "          (H3.ID = L2.ID2)  AND \n",
                "          (L1.ID2 = L2.ID1) AND \n",
                "          (L1.ID1 <> L2.ID2)\n",
                ""
            ],
            "metadata": {
                "azdata_cell_guid": "b738458b-c430-45ba-9fe7-716ebc40f021",
                "tags": []
            },
            "outputs": [
                {
                    "output_type": "display_data",
                    "data": {
                        "text/html": "(2 rows affected)"
                    },
                    "metadata": {}
                },
                {
                    "output_type": "display_data",
                    "data": {
                        "text/html": "Total execution time: 00:00:01.496"
                    },
                    "metadata": {}
                },
                {
                    "output_type": "execute_result",
                    "metadata": {},
                    "execution_count": 7,
                    "data": {
                        "application/vnd.dataresource+json": {
                            "schema": {
                                "fields": [
                                    {
                                        "name": "name"
                                    },
                                    {
                                        "name": "grade"
                                    },
                                    {
                                        "name": "name"
                                    },
                                    {
                                        "name": "grade"
                                    },
                                    {
                                        "name": "name"
                                    },
                                    {
                                        "name": "grade"
                                    }
                                ]
                            },
                            "data": [
                                {
                                    "0": "Andrew              ",
                                    "1": "10",
                                    "2": "Cassandra           ",
                                    "3": "9",
                                    "4": "Gabriel             ",
                                    "5": "9"
                                },
                                {
                                    "0": "Gabriel             ",
                                    "1": "11",
                                    "2": "Alexis              ",
                                    "3": "11",
                                    "4": "Kris                ",
                                    "5": "10"
                                }
                            ]
                        },
                        "text/html": "<table><tr><th>name</th><th>grade</th><th>name</th><th>grade</th><th>name</th><th>grade</th></tr><tr><td>Andrew              </td><td>10</td><td>Cassandra           </td><td>9</td><td>Gabriel             </td><td>9</td></tr><tr><td>Gabriel             </td><td>11</td><td>Alexis              </td><td>11</td><td>Kris                </td><td>10</td></tr></table>"
                    }
                }
            ],
            "execution_count": 7
        },
        {
            "cell_type": "markdown",
            "source": [
                "**5.  Need more intel: Find all students who do not appear in the Likes table (as a student who likes or is liked) and return their names and grades. Sort by grade, then by name within each grade. (Hint: Without subqueries, you will need to use the EXCEPT operator.)**"
            ],
            "metadata": {
                "azdata_cell_guid": "6e2bddd4-1b2f-49d8-b9f0-4a308d328baf"
            }
        },
        {
            "cell_type": "code",
            "source": [
                "SELECT name, grade from Highschooler H1 \r\n",
                "      EXCEPT SELECT name, grade from Highschooler H2,Likes L \r\n",
                "      WHERE L.ID1=H2.ID OR L.ID2=H2.ID\r\n",
                "ORDER BY grade, name\r\n",
                ""
            ],
            "metadata": {
                "azdata_cell_guid": "cb9b5c5f-e95b-481d-8711-72e2b8568a58",
                "tags": []
            },
            "outputs": [
                {
                    "output_type": "display_data",
                    "data": {
                        "text/html": "(3 rows affected)"
                    },
                    "metadata": {}
                },
                {
                    "output_type": "display_data",
                    "data": {
                        "text/html": "Total execution time: 00:00:00.147"
                    },
                    "metadata": {}
                },
                {
                    "output_type": "execute_result",
                    "metadata": {},
                    "execution_count": 9,
                    "data": {
                        "application/vnd.dataresource+json": {
                            "schema": {
                                "fields": [
                                    {
                                        "name": "name"
                                    },
                                    {
                                        "name": "grade"
                                    }
                                ]
                            },
                            "data": [
                                {
                                    "0": "Jordan              ",
                                    "1": "9"
                                },
                                {
                                    "0": "Tiffany             ",
                                    "1": "9"
                                },
                                {
                                    "0": "Logan               ",
                                    "1": "12"
                                }
                            ]
                        },
                        "text/html": "<table><tr><th>name</th><th>grade</th></tr><tr><td>Jordan              </td><td>9</td></tr><tr><td>Tiffany             </td><td>9</td></tr><tr><td>Logan               </td><td>12</td></tr></table>"
                    }
                }
            ],
            "execution_count": 9
        },
        {
            "cell_type": "markdown",
            "source": [
                "# Subqueries in WHERE, FROM, SELECT#\r\n",
                ""
            ],
            "metadata": {
                "azdata_cell_guid": "ae13695c-39fe-46e2-88ca-9e93e9d381df"
            }
        },
        {
            "cell_type": "markdown",
            "source": [
                "**6.  Have a chance: For every situation where student A likes student B, but we have no information about whom B likes (that is, B does not appear as an ID1 in the Likes table), return A and B's names and grades.**"
            ],
            "metadata": {
                "azdata_cell_guid": "abe75e42-75a2-443e-82d7-5aa016375165"
            }
        },
        {
            "cell_type": "code",
            "source": [
                "SELECT H1.name, H1.grade, H2.name, H2.grade FROM Highschooler H1, Highschooler H2, Likes L1 \r\n",
                "WHERE   H1.ID = L1.ID1 AND \r\n",
                "        H2.ID = L1.ID2 AND \r\n",
                "        L1.ID2 not in (select ID1 from Likes);\r\n",
                ""
            ],
            "metadata": {
                "azdata_cell_guid": "90e84271-d20a-4fe9-b7bd-f2deb189352f",
                "tags": []
            },
            "outputs": [
                {
                    "output_type": "display_data",
                    "data": {
                        "text/html": "(4 rows affected)"
                    },
                    "metadata": {}
                },
                {
                    "output_type": "display_data",
                    "data": {
                        "text/html": "Total execution time: 00:00:00.262"
                    },
                    "metadata": {}
                },
                {
                    "output_type": "execute_result",
                    "metadata": {},
                    "execution_count": 10,
                    "data": {
                        "application/vnd.dataresource+json": {
                            "schema": {
                                "fields": [
                                    {
                                        "name": "name"
                                    },
                                    {
                                        "name": "grade"
                                    },
                                    {
                                        "name": "name"
                                    },
                                    {
                                        "name": "grade"
                                    }
                                ]
                            },
                            "data": [
                                {
                                    "0": "John                ",
                                    "1": "12",
                                    "2": "Haley               ",
                                    "3": "10"
                                },
                                {
                                    "0": "Austin              ",
                                    "1": "11",
                                    "2": "Jordan              ",
                                    "3": "12"
                                },
                                {
                                    "0": "Alexis              ",
                                    "1": "11",
                                    "2": "Kris                ",
                                    "3": "10"
                                },
                                {
                                    "0": "Brittany            ",
                                    "1": "10",
                                    "2": "Kris                ",
                                    "3": "10"
                                }
                            ]
                        },
                        "text/html": "<table><tr><th>name</th><th>grade</th><th>name</th><th>grade</th></tr><tr><td>John                </td><td>12</td><td>Haley               </td><td>10</td></tr><tr><td>Austin              </td><td>11</td><td>Jordan              </td><td>12</td></tr><tr><td>Alexis              </td><td>11</td><td>Kris                </td><td>10</td></tr><tr><td>Brittany            </td><td>10</td><td>Kris                </td><td>10</td></tr></table>"
                    }
                }
            ],
            "execution_count": 10
        },
        {
            "cell_type": "markdown",
            "source": [
                "**7.  Narrow-minded: Find names and grades of students who only have friends in the same grade. Return the result sorted by grade, then by name within each grade.**"
            ],
            "metadata": {
                "azdata_cell_guid": "4ffc95c1-f5e4-4c8f-aa0b-2d1dca5f4eb1"
            }
        },
        {
            "cell_type": "code",
            "source": [
                "SELECT H1.name, H1.grade FROM Highschooler H1 \r\n",
                "WHERE H1.ID \r\n",
                "not in (SELECT H2.ID FROM Highschooler H2, Friend F1, Highschooler H3 \r\n",
                "        WHERE H2.ID = F1.ID1 AND H3.ID = F1.ID2 AND H2.grade <> H3.grade) \r\n",
                "ORDER BY grade, name;\r\n",
                ""
            ],
            "metadata": {
                "azdata_cell_guid": "63a732eb-716f-41f2-894c-dd0c88b9e61a",
                "tags": []
            },
            "outputs": [
                {
                    "output_type": "display_data",
                    "data": {
                        "text/html": "(7 rows affected)"
                    },
                    "metadata": {}
                },
                {
                    "output_type": "display_data",
                    "data": {
                        "text/html": "Total execution time: 00:00:00.218"
                    },
                    "metadata": {}
                },
                {
                    "output_type": "execute_result",
                    "metadata": {},
                    "execution_count": 11,
                    "data": {
                        "application/vnd.dataresource+json": {
                            "schema": {
                                "fields": [
                                    {
                                        "name": "name"
                                    },
                                    {
                                        "name": "grade"
                                    }
                                ]
                            },
                            "data": [
                                {
                                    "0": "Jordan              ",
                                    "1": "9"
                                },
                                {
                                    "0": "Brittany            ",
                                    "1": "10"
                                },
                                {
                                    "0": "Haley               ",
                                    "1": "10"
                                },
                                {
                                    "0": "Kris                ",
                                    "1": "10"
                                },
                                {
                                    "0": "Gabriel             ",
                                    "1": "11"
                                },
                                {
                                    "0": "John                ",
                                    "1": "12"
                                },
                                {
                                    "0": "Logan               ",
                                    "1": "12"
                                }
                            ]
                        },
                        "text/html": "<table><tr><th>name</th><th>grade</th></tr><tr><td>Jordan              </td><td>9</td></tr><tr><td>Brittany            </td><td>10</td></tr><tr><td>Haley               </td><td>10</td></tr><tr><td>Kris                </td><td>10</td></tr><tr><td>Gabriel             </td><td>11</td></tr><tr><td>John                </td><td>12</td></tr><tr><td>Logan               </td><td>12</td></tr></table>"
                    }
                }
            ],
            "execution_count": 11
        },
        {
            "cell_type": "markdown",
            "source": [
                "**8.  Broad-minded: Find names and grades of students who only have friends in different grades.**"
            ],
            "metadata": {
                "azdata_cell_guid": "87b5fabf-3c33-4872-b2c0-d70b42dab6d5"
            }
        },
        {
            "cell_type": "code",
            "source": [
                "--SE USO 'ALL' PARA ESPECIIFICAR QUE LA SUBCONSULTA DEBE CUMPLIR CON TODAS LAS CONDICIONES--\r\n",
                "SELECT DISTINCT H1.name,H1.grade FROM Highschooler H1, Friend F1\r\n",
                "WHERE H1.ID = F1.ID1 \r\n",
                "      AND H1.grade <> ALL(SELECT H2.grade FROM Highschooler H2, Friend F2 WHERE F2.ID1 = F1.ID1 AND H2.ID = F2.ID2)\r\n",
                ""
            ],
            "metadata": {
                "azdata_cell_guid": "fbbeea83-9af2-477c-861c-d1dfc0a49e07",
                "tags": []
            },
            "outputs": [
                {
                    "output_type": "display_data",
                    "data": {
                        "text/html": "(1 row affected)"
                    },
                    "metadata": {}
                },
                {
                    "output_type": "display_data",
                    "data": {
                        "text/html": "Total execution time: 00:00:00.116"
                    },
                    "metadata": {}
                },
                {
                    "output_type": "execute_result",
                    "metadata": {},
                    "execution_count": 13,
                    "data": {
                        "application/vnd.dataresource+json": {
                            "schema": {
                                "fields": [
                                    {
                                        "name": "name"
                                    },
                                    {
                                        "name": "grade"
                                    }
                                ]
                            },
                            "data": [
                                {
                                    "0": "Austin              ",
                                    "1": "11"
                                }
                            ]
                        },
                        "text/html": "<table><tr><th>name</th><th>grade</th></tr><tr><td>Austin              </td><td>11</td></tr></table>"
                    }
                }
            ],
            "execution_count": 13
        },
        {
            "cell_type": "markdown",
            "source": [
                "**9.  Could you introduce me? For each student A who likes a student B where the two are not friends, find if they have a friend C in common. For all such trios, return the name and grade of A, B, and C.**"
            ],
            "metadata": {
                "azdata_cell_guid": "29ea4fa9-ee7b-46c4-9662-0305839a02f5"
            }
        },
        {
            "cell_type": "code",
            "source": [
                "SELECT H1.name, H1.grade, H2.name, H2.grade, H3.name, H3.grade FROM Highschooler H1, Highschooler H2, Highschooler H3, Likes L1, Friend F1, Friend F2 \r\n",
                "WHERE (H1.ID = L1.ID1) AND (H2.ID = L1.ID2) AND (F1.ID1 = H3.ID) AND (F1.ID2 = H1.ID) AND (F2.ID1 = H3.ID) AND (F2.ID2 = H2.ID) \r\n",
                "AND H1.ID not in (SELECT ID1 FROM Friend WHERE ID2 = H2.ID);\r\n",
                ""
            ],
            "metadata": {
                "azdata_cell_guid": "ac8214ea-877b-4ad7-a666-051c3f1b0900",
                "tags": []
            },
            "outputs": [
                {
                    "output_type": "display_data",
                    "data": {
                        "text/html": "(3 rows affected)"
                    },
                    "metadata": {}
                },
                {
                    "output_type": "display_data",
                    "data": {
                        "text/html": "Total execution time: 00:00:00.277"
                    },
                    "metadata": {}
                },
                {
                    "output_type": "execute_result",
                    "metadata": {},
                    "execution_count": 14,
                    "data": {
                        "application/vnd.dataresource+json": {
                            "schema": {
                                "fields": [
                                    {
                                        "name": "name"
                                    },
                                    {
                                        "name": "grade"
                                    },
                                    {
                                        "name": "name"
                                    },
                                    {
                                        "name": "grade"
                                    },
                                    {
                                        "name": "name"
                                    },
                                    {
                                        "name": "grade"
                                    }
                                ]
                            },
                            "data": [
                                {
                                    "0": "Austin              ",
                                    "1": "11",
                                    "2": "Jordan              ",
                                    "3": "12",
                                    "4": "Andrew              ",
                                    "5": "10"
                                },
                                {
                                    "0": "Austin              ",
                                    "1": "11",
                                    "2": "Jordan              ",
                                    "3": "12",
                                    "4": "Kyle                ",
                                    "5": "12"
                                },
                                {
                                    "0": "Andrew              ",
                                    "1": "10",
                                    "2": "Cassandra           ",
                                    "3": "9",
                                    "4": "Gabriel             ",
                                    "5": "9"
                                }
                            ]
                        },
                        "text/html": "<table><tr><th>name</th><th>grade</th><th>name</th><th>grade</th><th>name</th><th>grade</th></tr><tr><td>Austin              </td><td>11</td><td>Jordan              </td><td>12</td><td>Andrew              </td><td>10</td></tr><tr><td>Austin              </td><td>11</td><td>Jordan              </td><td>12</td><td>Kyle                </td><td>12</td></tr><tr><td>Andrew              </td><td>10</td><td>Cassandra           </td><td>9</td><td>Gabriel             </td><td>9</td></tr></table>"
                    }
                }
            ],
            "execution_count": 14
        },
        {
            "cell_type": "markdown",
            "source": [
                "# Aggregation #"
            ],
            "metadata": {
                "azdata_cell_guid": "c914c731-0109-4468-a8e3-fe1acb620df1"
            }
        },
        {
            "cell_type": "markdown",
            "source": [
                "**10.  Duplication: Find the difference between the number of students in the school and the number of different first names.**"
            ],
            "metadata": {
                "azdata_cell_guid": "e449a426-edf1-4958-b144-482a0cccfbdf"
            }
        },
        {
            "cell_type": "code",
            "source": [
                "SELECT count(ID) - count(distinct name) FROM Highschooler;"
            ],
            "metadata": {
                "azdata_cell_guid": "3e9f5a16-c5cd-41e3-983c-d42379a0f5cc",
                "tags": []
            },
            "outputs": [
                {
                    "output_type": "display_data",
                    "data": {
                        "text/html": "(1 row affected)"
                    },
                    "metadata": {}
                },
                {
                    "output_type": "display_data",
                    "data": {
                        "text/html": "Total execution time: 00:00:00.101"
                    },
                    "metadata": {}
                },
                {
                    "output_type": "execute_result",
                    "metadata": {},
                    "execution_count": 15,
                    "data": {
                        "application/vnd.dataresource+json": {
                            "schema": {
                                "fields": [
                                    {
                                        "name": "(No column name)"
                                    }
                                ]
                            },
                            "data": [
                                {
                                    "0": "2"
                                }
                            ]
                        },
                        "text/html": "<table><tr><th>(No column name)</th></tr><tr><td>2</td></tr></table>"
                    }
                }
            ],
            "execution_count": 15
        },
        {
            "cell_type": "markdown",
            "source": [
                "**11.  Average affability: What is the average number of friends per student?**"
            ],
            "metadata": {
                "azdata_cell_guid": "a92f4713-09db-4fe1-9093-a8271ae18afb"
            }
        },
        {
            "cell_type": "code",
            "source": [
                "SELECT avg(friends) as Average FROM (select ID1,count(ID2) as friends from Friend group by ID1) SBQ;\r\n",
                ""
            ],
            "metadata": {
                "azdata_cell_guid": "14e0fb86-0e15-44e3-979c-7882de24a156",
                "tags": []
            },
            "outputs": [
                {
                    "output_type": "display_data",
                    "data": {
                        "text/html": "(1 row affected)"
                    },
                    "metadata": {}
                },
                {
                    "output_type": "display_data",
                    "data": {
                        "text/html": "Total execution time: 00:00:00.032"
                    },
                    "metadata": {}
                },
                {
                    "output_type": "execute_result",
                    "metadata": {},
                    "execution_count": 16,
                    "data": {
                        "application/vnd.dataresource+json": {
                            "schema": {
                                "fields": [
                                    {
                                        "name": "Average"
                                    }
                                ]
                            },
                            "data": [
                                {
                                    "0": "2"
                                }
                            ]
                        },
                        "text/html": "<table><tr><th>Average</th></tr><tr><td>2</td></tr></table>"
                    }
                }
            ],
            "execution_count": 16
        },
        {
            "cell_type": "markdown",
            "source": [
                "**12.  Social circle: Find the number of students who are either friends with Cassandra or are friends of friends of Cassandra. Do not count Cassandra, even though technically she is a friend of a friend.**"
            ],
            "metadata": {
                "azdata_cell_guid": "4a76d086-1edd-4f71-9d6b-f1d2f0442ae1"
            }
        },
        {
            "cell_type": "code",
            "source": [
                "DECLARE @tabla1 as TABLE (ID int)\r\n",
                "DECLARE @tabla2 as TABLE (ID2 int)\r\n",
                "\r\n",
                "INSERT INTO @tabla1 SELECT ID2 FROM Friend WHERE ID1 = \r\n",
                "(SELECT ID FROM Highschooler WHERE name = 'Cassandra')\r\n",
                "\r\n",
                "INSERT INTO @tabla2 SELECT DISTINCT ID2 FROM Friend\r\n",
                " WHERE ID1 in (SELECT * FROM @tabla1) AND ID2 \r\n",
                " <> (SELECT ID FROM Highschooler WHERE name = 'Cassandra')\r\n",
                "\r\n",
                "SELECT count(ID) FROM ((SELECT * FROM @tabla1) UNION (SELECT * FROM @tabla2)) SBQ;"
            ],
            "metadata": {
                "azdata_cell_guid": "3547de6d-24e5-4630-8487-e8ec976a58b0"
            },
            "outputs": [
                {
                    "output_type": "display_data",
                    "data": {
                        "text/html": "(2 rows affected)"
                    },
                    "metadata": {}
                },
                {
                    "output_type": "display_data",
                    "data": {
                        "text/html": "(5 rows affected)"
                    },
                    "metadata": {}
                },
                {
                    "output_type": "display_data",
                    "data": {
                        "text/html": "(1 row affected)"
                    },
                    "metadata": {}
                },
                {
                    "output_type": "display_data",
                    "data": {
                        "text/html": "Total execution time: 00:00:04.004"
                    },
                    "metadata": {}
                },
                {
                    "output_type": "execute_result",
                    "metadata": {},
                    "execution_count": 17,
                    "data": {
                        "application/vnd.dataresource+json": {
                            "schema": {
                                "fields": [
                                    {
                                        "name": "(No column name)"
                                    }
                                ]
                            },
                            "data": [
                                {
                                    "0": "7"
                                }
                            ]
                        },
                        "text/html": "<table><tr><th>(No column name)</th></tr><tr><td>7</td></tr></table>"
                    }
                }
            ],
            "execution_count": 17
        },
        {
            "cell_type": "markdown",
            "source": [
                "**13.  It must be their brains, not their looks: Find the name and grade of all students who are liked by more than one other student.**"
            ],
            "metadata": {
                "azdata_cell_guid": "a2f4774d-ad47-43ba-a4ad-207c6650929e"
            }
        },
        {
            "cell_type": "code",
            "source": [
                "WITH Liked(liked, ID2)\r\n",
                "AS(\r\n",
                "    SELECT count(ID1) as liked, ID2 int FROM Likes GROUP BY ID2\r\n",
                ")\r\n",
                "\r\n",
                "SELECT name, grade FROM Highschooler WHERE ID in (SELECT ID2 FROM Liked L WHERE L.liked >= 2);"
            ],
            "metadata": {
                "azdata_cell_guid": "8d98a8f6-f057-48d5-bd6d-57084d5397a1",
                "tags": []
            },
            "outputs": [
                {
                    "output_type": "display_data",
                    "data": {
                        "text/html": "(2 rows affected)"
                    },
                    "metadata": {}
                },
                {
                    "output_type": "display_data",
                    "data": {
                        "text/html": "Total execution time: 00:00:00.122"
                    },
                    "metadata": {}
                },
                {
                    "output_type": "execute_result",
                    "metadata": {},
                    "execution_count": 18,
                    "data": {
                        "application/vnd.dataresource+json": {
                            "schema": {
                                "fields": [
                                    {
                                        "name": "name"
                                    },
                                    {
                                        "name": "grade"
                                    }
                                ]
                            },
                            "data": [
                                {
                                    "0": "Cassandra           ",
                                    "1": "9"
                                },
                                {
                                    "0": "Kris                ",
                                    "1": "10"
                                }
                            ]
                        },
                        "text/html": "<table><tr><th>name</th><th>grade</th></tr><tr><td>Cassandra           </td><td>9</td></tr><tr><td>Kris                </td><td>10</td></tr></table>"
                    }
                }
            ],
            "execution_count": 18
        },
        {
            "cell_type": "markdown",
            "source": [
                "**14.  Most gregarious: Find the name and grade of the student(s) with the greatest number of friends.**"
            ],
            "metadata": {
                "azdata_cell_guid": "2a157edc-bcef-4a79-bf0c-b95b0321642d"
            }
        },
        {
            "cell_type": "code",
            "source": [
                "\r\n",
                "DECLARE @tabla1 as TABLE (id int, numero int)\r\n",
                "INSERT INTO @tabla1 SELECT ID1, count(ID2) FROM Friend GROUP BY ID1\r\n",
                "\r\n",
                "SELECT name, grade FROM Highschooler WHERE ID in (SELECT ID FROM @tabla1 WHERE numero = (SELECT max(numero) FROM @tabla1));\r\n",
                ""
            ],
            "metadata": {
                "azdata_cell_guid": "3241d0d7-e12e-4f23-b0a7-f9a8a7d6f509",
                "tags": []
            },
            "outputs": [
                {
                    "output_type": "display_data",
                    "data": {
                        "text/html": "(16 rows affected)"
                    },
                    "metadata": {}
                },
                {
                    "output_type": "display_data",
                    "data": {
                        "text/html": "(2 rows affected)"
                    },
                    "metadata": {}
                },
                {
                    "output_type": "display_data",
                    "data": {
                        "text/html": "Total execution time: 00:00:00.206"
                    },
                    "metadata": {}
                },
                {
                    "output_type": "execute_result",
                    "metadata": {},
                    "execution_count": 19,
                    "data": {
                        "application/vnd.dataresource+json": {
                            "schema": {
                                "fields": [
                                    {
                                        "name": "name"
                                    },
                                    {
                                        "name": "grade"
                                    }
                                ]
                            },
                            "data": [
                                {
                                    "0": "Andrew              ",
                                    "1": "10"
                                },
                                {
                                    "0": "Alexis              ",
                                    "1": "11"
                                }
                            ]
                        },
                        "text/html": "<table><tr><th>name</th><th>grade</th></tr><tr><td>Andrew              </td><td>10</td></tr><tr><td>Alexis              </td><td>11</td></tr></table>"
                    }
                }
            ],
            "execution_count": 19
        },
        {
            "cell_type": "markdown",
            "source": [
                "# Data Modification Statements#"
            ],
            "metadata": {
                "azdata_cell_guid": "dd156514-5816-4fe0-ac60-36b03b646c0e"
            }
        },
        {
            "cell_type": "markdown",
            "source": [
                "Each of the questions in this section (except the first) assumes the database is in the state after the modifications from the previous question. If you find you've made a mistake or want to restart, just reload the schema and data from scratch."
            ],
            "metadata": {
                "azdata_cell_guid": "946405c0-0bd5-45df-993e-4a810830a35d"
            }
        },
        {
            "cell_type": "markdown",
            "source": [
                "**15.  End of the school year: Increment the year of all students by 1, such that all 9th graders become 10th graders, all 10th graders become 11th graders, and so on. To check your modification, find the names of all students who are in a grade higher than 12 (we'll deal with them later).**"
            ],
            "metadata": {
                "azdata_cell_guid": "078f1b87-5cc1-4379-a977-d40233f3d9cb"
            }
        },
        {
            "cell_type": "code",
            "source": [
                "UPDATE Highschooler set grade = grade + 1;\r\n",
                "\r\n",
                "SELECT name, grade from Highschooler where grade>12"
            ],
            "metadata": {
                "azdata_cell_guid": "68dcd194-4fef-4499-ab93-1425f0f5c5b1",
                "tags": []
            },
            "outputs": [
                {
                    "output_type": "display_data",
                    "data": {
                        "text/html": "(16 rows affected)"
                    },
                    "metadata": {}
                },
                {
                    "output_type": "display_data",
                    "data": {
                        "text/html": "(4 rows affected)"
                    },
                    "metadata": {}
                },
                {
                    "output_type": "display_data",
                    "data": {
                        "text/html": "Total execution time: 00:00:00.183"
                    },
                    "metadata": {}
                },
                {
                    "output_type": "execute_result",
                    "metadata": {},
                    "execution_count": 20,
                    "data": {
                        "application/vnd.dataresource+json": {
                            "schema": {
                                "fields": [
                                    {
                                        "name": "name"
                                    },
                                    {
                                        "name": "grade"
                                    }
                                ]
                            },
                            "data": [
                                {
                                    "0": "Jordan              ",
                                    "1": "13"
                                },
                                {
                                    "0": "John                ",
                                    "1": "13"
                                },
                                {
                                    "0": "Kyle                ",
                                    "1": "13"
                                },
                                {
                                    "0": "Logan               ",
                                    "1": "13"
                                }
                            ]
                        },
                        "text/html": "<table><tr><th>name</th><th>grade</th></tr><tr><td>Jordan              </td><td>13</td></tr><tr><td>John                </td><td>13</td></tr><tr><td>Kyle                </td><td>13</td></tr><tr><td>Logan               </td><td>13</td></tr></table>"
                    }
                }
            ],
            "execution_count": 20
        },
        {
            "cell_type": "markdown",
            "source": [
                "**16.  Graduating seniors: After the previous update, some students ended up in 13th grade. They're actually graduating, so remove all tuples in Highschooler with a grade higher than 12. To check your modification, find the total number of students remaining in the Highschooler table.**"
            ],
            "metadata": {
                "azdata_cell_guid": "b2f51c31-485f-45e6-94ed-b9097defccae"
            }
        },
        {
            "cell_type": "code",
            "source": [
                "DELETE FROM Highschooler WHERE grade > 12;\r\n",
                "\r\n",
                "SELECT COUNT(ID) from Highschooler\r\n",
                ""
            ],
            "metadata": {
                "azdata_cell_guid": "3bfc713e-7519-4d1f-9f55-dc53a0b5eafe",
                "tags": []
            },
            "outputs": [
                {
                    "output_type": "display_data",
                    "data": {
                        "text/html": "(4 rows affected)"
                    },
                    "metadata": {}
                },
                {
                    "output_type": "display_data",
                    "data": {
                        "text/html": "(1 row affected)"
                    },
                    "metadata": {}
                },
                {
                    "output_type": "display_data",
                    "data": {
                        "text/html": "Total execution time: 00:00:00.113"
                    },
                    "metadata": {}
                },
                {
                    "output_type": "execute_result",
                    "metadata": {},
                    "execution_count": 21,
                    "data": {
                        "application/vnd.dataresource+json": {
                            "schema": {
                                "fields": [
                                    {
                                        "name": "(No column name)"
                                    }
                                ]
                            },
                            "data": [
                                {
                                    "0": "12"
                                }
                            ]
                        },
                        "text/html": "<table><tr><th>(No column name)</th></tr><tr><td>12</td></tr></table>"
                    }
                }
            ],
            "execution_count": 21
        },
        {
            "cell_type": "markdown",
            "source": [
                "**17.  Now clean up this mess: While friendships may continue after graduation, we can't model them for students no longer in our database. Remove all tuples in Friend and all tuples in Likes that refer to nonexistent students. (This will require two separate commands.) To check your modification, find the names of all students whom Austin likes or who are friends with Austin.**"
            ],
            "metadata": {
                "azdata_cell_guid": "0deab20c-57d1-4c5e-a5ba-9fc64e31e933"
            }
        },
        {
            "cell_type": "code",
            "source": [
                "DELETE FROM Friend WHERE ID1 not in (SELECT ID FROM Highschooler) AND ID2 not in (SELECT ID FROM Highschooler);\r\n",
                "DELETE FROM Likes WHERE ID1 not in (SELECT ID FROM Highschooler) AND ID2 not in (SELECT ID FROM Highschooler);\r\n",
                "SELECT H2.name FROM Highschooler H1, Friend, Highschooler H2 WHERE H1.name = 'Austin' AND H1.ID = Friend.ID1 AND H2.ID = Friend.ID2;\r\n",
                ""
            ],
            "metadata": {
                "azdata_cell_guid": "27871325-a699-4d1f-9ab6-c46560bd7c55",
                "tags": []
            },
            "outputs": [
                {
                    "output_type": "display_data",
                    "data": {
                        "text/html": "(6 rows affected)"
                    },
                    "metadata": {}
                },
                {
                    "output_type": "display_data",
                    "data": {
                        "text/html": "(0 rows affected)"
                    },
                    "metadata": {}
                },
                {
                    "output_type": "display_data",
                    "data": {
                        "text/html": "(1 row affected)"
                    },
                    "metadata": {}
                },
                {
                    "output_type": "display_data",
                    "data": {
                        "text/html": "Total execution time: 00:00:02.389"
                    },
                    "metadata": {}
                },
                {
                    "output_type": "execute_result",
                    "metadata": {},
                    "execution_count": 22,
                    "data": {
                        "application/vnd.dataresource+json": {
                            "schema": {
                                "fields": [
                                    {
                                        "name": "name"
                                    }
                                ]
                            },
                            "data": [
                                {
                                    "0": "Andrew              "
                                }
                            ]
                        },
                        "text/html": "<table><tr><th>name</th></tr><tr><td>Andrew              </td></tr></table>"
                    }
                }
            ],
            "execution_count": 22
        },
        {
            "cell_type": "markdown",
            "source": [
                "**18.  Summertime: Now that they're on vacation, our students have more time to spend with one another. As a result, their social circles have expanded: For all cases where A is friends with B, and B is friends with C, add a new friendship for the pair A and C. (Do not add duplicate friendships, friendships that already exist, or friendships with oneself.) To check your modification, for the now 10th-grader Jordan, return the names of all her friends.**"
            ],
            "metadata": {
                "azdata_cell_guid": "b529154f-54f4-40a6-8798-8d15a15bd1a8"
            }
        },
        {
            "cell_type": "code",
            "source": [
                "INSERT INTO Friend\r\n",
                "SELECT DISTINCT F1.ID1, F2.ID2 FROM Friend F1, Friend F2\r\n",
                "WHERE F1.ID2 = F2.ID1 AND F1.ID1<>F2.ID2 AND F1.ID1 NOT IN (SELECT F3.ID1 FROM Friend F3 WHERE F3.ID2=F2.ID2);\r\n",
                "\r\n",
                "SELECT H2.name FROM Highschooler H1, Friend F, Highschooler H2 WHERE H1.name = 'Jordan' AND H1.ID = F.ID1 AND H2.ID = F.ID2;\r\n",
                ""
            ],
            "metadata": {
                "azdata_cell_guid": "7faa376d-b273-4f9b-8b99-c21368b761b8",
                "tags": []
            },
            "outputs": [
                {
                    "output_type": "display_data",
                    "data": {
                        "text/html": "(82 rows affected)"
                    },
                    "metadata": {}
                },
                {
                    "output_type": "display_data",
                    "data": {
                        "text/html": "(11 rows affected)"
                    },
                    "metadata": {}
                },
                {
                    "output_type": "display_data",
                    "data": {
                        "text/html": "Total execution time: 00:00:00.696"
                    },
                    "metadata": {}
                },
                {
                    "output_type": "execute_result",
                    "metadata": {},
                    "execution_count": 25,
                    "data": {
                        "application/vnd.dataresource+json": {
                            "schema": {
                                "fields": [
                                    {
                                        "name": "name"
                                    }
                                ]
                            },
                            "data": [
                                {
                                    "0": "Gabriel             "
                                },
                                {
                                    "0": "Tiffany             "
                                },
                                {
                                    "0": "Cassandra           "
                                },
                                {
                                    "0": "Haley               "
                                },
                                {
                                    "0": "Andrew              "
                                },
                                {
                                    "0": "Kris                "
                                },
                                {
                                    "0": "Brittany            "
                                },
                                {
                                    "0": "Alexis              "
                                },
                                {
                                    "0": "Austin              "
                                },
                                {
                                    "0": "Gabriel             "
                                },
                                {
                                    "0": "Jessica             "
                                }
                            ]
                        },
                        "text/html": "<table><tr><th>name</th></tr><tr><td>Gabriel             </td></tr><tr><td>Tiffany             </td></tr><tr><td>Cassandra           </td></tr><tr><td>Haley               </td></tr><tr><td>Andrew              </td></tr><tr><td>Kris                </td></tr><tr><td>Brittany            </td></tr><tr><td>Alexis              </td></tr><tr><td>Austin              </td></tr><tr><td>Gabriel             </td></tr><tr><td>Jessica             </td></tr></table>"
                    }
                }
            ],
            "execution_count": 25
        }
    ]
}